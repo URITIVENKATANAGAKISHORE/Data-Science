<!DOCTYPE html>
<html>
<head><meta charset="utf-8" />

<title>1208MB12002_DataMining_Assignment</title>

<script src="https://cdnjs.cloudflare.com/ajax/libs/require.js/2.1.10/require.min.js"></script>
<script src="https://cdnjs.cloudflare.com/ajax/libs/jquery/2.0.3/jquery.min.js"></script>



<style type="text/css">
    /*!
*
* Twitter Bootstrap
*
*/
/*!
 * Bootstrap v3.3.7 (http://getbootstrap.com)
 * Copyright 2011-2016 Twitter, Inc.
 * Licensed under MIT (https://github.com/twbs/bootstrap/blob/master/LICENSE)
 */
/*! normalize.css v3.0.3 | MIT License | github.com/necolas/normalize.css */
html {
  font-family: sans-serif;
  -ms-text-size-adjust: 100%;
  -webkit-text-size-adjust: 100%;
}
body {
  margin: 0;
}
article,
aside,
details,
figcaption,
figure,
footer,
header,
hgroup,
main,
menu,
nav,
section,
summary {
  display: block;
}
audio,
canvas,
progress,
video {
  display: inline-block;
  vertical-align: baseline;
}
audio:not([controls]) {
  display: none;
  height: 0;
}
[hidden],
template {
  display: none;
}
a {
  background-color: transparent;
}
a:active,
a:hover {
  outline: 0;
}
abbr[title] {
  border-bottom: 1px dotted;
}
b,
strong {
  font-weight: bold;
}
dfn {
  font-style: italic;
}
h1 {
  font-size: 2em;
  margin: 0.67em 0;
}
mark {
  background: #ff0;
  color: #000;
}
small {
  font-size: 80%;
}
sub,
sup {
  font-size: 75%;
  line-height: 0;
  position: relative;
  vertical-align: baseline;
}
sup {
  top: -0.5em;
}
sub {
  bottom: -0.25em;
}
img {
  border: 0;
}
svg:not(:root) {
  overflow: hidden;
}
figure {
  margin: 1em 40px;
}
hr {
  box-sizing: content-box;
  height: 0;
}
pre {
  overflow: auto;
}
code,
kbd,
pre,
samp {
  font-family: monospace, monospace;
  font-size: 1em;
}
button,
input,
optgroup,
select,
textarea {
  color: inherit;
  font: inherit;
  margin: 0;
}
button {
  overflow: visible;
}
button,
select {
  text-transform: none;
}
button,
html input[type="button"],
input[type="reset"],
input[type="submit"] {
  -webkit-appearance: button;
  cursor: pointer;
}
button[disabled],
html input[disabled] {
  cursor: default;
}
button::-moz-focus-inner,
input::-moz-focus-inner {
  border: 0;
  padding: 0;
}
input {
  line-height: normal;
}
input[type="checkbox"],
input[type="radio"] {
  box-sizing: border-box;
  padding: 0;
}
input[type="number"]::-webkit-inner-spin-button,
input[type="number"]::-webkit-outer-spin-button {
  height: auto;
}
input[type="search"] {
  -webkit-appearance: textfield;
  box-sizing: content-box;
}
input[type="search"]::-webkit-search-cancel-button,
input[type="search"]::-webkit-search-decoration {
  -webkit-appearance: none;
}
fieldset {
  border: 1px solid #c0c0c0;
  margin: 0 2px;
  padding: 0.35em 0.625em 0.75em;
}
legend {
  border: 0;
  padding: 0;
}
textarea {
  overflow: auto;
}
optgroup {
  font-weight: bold;
}
table {
  border-collapse: collapse;
  border-spacing: 0;
}
td,
th {
  padding: 0;
}
/*! Source: https://github.com/h5bp/html5-boilerplate/blob/master/src/css/main.css */
@media print {
  *,
  *:before,
  *:after {
    background: transparent !important;
    box-shadow: none !important;
    text-shadow: none !important;
  }
  a,
  a:visited {
    text-decoration: underline;
  }
  a[href]:after {
    content: " (" attr(href) ")";
  }
  abbr[title]:after {
    content: " (" attr(title) ")";
  }
  a[href^="#"]:after,
  a[href^="javascript:"]:after {
    content: "";
  }
  pre,
  blockquote {
    border: 1px solid #999;
    page-break-inside: avoid;
  }
  thead {
    display: table-header-group;
  }
  tr,
  img {
    page-break-inside: avoid;
  }
  img {
    max-width: 100% !important;
  }
  p,
  h2,
  h3 {
    orphans: 3;
    widows: 3;
  }
  h2,
  h3 {
    page-break-after: avoid;
  }
  .navbar {
    display: none;
  }
  .btn > .caret,
  .dropup > .btn > .caret {
    border-top-color: #000 !important;
  }
  .label {
    border: 1px solid #000;
  }
  .table {
    border-collapse: collapse !important;
  }
  .table td,
  .table th {
    background-color: #fff !important;
  }
  .table-bordered th,
  .table-bordered td {
    border: 1px solid #ddd !important;
  }
}
@font-face {
  font-family: 'Glyphicons Halflings';
  src: url('../components/bootstrap/fonts/glyphicons-halflings-regular.eot');
  src: url('../components/bootstrap/fonts/glyphicons-halflings-regular.eot?#iefix') format('embedded-opentype'), url('../components/bootstrap/fonts/glyphicons-halflings-regular.woff2') format('woff2'), url('../components/bootstrap/fonts/glyphicons-halflings-regular.woff') format('woff'), url('../components/bootstrap/fonts/glyphicons-halflings-regular.ttf') format('truetype'), url('../components/bootstrap/fonts/glyphicons-halflings-regular.svg#glyphicons_halflingsregular') format('svg');
}
.glyphicon {
  position: relative;
  top: 1px;
  display: inline-block;
  font-family: 'Glyphicons Halflings';
  font-style: normal;
  font-weight: normal;
  line-height: 1;
  -webkit-font-smoothing: antialiased;
  -moz-osx-font-smoothing: grayscale;
}
.glyphicon-asterisk:before {
  content: "\002a";
}
.glyphicon-plus:before {
  content: "\002b";
}
.glyphicon-euro:before,
.glyphicon-eur:before {
  content: "\20ac";
}
.glyphicon-minus:before {
  content: "\2212";
}
.glyphicon-cloud:before {
  content: "\2601";
}
.glyphicon-envelope:before {
  content: "\2709";
}
.glyphicon-pencil:before {
  content: "\270f";
}
.glyphicon-glass:before {
  content: "\e001";
}
.glyphicon-music:before {
  content: "\e002";
}
.glyphicon-search:before {
  content: "\e003";
}
.glyphicon-heart:before {
  content: "\e005";
}
.glyphicon-star:before {
  content: "\e006";
}
.glyphicon-star-empty:before {
  content: "\e007";
}
.glyphicon-user:before {
  content: "\e008";
}
.glyphicon-film:before {
  content: "\e009";
}
.glyphicon-th-large:before {
  content: "\e010";
}
.glyphicon-th:before {
  content: "\e011";
}
.glyphicon-th-list:before {
  content: "\e012";
}
.glyphicon-ok:before {
  content: "\e013";
}
.glyphicon-remove:before {
  content: "\e014";
}
.glyphicon-zoom-in:before {
  content: "\e015";
}
.glyphicon-zoom-out:before {
  content: "\e016";
}
.glyphicon-off:before {
  content: "\e017";
}
.glyphicon-signal:before {
  content: "\e018";
}
.glyphicon-cog:before {
  content: "\e019";
}
.glyphicon-trash:before {
  content: "\e020";
}
.glyphicon-home:before {
  content: "\e021";
}
.glyphicon-file:before {
  content: "\e022";
}
.glyphicon-time:before {
  content: "\e023";
}
.glyphicon-road:before {
  content: "\e024";
}
.glyphicon-download-alt:before {
  content: "\e025";
}
.glyphicon-download:before {
  content: "\e026";
}
.glyphicon-upload:before {
  content: "\e027";
}
.glyphicon-inbox:before {
  content: "\e028";
}
.glyphicon-play-circle:before {
  content: "\e029";
}
.glyphicon-repeat:before {
  content: "\e030";
}
.glyphicon-refresh:before {
  content: "\e031";
}
.glyphicon-list-alt:before {
  content: "\e032";
}
.glyphicon-lock:before {
  content: "\e033";
}
.glyphicon-flag:before {
  content: "\e034";
}
.glyphicon-headphones:before {
  content: "\e035";
}
.glyphicon-volume-off:before {
  content: "\e036";
}
.glyphicon-volume-down:before {
  content: "\e037";
}
.glyphicon-volume-up:before {
  content: "\e038";
}
.glyphicon-qrcode:before {
  content: "\e039";
}
.glyphicon-barcode:before {
  content: "\e040";
}
.glyphicon-tag:before {
  content: "\e041";
}
.glyphicon-tags:before {
  content: "\e042";
}
.glyphicon-book:before {
  content: "\e043";
}
.glyphicon-bookmark:before {
  content: "\e044";
}
.glyphicon-print:before {
  content: "\e045";
}
.glyphicon-camera:before {
  content: "\e046";
}
.glyphicon-font:before {
  content: "\e047";
}
.glyphicon-bold:before {
  content: "\e048";
}
.glyphicon-italic:before {
  content: "\e049";
}
.glyphicon-text-height:before {
  content: "\e050";
}
.glyphicon-text-width:before {
  content: "\e051";
}
.glyphicon-align-left:before {
  content: "\e052";
}
.glyphicon-align-center:before {
  content: "\e053";
}
.glyphicon-align-right:before {
  content: "\e054";
}
.glyphicon-align-justify:before {
  content: "\e055";
}
.glyphicon-list:before {
  content: "\e056";
}
.glyphicon-indent-left:before {
  content: "\e057";
}
.glyphicon-indent-right:before {
  content: "\e058";
}
.glyphicon-facetime-video:before {
  content: "\e059";
}
.glyphicon-picture:before {
  content: "\e060";
}
.glyphicon-map-marker:before {
  content: "\e062";
}
.glyphicon-adjust:before {
  content: "\e063";
}
.glyphicon-tint:before {
  content: "\e064";
}
.glyphicon-edit:before {
  content: "\e065";
}
.glyphicon-share:before {
  content: "\e066";
}
.glyphicon-check:before {
  content: "\e067";
}
.glyphicon-move:before {
  content: "\e068";
}
.glyphicon-step-backward:before {
  content: "\e069";
}
.glyphicon-fast-backward:before {
  content: "\e070";
}
.glyphicon-backward:before {
  content: "\e071";
}
.glyphicon-play:before {
  content: "\e072";
}
.glyphicon-pause:before {
  content: "\e073";
}
.glyphicon-stop:before {
  content: "\e074";
}
.glyphicon-forward:before {
  content: "\e075";
}
.glyphicon-fast-forward:before {
  content: "\e076";
}
.glyphicon-step-forward:before {
  content: "\e077";
}
.glyphicon-eject:before {
  content: "\e078";
}
.glyphicon-chevron-left:before {
  content: "\e079";
}
.glyphicon-chevron-right:before {
  content: "\e080";
}
.glyphicon-plus-sign:before {
  content: "\e081";
}
.glyphicon-minus-sign:before {
  content: "\e082";
}
.glyphicon-remove-sign:before {
  content: "\e083";
}
.glyphicon-ok-sign:before {
  content: "\e084";
}
.glyphicon-question-sign:before {
  content: "\e085";
}
.glyphicon-info-sign:before {
  content: "\e086";
}
.glyphicon-screenshot:before {
  content: "\e087";
}
.glyphicon-remove-circle:before {
  content: "\e088";
}
.glyphicon-ok-circle:before {
  content: "\e089";
}
.glyphicon-ban-circle:before {
  content: "\e090";
}
.glyphicon-arrow-left:before {
  content: "\e091";
}
.glyphicon-arrow-right:before {
  content: "\e092";
}
.glyphicon-arrow-up:before {
  content: "\e093";
}
.glyphicon-arrow-down:before {
  content: "\e094";
}
.glyphicon-share-alt:before {
  content: "\e095";
}
.glyphicon-resize-full:before {
  content: "\e096";
}
.glyphicon-resize-small:before {
  content: "\e097";
}
.glyphicon-exclamation-sign:before {
  content: "\e101";
}
.glyphicon-gift:before {
  content: "\e102";
}
.glyphicon-leaf:before {
  content: "\e103";
}
.glyphicon-fire:before {
  content: "\e104";
}
.glyphicon-eye-open:before {
  content: "\e105";
}
.glyphicon-eye-close:before {
  content: "\e106";
}
.glyphicon-warning-sign:before {
  content: "\e107";
}
.glyphicon-plane:before {
  content: "\e108";
}
.glyphicon-calendar:before {
  content: "\e109";
}
.glyphicon-random:before {
  content: "\e110";
}
.glyphicon-comment:before {
  content: "\e111";
}
.glyphicon-magnet:before {
  content: "\e112";
}
.glyphicon-chevron-up:before {
  content: "\e113";
}
.glyphicon-chevron-down:before {
  content: "\e114";
}
.glyphicon-retweet:before {
  content: "\e115";
}
.glyphicon-shopping-cart:before {
  content: "\e116";
}
.glyphicon-folder-close:before {
  content: "\e117";
}
.glyphicon-folder-open:before {
  content: "\e118";
}
.glyphicon-resize-vertical:before {
  content: "\e119";
}
.glyphicon-resize-horizontal:before {
  content: "\e120";
}
.glyphicon-hdd:before {
  content: "\e121";
}
.glyphicon-bullhorn:before {
  content: "\e122";
}
.glyphicon-bell:before {
  content: "\e123";
}
.glyphicon-certificate:before {
  content: "\e124";
}
.glyphicon-thumbs-up:before {
  content: "\e125";
}
.glyphicon-thumbs-down:before {
  content: "\e126";
}
.glyphicon-hand-right:before {
  content: "\e127";
}
.glyphicon-hand-left:before {
  content: "\e128";
}
.glyphicon-hand-up:before {
  content: "\e129";
}
.glyphicon-hand-down:before {
  content: "\e130";
}
.glyphicon-circle-arrow-right:before {
  content: "\e131";
}
.glyphicon-circle-arrow-left:before {
  content: "\e132";
}
.glyphicon-circle-arrow-up:before {
  content: "\e133";
}
.glyphicon-circle-arrow-down:before {
  content: "\e134";
}
.glyphicon-globe:before {
  content: "\e135";
}
.glyphicon-wrench:before {
  content: "\e136";
}
.glyphicon-tasks:before {
  content: "\e137";
}
.glyphicon-filter:before {
  content: "\e138";
}
.glyphicon-briefcase:before {
  content: "\e139";
}
.glyphicon-fullscreen:before {
  content: "\e140";
}
.glyphicon-dashboard:before {
  content: "\e141";
}
.glyphicon-paperclip:before {
  content: "\e142";
}
.glyphicon-heart-empty:before {
  content: "\e143";
}
.glyphicon-link:before {
  content: "\e144";
}
.glyphicon-phone:before {
  content: "\e145";
}
.glyphicon-pushpin:before {
  content: "\e146";
}
.glyphicon-usd:before {
  content: "\e148";
}
.glyphicon-gbp:before {
  content: "\e149";
}
.glyphicon-sort:before {
  content: "\e150";
}
.glyphicon-sort-by-alphabet:before {
  content: "\e151";
}
.glyphicon-sort-by-alphabet-alt:before {
  content: "\e152";
}
.glyphicon-sort-by-order:before {
  content: "\e153";
}
.glyphicon-sort-by-order-alt:before {
  content: "\e154";
}
.glyphicon-sort-by-attributes:before {
  content: "\e155";
}
.glyphicon-sort-by-attributes-alt:before {
  content: "\e156";
}
.glyphicon-unchecked:before {
  content: "\e157";
}
.glyphicon-expand:before {
  content: "\e158";
}
.glyphicon-collapse-down:before {
  content: "\e159";
}
.glyphicon-collapse-up:before {
  content: "\e160";
}
.glyphicon-log-in:before {
  content: "\e161";
}
.glyphicon-flash:before {
  content: "\e162";
}
.glyphicon-log-out:before {
  content: "\e163";
}
.glyphicon-new-window:before {
  content: "\e164";
}
.glyphicon-record:before {
  content: "\e165";
}
.glyphicon-save:before {
  content: "\e166";
}
.glyphicon-open:before {
  content: "\e167";
}
.glyphicon-saved:before {
  content: "\e168";
}
.glyphicon-import:before {
  content: "\e169";
}
.glyphicon-export:before {
  content: "\e170";
}
.glyphicon-send:before {
  content: "\e171";
}
.glyphicon-floppy-disk:before {
  content: "\e172";
}
.glyphicon-floppy-saved:before {
  content: "\e173";
}
.glyphicon-floppy-remove:before {
  content: "\e174";
}
.glyphicon-floppy-save:before {
  content: "\e175";
}
.glyphicon-floppy-open:before {
  content: "\e176";
}
.glyphicon-credit-card:before {
  content: "\e177";
}
.glyphicon-transfer:before {
  content: "\e178";
}
.glyphicon-cutlery:before {
  content: "\e179";
}
.glyphicon-header:before {
  content: "\e180";
}
.glyphicon-compressed:before {
  content: "\e181";
}
.glyphicon-earphone:before {
  content: "\e182";
}
.glyphicon-phone-alt:before {
  content: "\e183";
}
.glyphicon-tower:before {
  content: "\e184";
}
.glyphicon-stats:before {
  content: "\e185";
}
.glyphicon-sd-video:before {
  content: "\e186";
}
.glyphicon-hd-video:before {
  content: "\e187";
}
.glyphicon-subtitles:before {
  content: "\e188";
}
.glyphicon-sound-stereo:before {
  content: "\e189";
}
.glyphicon-sound-dolby:before {
  content: "\e190";
}
.glyphicon-sound-5-1:before {
  content: "\e191";
}
.glyphicon-sound-6-1:before {
  content: "\e192";
}
.glyphicon-sound-7-1:before {
  content: "\e193";
}
.glyphicon-copyright-mark:before {
  content: "\e194";
}
.glyphicon-registration-mark:before {
  content: "\e195";
}
.glyphicon-cloud-download:before {
  content: "\e197";
}
.glyphicon-cloud-upload:before {
  content: "\e198";
}
.glyphicon-tree-conifer:before {
  content: "\e199";
}
.glyphicon-tree-deciduous:before {
  content: "\e200";
}
.glyphicon-cd:before {
  content: "\e201";
}
.glyphicon-save-file:before {
  content: "\e202";
}
.glyphicon-open-file:before {
  content: "\e203";
}
.glyphicon-level-up:before {
  content: "\e204";
}
.glyphicon-copy:before {
  content: "\e205";
}
.glyphicon-paste:before {
  content: "\e206";
}
.glyphicon-alert:before {
  content: "\e209";
}
.glyphicon-equalizer:before {
  content: "\e210";
}
.glyphicon-king:before {
  content: "\e211";
}
.glyphicon-queen:before {
  content: "\e212";
}
.glyphicon-pawn:before {
  content: "\e213";
}
.glyphicon-bishop:before {
  content: "\e214";
}
.glyphicon-knight:before {
  content: "\e215";
}
.glyphicon-baby-formula:before {
  content: "\e216";
}
.glyphicon-tent:before {
  content: "\26fa";
}
.glyphicon-blackboard:before {
  content: "\e218";
}
.glyphicon-bed:before {
  content: "\e219";
}
.glyphicon-apple:before {
  content: "\f8ff";
}
.glyphicon-erase:before {
  content: "\e221";
}
.glyphicon-hourglass:before {
  content: "\231b";
}
.glyphicon-lamp:before {
  content: "\e223";
}
.glyphicon-duplicate:before {
  content: "\e224";
}
.glyphicon-piggy-bank:before {
  content: "\e225";
}
.glyphicon-scissors:before {
  content: "\e226";
}
.glyphicon-bitcoin:before {
  content: "\e227";
}
.glyphicon-btc:before {
  content: "\e227";
}
.glyphicon-xbt:before {
  content: "\e227";
}
.glyphicon-yen:before {
  content: "\00a5";
}
.glyphicon-jpy:before {
  content: "\00a5";
}
.glyphicon-ruble:before {
  content: "\20bd";
}
.glyphicon-rub:before {
  content: "\20bd";
}
.glyphicon-scale:before {
  content: "\e230";
}
.glyphicon-ice-lolly:before {
  content: "\e231";
}
.glyphicon-ice-lolly-tasted:before {
  content: "\e232";
}
.glyphicon-education:before {
  content: "\e233";
}
.glyphicon-option-horizontal:before {
  content: "\e234";
}
.glyphicon-option-vertical:before {
  content: "\e235";
}
.glyphicon-menu-hamburger:before {
  content: "\e236";
}
.glyphicon-modal-window:before {
  content: "\e237";
}
.glyphicon-oil:before {
  content: "\e238";
}
.glyphicon-grain:before {
  content: "\e239";
}
.glyphicon-sunglasses:before {
  content: "\e240";
}
.glyphicon-text-size:before {
  content: "\e241";
}
.glyphicon-text-color:before {
  content: "\e242";
}
.glyphicon-text-background:before {
  content: "\e243";
}
.glyphicon-object-align-top:before {
  content: "\e244";
}
.glyphicon-object-align-bottom:before {
  content: "\e245";
}
.glyphicon-object-align-horizontal:before {
  content: "\e246";
}
.glyphicon-object-align-left:before {
  content: "\e247";
}
.glyphicon-object-align-vertical:before {
  content: "\e248";
}
.glyphicon-object-align-right:before {
  content: "\e249";
}
.glyphicon-triangle-right:before {
  content: "\e250";
}
.glyphicon-triangle-left:before {
  content: "\e251";
}
.glyphicon-triangle-bottom:before {
  content: "\e252";
}
.glyphicon-triangle-top:before {
  content: "\e253";
}
.glyphicon-console:before {
  content: "\e254";
}
.glyphicon-superscript:before {
  content: "\e255";
}
.glyphicon-subscript:before {
  content: "\e256";
}
.glyphicon-menu-left:before {
  content: "\e257";
}
.glyphicon-menu-right:before {
  content: "\e258";
}
.glyphicon-menu-down:before {
  content: "\e259";
}
.glyphicon-menu-up:before {
  content: "\e260";
}
* {
  -webkit-box-sizing: border-box;
  -moz-box-sizing: border-box;
  box-sizing: border-box;
}
*:before,
*:after {
  -webkit-box-sizing: border-box;
  -moz-box-sizing: border-box;
  box-sizing: border-box;
}
html {
  font-size: 10px;
  -webkit-tap-highlight-color: rgba(0, 0, 0, 0);
}
body {
  font-family: "Helvetica Neue", Helvetica, Arial, sans-serif;
  font-size: 13px;
  line-height: 1.42857143;
  color: #000;
  background-color: #fff;
}
input,
button,
select,
textarea {
  font-family: inherit;
  font-size: inherit;
  line-height: inherit;
}
a {
  color: #337ab7;
  text-decoration: none;
}
a:hover,
a:focus {
  color: #23527c;
  text-decoration: underline;
}
a:focus {
  outline: 5px auto -webkit-focus-ring-color;
  outline-offset: -2px;
}
figure {
  margin: 0;
}
img {
  vertical-align: middle;
}
.img-responsive,
.thumbnail > img,
.thumbnail a > img,
.carousel-inner > .item > img,
.carousel-inner > .item > a > img {
  display: block;
  max-width: 100%;
  height: auto;
}
.img-rounded {
  border-radius: 3px;
}
.img-thumbnail {
  padding: 4px;
  line-height: 1.42857143;
  background-color: #fff;
  border: 1px solid #ddd;
  border-radius: 2px;
  -webkit-transition: all 0.2s ease-in-out;
  -o-transition: all 0.2s ease-in-out;
  transition: all 0.2s ease-in-out;
  display: inline-block;
  max-width: 100%;
  height: auto;
}
.img-circle {
  border-radius: 50%;
}
hr {
  margin-top: 18px;
  margin-bottom: 18px;
  border: 0;
  border-top: 1px solid #eeeeee;
}
.sr-only {
  position: absolute;
  width: 1px;
  height: 1px;
  margin: -1px;
  padding: 0;
  overflow: hidden;
  clip: rect(0, 0, 0, 0);
  border: 0;
}
.sr-only-focusable:active,
.sr-only-focusable:focus {
  position: static;
  width: auto;
  height: auto;
  margin: 0;
  overflow: visible;
  clip: auto;
}
[role="button"] {
  cursor: pointer;
}
h1,
h2,
h3,
h4,
h5,
h6,
.h1,
.h2,
.h3,
.h4,
.h5,
.h6 {
  font-family: inherit;
  font-weight: 500;
  line-height: 1.1;
  color: inherit;
}
h1 small,
h2 small,
h3 small,
h4 small,
h5 small,
h6 small,
.h1 small,
.h2 small,
.h3 small,
.h4 small,
.h5 small,
.h6 small,
h1 .small,
h2 .small,
h3 .small,
h4 .small,
h5 .small,
h6 .small,
.h1 .small,
.h2 .small,
.h3 .small,
.h4 .small,
.h5 .small,
.h6 .small {
  font-weight: normal;
  line-height: 1;
  color: #777777;
}
h1,
.h1,
h2,
.h2,
h3,
.h3 {
  margin-top: 18px;
  margin-bottom: 9px;
}
h1 small,
.h1 small,
h2 small,
.h2 small,
h3 small,
.h3 small,
h1 .small,
.h1 .small,
h2 .small,
.h2 .small,
h3 .small,
.h3 .small {
  font-size: 65%;
}
h4,
.h4,
h5,
.h5,
h6,
.h6 {
  margin-top: 9px;
  margin-bottom: 9px;
}
h4 small,
.h4 small,
h5 small,
.h5 small,
h6 small,
.h6 small,
h4 .small,
.h4 .small,
h5 .small,
.h5 .small,
h6 .small,
.h6 .small {
  font-size: 75%;
}
h1,
.h1 {
  font-size: 33px;
}
h2,
.h2 {
  font-size: 27px;
}
h3,
.h3 {
  font-size: 23px;
}
h4,
.h4 {
  font-size: 17px;
}
h5,
.h5 {
  font-size: 13px;
}
h6,
.h6 {
  font-size: 12px;
}
p {
  margin: 0 0 9px;
}
.lead {
  margin-bottom: 18px;
  font-size: 14px;
  font-weight: 300;
  line-height: 1.4;
}
@media (min-width: 768px) {
  .lead {
    font-size: 19.5px;
  }
}
small,
.small {
  font-size: 92%;
}
mark,
.mark {
  background-color: #fcf8e3;
  padding: .2em;
}
.text-left {
  text-align: left;
}
.text-right {
  text-align: right;
}
.text-center {
  text-align: center;
}
.text-justify {
  text-align: justify;
}
.text-nowrap {
  white-space: nowrap;
}
.text-lowercase {
  text-transform: lowercase;
}
.text-uppercase {
  text-transform: uppercase;
}
.text-capitalize {
  text-transform: capitalize;
}
.text-muted {
  color: #777777;
}
.text-primary {
  color: #337ab7;
}
a.text-primary:hover,
a.text-primary:focus {
  color: #286090;
}
.text-success {
  color: #3c763d;
}
a.text-success:hover,
a.text-success:focus {
  color: #2b542c;
}
.text-info {
  color: #31708f;
}
a.text-info:hover,
a.text-info:focus {
  color: #245269;
}
.text-warning {
  color: #8a6d3b;
}
a.text-warning:hover,
a.text-warning:focus {
  color: #66512c;
}
.text-danger {
  color: #a94442;
}
a.text-danger:hover,
a.text-danger:focus {
  color: #843534;
}
.bg-primary {
  color: #fff;
  background-color: #337ab7;
}
a.bg-primary:hover,
a.bg-primary:focus {
  background-color: #286090;
}
.bg-success {
  background-color: #dff0d8;
}
a.bg-success:hover,
a.bg-success:focus {
  background-color: #c1e2b3;
}
.bg-info {
  background-color: #d9edf7;
}
a.bg-info:hover,
a.bg-info:focus {
  background-color: #afd9ee;
}
.bg-warning {
  background-color: #fcf8e3;
}
a.bg-warning:hover,
a.bg-warning:focus {
  background-color: #f7ecb5;
}
.bg-danger {
  background-color: #f2dede;
}
a.bg-danger:hover,
a.bg-danger:focus {
  background-color: #e4b9b9;
}
.page-header {
  padding-bottom: 8px;
  margin: 36px 0 18px;
  border-bottom: 1px solid #eeeeee;
}
ul,
ol {
  margin-top: 0;
  margin-bottom: 9px;
}
ul ul,
ol ul,
ul ol,
ol ol {
  margin-bottom: 0;
}
.list-unstyled {
  padding-left: 0;
  list-style: none;
}
.list-inline {
  padding-left: 0;
  list-style: none;
  margin-left: -5px;
}
.list-inline > li {
  display: inline-block;
  padding-left: 5px;
  padding-right: 5px;
}
dl {
  margin-top: 0;
  margin-bottom: 18px;
}
dt,
dd {
  line-height: 1.42857143;
}
dt {
  font-weight: bold;
}
dd {
  margin-left: 0;
}
@media (min-width: 541px) {
  .dl-horizontal dt {
    float: left;
    width: 160px;
    clear: left;
    text-align: right;
    overflow: hidden;
    text-overflow: ellipsis;
    white-space: nowrap;
  }
  .dl-horizontal dd {
    margin-left: 180px;
  }
}
abbr[title],
abbr[data-original-title] {
  cursor: help;
  border-bottom: 1px dotted #777777;
}
.initialism {
  font-size: 90%;
  text-transform: uppercase;
}
blockquote {
  padding: 9px 18px;
  margin: 0 0 18px;
  font-size: inherit;
  border-left: 5px solid #eeeeee;
}
blockquote p:last-child,
blockquote ul:last-child,
blockquote ol:last-child {
  margin-bottom: 0;
}
blockquote footer,
blockquote small,
blockquote .small {
  display: block;
  font-size: 80%;
  line-height: 1.42857143;
  color: #777777;
}
blockquote footer:before,
blockquote small:before,
blockquote .small:before {
  content: '\2014 \00A0';
}
.blockquote-reverse,
blockquote.pull-right {
  padding-right: 15px;
  padding-left: 0;
  border-right: 5px solid #eeeeee;
  border-left: 0;
  text-align: right;
}
.blockquote-reverse footer:before,
blockquote.pull-right footer:before,
.blockquote-reverse small:before,
blockquote.pull-right small:before,
.blockquote-reverse .small:before,
blockquote.pull-right .small:before {
  content: '';
}
.blockquote-reverse footer:after,
blockquote.pull-right footer:after,
.blockquote-reverse small:after,
blockquote.pull-right small:after,
.blockquote-reverse .small:after,
blockquote.pull-right .small:after {
  content: '\00A0 \2014';
}
address {
  margin-bottom: 18px;
  font-style: normal;
  line-height: 1.42857143;
}
code,
kbd,
pre,
samp {
  font-family: monospace;
}
code {
  padding: 2px 4px;
  font-size: 90%;
  color: #c7254e;
  background-color: #f9f2f4;
  border-radius: 2px;
}
kbd {
  padding: 2px 4px;
  font-size: 90%;
  color: #888;
  background-color: transparent;
  border-radius: 1px;
  box-shadow: inset 0 -1px 0 rgba(0, 0, 0, 0.25);
}
kbd kbd {
  padding: 0;
  font-size: 100%;
  font-weight: bold;
  box-shadow: none;
}
pre {
  display: block;
  padding: 8.5px;
  margin: 0 0 9px;
  font-size: 12px;
  line-height: 1.42857143;
  word-break: break-all;
  word-wrap: break-word;
  color: #333333;
  background-color: #f5f5f5;
  border: 1px solid #ccc;
  border-radius: 2px;
}
pre code {
  padding: 0;
  font-size: inherit;
  color: inherit;
  white-space: pre-wrap;
  background-color: transparent;
  border-radius: 0;
}
.pre-scrollable {
  max-height: 340px;
  overflow-y: scroll;
}
.container {
  margin-right: auto;
  margin-left: auto;
  padding-left: 0px;
  padding-right: 0px;
}
@media (min-width: 768px) {
  .container {
    width: 768px;
  }
}
@media (min-width: 992px) {
  .container {
    width: 940px;
  }
}
@media (min-width: 1200px) {
  .container {
    width: 1140px;
  }
}
.container-fluid {
  margin-right: auto;
  margin-left: auto;
  padding-left: 0px;
  padding-right: 0px;
}
.row {
  margin-left: 0px;
  margin-right: 0px;
}
.col-xs-1, .col-sm-1, .col-md-1, .col-lg-1, .col-xs-2, .col-sm-2, .col-md-2, .col-lg-2, .col-xs-3, .col-sm-3, .col-md-3, .col-lg-3, .col-xs-4, .col-sm-4, .col-md-4, .col-lg-4, .col-xs-5, .col-sm-5, .col-md-5, .col-lg-5, .col-xs-6, .col-sm-6, .col-md-6, .col-lg-6, .col-xs-7, .col-sm-7, .col-md-7, .col-lg-7, .col-xs-8, .col-sm-8, .col-md-8, .col-lg-8, .col-xs-9, .col-sm-9, .col-md-9, .col-lg-9, .col-xs-10, .col-sm-10, .col-md-10, .col-lg-10, .col-xs-11, .col-sm-11, .col-md-11, .col-lg-11, .col-xs-12, .col-sm-12, .col-md-12, .col-lg-12 {
  position: relative;
  min-height: 1px;
  padding-left: 0px;
  padding-right: 0px;
}
.col-xs-1, .col-xs-2, .col-xs-3, .col-xs-4, .col-xs-5, .col-xs-6, .col-xs-7, .col-xs-8, .col-xs-9, .col-xs-10, .col-xs-11, .col-xs-12 {
  float: left;
}
.col-xs-12 {
  width: 100%;
}
.col-xs-11 {
  width: 91.66666667%;
}
.col-xs-10 {
  width: 83.33333333%;
}
.col-xs-9 {
  width: 75%;
}
.col-xs-8 {
  width: 66.66666667%;
}
.col-xs-7 {
  width: 58.33333333%;
}
.col-xs-6 {
  width: 50%;
}
.col-xs-5 {
  width: 41.66666667%;
}
.col-xs-4 {
  width: 33.33333333%;
}
.col-xs-3 {
  width: 25%;
}
.col-xs-2 {
  width: 16.66666667%;
}
.col-xs-1 {
  width: 8.33333333%;
}
.col-xs-pull-12 {
  right: 100%;
}
.col-xs-pull-11 {
  right: 91.66666667%;
}
.col-xs-pull-10 {
  right: 83.33333333%;
}
.col-xs-pull-9 {
  right: 75%;
}
.col-xs-pull-8 {
  right: 66.66666667%;
}
.col-xs-pull-7 {
  right: 58.33333333%;
}
.col-xs-pull-6 {
  right: 50%;
}
.col-xs-pull-5 {
  right: 41.66666667%;
}
.col-xs-pull-4 {
  right: 33.33333333%;
}
.col-xs-pull-3 {
  right: 25%;
}
.col-xs-pull-2 {
  right: 16.66666667%;
}
.col-xs-pull-1 {
  right: 8.33333333%;
}
.col-xs-pull-0 {
  right: auto;
}
.col-xs-push-12 {
  left: 100%;
}
.col-xs-push-11 {
  left: 91.66666667%;
}
.col-xs-push-10 {
  left: 83.33333333%;
}
.col-xs-push-9 {
  left: 75%;
}
.col-xs-push-8 {
  left: 66.66666667%;
}
.col-xs-push-7 {
  left: 58.33333333%;
}
.col-xs-push-6 {
  left: 50%;
}
.col-xs-push-5 {
  left: 41.66666667%;
}
.col-xs-push-4 {
  left: 33.33333333%;
}
.col-xs-push-3 {
  left: 25%;
}
.col-xs-push-2 {
  left: 16.66666667%;
}
.col-xs-push-1 {
  left: 8.33333333%;
}
.col-xs-push-0 {
  left: auto;
}
.col-xs-offset-12 {
  margin-left: 100%;
}
.col-xs-offset-11 {
  margin-left: 91.66666667%;
}
.col-xs-offset-10 {
  margin-left: 83.33333333%;
}
.col-xs-offset-9 {
  margin-left: 75%;
}
.col-xs-offset-8 {
  margin-left: 66.66666667%;
}
.col-xs-offset-7 {
  margin-left: 58.33333333%;
}
.col-xs-offset-6 {
  margin-left: 50%;
}
.col-xs-offset-5 {
  margin-left: 41.66666667%;
}
.col-xs-offset-4 {
  margin-left: 33.33333333%;
}
.col-xs-offset-3 {
  margin-left: 25%;
}
.col-xs-offset-2 {
  margin-left: 16.66666667%;
}
.col-xs-offset-1 {
  margin-left: 8.33333333%;
}
.col-xs-offset-0 {
  margin-left: 0%;
}
@media (min-width: 768px) {
  .col-sm-1, .col-sm-2, .col-sm-3, .col-sm-4, .col-sm-5, .col-sm-6, .col-sm-7, .col-sm-8, .col-sm-9, .col-sm-10, .col-sm-11, .col-sm-12 {
    float: left;
  }
  .col-sm-12 {
    width: 100%;
  }
  .col-sm-11 {
    width: 91.66666667%;
  }
  .col-sm-10 {
    width: 83.33333333%;
  }
  .col-sm-9 {
    width: 75%;
  }
  .col-sm-8 {
    width: 66.66666667%;
  }
  .col-sm-7 {
    width: 58.33333333%;
  }
  .col-sm-6 {
    width: 50%;
  }
  .col-sm-5 {
    width: 41.66666667%;
  }
  .col-sm-4 {
    width: 33.33333333%;
  }
  .col-sm-3 {
    width: 25%;
  }
  .col-sm-2 {
    width: 16.66666667%;
  }
  .col-sm-1 {
    width: 8.33333333%;
  }
  .col-sm-pull-12 {
    right: 100%;
  }
  .col-sm-pull-11 {
    right: 91.66666667%;
  }
  .col-sm-pull-10 {
    right: 83.33333333%;
  }
  .col-sm-pull-9 {
    right: 75%;
  }
  .col-sm-pull-8 {
    right: 66.66666667%;
  }
  .col-sm-pull-7 {
    right: 58.33333333%;
  }
  .col-sm-pull-6 {
    right: 50%;
  }
  .col-sm-pull-5 {
    right: 41.66666667%;
  }
  .col-sm-pull-4 {
    right: 33.33333333%;
  }
  .col-sm-pull-3 {
    right: 25%;
  }
  .col-sm-pull-2 {
    right: 16.66666667%;
  }
  .col-sm-pull-1 {
    right: 8.33333333%;
  }
  .col-sm-pull-0 {
    right: auto;
  }
  .col-sm-push-12 {
    left: 100%;
  }
  .col-sm-push-11 {
    left: 91.66666667%;
  }
  .col-sm-push-10 {
    left: 83.33333333%;
  }
  .col-sm-push-9 {
    left: 75%;
  }
  .col-sm-push-8 {
    left: 66.66666667%;
  }
  .col-sm-push-7 {
    left: 58.33333333%;
  }
  .col-sm-push-6 {
    left: 50%;
  }
  .col-sm-push-5 {
    left: 41.66666667%;
  }
  .col-sm-push-4 {
    left: 33.33333333%;
  }
  .col-sm-push-3 {
    left: 25%;
  }
  .col-sm-push-2 {
    left: 16.66666667%;
  }
  .col-sm-push-1 {
    left: 8.33333333%;
  }
  .col-sm-push-0 {
    left: auto;
  }
  .col-sm-offset-12 {
    margin-left: 100%;
  }
  .col-sm-offset-11 {
    margin-left: 91.66666667%;
  }
  .col-sm-offset-10 {
    margin-left: 83.33333333%;
  }
  .col-sm-offset-9 {
    margin-left: 75%;
  }
  .col-sm-offset-8 {
    margin-left: 66.66666667%;
  }
  .col-sm-offset-7 {
    margin-left: 58.33333333%;
  }
  .col-sm-offset-6 {
    margin-left: 50%;
  }
  .col-sm-offset-5 {
    margin-left: 41.66666667%;
  }
  .col-sm-offset-4 {
    margin-left: 33.33333333%;
  }
  .col-sm-offset-3 {
    margin-left: 25%;
  }
  .col-sm-offset-2 {
    margin-left: 16.66666667%;
  }
  .col-sm-offset-1 {
    margin-left: 8.33333333%;
  }
  .col-sm-offset-0 {
    margin-left: 0%;
  }
}
@media (min-width: 992px) {
  .col-md-1, .col-md-2, .col-md-3, .col-md-4, .col-md-5, .col-md-6, .col-md-7, .col-md-8, .col-md-9, .col-md-10, .col-md-11, .col-md-12 {
    float: left;
  }
  .col-md-12 {
    width: 100%;
  }
  .col-md-11 {
    width: 91.66666667%;
  }
  .col-md-10 {
    width: 83.33333333%;
  }
  .col-md-9 {
    width: 75%;
  }
  .col-md-8 {
    width: 66.66666667%;
  }
  .col-md-7 {
    width: 58.33333333%;
  }
  .col-md-6 {
    width: 50%;
  }
  .col-md-5 {
    width: 41.66666667%;
  }
  .col-md-4 {
    width: 33.33333333%;
  }
  .col-md-3 {
    width: 25%;
  }
  .col-md-2 {
    width: 16.66666667%;
  }
  .col-md-1 {
    width: 8.33333333%;
  }
  .col-md-pull-12 {
    right: 100%;
  }
  .col-md-pull-11 {
    right: 91.66666667%;
  }
  .col-md-pull-10 {
    right: 83.33333333%;
  }
  .col-md-pull-9 {
    right: 75%;
  }
  .col-md-pull-8 {
    right: 66.66666667%;
  }
  .col-md-pull-7 {
    right: 58.33333333%;
  }
  .col-md-pull-6 {
    right: 50%;
  }
  .col-md-pull-5 {
    right: 41.66666667%;
  }
  .col-md-pull-4 {
    right: 33.33333333%;
  }
  .col-md-pull-3 {
    right: 25%;
  }
  .col-md-pull-2 {
    right: 16.66666667%;
  }
  .col-md-pull-1 {
    right: 8.33333333%;
  }
  .col-md-pull-0 {
    right: auto;
  }
  .col-md-push-12 {
    left: 100%;
  }
  .col-md-push-11 {
    left: 91.66666667%;
  }
  .col-md-push-10 {
    left: 83.33333333%;
  }
  .col-md-push-9 {
    left: 75%;
  }
  .col-md-push-8 {
    left: 66.66666667%;
  }
  .col-md-push-7 {
    left: 58.33333333%;
  }
  .col-md-push-6 {
    left: 50%;
  }
  .col-md-push-5 {
    left: 41.66666667%;
  }
  .col-md-push-4 {
    left: 33.33333333%;
  }
  .col-md-push-3 {
    left: 25%;
  }
  .col-md-push-2 {
    left: 16.66666667%;
  }
  .col-md-push-1 {
    left: 8.33333333%;
  }
  .col-md-push-0 {
    left: auto;
  }
  .col-md-offset-12 {
    margin-left: 100%;
  }
  .col-md-offset-11 {
    margin-left: 91.66666667%;
  }
  .col-md-offset-10 {
    margin-left: 83.33333333%;
  }
  .col-md-offset-9 {
    margin-left: 75%;
  }
  .col-md-offset-8 {
    margin-left: 66.66666667%;
  }
  .col-md-offset-7 {
    margin-left: 58.33333333%;
  }
  .col-md-offset-6 {
    margin-left: 50%;
  }
  .col-md-offset-5 {
    margin-left: 41.66666667%;
  }
  .col-md-offset-4 {
    margin-left: 33.33333333%;
  }
  .col-md-offset-3 {
    margin-left: 25%;
  }
  .col-md-offset-2 {
    margin-left: 16.66666667%;
  }
  .col-md-offset-1 {
    margin-left: 8.33333333%;
  }
  .col-md-offset-0 {
    margin-left: 0%;
  }
}
@media (min-width: 1200px) {
  .col-lg-1, .col-lg-2, .col-lg-3, .col-lg-4, .col-lg-5, .col-lg-6, .col-lg-7, .col-lg-8, .col-lg-9, .col-lg-10, .col-lg-11, .col-lg-12 {
    float: left;
  }
  .col-lg-12 {
    width: 100%;
  }
  .col-lg-11 {
    width: 91.66666667%;
  }
  .col-lg-10 {
    width: 83.33333333%;
  }
  .col-lg-9 {
    width: 75%;
  }
  .col-lg-8 {
    width: 66.66666667%;
  }
  .col-lg-7 {
    width: 58.33333333%;
  }
  .col-lg-6 {
    width: 50%;
  }
  .col-lg-5 {
    width: 41.66666667%;
  }
  .col-lg-4 {
    width: 33.33333333%;
  }
  .col-lg-3 {
    width: 25%;
  }
  .col-lg-2 {
    width: 16.66666667%;
  }
  .col-lg-1 {
    width: 8.33333333%;
  }
  .col-lg-pull-12 {
    right: 100%;
  }
  .col-lg-pull-11 {
    right: 91.66666667%;
  }
  .col-lg-pull-10 {
    right: 83.33333333%;
  }
  .col-lg-pull-9 {
    right: 75%;
  }
  .col-lg-pull-8 {
    right: 66.66666667%;
  }
  .col-lg-pull-7 {
    right: 58.33333333%;
  }
  .col-lg-pull-6 {
    right: 50%;
  }
  .col-lg-pull-5 {
    right: 41.66666667%;
  }
  .col-lg-pull-4 {
    right: 33.33333333%;
  }
  .col-lg-pull-3 {
    right: 25%;
  }
  .col-lg-pull-2 {
    right: 16.66666667%;
  }
  .col-lg-pull-1 {
    right: 8.33333333%;
  }
  .col-lg-pull-0 {
    right: auto;
  }
  .col-lg-push-12 {
    left: 100%;
  }
  .col-lg-push-11 {
    left: 91.66666667%;
  }
  .col-lg-push-10 {
    left: 83.33333333%;
  }
  .col-lg-push-9 {
    left: 75%;
  }
  .col-lg-push-8 {
    left: 66.66666667%;
  }
  .col-lg-push-7 {
    left: 58.33333333%;
  }
  .col-lg-push-6 {
    left: 50%;
  }
  .col-lg-push-5 {
    left: 41.66666667%;
  }
  .col-lg-push-4 {
    left: 33.33333333%;
  }
  .col-lg-push-3 {
    left: 25%;
  }
  .col-lg-push-2 {
    left: 16.66666667%;
  }
  .col-lg-push-1 {
    left: 8.33333333%;
  }
  .col-lg-push-0 {
    left: auto;
  }
  .col-lg-offset-12 {
    margin-left: 100%;
  }
  .col-lg-offset-11 {
    margin-left: 91.66666667%;
  }
  .col-lg-offset-10 {
    margin-left: 83.33333333%;
  }
  .col-lg-offset-9 {
    margin-left: 75%;
  }
  .col-lg-offset-8 {
    margin-left: 66.66666667%;
  }
  .col-lg-offset-7 {
    margin-left: 58.33333333%;
  }
  .col-lg-offset-6 {
    margin-left: 50%;
  }
  .col-lg-offset-5 {
    margin-left: 41.66666667%;
  }
  .col-lg-offset-4 {
    margin-left: 33.33333333%;
  }
  .col-lg-offset-3 {
    margin-left: 25%;
  }
  .col-lg-offset-2 {
    margin-left: 16.66666667%;
  }
  .col-lg-offset-1 {
    margin-left: 8.33333333%;
  }
  .col-lg-offset-0 {
    margin-left: 0%;
  }
}
table {
  background-color: transparent;
}
caption {
  padding-top: 8px;
  padding-bottom: 8px;
  color: #777777;
  text-align: left;
}
th {
  text-align: left;
}
.table {
  width: 100%;
  max-width: 100%;
  margin-bottom: 18px;
}
.table > thead > tr > th,
.table > tbody > tr > th,
.table > tfoot > tr > th,
.table > thead > tr > td,
.table > tbody > tr > td,
.table > tfoot > tr > td {
  padding: 8px;
  line-height: 1.42857143;
  vertical-align: top;
  border-top: 1px solid #ddd;
}
.table > thead > tr > th {
  vertical-align: bottom;
  border-bottom: 2px solid #ddd;
}
.table > caption + thead > tr:first-child > th,
.table > colgroup + thead > tr:first-child > th,
.table > thead:first-child > tr:first-child > th,
.table > caption + thead > tr:first-child > td,
.table > colgroup + thead > tr:first-child > td,
.table > thead:first-child > tr:first-child > td {
  border-top: 0;
}
.table > tbody + tbody {
  border-top: 2px solid #ddd;
}
.table .table {
  background-color: #fff;
}
.table-condensed > thead > tr > th,
.table-condensed > tbody > tr > th,
.table-condensed > tfoot > tr > th,
.table-condensed > thead > tr > td,
.table-condensed > tbody > tr > td,
.table-condensed > tfoot > tr > td {
  padding: 5px;
}
.table-bordered {
  border: 1px solid #ddd;
}
.table-bordered > thead > tr > th,
.table-bordered > tbody > tr > th,
.table-bordered > tfoot > tr > th,
.table-bordered > thead > tr > td,
.table-bordered > tbody > tr > td,
.table-bordered > tfoot > tr > td {
  border: 1px solid #ddd;
}
.table-bordered > thead > tr > th,
.table-bordered > thead > tr > td {
  border-bottom-width: 2px;
}
.table-striped > tbody > tr:nth-of-type(odd) {
  background-color: #f9f9f9;
}
.table-hover > tbody > tr:hover {
  background-color: #f5f5f5;
}
table col[class*="col-"] {
  position: static;
  float: none;
  display: table-column;
}
table td[class*="col-"],
table th[class*="col-"] {
  position: static;
  float: none;
  display: table-cell;
}
.table > thead > tr > td.active,
.table > tbody > tr > td.active,
.table > tfoot > tr > td.active,
.table > thead > tr > th.active,
.table > tbody > tr > th.active,
.table > tfoot > tr > th.active,
.table > thead > tr.active > td,
.table > tbody > tr.active > td,
.table > tfoot > tr.active > td,
.table > thead > tr.active > th,
.table > tbody > tr.active > th,
.table > tfoot > tr.active > th {
  background-color: #f5f5f5;
}
.table-hover > tbody > tr > td.active:hover,
.table-hover > tbody > tr > th.active:hover,
.table-hover > tbody > tr.active:hover > td,
.table-hover > tbody > tr:hover > .active,
.table-hover > tbody > tr.active:hover > th {
  background-color: #e8e8e8;
}
.table > thead > tr > td.success,
.table > tbody > tr > td.success,
.table > tfoot > tr > td.success,
.table > thead > tr > th.success,
.table > tbody > tr > th.success,
.table > tfoot > tr > th.success,
.table > thead > tr.success > td,
.table > tbody > tr.success > td,
.table > tfoot > tr.success > td,
.table > thead > tr.success > th,
.table > tbody > tr.success > th,
.table > tfoot > tr.success > th {
  background-color: #dff0d8;
}
.table-hover > tbody > tr > td.success:hover,
.table-hover > tbody > tr > th.success:hover,
.table-hover > tbody > tr.success:hover > td,
.table-hover > tbody > tr:hover > .success,
.table-hover > tbody > tr.success:hover > th {
  background-color: #d0e9c6;
}
.table > thead > tr > td.info,
.table > tbody > tr > td.info,
.table > tfoot > tr > td.info,
.table > thead > tr > th.info,
.table > tbody > tr > th.info,
.table > tfoot > tr > th.info,
.table > thead > tr.info > td,
.table > tbody > tr.info > td,
.table > tfoot > tr.info > td,
.table > thead > tr.info > th,
.table > tbody > tr.info > th,
.table > tfoot > tr.info > th {
  background-color: #d9edf7;
}
.table-hover > tbody > tr > td.info:hover,
.table-hover > tbody > tr > th.info:hover,
.table-hover > tbody > tr.info:hover > td,
.table-hover > tbody > tr:hover > .info,
.table-hover > tbody > tr.info:hover > th {
  background-color: #c4e3f3;
}
.table > thead > tr > td.warning,
.table > tbody > tr > td.warning,
.table > tfoot > tr > td.warning,
.table > thead > tr > th.warning,
.table > tbody > tr > th.warning,
.table > tfoot > tr > th.warning,
.table > thead > tr.warning > td,
.table > tbody > tr.warning > td,
.table > tfoot > tr.warning > td,
.table > thead > tr.warning > th,
.table > tbody > tr.warning > th,
.table > tfoot > tr.warning > th {
  background-color: #fcf8e3;
}
.table-hover > tbody > tr > td.warning:hover,
.table-hover > tbody > tr > th.warning:hover,
.table-hover > tbody > tr.warning:hover > td,
.table-hover > tbody > tr:hover > .warning,
.table-hover > tbody > tr.warning:hover > th {
  background-color: #faf2cc;
}
.table > thead > tr > td.danger,
.table > tbody > tr > td.danger,
.table > tfoot > tr > td.danger,
.table > thead > tr > th.danger,
.table > tbody > tr > th.danger,
.table > tfoot > tr > th.danger,
.table > thead > tr.danger > td,
.table > tbody > tr.danger > td,
.table > tfoot > tr.danger > td,
.table > thead > tr.danger > th,
.table > tbody > tr.danger > th,
.table > tfoot > tr.danger > th {
  background-color: #f2dede;
}
.table-hover > tbody > tr > td.danger:hover,
.table-hover > tbody > tr > th.danger:hover,
.table-hover > tbody > tr.danger:hover > td,
.table-hover > tbody > tr:hover > .danger,
.table-hover > tbody > tr.danger:hover > th {
  background-color: #ebcccc;
}
.table-responsive {
  overflow-x: auto;
  min-height: 0.01%;
}
@media screen and (max-width: 767px) {
  .table-responsive {
    width: 100%;
    margin-bottom: 13.5px;
    overflow-y: hidden;
    -ms-overflow-style: -ms-autohiding-scrollbar;
    border: 1px solid #ddd;
  }
  .table-responsive > .table {
    margin-bottom: 0;
  }
  .table-responsive > .table > thead > tr > th,
  .table-responsive > .table > tbody > tr > th,
  .table-responsive > .table > tfoot > tr > th,
  .table-responsive > .table > thead > tr > td,
  .table-responsive > .table > tbody > tr > td,
  .table-responsive > .table > tfoot > tr > td {
    white-space: nowrap;
  }
  .table-responsive > .table-bordered {
    border: 0;
  }
  .table-responsive > .table-bordered > thead > tr > th:first-child,
  .table-responsive > .table-bordered > tbody > tr > th:first-child,
  .table-responsive > .table-bordered > tfoot > tr > th:first-child,
  .table-responsive > .table-bordered > thead > tr > td:first-child,
  .table-responsive > .table-bordered > tbody > tr > td:first-child,
  .table-responsive > .table-bordered > tfoot > tr > td:first-child {
    border-left: 0;
  }
  .table-responsive > .table-bordered > thead > tr > th:last-child,
  .table-responsive > .table-bordered > tbody > tr > th:last-child,
  .table-responsive > .table-bordered > tfoot > tr > th:last-child,
  .table-responsive > .table-bordered > thead > tr > td:last-child,
  .table-responsive > .table-bordered > tbody > tr > td:last-child,
  .table-responsive > .table-bordered > tfoot > tr > td:last-child {
    border-right: 0;
  }
  .table-responsive > .table-bordered > tbody > tr:last-child > th,
  .table-responsive > .table-bordered > tfoot > tr:last-child > th,
  .table-responsive > .table-bordered > tbody > tr:last-child > td,
  .table-responsive > .table-bordered > tfoot > tr:last-child > td {
    border-bottom: 0;
  }
}
fieldset {
  padding: 0;
  margin: 0;
  border: 0;
  min-width: 0;
}
legend {
  display: block;
  width: 100%;
  padding: 0;
  margin-bottom: 18px;
  font-size: 19.5px;
  line-height: inherit;
  color: #333333;
  border: 0;
  border-bottom: 1px solid #e5e5e5;
}
label {
  display: inline-block;
  max-width: 100%;
  margin-bottom: 5px;
  font-weight: bold;
}
input[type="search"] {
  -webkit-box-sizing: border-box;
  -moz-box-sizing: border-box;
  box-sizing: border-box;
}
input[type="radio"],
input[type="checkbox"] {
  margin: 4px 0 0;
  margin-top: 1px \9;
  line-height: normal;
}
input[type="file"] {
  display: block;
}
input[type="range"] {
  display: block;
  width: 100%;
}
select[multiple],
select[size] {
  height: auto;
}
input[type="file"]:focus,
input[type="radio"]:focus,
input[type="checkbox"]:focus {
  outline: 5px auto -webkit-focus-ring-color;
  outline-offset: -2px;
}
output {
  display: block;
  padding-top: 7px;
  font-size: 13px;
  line-height: 1.42857143;
  color: #555555;
}
.form-control {
  display: block;
  width: 100%;
  height: 32px;
  padding: 6px 12px;
  font-size: 13px;
  line-height: 1.42857143;
  color: #555555;
  background-color: #fff;
  background-image: none;
  border: 1px solid #ccc;
  border-radius: 2px;
  -webkit-box-shadow: inset 0 1px 1px rgba(0, 0, 0, 0.075);
  box-shadow: inset 0 1px 1px rgba(0, 0, 0, 0.075);
  -webkit-transition: border-color ease-in-out .15s, box-shadow ease-in-out .15s;
  -o-transition: border-color ease-in-out .15s, box-shadow ease-in-out .15s;
  transition: border-color ease-in-out .15s, box-shadow ease-in-out .15s;
}
.form-control:focus {
  border-color: #66afe9;
  outline: 0;
  -webkit-box-shadow: inset 0 1px 1px rgba(0,0,0,.075), 0 0 8px rgba(102, 175, 233, 0.6);
  box-shadow: inset 0 1px 1px rgba(0,0,0,.075), 0 0 8px rgba(102, 175, 233, 0.6);
}
.form-control::-moz-placeholder {
  color: #999;
  opacity: 1;
}
.form-control:-ms-input-placeholder {
  color: #999;
}
.form-control::-webkit-input-placeholder {
  color: #999;
}
.form-control::-ms-expand {
  border: 0;
  background-color: transparent;
}
.form-control[disabled],
.form-control[readonly],
fieldset[disabled] .form-control {
  background-color: #eeeeee;
  opacity: 1;
}
.form-control[disabled],
fieldset[disabled] .form-control {
  cursor: not-allowed;
}
textarea.form-control {
  height: auto;
}
input[type="search"] {
  -webkit-appearance: none;
}
@media screen and (-webkit-min-device-pixel-ratio: 0) {
  input[type="date"].form-control,
  input[type="time"].form-control,
  input[type="datetime-local"].form-control,
  input[type="month"].form-control {
    line-height: 32px;
  }
  input[type="date"].input-sm,
  input[type="time"].input-sm,
  input[type="datetime-local"].input-sm,
  input[type="month"].input-sm,
  .input-group-sm input[type="date"],
  .input-group-sm input[type="time"],
  .input-group-sm input[type="datetime-local"],
  .input-group-sm input[type="month"] {
    line-height: 30px;
  }
  input[type="date"].input-lg,
  input[type="time"].input-lg,
  input[type="datetime-local"].input-lg,
  input[type="month"].input-lg,
  .input-group-lg input[type="date"],
  .input-group-lg input[type="time"],
  .input-group-lg input[type="datetime-local"],
  .input-group-lg input[type="month"] {
    line-height: 45px;
  }
}
.form-group {
  margin-bottom: 15px;
}
.radio,
.checkbox {
  position: relative;
  display: block;
  margin-top: 10px;
  margin-bottom: 10px;
}
.radio label,
.checkbox label {
  min-height: 18px;
  padding-left: 20px;
  margin-bottom: 0;
  font-weight: normal;
  cursor: pointer;
}
.radio input[type="radio"],
.radio-inline input[type="radio"],
.checkbox input[type="checkbox"],
.checkbox-inline input[type="checkbox"] {
  position: absolute;
  margin-left: -20px;
  margin-top: 4px \9;
}
.radio + .radio,
.checkbox + .checkbox {
  margin-top: -5px;
}
.radio-inline,
.checkbox-inline {
  position: relative;
  display: inline-block;
  padding-left: 20px;
  margin-bottom: 0;
  vertical-align: middle;
  font-weight: normal;
  cursor: pointer;
}
.radio-inline + .radio-inline,
.checkbox-inline + .checkbox-inline {
  margin-top: 0;
  margin-left: 10px;
}
input[type="radio"][disabled],
input[type="checkbox"][disabled],
input[type="radio"].disabled,
input[type="checkbox"].disabled,
fieldset[disabled] input[type="radio"],
fieldset[disabled] input[type="checkbox"] {
  cursor: not-allowed;
}
.radio-inline.disabled,
.checkbox-inline.disabled,
fieldset[disabled] .radio-inline,
fieldset[disabled] .checkbox-inline {
  cursor: not-allowed;
}
.radio.disabled label,
.checkbox.disabled label,
fieldset[disabled] .radio label,
fieldset[disabled] .checkbox label {
  cursor: not-allowed;
}
.form-control-static {
  padding-top: 7px;
  padding-bottom: 7px;
  margin-bottom: 0;
  min-height: 31px;
}
.form-control-static.input-lg,
.form-control-static.input-sm {
  padding-left: 0;
  padding-right: 0;
}
.input-sm {
  height: 30px;
  padding: 5px 10px;
  font-size: 12px;
  line-height: 1.5;
  border-radius: 1px;
}
select.input-sm {
  height: 30px;
  line-height: 30px;
}
textarea.input-sm,
select[multiple].input-sm {
  height: auto;
}
.form-group-sm .form-control {
  height: 30px;
  padding: 5px 10px;
  font-size: 12px;
  line-height: 1.5;
  border-radius: 1px;
}
.form-group-sm select.form-control {
  height: 30px;
  line-height: 30px;
}
.form-group-sm textarea.form-control,
.form-group-sm select[multiple].form-control {
  height: auto;
}
.form-group-sm .form-control-static {
  height: 30px;
  min-height: 30px;
  padding: 6px 10px;
  font-size: 12px;
  line-height: 1.5;
}
.input-lg {
  height: 45px;
  padding: 10px 16px;
  font-size: 17px;
  line-height: 1.3333333;
  border-radius: 3px;
}
select.input-lg {
  height: 45px;
  line-height: 45px;
}
textarea.input-lg,
select[multiple].input-lg {
  height: auto;
}
.form-group-lg .form-control {
  height: 45px;
  padding: 10px 16px;
  font-size: 17px;
  line-height: 1.3333333;
  border-radius: 3px;
}
.form-group-lg select.form-control {
  height: 45px;
  line-height: 45px;
}
.form-group-lg textarea.form-control,
.form-group-lg select[multiple].form-control {
  height: auto;
}
.form-group-lg .form-control-static {
  height: 45px;
  min-height: 35px;
  padding: 11px 16px;
  font-size: 17px;
  line-height: 1.3333333;
}
.has-feedback {
  position: relative;
}
.has-feedback .form-control {
  padding-right: 40px;
}
.form-control-feedback {
  position: absolute;
  top: 0;
  right: 0;
  z-index: 2;
  display: block;
  width: 32px;
  height: 32px;
  line-height: 32px;
  text-align: center;
  pointer-events: none;
}
.input-lg + .form-control-feedback,
.input-group-lg + .form-control-feedback,
.form-group-lg .form-control + .form-control-feedback {
  width: 45px;
  height: 45px;
  line-height: 45px;
}
.input-sm + .form-control-feedback,
.input-group-sm + .form-control-feedback,
.form-group-sm .form-control + .form-control-feedback {
  width: 30px;
  height: 30px;
  line-height: 30px;
}
.has-success .help-block,
.has-success .control-label,
.has-success .radio,
.has-success .checkbox,
.has-success .radio-inline,
.has-success .checkbox-inline,
.has-success.radio label,
.has-success.checkbox label,
.has-success.radio-inline label,
.has-success.checkbox-inline label {
  color: #3c763d;
}
.has-success .form-control {
  border-color: #3c763d;
  -webkit-box-shadow: inset 0 1px 1px rgba(0, 0, 0, 0.075);
  box-shadow: inset 0 1px 1px rgba(0, 0, 0, 0.075);
}
.has-success .form-control:focus {
  border-color: #2b542c;
  -webkit-box-shadow: inset 0 1px 1px rgba(0, 0, 0, 0.075), 0 0 6px #67b168;
  box-shadow: inset 0 1px 1px rgba(0, 0, 0, 0.075), 0 0 6px #67b168;
}
.has-success .input-group-addon {
  color: #3c763d;
  border-color: #3c763d;
  background-color: #dff0d8;
}
.has-success .form-control-feedback {
  color: #3c763d;
}
.has-warning .help-block,
.has-warning .control-label,
.has-warning .radio,
.has-warning .checkbox,
.has-warning .radio-inline,
.has-warning .checkbox-inline,
.has-warning.radio label,
.has-warning.checkbox label,
.has-warning.radio-inline label,
.has-warning.checkbox-inline label {
  color: #8a6d3b;
}
.has-warning .form-control {
  border-color: #8a6d3b;
  -webkit-box-shadow: inset 0 1px 1px rgba(0, 0, 0, 0.075);
  box-shadow: inset 0 1px 1px rgba(0, 0, 0, 0.075);
}
.has-warning .form-control:focus {
  border-color: #66512c;
  -webkit-box-shadow: inset 0 1px 1px rgba(0, 0, 0, 0.075), 0 0 6px #c0a16b;
  box-shadow: inset 0 1px 1px rgba(0, 0, 0, 0.075), 0 0 6px #c0a16b;
}
.has-warning .input-group-addon {
  color: #8a6d3b;
  border-color: #8a6d3b;
  background-color: #fcf8e3;
}
.has-warning .form-control-feedback {
  color: #8a6d3b;
}
.has-error .help-block,
.has-error .control-label,
.has-error .radio,
.has-error .checkbox,
.has-error .radio-inline,
.has-error .checkbox-inline,
.has-error.radio label,
.has-error.checkbox label,
.has-error.radio-inline label,
.has-error.checkbox-inline label {
  color: #a94442;
}
.has-error .form-control {
  border-color: #a94442;
  -webkit-box-shadow: inset 0 1px 1px rgba(0, 0, 0, 0.075);
  box-shadow: inset 0 1px 1px rgba(0, 0, 0, 0.075);
}
.has-error .form-control:focus {
  border-color: #843534;
  -webkit-box-shadow: inset 0 1px 1px rgba(0, 0, 0, 0.075), 0 0 6px #ce8483;
  box-shadow: inset 0 1px 1px rgba(0, 0, 0, 0.075), 0 0 6px #ce8483;
}
.has-error .input-group-addon {
  color: #a94442;
  border-color: #a94442;
  background-color: #f2dede;
}
.has-error .form-control-feedback {
  color: #a94442;
}
.has-feedback label ~ .form-control-feedback {
  top: 23px;
}
.has-feedback label.sr-only ~ .form-control-feedback {
  top: 0;
}
.help-block {
  display: block;
  margin-top: 5px;
  margin-bottom: 10px;
  color: #404040;
}
@media (min-width: 768px) {
  .form-inline .form-group {
    display: inline-block;
    margin-bottom: 0;
    vertical-align: middle;
  }
  .form-inline .form-control {
    display: inline-block;
    width: auto;
    vertical-align: middle;
  }
  .form-inline .form-control-static {
    display: inline-block;
  }
  .form-inline .input-group {
    display: inline-table;
    vertical-align: middle;
  }
  .form-inline .input-group .input-group-addon,
  .form-inline .input-group .input-group-btn,
  .form-inline .input-group .form-control {
    width: auto;
  }
  .form-inline .input-group > .form-control {
    width: 100%;
  }
  .form-inline .control-label {
    margin-bottom: 0;
    vertical-align: middle;
  }
  .form-inline .radio,
  .form-inline .checkbox {
    display: inline-block;
    margin-top: 0;
    margin-bottom: 0;
    vertical-align: middle;
  }
  .form-inline .radio label,
  .form-inline .checkbox label {
    padding-left: 0;
  }
  .form-inline .radio input[type="radio"],
  .form-inline .checkbox input[type="checkbox"] {
    position: relative;
    margin-left: 0;
  }
  .form-inline .has-feedback .form-control-feedback {
    top: 0;
  }
}
.form-horizontal .radio,
.form-horizontal .checkbox,
.form-horizontal .radio-inline,
.form-horizontal .checkbox-inline {
  margin-top: 0;
  margin-bottom: 0;
  padding-top: 7px;
}
.form-horizontal .radio,
.form-horizontal .checkbox {
  min-height: 25px;
}
.form-horizontal .form-group {
  margin-left: 0px;
  margin-right: 0px;
}
@media (min-width: 768px) {
  .form-horizontal .control-label {
    text-align: right;
    margin-bottom: 0;
    padding-top: 7px;
  }
}
.form-horizontal .has-feedback .form-control-feedback {
  right: 0px;
}
@media (min-width: 768px) {
  .form-horizontal .form-group-lg .control-label {
    padding-top: 11px;
    font-size: 17px;
  }
}
@media (min-width: 768px) {
  .form-horizontal .form-group-sm .control-label {
    padding-top: 6px;
    font-size: 12px;
  }
}
.btn {
  display: inline-block;
  margin-bottom: 0;
  font-weight: normal;
  text-align: center;
  vertical-align: middle;
  touch-action: manipulation;
  cursor: pointer;
  background-image: none;
  border: 1px solid transparent;
  white-space: nowrap;
  padding: 6px 12px;
  font-size: 13px;
  line-height: 1.42857143;
  border-radius: 2px;
  -webkit-user-select: none;
  -moz-user-select: none;
  -ms-user-select: none;
  user-select: none;
}
.btn:focus,
.btn:active:focus,
.btn.active:focus,
.btn.focus,
.btn:active.focus,
.btn.active.focus {
  outline: 5px auto -webkit-focus-ring-color;
  outline-offset: -2px;
}
.btn:hover,
.btn:focus,
.btn.focus {
  color: #333;
  text-decoration: none;
}
.btn:active,
.btn.active {
  outline: 0;
  background-image: none;
  -webkit-box-shadow: inset 0 3px 5px rgba(0, 0, 0, 0.125);
  box-shadow: inset 0 3px 5px rgba(0, 0, 0, 0.125);
}
.btn.disabled,
.btn[disabled],
fieldset[disabled] .btn {
  cursor: not-allowed;
  opacity: 0.65;
  filter: alpha(opacity=65);
  -webkit-box-shadow: none;
  box-shadow: none;
}
a.btn.disabled,
fieldset[disabled] a.btn {
  pointer-events: none;
}
.btn-default {
  color: #333;
  background-color: #fff;
  border-color: #ccc;
}
.btn-default:focus,
.btn-default.focus {
  color: #333;
  background-color: #e6e6e6;
  border-color: #8c8c8c;
}
.btn-default:hover {
  color: #333;
  background-color: #e6e6e6;
  border-color: #adadad;
}
.btn-default:active,
.btn-default.active,
.open > .dropdown-toggle.btn-default {
  color: #333;
  background-color: #e6e6e6;
  border-color: #adadad;
}
.btn-default:active:hover,
.btn-default.active:hover,
.open > .dropdown-toggle.btn-default:hover,
.btn-default:active:focus,
.btn-default.active:focus,
.open > .dropdown-toggle.btn-default:focus,
.btn-default:active.focus,
.btn-default.active.focus,
.open > .dropdown-toggle.btn-default.focus {
  color: #333;
  background-color: #d4d4d4;
  border-color: #8c8c8c;
}
.btn-default:active,
.btn-default.active,
.open > .dropdown-toggle.btn-default {
  background-image: none;
}
.btn-default.disabled:hover,
.btn-default[disabled]:hover,
fieldset[disabled] .btn-default:hover,
.btn-default.disabled:focus,
.btn-default[disabled]:focus,
fieldset[disabled] .btn-default:focus,
.btn-default.disabled.focus,
.btn-default[disabled].focus,
fieldset[disabled] .btn-default.focus {
  background-color: #fff;
  border-color: #ccc;
}
.btn-default .badge {
  color: #fff;
  background-color: #333;
}
.btn-primary {
  color: #fff;
  background-color: #337ab7;
  border-color: #2e6da4;
}
.btn-primary:focus,
.btn-primary.focus {
  color: #fff;
  background-color: #286090;
  border-color: #122b40;
}
.btn-primary:hover {
  color: #fff;
  background-color: #286090;
  border-color: #204d74;
}
.btn-primary:active,
.btn-primary.active,
.open > .dropdown-toggle.btn-primary {
  color: #fff;
  background-color: #286090;
  border-color: #204d74;
}
.btn-primary:active:hover,
.btn-primary.active:hover,
.open > .dropdown-toggle.btn-primary:hover,
.btn-primary:active:focus,
.btn-primary.active:focus,
.open > .dropdown-toggle.btn-primary:focus,
.btn-primary:active.focus,
.btn-primary.active.focus,
.open > .dropdown-toggle.btn-primary.focus {
  color: #fff;
  background-color: #204d74;
  border-color: #122b40;
}
.btn-primary:active,
.btn-primary.active,
.open > .dropdown-toggle.btn-primary {
  background-image: none;
}
.btn-primary.disabled:hover,
.btn-primary[disabled]:hover,
fieldset[disabled] .btn-primary:hover,
.btn-primary.disabled:focus,
.btn-primary[disabled]:focus,
fieldset[disabled] .btn-primary:focus,
.btn-primary.disabled.focus,
.btn-primary[disabled].focus,
fieldset[disabled] .btn-primary.focus {
  background-color: #337ab7;
  border-color: #2e6da4;
}
.btn-primary .badge {
  color: #337ab7;
  background-color: #fff;
}
.btn-success {
  color: #fff;
  background-color: #5cb85c;
  border-color: #4cae4c;
}
.btn-success:focus,
.btn-success.focus {
  color: #fff;
  background-color: #449d44;
  border-color: #255625;
}
.btn-success:hover {
  color: #fff;
  background-color: #449d44;
  border-color: #398439;
}
.btn-success:active,
.btn-success.active,
.open > .dropdown-toggle.btn-success {
  color: #fff;
  background-color: #449d44;
  border-color: #398439;
}
.btn-success:active:hover,
.btn-success.active:hover,
.open > .dropdown-toggle.btn-success:hover,
.btn-success:active:focus,
.btn-success.active:focus,
.open > .dropdown-toggle.btn-success:focus,
.btn-success:active.focus,
.btn-success.active.focus,
.open > .dropdown-toggle.btn-success.focus {
  color: #fff;
  background-color: #398439;
  border-color: #255625;
}
.btn-success:active,
.btn-success.active,
.open > .dropdown-toggle.btn-success {
  background-image: none;
}
.btn-success.disabled:hover,
.btn-success[disabled]:hover,
fieldset[disabled] .btn-success:hover,
.btn-success.disabled:focus,
.btn-success[disabled]:focus,
fieldset[disabled] .btn-success:focus,
.btn-success.disabled.focus,
.btn-success[disabled].focus,
fieldset[disabled] .btn-success.focus {
  background-color: #5cb85c;
  border-color: #4cae4c;
}
.btn-success .badge {
  color: #5cb85c;
  background-color: #fff;
}
.btn-info {
  color: #fff;
  background-color: #5bc0de;
  border-color: #46b8da;
}
.btn-info:focus,
.btn-info.focus {
  color: #fff;
  background-color: #31b0d5;
  border-color: #1b6d85;
}
.btn-info:hover {
  color: #fff;
  background-color: #31b0d5;
  border-color: #269abc;
}
.btn-info:active,
.btn-info.active,
.open > .dropdown-toggle.btn-info {
  color: #fff;
  background-color: #31b0d5;
  border-color: #269abc;
}
.btn-info:active:hover,
.btn-info.active:hover,
.open > .dropdown-toggle.btn-info:hover,
.btn-info:active:focus,
.btn-info.active:focus,
.open > .dropdown-toggle.btn-info:focus,
.btn-info:active.focus,
.btn-info.active.focus,
.open > .dropdown-toggle.btn-info.focus {
  color: #fff;
  background-color: #269abc;
  border-color: #1b6d85;
}
.btn-info:active,
.btn-info.active,
.open > .dropdown-toggle.btn-info {
  background-image: none;
}
.btn-info.disabled:hover,
.btn-info[disabled]:hover,
fieldset[disabled] .btn-info:hover,
.btn-info.disabled:focus,
.btn-info[disabled]:focus,
fieldset[disabled] .btn-info:focus,
.btn-info.disabled.focus,
.btn-info[disabled].focus,
fieldset[disabled] .btn-info.focus {
  background-color: #5bc0de;
  border-color: #46b8da;
}
.btn-info .badge {
  color: #5bc0de;
  background-color: #fff;
}
.btn-warning {
  color: #fff;
  background-color: #f0ad4e;
  border-color: #eea236;
}
.btn-warning:focus,
.btn-warning.focus {
  color: #fff;
  background-color: #ec971f;
  border-color: #985f0d;
}
.btn-warning:hover {
  color: #fff;
  background-color: #ec971f;
  border-color: #d58512;
}
.btn-warning:active,
.btn-warning.active,
.open > .dropdown-toggle.btn-warning {
  color: #fff;
  background-color: #ec971f;
  border-color: #d58512;
}
.btn-warning:active:hover,
.btn-warning.active:hover,
.open > .dropdown-toggle.btn-warning:hover,
.btn-warning:active:focus,
.btn-warning.active:focus,
.open > .dropdown-toggle.btn-warning:focus,
.btn-warning:active.focus,
.btn-warning.active.focus,
.open > .dropdown-toggle.btn-warning.focus {
  color: #fff;
  background-color: #d58512;
  border-color: #985f0d;
}
.btn-warning:active,
.btn-warning.active,
.open > .dropdown-toggle.btn-warning {
  background-image: none;
}
.btn-warning.disabled:hover,
.btn-warning[disabled]:hover,
fieldset[disabled] .btn-warning:hover,
.btn-warning.disabled:focus,
.btn-warning[disabled]:focus,
fieldset[disabled] .btn-warning:focus,
.btn-warning.disabled.focus,
.btn-warning[disabled].focus,
fieldset[disabled] .btn-warning.focus {
  background-color: #f0ad4e;
  border-color: #eea236;
}
.btn-warning .badge {
  color: #f0ad4e;
  background-color: #fff;
}
.btn-danger {
  color: #fff;
  background-color: #d9534f;
  border-color: #d43f3a;
}
.btn-danger:focus,
.btn-danger.focus {
  color: #fff;
  background-color: #c9302c;
  border-color: #761c19;
}
.btn-danger:hover {
  color: #fff;
  background-color: #c9302c;
  border-color: #ac2925;
}
.btn-danger:active,
.btn-danger.active,
.open > .dropdown-toggle.btn-danger {
  color: #fff;
  background-color: #c9302c;
  border-color: #ac2925;
}
.btn-danger:active:hover,
.btn-danger.active:hover,
.open > .dropdown-toggle.btn-danger:hover,
.btn-danger:active:focus,
.btn-danger.active:focus,
.open > .dropdown-toggle.btn-danger:focus,
.btn-danger:active.focus,
.btn-danger.active.focus,
.open > .dropdown-toggle.btn-danger.focus {
  color: #fff;
  background-color: #ac2925;
  border-color: #761c19;
}
.btn-danger:active,
.btn-danger.active,
.open > .dropdown-toggle.btn-danger {
  background-image: none;
}
.btn-danger.disabled:hover,
.btn-danger[disabled]:hover,
fieldset[disabled] .btn-danger:hover,
.btn-danger.disabled:focus,
.btn-danger[disabled]:focus,
fieldset[disabled] .btn-danger:focus,
.btn-danger.disabled.focus,
.btn-danger[disabled].focus,
fieldset[disabled] .btn-danger.focus {
  background-color: #d9534f;
  border-color: #d43f3a;
}
.btn-danger .badge {
  color: #d9534f;
  background-color: #fff;
}
.btn-link {
  color: #337ab7;
  font-weight: normal;
  border-radius: 0;
}
.btn-link,
.btn-link:active,
.btn-link.active,
.btn-link[disabled],
fieldset[disabled] .btn-link {
  background-color: transparent;
  -webkit-box-shadow: none;
  box-shadow: none;
}
.btn-link,
.btn-link:hover,
.btn-link:focus,
.btn-link:active {
  border-color: transparent;
}
.btn-link:hover,
.btn-link:focus {
  color: #23527c;
  text-decoration: underline;
  background-color: transparent;
}
.btn-link[disabled]:hover,
fieldset[disabled] .btn-link:hover,
.btn-link[disabled]:focus,
fieldset[disabled] .btn-link:focus {
  color: #777777;
  text-decoration: none;
}
.btn-lg,
.btn-group-lg > .btn {
  padding: 10px 16px;
  font-size: 17px;
  line-height: 1.3333333;
  border-radius: 3px;
}
.btn-sm,
.btn-group-sm > .btn {
  padding: 5px 10px;
  font-size: 12px;
  line-height: 1.5;
  border-radius: 1px;
}
.btn-xs,
.btn-group-xs > .btn {
  padding: 1px 5px;
  font-size: 12px;
  line-height: 1.5;
  border-radius: 1px;
}
.btn-block {
  display: block;
  width: 100%;
}
.btn-block + .btn-block {
  margin-top: 5px;
}
input[type="submit"].btn-block,
input[type="reset"].btn-block,
input[type="button"].btn-block {
  width: 100%;
}
.fade {
  opacity: 0;
  -webkit-transition: opacity 0.15s linear;
  -o-transition: opacity 0.15s linear;
  transition: opacity 0.15s linear;
}
.fade.in {
  opacity: 1;
}
.collapse {
  display: none;
}
.collapse.in {
  display: block;
}
tr.collapse.in {
  display: table-row;
}
tbody.collapse.in {
  display: table-row-group;
}
.collapsing {
  position: relative;
  height: 0;
  overflow: hidden;
  -webkit-transition-property: height, visibility;
  transition-property: height, visibility;
  -webkit-transition-duration: 0.35s;
  transition-duration: 0.35s;
  -webkit-transition-timing-function: ease;
  transition-timing-function: ease;
}
.caret {
  display: inline-block;
  width: 0;
  height: 0;
  margin-left: 2px;
  vertical-align: middle;
  border-top: 4px dashed;
  border-top: 4px solid \9;
  border-right: 4px solid transparent;
  border-left: 4px solid transparent;
}
.dropup,
.dropdown {
  position: relative;
}
.dropdown-toggle:focus {
  outline: 0;
}
.dropdown-menu {
  position: absolute;
  top: 100%;
  left: 0;
  z-index: 1000;
  display: none;
  float: left;
  min-width: 160px;
  padding: 5px 0;
  margin: 2px 0 0;
  list-style: none;
  font-size: 13px;
  text-align: left;
  background-color: #fff;
  border: 1px solid #ccc;
  border: 1px solid rgba(0, 0, 0, 0.15);
  border-radius: 2px;
  -webkit-box-shadow: 0 6px 12px rgba(0, 0, 0, 0.175);
  box-shadow: 0 6px 12px rgba(0, 0, 0, 0.175);
  background-clip: padding-box;
}
.dropdown-menu.pull-right {
  right: 0;
  left: auto;
}
.dropdown-menu .divider {
  height: 1px;
  margin: 8px 0;
  overflow: hidden;
  background-color: #e5e5e5;
}
.dropdown-menu > li > a {
  display: block;
  padding: 3px 20px;
  clear: both;
  font-weight: normal;
  line-height: 1.42857143;
  color: #333333;
  white-space: nowrap;
}
.dropdown-menu > li > a:hover,
.dropdown-menu > li > a:focus {
  text-decoration: none;
  color: #262626;
  background-color: #f5f5f5;
}
.dropdown-menu > .active > a,
.dropdown-menu > .active > a:hover,
.dropdown-menu > .active > a:focus {
  color: #fff;
  text-decoration: none;
  outline: 0;
  background-color: #337ab7;
}
.dropdown-menu > .disabled > a,
.dropdown-menu > .disabled > a:hover,
.dropdown-menu > .disabled > a:focus {
  color: #777777;
}
.dropdown-menu > .disabled > a:hover,
.dropdown-menu > .disabled > a:focus {
  text-decoration: none;
  background-color: transparent;
  background-image: none;
  filter: progid:DXImageTransform.Microsoft.gradient(enabled = false);
  cursor: not-allowed;
}
.open > .dropdown-menu {
  display: block;
}
.open > a {
  outline: 0;
}
.dropdown-menu-right {
  left: auto;
  right: 0;
}
.dropdown-menu-left {
  left: 0;
  right: auto;
}
.dropdown-header {
  display: block;
  padding: 3px 20px;
  font-size: 12px;
  line-height: 1.42857143;
  color: #777777;
  white-space: nowrap;
}
.dropdown-backdrop {
  position: fixed;
  left: 0;
  right: 0;
  bottom: 0;
  top: 0;
  z-index: 990;
}
.pull-right > .dropdown-menu {
  right: 0;
  left: auto;
}
.dropup .caret,
.navbar-fixed-bottom .dropdown .caret {
  border-top: 0;
  border-bottom: 4px dashed;
  border-bottom: 4px solid \9;
  content: "";
}
.dropup .dropdown-menu,
.navbar-fixed-bottom .dropdown .dropdown-menu {
  top: auto;
  bottom: 100%;
  margin-bottom: 2px;
}
@media (min-width: 541px) {
  .navbar-right .dropdown-menu {
    left: auto;
    right: 0;
  }
  .navbar-right .dropdown-menu-left {
    left: 0;
    right: auto;
  }
}
.btn-group,
.btn-group-vertical {
  position: relative;
  display: inline-block;
  vertical-align: middle;
}
.btn-group > .btn,
.btn-group-vertical > .btn {
  position: relative;
  float: left;
}
.btn-group > .btn:hover,
.btn-group-vertical > .btn:hover,
.btn-group > .btn:focus,
.btn-group-vertical > .btn:focus,
.btn-group > .btn:active,
.btn-group-vertical > .btn:active,
.btn-group > .btn.active,
.btn-group-vertical > .btn.active {
  z-index: 2;
}
.btn-group .btn + .btn,
.btn-group .btn + .btn-group,
.btn-group .btn-group + .btn,
.btn-group .btn-group + .btn-group {
  margin-left: -1px;
}
.btn-toolbar {
  margin-left: -5px;
}
.btn-toolbar .btn,
.btn-toolbar .btn-group,
.btn-toolbar .input-group {
  float: left;
}
.btn-toolbar > .btn,
.btn-toolbar > .btn-group,
.btn-toolbar > .input-group {
  margin-left: 5px;
}
.btn-group > .btn:not(:first-child):not(:last-child):not(.dropdown-toggle) {
  border-radius: 0;
}
.btn-group > .btn:first-child {
  margin-left: 0;
}
.btn-group > .btn:first-child:not(:last-child):not(.dropdown-toggle) {
  border-bottom-right-radius: 0;
  border-top-right-radius: 0;
}
.btn-group > .btn:last-child:not(:first-child),
.btn-group > .dropdown-toggle:not(:first-child) {
  border-bottom-left-radius: 0;
  border-top-left-radius: 0;
}
.btn-group > .btn-group {
  float: left;
}
.btn-group > .btn-group:not(:first-child):not(:last-child) > .btn {
  border-radius: 0;
}
.btn-group > .btn-group:first-child:not(:last-child) > .btn:last-child,
.btn-group > .btn-group:first-child:not(:last-child) > .dropdown-toggle {
  border-bottom-right-radius: 0;
  border-top-right-radius: 0;
}
.btn-group > .btn-group:last-child:not(:first-child) > .btn:first-child {
  border-bottom-left-radius: 0;
  border-top-left-radius: 0;
}
.btn-group .dropdown-toggle:active,
.btn-group.open .dropdown-toggle {
  outline: 0;
}
.btn-group > .btn + .dropdown-toggle {
  padding-left: 8px;
  padding-right: 8px;
}
.btn-group > .btn-lg + .dropdown-toggle {
  padding-left: 12px;
  padding-right: 12px;
}
.btn-group.open .dropdown-toggle {
  -webkit-box-shadow: inset 0 3px 5px rgba(0, 0, 0, 0.125);
  box-shadow: inset 0 3px 5px rgba(0, 0, 0, 0.125);
}
.btn-group.open .dropdown-toggle.btn-link {
  -webkit-box-shadow: none;
  box-shadow: none;
}
.btn .caret {
  margin-left: 0;
}
.btn-lg .caret {
  border-width: 5px 5px 0;
  border-bottom-width: 0;
}
.dropup .btn-lg .caret {
  border-width: 0 5px 5px;
}
.btn-group-vertical > .btn,
.btn-group-vertical > .btn-group,
.btn-group-vertical > .btn-group > .btn {
  display: block;
  float: none;
  width: 100%;
  max-width: 100%;
}
.btn-group-vertical > .btn-group > .btn {
  float: none;
}
.btn-group-vertical > .btn + .btn,
.btn-group-vertical > .btn + .btn-group,
.btn-group-vertical > .btn-group + .btn,
.btn-group-vertical > .btn-group + .btn-group {
  margin-top: -1px;
  margin-left: 0;
}
.btn-group-vertical > .btn:not(:first-child):not(:last-child) {
  border-radius: 0;
}
.btn-group-vertical > .btn:first-child:not(:last-child) {
  border-top-right-radius: 2px;
  border-top-left-radius: 2px;
  border-bottom-right-radius: 0;
  border-bottom-left-radius: 0;
}
.btn-group-vertical > .btn:last-child:not(:first-child) {
  border-top-right-radius: 0;
  border-top-left-radius: 0;
  border-bottom-right-radius: 2px;
  border-bottom-left-radius: 2px;
}
.btn-group-vertical > .btn-group:not(:first-child):not(:last-child) > .btn {
  border-radius: 0;
}
.btn-group-vertical > .btn-group:first-child:not(:last-child) > .btn:last-child,
.btn-group-vertical > .btn-group:first-child:not(:last-child) > .dropdown-toggle {
  border-bottom-right-radius: 0;
  border-bottom-left-radius: 0;
}
.btn-group-vertical > .btn-group:last-child:not(:first-child) > .btn:first-child {
  border-top-right-radius: 0;
  border-top-left-radius: 0;
}
.btn-group-justified {
  display: table;
  width: 100%;
  table-layout: fixed;
  border-collapse: separate;
}
.btn-group-justified > .btn,
.btn-group-justified > .btn-group {
  float: none;
  display: table-cell;
  width: 1%;
}
.btn-group-justified > .btn-group .btn {
  width: 100%;
}
.btn-group-justified > .btn-group .dropdown-menu {
  left: auto;
}
[data-toggle="buttons"] > .btn input[type="radio"],
[data-toggle="buttons"] > .btn-group > .btn input[type="radio"],
[data-toggle="buttons"] > .btn input[type="checkbox"],
[data-toggle="buttons"] > .btn-group > .btn input[type="checkbox"] {
  position: absolute;
  clip: rect(0, 0, 0, 0);
  pointer-events: none;
}
.input-group {
  position: relative;
  display: table;
  border-collapse: separate;
}
.input-group[class*="col-"] {
  float: none;
  padding-left: 0;
  padding-right: 0;
}
.input-group .form-control {
  position: relative;
  z-index: 2;
  float: left;
  width: 100%;
  margin-bottom: 0;
}
.input-group .form-control:focus {
  z-index: 3;
}
.input-group-lg > .form-control,
.input-group-lg > .input-group-addon,
.input-group-lg > .input-group-btn > .btn {
  height: 45px;
  padding: 10px 16px;
  font-size: 17px;
  line-height: 1.3333333;
  border-radius: 3px;
}
select.input-group-lg > .form-control,
select.input-group-lg > .input-group-addon,
select.input-group-lg > .input-group-btn > .btn {
  height: 45px;
  line-height: 45px;
}
textarea.input-group-lg > .form-control,
textarea.input-group-lg > .input-group-addon,
textarea.input-group-lg > .input-group-btn > .btn,
select[multiple].input-group-lg > .form-control,
select[multiple].input-group-lg > .input-group-addon,
select[multiple].input-group-lg > .input-group-btn > .btn {
  height: auto;
}
.input-group-sm > .form-control,
.input-group-sm > .input-group-addon,
.input-group-sm > .input-group-btn > .btn {
  height: 30px;
  padding: 5px 10px;
  font-size: 12px;
  line-height: 1.5;
  border-radius: 1px;
}
select.input-group-sm > .form-control,
select.input-group-sm > .input-group-addon,
select.input-group-sm > .input-group-btn > .btn {
  height: 30px;
  line-height: 30px;
}
textarea.input-group-sm > .form-control,
textarea.input-group-sm > .input-group-addon,
textarea.input-group-sm > .input-group-btn > .btn,
select[multiple].input-group-sm > .form-control,
select[multiple].input-group-sm > .input-group-addon,
select[multiple].input-group-sm > .input-group-btn > .btn {
  height: auto;
}
.input-group-addon,
.input-group-btn,
.input-group .form-control {
  display: table-cell;
}
.input-group-addon:not(:first-child):not(:last-child),
.input-group-btn:not(:first-child):not(:last-child),
.input-group .form-control:not(:first-child):not(:last-child) {
  border-radius: 0;
}
.input-group-addon,
.input-group-btn {
  width: 1%;
  white-space: nowrap;
  vertical-align: middle;
}
.input-group-addon {
  padding: 6px 12px;
  font-size: 13px;
  font-weight: normal;
  line-height: 1;
  color: #555555;
  text-align: center;
  background-color: #eeeeee;
  border: 1px solid #ccc;
  border-radius: 2px;
}
.input-group-addon.input-sm {
  padding: 5px 10px;
  font-size: 12px;
  border-radius: 1px;
}
.input-group-addon.input-lg {
  padding: 10px 16px;
  font-size: 17px;
  border-radius: 3px;
}
.input-group-addon input[type="radio"],
.input-group-addon input[type="checkbox"] {
  margin-top: 0;
}
.input-group .form-control:first-child,
.input-group-addon:first-child,
.input-group-btn:first-child > .btn,
.input-group-btn:first-child > .btn-group > .btn,
.input-group-btn:first-child > .dropdown-toggle,
.input-group-btn:last-child > .btn:not(:last-child):not(.dropdown-toggle),
.input-group-btn:last-child > .btn-group:not(:last-child) > .btn {
  border-bottom-right-radius: 0;
  border-top-right-radius: 0;
}
.input-group-addon:first-child {
  border-right: 0;
}
.input-group .form-control:last-child,
.input-group-addon:last-child,
.input-group-btn:last-child > .btn,
.input-group-btn:last-child > .btn-group > .btn,
.input-group-btn:last-child > .dropdown-toggle,
.input-group-btn:first-child > .btn:not(:first-child),
.input-group-btn:first-child > .btn-group:not(:first-child) > .btn {
  border-bottom-left-radius: 0;
  border-top-left-radius: 0;
}
.input-group-addon:last-child {
  border-left: 0;
}
.input-group-btn {
  position: relative;
  font-size: 0;
  white-space: nowrap;
}
.input-group-btn > .btn {
  position: relative;
}
.input-group-btn > .btn + .btn {
  margin-left: -1px;
}
.input-group-btn > .btn:hover,
.input-group-btn > .btn:focus,
.input-group-btn > .btn:active {
  z-index: 2;
}
.input-group-btn:first-child > .btn,
.input-group-btn:first-child > .btn-group {
  margin-right: -1px;
}
.input-group-btn:last-child > .btn,
.input-group-btn:last-child > .btn-group {
  z-index: 2;
  margin-left: -1px;
}
.nav {
  margin-bottom: 0;
  padding-left: 0;
  list-style: none;
}
.nav > li {
  position: relative;
  display: block;
}
.nav > li > a {
  position: relative;
  display: block;
  padding: 10px 15px;
}
.nav > li > a:hover,
.nav > li > a:focus {
  text-decoration: none;
  background-color: #eeeeee;
}
.nav > li.disabled > a {
  color: #777777;
}
.nav > li.disabled > a:hover,
.nav > li.disabled > a:focus {
  color: #777777;
  text-decoration: none;
  background-color: transparent;
  cursor: not-allowed;
}
.nav .open > a,
.nav .open > a:hover,
.nav .open > a:focus {
  background-color: #eeeeee;
  border-color: #337ab7;
}
.nav .nav-divider {
  height: 1px;
  margin: 8px 0;
  overflow: hidden;
  background-color: #e5e5e5;
}
.nav > li > a > img {
  max-width: none;
}
.nav-tabs {
  border-bottom: 1px solid #ddd;
}
.nav-tabs > li {
  float: left;
  margin-bottom: -1px;
}
.nav-tabs > li > a {
  margin-right: 2px;
  line-height: 1.42857143;
  border: 1px solid transparent;
  border-radius: 2px 2px 0 0;
}
.nav-tabs > li > a:hover {
  border-color: #eeeeee #eeeeee #ddd;
}
.nav-tabs > li.active > a,
.nav-tabs > li.active > a:hover,
.nav-tabs > li.active > a:focus {
  color: #555555;
  background-color: #fff;
  border: 1px solid #ddd;
  border-bottom-color: transparent;
  cursor: default;
}
.nav-tabs.nav-justified {
  width: 100%;
  border-bottom: 0;
}
.nav-tabs.nav-justified > li {
  float: none;
}
.nav-tabs.nav-justified > li > a {
  text-align: center;
  margin-bottom: 5px;
}
.nav-tabs.nav-justified > .dropdown .dropdown-menu {
  top: auto;
  left: auto;
}
@media (min-width: 768px) {
  .nav-tabs.nav-justified > li {
    display: table-cell;
    width: 1%;
  }
  .nav-tabs.nav-justified > li > a {
    margin-bottom: 0;
  }
}
.nav-tabs.nav-justified > li > a {
  margin-right: 0;
  border-radius: 2px;
}
.nav-tabs.nav-justified > .active > a,
.nav-tabs.nav-justified > .active > a:hover,
.nav-tabs.nav-justified > .active > a:focus {
  border: 1px solid #ddd;
}
@media (min-width: 768px) {
  .nav-tabs.nav-justified > li > a {
    border-bottom: 1px solid #ddd;
    border-radius: 2px 2px 0 0;
  }
  .nav-tabs.nav-justified > .active > a,
  .nav-tabs.nav-justified > .active > a:hover,
  .nav-tabs.nav-justified > .active > a:focus {
    border-bottom-color: #fff;
  }
}
.nav-pills > li {
  float: left;
}
.nav-pills > li > a {
  border-radius: 2px;
}
.nav-pills > li + li {
  margin-left: 2px;
}
.nav-pills > li.active > a,
.nav-pills > li.active > a:hover,
.nav-pills > li.active > a:focus {
  color: #fff;
  background-color: #337ab7;
}
.nav-stacked > li {
  float: none;
}
.nav-stacked > li + li {
  margin-top: 2px;
  margin-left: 0;
}
.nav-justified {
  width: 100%;
}
.nav-justified > li {
  float: none;
}
.nav-justified > li > a {
  text-align: center;
  margin-bottom: 5px;
}
.nav-justified > .dropdown .dropdown-menu {
  top: auto;
  left: auto;
}
@media (min-width: 768px) {
  .nav-justified > li {
    display: table-cell;
    width: 1%;
  }
  .nav-justified > li > a {
    margin-bottom: 0;
  }
}
.nav-tabs-justified {
  border-bottom: 0;
}
.nav-tabs-justified > li > a {
  margin-right: 0;
  border-radius: 2px;
}
.nav-tabs-justified > .active > a,
.nav-tabs-justified > .active > a:hover,
.nav-tabs-justified > .active > a:focus {
  border: 1px solid #ddd;
}
@media (min-width: 768px) {
  .nav-tabs-justified > li > a {
    border-bottom: 1px solid #ddd;
    border-radius: 2px 2px 0 0;
  }
  .nav-tabs-justified > .active > a,
  .nav-tabs-justified > .active > a:hover,
  .nav-tabs-justified > .active > a:focus {
    border-bottom-color: #fff;
  }
}
.tab-content > .tab-pane {
  display: none;
}
.tab-content > .active {
  display: block;
}
.nav-tabs .dropdown-menu {
  margin-top: -1px;
  border-top-right-radius: 0;
  border-top-left-radius: 0;
}
.navbar {
  position: relative;
  min-height: 30px;
  margin-bottom: 18px;
  border: 1px solid transparent;
}
@media (min-width: 541px) {
  .navbar {
    border-radius: 2px;
  }
}
@media (min-width: 541px) {
  .navbar-header {
    float: left;
  }
}
.navbar-collapse {
  overflow-x: visible;
  padding-right: 0px;
  padding-left: 0px;
  border-top: 1px solid transparent;
  box-shadow: inset 0 1px 0 rgba(255, 255, 255, 0.1);
  -webkit-overflow-scrolling: touch;
}
.navbar-collapse.in {
  overflow-y: auto;
}
@media (min-width: 541px) {
  .navbar-collapse {
    width: auto;
    border-top: 0;
    box-shadow: none;
  }
  .navbar-collapse.collapse {
    display: block !important;
    height: auto !important;
    padding-bottom: 0;
    overflow: visible !important;
  }
  .navbar-collapse.in {
    overflow-y: visible;
  }
  .navbar-fixed-top .navbar-collapse,
  .navbar-static-top .navbar-collapse,
  .navbar-fixed-bottom .navbar-collapse {
    padding-left: 0;
    padding-right: 0;
  }
}
.navbar-fixed-top .navbar-collapse,
.navbar-fixed-bottom .navbar-collapse {
  max-height: 340px;
}
@media (max-device-width: 540px) and (orientation: landscape) {
  .navbar-fixed-top .navbar-collapse,
  .navbar-fixed-bottom .navbar-collapse {
    max-height: 200px;
  }
}
.container > .navbar-header,
.container-fluid > .navbar-header,
.container > .navbar-collapse,
.container-fluid > .navbar-collapse {
  margin-right: 0px;
  margin-left: 0px;
}
@media (min-width: 541px) {
  .container > .navbar-header,
  .container-fluid > .navbar-header,
  .container > .navbar-collapse,
  .container-fluid > .navbar-collapse {
    margin-right: 0;
    margin-left: 0;
  }
}
.navbar-static-top {
  z-index: 1000;
  border-width: 0 0 1px;
}
@media (min-width: 541px) {
  .navbar-static-top {
    border-radius: 0;
  }
}
.navbar-fixed-top,
.navbar-fixed-bottom {
  position: fixed;
  right: 0;
  left: 0;
  z-index: 1030;
}
@media (min-width: 541px) {
  .navbar-fixed-top,
  .navbar-fixed-bottom {
    border-radius: 0;
  }
}
.navbar-fixed-top {
  top: 0;
  border-width: 0 0 1px;
}
.navbar-fixed-bottom {
  bottom: 0;
  margin-bottom: 0;
  border-width: 1px 0 0;
}
.navbar-brand {
  float: left;
  padding: 6px 0px;
  font-size: 17px;
  line-height: 18px;
  height: 30px;
}
.navbar-brand:hover,
.navbar-brand:focus {
  text-decoration: none;
}
.navbar-brand > img {
  display: block;
}
@media (min-width: 541px) {
  .navbar > .container .navbar-brand,
  .navbar > .container-fluid .navbar-brand {
    margin-left: 0px;
  }
}
.navbar-toggle {
  position: relative;
  float: right;
  margin-right: 0px;
  padding: 9px 10px;
  margin-top: -2px;
  margin-bottom: -2px;
  background-color: transparent;
  background-image: none;
  border: 1px solid transparent;
  border-radius: 2px;
}
.navbar-toggle:focus {
  outline: 0;
}
.navbar-toggle .icon-bar {
  display: block;
  width: 22px;
  height: 2px;
  border-radius: 1px;
}
.navbar-toggle .icon-bar + .icon-bar {
  margin-top: 4px;
}
@media (min-width: 541px) {
  .navbar-toggle {
    display: none;
  }
}
.navbar-nav {
  margin: 3px 0px;
}
.navbar-nav > li > a {
  padding-top: 10px;
  padding-bottom: 10px;
  line-height: 18px;
}
@media (max-width: 540px) {
  .navbar-nav .open .dropdown-menu {
    position: static;
    float: none;
    width: auto;
    margin-top: 0;
    background-color: transparent;
    border: 0;
    box-shadow: none;
  }
  .navbar-nav .open .dropdown-menu > li > a,
  .navbar-nav .open .dropdown-menu .dropdown-header {
    padding: 5px 15px 5px 25px;
  }
  .navbar-nav .open .dropdown-menu > li > a {
    line-height: 18px;
  }
  .navbar-nav .open .dropdown-menu > li > a:hover,
  .navbar-nav .open .dropdown-menu > li > a:focus {
    background-image: none;
  }
}
@media (min-width: 541px) {
  .navbar-nav {
    float: left;
    margin: 0;
  }
  .navbar-nav > li {
    float: left;
  }
  .navbar-nav > li > a {
    padding-top: 6px;
    padding-bottom: 6px;
  }
}
.navbar-form {
  margin-left: 0px;
  margin-right: 0px;
  padding: 10px 0px;
  border-top: 1px solid transparent;
  border-bottom: 1px solid transparent;
  -webkit-box-shadow: inset 0 1px 0 rgba(255, 255, 255, 0.1), 0 1px 0 rgba(255, 255, 255, 0.1);
  box-shadow: inset 0 1px 0 rgba(255, 255, 255, 0.1), 0 1px 0 rgba(255, 255, 255, 0.1);
  margin-top: -1px;
  margin-bottom: -1px;
}
@media (min-width: 768px) {
  .navbar-form .form-group {
    display: inline-block;
    margin-bottom: 0;
    vertical-align: middle;
  }
  .navbar-form .form-control {
    display: inline-block;
    width: auto;
    vertical-align: middle;
  }
  .navbar-form .form-control-static {
    display: inline-block;
  }
  .navbar-form .input-group {
    display: inline-table;
    vertical-align: middle;
  }
  .navbar-form .input-group .input-group-addon,
  .navbar-form .input-group .input-group-btn,
  .navbar-form .input-group .form-control {
    width: auto;
  }
  .navbar-form .input-group > .form-control {
    width: 100%;
  }
  .navbar-form .control-label {
    margin-bottom: 0;
    vertical-align: middle;
  }
  .navbar-form .radio,
  .navbar-form .checkbox {
    display: inline-block;
    margin-top: 0;
    margin-bottom: 0;
    vertical-align: middle;
  }
  .navbar-form .radio label,
  .navbar-form .checkbox label {
    padding-left: 0;
  }
  .navbar-form .radio input[type="radio"],
  .navbar-form .checkbox input[type="checkbox"] {
    position: relative;
    margin-left: 0;
  }
  .navbar-form .has-feedback .form-control-feedback {
    top: 0;
  }
}
@media (max-width: 540px) {
  .navbar-form .form-group {
    margin-bottom: 5px;
  }
  .navbar-form .form-group:last-child {
    margin-bottom: 0;
  }
}
@media (min-width: 541px) {
  .navbar-form {
    width: auto;
    border: 0;
    margin-left: 0;
    margin-right: 0;
    padding-top: 0;
    padding-bottom: 0;
    -webkit-box-shadow: none;
    box-shadow: none;
  }
}
.navbar-nav > li > .dropdown-menu {
  margin-top: 0;
  border-top-right-radius: 0;
  border-top-left-radius: 0;
}
.navbar-fixed-bottom .navbar-nav > li > .dropdown-menu {
  margin-bottom: 0;
  border-top-right-radius: 2px;
  border-top-left-radius: 2px;
  border-bottom-right-radius: 0;
  border-bottom-left-radius: 0;
}
.navbar-btn {
  margin-top: -1px;
  margin-bottom: -1px;
}
.navbar-btn.btn-sm {
  margin-top: 0px;
  margin-bottom: 0px;
}
.navbar-btn.btn-xs {
  margin-top: 4px;
  margin-bottom: 4px;
}
.navbar-text {
  margin-top: 6px;
  margin-bottom: 6px;
}
@media (min-width: 541px) {
  .navbar-text {
    float: left;
    margin-left: 0px;
    margin-right: 0px;
  }
}
@media (min-width: 541px) {
  .navbar-left {
    float: left !important;
    float: left;
  }
  .navbar-right {
    float: right !important;
    float: right;
    margin-right: 0px;
  }
  .navbar-right ~ .navbar-right {
    margin-right: 0;
  }
}
.navbar-default {
  background-color: #f8f8f8;
  border-color: #e7e7e7;
}
.navbar-default .navbar-brand {
  color: #777;
}
.navbar-default .navbar-brand:hover,
.navbar-default .navbar-brand:focus {
  color: #5e5e5e;
  background-color: transparent;
}
.navbar-default .navbar-text {
  color: #777;
}
.navbar-default .navbar-nav > li > a {
  color: #777;
}
.navbar-default .navbar-nav > li > a:hover,
.navbar-default .navbar-nav > li > a:focus {
  color: #333;
  background-color: transparent;
}
.navbar-default .navbar-nav > .active > a,
.navbar-default .navbar-nav > .active > a:hover,
.navbar-default .navbar-nav > .active > a:focus {
  color: #555;
  background-color: #e7e7e7;
}
.navbar-default .navbar-nav > .disabled > a,
.navbar-default .navbar-nav > .disabled > a:hover,
.navbar-default .navbar-nav > .disabled > a:focus {
  color: #ccc;
  background-color: transparent;
}
.navbar-default .navbar-toggle {
  border-color: #ddd;
}
.navbar-default .navbar-toggle:hover,
.navbar-default .navbar-toggle:focus {
  background-color: #ddd;
}
.navbar-default .navbar-toggle .icon-bar {
  background-color: #888;
}
.navbar-default .navbar-collapse,
.navbar-default .navbar-form {
  border-color: #e7e7e7;
}
.navbar-default .navbar-nav > .open > a,
.navbar-default .navbar-nav > .open > a:hover,
.navbar-default .navbar-nav > .open > a:focus {
  background-color: #e7e7e7;
  color: #555;
}
@media (max-width: 540px) {
  .navbar-default .navbar-nav .open .dropdown-menu > li > a {
    color: #777;
  }
  .navbar-default .navbar-nav .open .dropdown-menu > li > a:hover,
  .navbar-default .navbar-nav .open .dropdown-menu > li > a:focus {
    color: #333;
    background-color: transparent;
  }
  .navbar-default .navbar-nav .open .dropdown-menu > .active > a,
  .navbar-default .navbar-nav .open .dropdown-menu > .active > a:hover,
  .navbar-default .navbar-nav .open .dropdown-menu > .active > a:focus {
    color: #555;
    background-color: #e7e7e7;
  }
  .navbar-default .navbar-nav .open .dropdown-menu > .disabled > a,
  .navbar-default .navbar-nav .open .dropdown-menu > .disabled > a:hover,
  .navbar-default .navbar-nav .open .dropdown-menu > .disabled > a:focus {
    color: #ccc;
    background-color: transparent;
  }
}
.navbar-default .navbar-link {
  color: #777;
}
.navbar-default .navbar-link:hover {
  color: #333;
}
.navbar-default .btn-link {
  color: #777;
}
.navbar-default .btn-link:hover,
.navbar-default .btn-link:focus {
  color: #333;
}
.navbar-default .btn-link[disabled]:hover,
fieldset[disabled] .navbar-default .btn-link:hover,
.navbar-default .btn-link[disabled]:focus,
fieldset[disabled] .navbar-default .btn-link:focus {
  color: #ccc;
}
.navbar-inverse {
  background-color: #222;
  border-color: #080808;
}
.navbar-inverse .navbar-brand {
  color: #9d9d9d;
}
.navbar-inverse .navbar-brand:hover,
.navbar-inverse .navbar-brand:focus {
  color: #fff;
  background-color: transparent;
}
.navbar-inverse .navbar-text {
  color: #9d9d9d;
}
.navbar-inverse .navbar-nav > li > a {
  color: #9d9d9d;
}
.navbar-inverse .navbar-nav > li > a:hover,
.navbar-inverse .navbar-nav > li > a:focus {
  color: #fff;
  background-color: transparent;
}
.navbar-inverse .navbar-nav > .active > a,
.navbar-inverse .navbar-nav > .active > a:hover,
.navbar-inverse .navbar-nav > .active > a:focus {
  color: #fff;
  background-color: #080808;
}
.navbar-inverse .navbar-nav > .disabled > a,
.navbar-inverse .navbar-nav > .disabled > a:hover,
.navbar-inverse .navbar-nav > .disabled > a:focus {
  color: #444;
  background-color: transparent;
}
.navbar-inverse .navbar-toggle {
  border-color: #333;
}
.navbar-inverse .navbar-toggle:hover,
.navbar-inverse .navbar-toggle:focus {
  background-color: #333;
}
.navbar-inverse .navbar-toggle .icon-bar {
  background-color: #fff;
}
.navbar-inverse .navbar-collapse,
.navbar-inverse .navbar-form {
  border-color: #101010;
}
.navbar-inverse .navbar-nav > .open > a,
.navbar-inverse .navbar-nav > .open > a:hover,
.navbar-inverse .navbar-nav > .open > a:focus {
  background-color: #080808;
  color: #fff;
}
@media (max-width: 540px) {
  .navbar-inverse .navbar-nav .open .dropdown-menu > .dropdown-header {
    border-color: #080808;
  }
  .navbar-inverse .navbar-nav .open .dropdown-menu .divider {
    background-color: #080808;
  }
  .navbar-inverse .navbar-nav .open .dropdown-menu > li > a {
    color: #9d9d9d;
  }
  .navbar-inverse .navbar-nav .open .dropdown-menu > li > a:hover,
  .navbar-inverse .navbar-nav .open .dropdown-menu > li > a:focus {
    color: #fff;
    background-color: transparent;
  }
  .navbar-inverse .navbar-nav .open .dropdown-menu > .active > a,
  .navbar-inverse .navbar-nav .open .dropdown-menu > .active > a:hover,
  .navbar-inverse .navbar-nav .open .dropdown-menu > .active > a:focus {
    color: #fff;
    background-color: #080808;
  }
  .navbar-inverse .navbar-nav .open .dropdown-menu > .disabled > a,
  .navbar-inverse .navbar-nav .open .dropdown-menu > .disabled > a:hover,
  .navbar-inverse .navbar-nav .open .dropdown-menu > .disabled > a:focus {
    color: #444;
    background-color: transparent;
  }
}
.navbar-inverse .navbar-link {
  color: #9d9d9d;
}
.navbar-inverse .navbar-link:hover {
  color: #fff;
}
.navbar-inverse .btn-link {
  color: #9d9d9d;
}
.navbar-inverse .btn-link:hover,
.navbar-inverse .btn-link:focus {
  color: #fff;
}
.navbar-inverse .btn-link[disabled]:hover,
fieldset[disabled] .navbar-inverse .btn-link:hover,
.navbar-inverse .btn-link[disabled]:focus,
fieldset[disabled] .navbar-inverse .btn-link:focus {
  color: #444;
}
.breadcrumb {
  padding: 8px 15px;
  margin-bottom: 18px;
  list-style: none;
  background-color: #f5f5f5;
  border-radius: 2px;
}
.breadcrumb > li {
  display: inline-block;
}
.breadcrumb > li + li:before {
  content: "/\00a0";
  padding: 0 5px;
  color: #5e5e5e;
}
.breadcrumb > .active {
  color: #777777;
}
.pagination {
  display: inline-block;
  padding-left: 0;
  margin: 18px 0;
  border-radius: 2px;
}
.pagination > li {
  display: inline;
}
.pagination > li > a,
.pagination > li > span {
  position: relative;
  float: left;
  padding: 6px 12px;
  line-height: 1.42857143;
  text-decoration: none;
  color: #337ab7;
  background-color: #fff;
  border: 1px solid #ddd;
  margin-left: -1px;
}
.pagination > li:first-child > a,
.pagination > li:first-child > span {
  margin-left: 0;
  border-bottom-left-radius: 2px;
  border-top-left-radius: 2px;
}
.pagination > li:last-child > a,
.pagination > li:last-child > span {
  border-bottom-right-radius: 2px;
  border-top-right-radius: 2px;
}
.pagination > li > a:hover,
.pagination > li > span:hover,
.pagination > li > a:focus,
.pagination > li > span:focus {
  z-index: 2;
  color: #23527c;
  background-color: #eeeeee;
  border-color: #ddd;
}
.pagination > .active > a,
.pagination > .active > span,
.pagination > .active > a:hover,
.pagination > .active > span:hover,
.pagination > .active > a:focus,
.pagination > .active > span:focus {
  z-index: 3;
  color: #fff;
  background-color: #337ab7;
  border-color: #337ab7;
  cursor: default;
}
.pagination > .disabled > span,
.pagination > .disabled > span:hover,
.pagination > .disabled > span:focus,
.pagination > .disabled > a,
.pagination > .disabled > a:hover,
.pagination > .disabled > a:focus {
  color: #777777;
  background-color: #fff;
  border-color: #ddd;
  cursor: not-allowed;
}
.pagination-lg > li > a,
.pagination-lg > li > span {
  padding: 10px 16px;
  font-size: 17px;
  line-height: 1.3333333;
}
.pagination-lg > li:first-child > a,
.pagination-lg > li:first-child > span {
  border-bottom-left-radius: 3px;
  border-top-left-radius: 3px;
}
.pagination-lg > li:last-child > a,
.pagination-lg > li:last-child > span {
  border-bottom-right-radius: 3px;
  border-top-right-radius: 3px;
}
.pagination-sm > li > a,
.pagination-sm > li > span {
  padding: 5px 10px;
  font-size: 12px;
  line-height: 1.5;
}
.pagination-sm > li:first-child > a,
.pagination-sm > li:first-child > span {
  border-bottom-left-radius: 1px;
  border-top-left-radius: 1px;
}
.pagination-sm > li:last-child > a,
.pagination-sm > li:last-child > span {
  border-bottom-right-radius: 1px;
  border-top-right-radius: 1px;
}
.pager {
  padding-left: 0;
  margin: 18px 0;
  list-style: none;
  text-align: center;
}
.pager li {
  display: inline;
}
.pager li > a,
.pager li > span {
  display: inline-block;
  padding: 5px 14px;
  background-color: #fff;
  border: 1px solid #ddd;
  border-radius: 15px;
}
.pager li > a:hover,
.pager li > a:focus {
  text-decoration: none;
  background-color: #eeeeee;
}
.pager .next > a,
.pager .next > span {
  float: right;
}
.pager .previous > a,
.pager .previous > span {
  float: left;
}
.pager .disabled > a,
.pager .disabled > a:hover,
.pager .disabled > a:focus,
.pager .disabled > span {
  color: #777777;
  background-color: #fff;
  cursor: not-allowed;
}
.label {
  display: inline;
  padding: .2em .6em .3em;
  font-size: 75%;
  font-weight: bold;
  line-height: 1;
  color: #fff;
  text-align: center;
  white-space: nowrap;
  vertical-align: baseline;
  border-radius: .25em;
}
a.label:hover,
a.label:focus {
  color: #fff;
  text-decoration: none;
  cursor: pointer;
}
.label:empty {
  display: none;
}
.btn .label {
  position: relative;
  top: -1px;
}
.label-default {
  background-color: #777777;
}
.label-default[href]:hover,
.label-default[href]:focus {
  background-color: #5e5e5e;
}
.label-primary {
  background-color: #337ab7;
}
.label-primary[href]:hover,
.label-primary[href]:focus {
  background-color: #286090;
}
.label-success {
  background-color: #5cb85c;
}
.label-success[href]:hover,
.label-success[href]:focus {
  background-color: #449d44;
}
.label-info {
  background-color: #5bc0de;
}
.label-info[href]:hover,
.label-info[href]:focus {
  background-color: #31b0d5;
}
.label-warning {
  background-color: #f0ad4e;
}
.label-warning[href]:hover,
.label-warning[href]:focus {
  background-color: #ec971f;
}
.label-danger {
  background-color: #d9534f;
}
.label-danger[href]:hover,
.label-danger[href]:focus {
  background-color: #c9302c;
}
.badge {
  display: inline-block;
  min-width: 10px;
  padding: 3px 7px;
  font-size: 12px;
  font-weight: bold;
  color: #fff;
  line-height: 1;
  vertical-align: middle;
  white-space: nowrap;
  text-align: center;
  background-color: #777777;
  border-radius: 10px;
}
.badge:empty {
  display: none;
}
.btn .badge {
  position: relative;
  top: -1px;
}
.btn-xs .badge,
.btn-group-xs > .btn .badge {
  top: 0;
  padding: 1px 5px;
}
a.badge:hover,
a.badge:focus {
  color: #fff;
  text-decoration: none;
  cursor: pointer;
}
.list-group-item.active > .badge,
.nav-pills > .active > a > .badge {
  color: #337ab7;
  background-color: #fff;
}
.list-group-item > .badge {
  float: right;
}
.list-group-item > .badge + .badge {
  margin-right: 5px;
}
.nav-pills > li > a > .badge {
  margin-left: 3px;
}
.jumbotron {
  padding-top: 30px;
  padding-bottom: 30px;
  margin-bottom: 30px;
  color: inherit;
  background-color: #eeeeee;
}
.jumbotron h1,
.jumbotron .h1 {
  color: inherit;
}
.jumbotron p {
  margin-bottom: 15px;
  font-size: 20px;
  font-weight: 200;
}
.jumbotron > hr {
  border-top-color: #d5d5d5;
}
.container .jumbotron,
.container-fluid .jumbotron {
  border-radius: 3px;
  padding-left: 0px;
  padding-right: 0px;
}
.jumbotron .container {
  max-width: 100%;
}
@media screen and (min-width: 768px) {
  .jumbotron {
    padding-top: 48px;
    padding-bottom: 48px;
  }
  .container .jumbotron,
  .container-fluid .jumbotron {
    padding-left: 60px;
    padding-right: 60px;
  }
  .jumbotron h1,
  .jumbotron .h1 {
    font-size: 59px;
  }
}
.thumbnail {
  display: block;
  padding: 4px;
  margin-bottom: 18px;
  line-height: 1.42857143;
  background-color: #fff;
  border: 1px solid #ddd;
  border-radius: 2px;
  -webkit-transition: border 0.2s ease-in-out;
  -o-transition: border 0.2s ease-in-out;
  transition: border 0.2s ease-in-out;
}
.thumbnail > img,
.thumbnail a > img {
  margin-left: auto;
  margin-right: auto;
}
a.thumbnail:hover,
a.thumbnail:focus,
a.thumbnail.active {
  border-color: #337ab7;
}
.thumbnail .caption {
  padding: 9px;
  color: #000;
}
.alert {
  padding: 15px;
  margin-bottom: 18px;
  border: 1px solid transparent;
  border-radius: 2px;
}
.alert h4 {
  margin-top: 0;
  color: inherit;
}
.alert .alert-link {
  font-weight: bold;
}
.alert > p,
.alert > ul {
  margin-bottom: 0;
}
.alert > p + p {
  margin-top: 5px;
}
.alert-dismissable,
.alert-dismissible {
  padding-right: 35px;
}
.alert-dismissable .close,
.alert-dismissible .close {
  position: relative;
  top: -2px;
  right: -21px;
  color: inherit;
}
.alert-success {
  background-color: #dff0d8;
  border-color: #d6e9c6;
  color: #3c763d;
}
.alert-success hr {
  border-top-color: #c9e2b3;
}
.alert-success .alert-link {
  color: #2b542c;
}
.alert-info {
  background-color: #d9edf7;
  border-color: #bce8f1;
  color: #31708f;
}
.alert-info hr {
  border-top-color: #a6e1ec;
}
.alert-info .alert-link {
  color: #245269;
}
.alert-warning {
  background-color: #fcf8e3;
  border-color: #faebcc;
  color: #8a6d3b;
}
.alert-warning hr {
  border-top-color: #f7e1b5;
}
.alert-warning .alert-link {
  color: #66512c;
}
.alert-danger {
  background-color: #f2dede;
  border-color: #ebccd1;
  color: #a94442;
}
.alert-danger hr {
  border-top-color: #e4b9c0;
}
.alert-danger .alert-link {
  color: #843534;
}
@-webkit-keyframes progress-bar-stripes {
  from {
    background-position: 40px 0;
  }
  to {
    background-position: 0 0;
  }
}
@keyframes progress-bar-stripes {
  from {
    background-position: 40px 0;
  }
  to {
    background-position: 0 0;
  }
}
.progress {
  overflow: hidden;
  height: 18px;
  margin-bottom: 18px;
  background-color: #f5f5f5;
  border-radius: 2px;
  -webkit-box-shadow: inset 0 1px 2px rgba(0, 0, 0, 0.1);
  box-shadow: inset 0 1px 2px rgba(0, 0, 0, 0.1);
}
.progress-bar {
  float: left;
  width: 0%;
  height: 100%;
  font-size: 12px;
  line-height: 18px;
  color: #fff;
  text-align: center;
  background-color: #337ab7;
  -webkit-box-shadow: inset 0 -1px 0 rgba(0, 0, 0, 0.15);
  box-shadow: inset 0 -1px 0 rgba(0, 0, 0, 0.15);
  -webkit-transition: width 0.6s ease;
  -o-transition: width 0.6s ease;
  transition: width 0.6s ease;
}
.progress-striped .progress-bar,
.progress-bar-striped {
  background-image: -webkit-linear-gradient(45deg, rgba(255, 255, 255, 0.15) 25%, transparent 25%, transparent 50%, rgba(255, 255, 255, 0.15) 50%, rgba(255, 255, 255, 0.15) 75%, transparent 75%, transparent);
  background-image: -o-linear-gradient(45deg, rgba(255, 255, 255, 0.15) 25%, transparent 25%, transparent 50%, rgba(255, 255, 255, 0.15) 50%, rgba(255, 255, 255, 0.15) 75%, transparent 75%, transparent);
  background-image: linear-gradient(45deg, rgba(255, 255, 255, 0.15) 25%, transparent 25%, transparent 50%, rgba(255, 255, 255, 0.15) 50%, rgba(255, 255, 255, 0.15) 75%, transparent 75%, transparent);
  background-size: 40px 40px;
}
.progress.active .progress-bar,
.progress-bar.active {
  -webkit-animation: progress-bar-stripes 2s linear infinite;
  -o-animation: progress-bar-stripes 2s linear infinite;
  animation: progress-bar-stripes 2s linear infinite;
}
.progress-bar-success {
  background-color: #5cb85c;
}
.progress-striped .progress-bar-success {
  background-image: -webkit-linear-gradient(45deg, rgba(255, 255, 255, 0.15) 25%, transparent 25%, transparent 50%, rgba(255, 255, 255, 0.15) 50%, rgba(255, 255, 255, 0.15) 75%, transparent 75%, transparent);
  background-image: -o-linear-gradient(45deg, rgba(255, 255, 255, 0.15) 25%, transparent 25%, transparent 50%, rgba(255, 255, 255, 0.15) 50%, rgba(255, 255, 255, 0.15) 75%, transparent 75%, transparent);
  background-image: linear-gradient(45deg, rgba(255, 255, 255, 0.15) 25%, transparent 25%, transparent 50%, rgba(255, 255, 255, 0.15) 50%, rgba(255, 255, 255, 0.15) 75%, transparent 75%, transparent);
}
.progress-bar-info {
  background-color: #5bc0de;
}
.progress-striped .progress-bar-info {
  background-image: -webkit-linear-gradient(45deg, rgba(255, 255, 255, 0.15) 25%, transparent 25%, transparent 50%, rgba(255, 255, 255, 0.15) 50%, rgba(255, 255, 255, 0.15) 75%, transparent 75%, transparent);
  background-image: -o-linear-gradient(45deg, rgba(255, 255, 255, 0.15) 25%, transparent 25%, transparent 50%, rgba(255, 255, 255, 0.15) 50%, rgba(255, 255, 255, 0.15) 75%, transparent 75%, transparent);
  background-image: linear-gradient(45deg, rgba(255, 255, 255, 0.15) 25%, transparent 25%, transparent 50%, rgba(255, 255, 255, 0.15) 50%, rgba(255, 255, 255, 0.15) 75%, transparent 75%, transparent);
}
.progress-bar-warning {
  background-color: #f0ad4e;
}
.progress-striped .progress-bar-warning {
  background-image: -webkit-linear-gradient(45deg, rgba(255, 255, 255, 0.15) 25%, transparent 25%, transparent 50%, rgba(255, 255, 255, 0.15) 50%, rgba(255, 255, 255, 0.15) 75%, transparent 75%, transparent);
  background-image: -o-linear-gradient(45deg, rgba(255, 255, 255, 0.15) 25%, transparent 25%, transparent 50%, rgba(255, 255, 255, 0.15) 50%, rgba(255, 255, 255, 0.15) 75%, transparent 75%, transparent);
  background-image: linear-gradient(45deg, rgba(255, 255, 255, 0.15) 25%, transparent 25%, transparent 50%, rgba(255, 255, 255, 0.15) 50%, rgba(255, 255, 255, 0.15) 75%, transparent 75%, transparent);
}
.progress-bar-danger {
  background-color: #d9534f;
}
.progress-striped .progress-bar-danger {
  background-image: -webkit-linear-gradient(45deg, rgba(255, 255, 255, 0.15) 25%, transparent 25%, transparent 50%, rgba(255, 255, 255, 0.15) 50%, rgba(255, 255, 255, 0.15) 75%, transparent 75%, transparent);
  background-image: -o-linear-gradient(45deg, rgba(255, 255, 255, 0.15) 25%, transparent 25%, transparent 50%, rgba(255, 255, 255, 0.15) 50%, rgba(255, 255, 255, 0.15) 75%, transparent 75%, transparent);
  background-image: linear-gradient(45deg, rgba(255, 255, 255, 0.15) 25%, transparent 25%, transparent 50%, rgba(255, 255, 255, 0.15) 50%, rgba(255, 255, 255, 0.15) 75%, transparent 75%, transparent);
}
.media {
  margin-top: 15px;
}
.media:first-child {
  margin-top: 0;
}
.media,
.media-body {
  zoom: 1;
  overflow: hidden;
}
.media-body {
  width: 10000px;
}
.media-object {
  display: block;
}
.media-object.img-thumbnail {
  max-width: none;
}
.media-right,
.media > .pull-right {
  padding-left: 10px;
}
.media-left,
.media > .pull-left {
  padding-right: 10px;
}
.media-left,
.media-right,
.media-body {
  display: table-cell;
  vertical-align: top;
}
.media-middle {
  vertical-align: middle;
}
.media-bottom {
  vertical-align: bottom;
}
.media-heading {
  margin-top: 0;
  margin-bottom: 5px;
}
.media-list {
  padding-left: 0;
  list-style: none;
}
.list-group {
  margin-bottom: 20px;
  padding-left: 0;
}
.list-group-item {
  position: relative;
  display: block;
  padding: 10px 15px;
  margin-bottom: -1px;
  background-color: #fff;
  border: 1px solid #ddd;
}
.list-group-item:first-child {
  border-top-right-radius: 2px;
  border-top-left-radius: 2px;
}
.list-group-item:last-child {
  margin-bottom: 0;
  border-bottom-right-radius: 2px;
  border-bottom-left-radius: 2px;
}
a.list-group-item,
button.list-group-item {
  color: #555;
}
a.list-group-item .list-group-item-heading,
button.list-group-item .list-group-item-heading {
  color: #333;
}
a.list-group-item:hover,
button.list-group-item:hover,
a.list-group-item:focus,
button.list-group-item:focus {
  text-decoration: none;
  color: #555;
  background-color: #f5f5f5;
}
button.list-group-item {
  width: 100%;
  text-align: left;
}
.list-group-item.disabled,
.list-group-item.disabled:hover,
.list-group-item.disabled:focus {
  background-color: #eeeeee;
  color: #777777;
  cursor: not-allowed;
}
.list-group-item.disabled .list-group-item-heading,
.list-group-item.disabled:hover .list-group-item-heading,
.list-group-item.disabled:focus .list-group-item-heading {
  color: inherit;
}
.list-group-item.disabled .list-group-item-text,
.list-group-item.disabled:hover .list-group-item-text,
.list-group-item.disabled:focus .list-group-item-text {
  color: #777777;
}
.list-group-item.active,
.list-group-item.active:hover,
.list-group-item.active:focus {
  z-index: 2;
  color: #fff;
  background-color: #337ab7;
  border-color: #337ab7;
}
.list-group-item.active .list-group-item-heading,
.list-group-item.active:hover .list-group-item-heading,
.list-group-item.active:focus .list-group-item-heading,
.list-group-item.active .list-group-item-heading > small,
.list-group-item.active:hover .list-group-item-heading > small,
.list-group-item.active:focus .list-group-item-heading > small,
.list-group-item.active .list-group-item-heading > .small,
.list-group-item.active:hover .list-group-item-heading > .small,
.list-group-item.active:focus .list-group-item-heading > .small {
  color: inherit;
}
.list-group-item.active .list-group-item-text,
.list-group-item.active:hover .list-group-item-text,
.list-group-item.active:focus .list-group-item-text {
  color: #c7ddef;
}
.list-group-item-success {
  color: #3c763d;
  background-color: #dff0d8;
}
a.list-group-item-success,
button.list-group-item-success {
  color: #3c763d;
}
a.list-group-item-success .list-group-item-heading,
button.list-group-item-success .list-group-item-heading {
  color: inherit;
}
a.list-group-item-success:hover,
button.list-group-item-success:hover,
a.list-group-item-success:focus,
button.list-group-item-success:focus {
  color: #3c763d;
  background-color: #d0e9c6;
}
a.list-group-item-success.active,
button.list-group-item-success.active,
a.list-group-item-success.active:hover,
button.list-group-item-success.active:hover,
a.list-group-item-success.active:focus,
button.list-group-item-success.active:focus {
  color: #fff;
  background-color: #3c763d;
  border-color: #3c763d;
}
.list-group-item-info {
  color: #31708f;
  background-color: #d9edf7;
}
a.list-group-item-info,
button.list-group-item-info {
  color: #31708f;
}
a.list-group-item-info .list-group-item-heading,
button.list-group-item-info .list-group-item-heading {
  color: inherit;
}
a.list-group-item-info:hover,
button.list-group-item-info:hover,
a.list-group-item-info:focus,
button.list-group-item-info:focus {
  color: #31708f;
  background-color: #c4e3f3;
}
a.list-group-item-info.active,
button.list-group-item-info.active,
a.list-group-item-info.active:hover,
button.list-group-item-info.active:hover,
a.list-group-item-info.active:focus,
button.list-group-item-info.active:focus {
  color: #fff;
  background-color: #31708f;
  border-color: #31708f;
}
.list-group-item-warning {
  color: #8a6d3b;
  background-color: #fcf8e3;
}
a.list-group-item-warning,
button.list-group-item-warning {
  color: #8a6d3b;
}
a.list-group-item-warning .list-group-item-heading,
button.list-group-item-warning .list-group-item-heading {
  color: inherit;
}
a.list-group-item-warning:hover,
button.list-group-item-warning:hover,
a.list-group-item-warning:focus,
button.list-group-item-warning:focus {
  color: #8a6d3b;
  background-color: #faf2cc;
}
a.list-group-item-warning.active,
button.list-group-item-warning.active,
a.list-group-item-warning.active:hover,
button.list-group-item-warning.active:hover,
a.list-group-item-warning.active:focus,
button.list-group-item-warning.active:focus {
  color: #fff;
  background-color: #8a6d3b;
  border-color: #8a6d3b;
}
.list-group-item-danger {
  color: #a94442;
  background-color: #f2dede;
}
a.list-group-item-danger,
button.list-group-item-danger {
  color: #a94442;
}
a.list-group-item-danger .list-group-item-heading,
button.list-group-item-danger .list-group-item-heading {
  color: inherit;
}
a.list-group-item-danger:hover,
button.list-group-item-danger:hover,
a.list-group-item-danger:focus,
button.list-group-item-danger:focus {
  color: #a94442;
  background-color: #ebcccc;
}
a.list-group-item-danger.active,
button.list-group-item-danger.active,
a.list-group-item-danger.active:hover,
button.list-group-item-danger.active:hover,
a.list-group-item-danger.active:focus,
button.list-group-item-danger.active:focus {
  color: #fff;
  background-color: #a94442;
  border-color: #a94442;
}
.list-group-item-heading {
  margin-top: 0;
  margin-bottom: 5px;
}
.list-group-item-text {
  margin-bottom: 0;
  line-height: 1.3;
}
.panel {
  margin-bottom: 18px;
  background-color: #fff;
  border: 1px solid transparent;
  border-radius: 2px;
  -webkit-box-shadow: 0 1px 1px rgba(0, 0, 0, 0.05);
  box-shadow: 0 1px 1px rgba(0, 0, 0, 0.05);
}
.panel-body {
  padding: 15px;
}
.panel-heading {
  padding: 10px 15px;
  border-bottom: 1px solid transparent;
  border-top-right-radius: 1px;
  border-top-left-radius: 1px;
}
.panel-heading > .dropdown .dropdown-toggle {
  color: inherit;
}
.panel-title {
  margin-top: 0;
  margin-bottom: 0;
  font-size: 15px;
  color: inherit;
}
.panel-title > a,
.panel-title > small,
.panel-title > .small,
.panel-title > small > a,
.panel-title > .small > a {
  color: inherit;
}
.panel-footer {
  padding: 10px 15px;
  background-color: #f5f5f5;
  border-top: 1px solid #ddd;
  border-bottom-right-radius: 1px;
  border-bottom-left-radius: 1px;
}
.panel > .list-group,
.panel > .panel-collapse > .list-group {
  margin-bottom: 0;
}
.panel > .list-group .list-group-item,
.panel > .panel-collapse > .list-group .list-group-item {
  border-width: 1px 0;
  border-radius: 0;
}
.panel > .list-group:first-child .list-group-item:first-child,
.panel > .panel-collapse > .list-group:first-child .list-group-item:first-child {
  border-top: 0;
  border-top-right-radius: 1px;
  border-top-left-radius: 1px;
}
.panel > .list-group:last-child .list-group-item:last-child,
.panel > .panel-collapse > .list-group:last-child .list-group-item:last-child {
  border-bottom: 0;
  border-bottom-right-radius: 1px;
  border-bottom-left-radius: 1px;
}
.panel > .panel-heading + .panel-collapse > .list-group .list-group-item:first-child {
  border-top-right-radius: 0;
  border-top-left-radius: 0;
}
.panel-heading + .list-group .list-group-item:first-child {
  border-top-width: 0;
}
.list-group + .panel-footer {
  border-top-width: 0;
}
.panel > .table,
.panel > .table-responsive > .table,
.panel > .panel-collapse > .table {
  margin-bottom: 0;
}
.panel > .table caption,
.panel > .table-responsive > .table caption,
.panel > .panel-collapse > .table caption {
  padding-left: 15px;
  padding-right: 15px;
}
.panel > .table:first-child,
.panel > .table-responsive:first-child > .table:first-child {
  border-top-right-radius: 1px;
  border-top-left-radius: 1px;
}
.panel > .table:first-child > thead:first-child > tr:first-child,
.panel > .table-responsive:first-child > .table:first-child > thead:first-child > tr:first-child,
.panel > .table:first-child > tbody:first-child > tr:first-child,
.panel > .table-responsive:first-child > .table:first-child > tbody:first-child > tr:first-child {
  border-top-left-radius: 1px;
  border-top-right-radius: 1px;
}
.panel > .table:first-child > thead:first-child > tr:first-child td:first-child,
.panel > .table-responsive:first-child > .table:first-child > thead:first-child > tr:first-child td:first-child,
.panel > .table:first-child > tbody:first-child > tr:first-child td:first-child,
.panel > .table-responsive:first-child > .table:first-child > tbody:first-child > tr:first-child td:first-child,
.panel > .table:first-child > thead:first-child > tr:first-child th:first-child,
.panel > .table-responsive:first-child > .table:first-child > thead:first-child > tr:first-child th:first-child,
.panel > .table:first-child > tbody:first-child > tr:first-child th:first-child,
.panel > .table-responsive:first-child > .table:first-child > tbody:first-child > tr:first-child th:first-child {
  border-top-left-radius: 1px;
}
.panel > .table:first-child > thead:first-child > tr:first-child td:last-child,
.panel > .table-responsive:first-child > .table:first-child > thead:first-child > tr:first-child td:last-child,
.panel > .table:first-child > tbody:first-child > tr:first-child td:last-child,
.panel > .table-responsive:first-child > .table:first-child > tbody:first-child > tr:first-child td:last-child,
.panel > .table:first-child > thead:first-child > tr:first-child th:last-child,
.panel > .table-responsive:first-child > .table:first-child > thead:first-child > tr:first-child th:last-child,
.panel > .table:first-child > tbody:first-child > tr:first-child th:last-child,
.panel > .table-responsive:first-child > .table:first-child > tbody:first-child > tr:first-child th:last-child {
  border-top-right-radius: 1px;
}
.panel > .table:last-child,
.panel > .table-responsive:last-child > .table:last-child {
  border-bottom-right-radius: 1px;
  border-bottom-left-radius: 1px;
}
.panel > .table:last-child > tbody:last-child > tr:last-child,
.panel > .table-responsive:last-child > .table:last-child > tbody:last-child > tr:last-child,
.panel > .table:last-child > tfoot:last-child > tr:last-child,
.panel > .table-responsive:last-child > .table:last-child > tfoot:last-child > tr:last-child {
  border-bottom-left-radius: 1px;
  border-bottom-right-radius: 1px;
}
.panel > .table:last-child > tbody:last-child > tr:last-child td:first-child,
.panel > .table-responsive:last-child > .table:last-child > tbody:last-child > tr:last-child td:first-child,
.panel > .table:last-child > tfoot:last-child > tr:last-child td:first-child,
.panel > .table-responsive:last-child > .table:last-child > tfoot:last-child > tr:last-child td:first-child,
.panel > .table:last-child > tbody:last-child > tr:last-child th:first-child,
.panel > .table-responsive:last-child > .table:last-child > tbody:last-child > tr:last-child th:first-child,
.panel > .table:last-child > tfoot:last-child > tr:last-child th:first-child,
.panel > .table-responsive:last-child > .table:last-child > tfoot:last-child > tr:last-child th:first-child {
  border-bottom-left-radius: 1px;
}
.panel > .table:last-child > tbody:last-child > tr:last-child td:last-child,
.panel > .table-responsive:last-child > .table:last-child > tbody:last-child > tr:last-child td:last-child,
.panel > .table:last-child > tfoot:last-child > tr:last-child td:last-child,
.panel > .table-responsive:last-child > .table:last-child > tfoot:last-child > tr:last-child td:last-child,
.panel > .table:last-child > tbody:last-child > tr:last-child th:last-child,
.panel > .table-responsive:last-child > .table:last-child > tbody:last-child > tr:last-child th:last-child,
.panel > .table:last-child > tfoot:last-child > tr:last-child th:last-child,
.panel > .table-responsive:last-child > .table:last-child > tfoot:last-child > tr:last-child th:last-child {
  border-bottom-right-radius: 1px;
}
.panel > .panel-body + .table,
.panel > .panel-body + .table-responsive,
.panel > .table + .panel-body,
.panel > .table-responsive + .panel-body {
  border-top: 1px solid #ddd;
}
.panel > .table > tbody:first-child > tr:first-child th,
.panel > .table > tbody:first-child > tr:first-child td {
  border-top: 0;
}
.panel > .table-bordered,
.panel > .table-responsive > .table-bordered {
  border: 0;
}
.panel > .table-bordered > thead > tr > th:first-child,
.panel > .table-responsive > .table-bordered > thead > tr > th:first-child,
.panel > .table-bordered > tbody > tr > th:first-child,
.panel > .table-responsive > .table-bordered > tbody > tr > th:first-child,
.panel > .table-bordered > tfoot > tr > th:first-child,
.panel > .table-responsive > .table-bordered > tfoot > tr > th:first-child,
.panel > .table-bordered > thead > tr > td:first-child,
.panel > .table-responsive > .table-bordered > thead > tr > td:first-child,
.panel > .table-bordered > tbody > tr > td:first-child,
.panel > .table-responsive > .table-bordered > tbody > tr > td:first-child,
.panel > .table-bordered > tfoot > tr > td:first-child,
.panel > .table-responsive > .table-bordered > tfoot > tr > td:first-child {
  border-left: 0;
}
.panel > .table-bordered > thead > tr > th:last-child,
.panel > .table-responsive > .table-bordered > thead > tr > th:last-child,
.panel > .table-bordered > tbody > tr > th:last-child,
.panel > .table-responsive > .table-bordered > tbody > tr > th:last-child,
.panel > .table-bordered > tfoot > tr > th:last-child,
.panel > .table-responsive > .table-bordered > tfoot > tr > th:last-child,
.panel > .table-bordered > thead > tr > td:last-child,
.panel > .table-responsive > .table-bordered > thead > tr > td:last-child,
.panel > .table-bordered > tbody > tr > td:last-child,
.panel > .table-responsive > .table-bordered > tbody > tr > td:last-child,
.panel > .table-bordered > tfoot > tr > td:last-child,
.panel > .table-responsive > .table-bordered > tfoot > tr > td:last-child {
  border-right: 0;
}
.panel > .table-bordered > thead > tr:first-child > td,
.panel > .table-responsive > .table-bordered > thead > tr:first-child > td,
.panel > .table-bordered > tbody > tr:first-child > td,
.panel > .table-responsive > .table-bordered > tbody > tr:first-child > td,
.panel > .table-bordered > thead > tr:first-child > th,
.panel > .table-responsive > .table-bordered > thead > tr:first-child > th,
.panel > .table-bordered > tbody > tr:first-child > th,
.panel > .table-responsive > .table-bordered > tbody > tr:first-child > th {
  border-bottom: 0;
}
.panel > .table-bordered > tbody > tr:last-child > td,
.panel > .table-responsive > .table-bordered > tbody > tr:last-child > td,
.panel > .table-bordered > tfoot > tr:last-child > td,
.panel > .table-responsive > .table-bordered > tfoot > tr:last-child > td,
.panel > .table-bordered > tbody > tr:last-child > th,
.panel > .table-responsive > .table-bordered > tbody > tr:last-child > th,
.panel > .table-bordered > tfoot > tr:last-child > th,
.panel > .table-responsive > .table-bordered > tfoot > tr:last-child > th {
  border-bottom: 0;
}
.panel > .table-responsive {
  border: 0;
  margin-bottom: 0;
}
.panel-group {
  margin-bottom: 18px;
}
.panel-group .panel {
  margin-bottom: 0;
  border-radius: 2px;
}
.panel-group .panel + .panel {
  margin-top: 5px;
}
.panel-group .panel-heading {
  border-bottom: 0;
}
.panel-group .panel-heading + .panel-collapse > .panel-body,
.panel-group .panel-heading + .panel-collapse > .list-group {
  border-top: 1px solid #ddd;
}
.panel-group .panel-footer {
  border-top: 0;
}
.panel-group .panel-footer + .panel-collapse .panel-body {
  border-bottom: 1px solid #ddd;
}
.panel-default {
  border-color: #ddd;
}
.panel-default > .panel-heading {
  color: #333333;
  background-color: #f5f5f5;
  border-color: #ddd;
}
.panel-default > .panel-heading + .panel-collapse > .panel-body {
  border-top-color: #ddd;
}
.panel-default > .panel-heading .badge {
  color: #f5f5f5;
  background-color: #333333;
}
.panel-default > .panel-footer + .panel-collapse > .panel-body {
  border-bottom-color: #ddd;
}
.panel-primary {
  border-color: #337ab7;
}
.panel-primary > .panel-heading {
  color: #fff;
  background-color: #337ab7;
  border-color: #337ab7;
}
.panel-primary > .panel-heading + .panel-collapse > .panel-body {
  border-top-color: #337ab7;
}
.panel-primary > .panel-heading .badge {
  color: #337ab7;
  background-color: #fff;
}
.panel-primary > .panel-footer + .panel-collapse > .panel-body {
  border-bottom-color: #337ab7;
}
.panel-success {
  border-color: #d6e9c6;
}
.panel-success > .panel-heading {
  color: #3c763d;
  background-color: #dff0d8;
  border-color: #d6e9c6;
}
.panel-success > .panel-heading + .panel-collapse > .panel-body {
  border-top-color: #d6e9c6;
}
.panel-success > .panel-heading .badge {
  color: #dff0d8;
  background-color: #3c763d;
}
.panel-success > .panel-footer + .panel-collapse > .panel-body {
  border-bottom-color: #d6e9c6;
}
.panel-info {
  border-color: #bce8f1;
}
.panel-info > .panel-heading {
  color: #31708f;
  background-color: #d9edf7;
  border-color: #bce8f1;
}
.panel-info > .panel-heading + .panel-collapse > .panel-body {
  border-top-color: #bce8f1;
}
.panel-info > .panel-heading .badge {
  color: #d9edf7;
  background-color: #31708f;
}
.panel-info > .panel-footer + .panel-collapse > .panel-body {
  border-bottom-color: #bce8f1;
}
.panel-warning {
  border-color: #faebcc;
}
.panel-warning > .panel-heading {
  color: #8a6d3b;
  background-color: #fcf8e3;
  border-color: #faebcc;
}
.panel-warning > .panel-heading + .panel-collapse > .panel-body {
  border-top-color: #faebcc;
}
.panel-warning > .panel-heading .badge {
  color: #fcf8e3;
  background-color: #8a6d3b;
}
.panel-warning > .panel-footer + .panel-collapse > .panel-body {
  border-bottom-color: #faebcc;
}
.panel-danger {
  border-color: #ebccd1;
}
.panel-danger > .panel-heading {
  color: #a94442;
  background-color: #f2dede;
  border-color: #ebccd1;
}
.panel-danger > .panel-heading + .panel-collapse > .panel-body {
  border-top-color: #ebccd1;
}
.panel-danger > .panel-heading .badge {
  color: #f2dede;
  background-color: #a94442;
}
.panel-danger > .panel-footer + .panel-collapse > .panel-body {
  border-bottom-color: #ebccd1;
}
.embed-responsive {
  position: relative;
  display: block;
  height: 0;
  padding: 0;
  overflow: hidden;
}
.embed-responsive .embed-responsive-item,
.embed-responsive iframe,
.embed-responsive embed,
.embed-responsive object,
.embed-responsive video {
  position: absolute;
  top: 0;
  left: 0;
  bottom: 0;
  height: 100%;
  width: 100%;
  border: 0;
}
.embed-responsive-16by9 {
  padding-bottom: 56.25%;
}
.embed-responsive-4by3 {
  padding-bottom: 75%;
}
.well {
  min-height: 20px;
  padding: 19px;
  margin-bottom: 20px;
  background-color: #f5f5f5;
  border: 1px solid #e3e3e3;
  border-radius: 2px;
  -webkit-box-shadow: inset 0 1px 1px rgba(0, 0, 0, 0.05);
  box-shadow: inset 0 1px 1px rgba(0, 0, 0, 0.05);
}
.well blockquote {
  border-color: #ddd;
  border-color: rgba(0, 0, 0, 0.15);
}
.well-lg {
  padding: 24px;
  border-radius: 3px;
}
.well-sm {
  padding: 9px;
  border-radius: 1px;
}
.close {
  float: right;
  font-size: 19.5px;
  font-weight: bold;
  line-height: 1;
  color: #000;
  text-shadow: 0 1px 0 #fff;
  opacity: 0.2;
  filter: alpha(opacity=20);
}
.close:hover,
.close:focus {
  color: #000;
  text-decoration: none;
  cursor: pointer;
  opacity: 0.5;
  filter: alpha(opacity=50);
}
button.close {
  padding: 0;
  cursor: pointer;
  background: transparent;
  border: 0;
  -webkit-appearance: none;
}
.modal-open {
  overflow: hidden;
}
.modal {
  display: none;
  overflow: hidden;
  position: fixed;
  top: 0;
  right: 0;
  bottom: 0;
  left: 0;
  z-index: 1050;
  -webkit-overflow-scrolling: touch;
  outline: 0;
}
.modal.fade .modal-dialog {
  -webkit-transform: translate(0, -25%);
  -ms-transform: translate(0, -25%);
  -o-transform: translate(0, -25%);
  transform: translate(0, -25%);
  -webkit-transition: -webkit-transform 0.3s ease-out;
  -moz-transition: -moz-transform 0.3s ease-out;
  -o-transition: -o-transform 0.3s ease-out;
  transition: transform 0.3s ease-out;
}
.modal.in .modal-dialog {
  -webkit-transform: translate(0, 0);
  -ms-transform: translate(0, 0);
  -o-transform: translate(0, 0);
  transform: translate(0, 0);
}
.modal-open .modal {
  overflow-x: hidden;
  overflow-y: auto;
}
.modal-dialog {
  position: relative;
  width: auto;
  margin: 10px;
}
.modal-content {
  position: relative;
  background-color: #fff;
  border: 1px solid #999;
  border: 1px solid rgba(0, 0, 0, 0.2);
  border-radius: 3px;
  -webkit-box-shadow: 0 3px 9px rgba(0, 0, 0, 0.5);
  box-shadow: 0 3px 9px rgba(0, 0, 0, 0.5);
  background-clip: padding-box;
  outline: 0;
}
.modal-backdrop {
  position: fixed;
  top: 0;
  right: 0;
  bottom: 0;
  left: 0;
  z-index: 1040;
  background-color: #000;
}
.modal-backdrop.fade {
  opacity: 0;
  filter: alpha(opacity=0);
}
.modal-backdrop.in {
  opacity: 0.5;
  filter: alpha(opacity=50);
}
.modal-header {
  padding: 15px;
  border-bottom: 1px solid #e5e5e5;
}
.modal-header .close {
  margin-top: -2px;
}
.modal-title {
  margin: 0;
  line-height: 1.42857143;
}
.modal-body {
  position: relative;
  padding: 15px;
}
.modal-footer {
  padding: 15px;
  text-align: right;
  border-top: 1px solid #e5e5e5;
}
.modal-footer .btn + .btn {
  margin-left: 5px;
  margin-bottom: 0;
}
.modal-footer .btn-group .btn + .btn {
  margin-left: -1px;
}
.modal-footer .btn-block + .btn-block {
  margin-left: 0;
}
.modal-scrollbar-measure {
  position: absolute;
  top: -9999px;
  width: 50px;
  height: 50px;
  overflow: scroll;
}
@media (min-width: 768px) {
  .modal-dialog {
    width: 600px;
    margin: 30px auto;
  }
  .modal-content {
    -webkit-box-shadow: 0 5px 15px rgba(0, 0, 0, 0.5);
    box-shadow: 0 5px 15px rgba(0, 0, 0, 0.5);
  }
  .modal-sm {
    width: 300px;
  }
}
@media (min-width: 992px) {
  .modal-lg {
    width: 900px;
  }
}
.tooltip {
  position: absolute;
  z-index: 1070;
  display: block;
  font-family: "Helvetica Neue", Helvetica, Arial, sans-serif;
  font-style: normal;
  font-weight: normal;
  letter-spacing: normal;
  line-break: auto;
  line-height: 1.42857143;
  text-align: left;
  text-align: start;
  text-decoration: none;
  text-shadow: none;
  text-transform: none;
  white-space: normal;
  word-break: normal;
  word-spacing: normal;
  word-wrap: normal;
  font-size: 12px;
  opacity: 0;
  filter: alpha(opacity=0);
}
.tooltip.in {
  opacity: 0.9;
  filter: alpha(opacity=90);
}
.tooltip.top {
  margin-top: -3px;
  padding: 5px 0;
}
.tooltip.right {
  margin-left: 3px;
  padding: 0 5px;
}
.tooltip.bottom {
  margin-top: 3px;
  padding: 5px 0;
}
.tooltip.left {
  margin-left: -3px;
  padding: 0 5px;
}
.tooltip-inner {
  max-width: 200px;
  padding: 3px 8px;
  color: #fff;
  text-align: center;
  background-color: #000;
  border-radius: 2px;
}
.tooltip-arrow {
  position: absolute;
  width: 0;
  height: 0;
  border-color: transparent;
  border-style: solid;
}
.tooltip.top .tooltip-arrow {
  bottom: 0;
  left: 50%;
  margin-left: -5px;
  border-width: 5px 5px 0;
  border-top-color: #000;
}
.tooltip.top-left .tooltip-arrow {
  bottom: 0;
  right: 5px;
  margin-bottom: -5px;
  border-width: 5px 5px 0;
  border-top-color: #000;
}
.tooltip.top-right .tooltip-arrow {
  bottom: 0;
  left: 5px;
  margin-bottom: -5px;
  border-width: 5px 5px 0;
  border-top-color: #000;
}
.tooltip.right .tooltip-arrow {
  top: 50%;
  left: 0;
  margin-top: -5px;
  border-width: 5px 5px 5px 0;
  border-right-color: #000;
}
.tooltip.left .tooltip-arrow {
  top: 50%;
  right: 0;
  margin-top: -5px;
  border-width: 5px 0 5px 5px;
  border-left-color: #000;
}
.tooltip.bottom .tooltip-arrow {
  top: 0;
  left: 50%;
  margin-left: -5px;
  border-width: 0 5px 5px;
  border-bottom-color: #000;
}
.tooltip.bottom-left .tooltip-arrow {
  top: 0;
  right: 5px;
  margin-top: -5px;
  border-width: 0 5px 5px;
  border-bottom-color: #000;
}
.tooltip.bottom-right .tooltip-arrow {
  top: 0;
  left: 5px;
  margin-top: -5px;
  border-width: 0 5px 5px;
  border-bottom-color: #000;
}
.popover {
  position: absolute;
  top: 0;
  left: 0;
  z-index: 1060;
  display: none;
  max-width: 276px;
  padding: 1px;
  font-family: "Helvetica Neue", Helvetica, Arial, sans-serif;
  font-style: normal;
  font-weight: normal;
  letter-spacing: normal;
  line-break: auto;
  line-height: 1.42857143;
  text-align: left;
  text-align: start;
  text-decoration: none;
  text-shadow: none;
  text-transform: none;
  white-space: normal;
  word-break: normal;
  word-spacing: normal;
  word-wrap: normal;
  font-size: 13px;
  background-color: #fff;
  background-clip: padding-box;
  border: 1px solid #ccc;
  border: 1px solid rgba(0, 0, 0, 0.2);
  border-radius: 3px;
  -webkit-box-shadow: 0 5px 10px rgba(0, 0, 0, 0.2);
  box-shadow: 0 5px 10px rgba(0, 0, 0, 0.2);
}
.popover.top {
  margin-top: -10px;
}
.popover.right {
  margin-left: 10px;
}
.popover.bottom {
  margin-top: 10px;
}
.popover.left {
  margin-left: -10px;
}
.popover-title {
  margin: 0;
  padding: 8px 14px;
  font-size: 13px;
  background-color: #f7f7f7;
  border-bottom: 1px solid #ebebeb;
  border-radius: 2px 2px 0 0;
}
.popover-content {
  padding: 9px 14px;
}
.popover > .arrow,
.popover > .arrow:after {
  position: absolute;
  display: block;
  width: 0;
  height: 0;
  border-color: transparent;
  border-style: solid;
}
.popover > .arrow {
  border-width: 11px;
}
.popover > .arrow:after {
  border-width: 10px;
  content: "";
}
.popover.top > .arrow {
  left: 50%;
  margin-left: -11px;
  border-bottom-width: 0;
  border-top-color: #999999;
  border-top-color: rgba(0, 0, 0, 0.25);
  bottom: -11px;
}
.popover.top > .arrow:after {
  content: " ";
  bottom: 1px;
  margin-left: -10px;
  border-bottom-width: 0;
  border-top-color: #fff;
}
.popover.right > .arrow {
  top: 50%;
  left: -11px;
  margin-top: -11px;
  border-left-width: 0;
  border-right-color: #999999;
  border-right-color: rgba(0, 0, 0, 0.25);
}
.popover.right > .arrow:after {
  content: " ";
  left: 1px;
  bottom: -10px;
  border-left-width: 0;
  border-right-color: #fff;
}
.popover.bottom > .arrow {
  left: 50%;
  margin-left: -11px;
  border-top-width: 0;
  border-bottom-color: #999999;
  border-bottom-color: rgba(0, 0, 0, 0.25);
  top: -11px;
}
.popover.bottom > .arrow:after {
  content: " ";
  top: 1px;
  margin-left: -10px;
  border-top-width: 0;
  border-bottom-color: #fff;
}
.popover.left > .arrow {
  top: 50%;
  right: -11px;
  margin-top: -11px;
  border-right-width: 0;
  border-left-color: #999999;
  border-left-color: rgba(0, 0, 0, 0.25);
}
.popover.left > .arrow:after {
  content: " ";
  right: 1px;
  border-right-width: 0;
  border-left-color: #fff;
  bottom: -10px;
}
.carousel {
  position: relative;
}
.carousel-inner {
  position: relative;
  overflow: hidden;
  width: 100%;
}
.carousel-inner > .item {
  display: none;
  position: relative;
  -webkit-transition: 0.6s ease-in-out left;
  -o-transition: 0.6s ease-in-out left;
  transition: 0.6s ease-in-out left;
}
.carousel-inner > .item > img,
.carousel-inner > .item > a > img {
  line-height: 1;
}
@media all and (transform-3d), (-webkit-transform-3d) {
  .carousel-inner > .item {
    -webkit-transition: -webkit-transform 0.6s ease-in-out;
    -moz-transition: -moz-transform 0.6s ease-in-out;
    -o-transition: -o-transform 0.6s ease-in-out;
    transition: transform 0.6s ease-in-out;
    -webkit-backface-visibility: hidden;
    -moz-backface-visibility: hidden;
    backface-visibility: hidden;
    -webkit-perspective: 1000px;
    -moz-perspective: 1000px;
    perspective: 1000px;
  }
  .carousel-inner > .item.next,
  .carousel-inner > .item.active.right {
    -webkit-transform: translate3d(100%, 0, 0);
    transform: translate3d(100%, 0, 0);
    left: 0;
  }
  .carousel-inner > .item.prev,
  .carousel-inner > .item.active.left {
    -webkit-transform: translate3d(-100%, 0, 0);
    transform: translate3d(-100%, 0, 0);
    left: 0;
  }
  .carousel-inner > .item.next.left,
  .carousel-inner > .item.prev.right,
  .carousel-inner > .item.active {
    -webkit-transform: translate3d(0, 0, 0);
    transform: translate3d(0, 0, 0);
    left: 0;
  }
}
.carousel-inner > .active,
.carousel-inner > .next,
.carousel-inner > .prev {
  display: block;
}
.carousel-inner > .active {
  left: 0;
}
.carousel-inner > .next,
.carousel-inner > .prev {
  position: absolute;
  top: 0;
  width: 100%;
}
.carousel-inner > .next {
  left: 100%;
}
.carousel-inner > .prev {
  left: -100%;
}
.carousel-inner > .next.left,
.carousel-inner > .prev.right {
  left: 0;
}
.carousel-inner > .active.left {
  left: -100%;
}
.carousel-inner > .active.right {
  left: 100%;
}
.carousel-control {
  position: absolute;
  top: 0;
  left: 0;
  bottom: 0;
  width: 15%;
  opacity: 0.5;
  filter: alpha(opacity=50);
  font-size: 20px;
  color: #fff;
  text-align: center;
  text-shadow: 0 1px 2px rgba(0, 0, 0, 0.6);
  background-color: rgba(0, 0, 0, 0);
}
.carousel-control.left {
  background-image: -webkit-linear-gradient(left, rgba(0, 0, 0, 0.5) 0%, rgba(0, 0, 0, 0.0001) 100%);
  background-image: -o-linear-gradient(left, rgba(0, 0, 0, 0.5) 0%, rgba(0, 0, 0, 0.0001) 100%);
  background-image: linear-gradient(to right, rgba(0, 0, 0, 0.5) 0%, rgba(0, 0, 0, 0.0001) 100%);
  background-repeat: repeat-x;
  filter: progid:DXImageTransform.Microsoft.gradient(startColorstr='#80000000', endColorstr='#00000000', GradientType=1);
}
.carousel-control.right {
  left: auto;
  right: 0;
  background-image: -webkit-linear-gradient(left, rgba(0, 0, 0, 0.0001) 0%, rgba(0, 0, 0, 0.5) 100%);
  background-image: -o-linear-gradient(left, rgba(0, 0, 0, 0.0001) 0%, rgba(0, 0, 0, 0.5) 100%);
  background-image: linear-gradient(to right, rgba(0, 0, 0, 0.0001) 0%, rgba(0, 0, 0, 0.5) 100%);
  background-repeat: repeat-x;
  filter: progid:DXImageTransform.Microsoft.gradient(startColorstr='#00000000', endColorstr='#80000000', GradientType=1);
}
.carousel-control:hover,
.carousel-control:focus {
  outline: 0;
  color: #fff;
  text-decoration: none;
  opacity: 0.9;
  filter: alpha(opacity=90);
}
.carousel-control .icon-prev,
.carousel-control .icon-next,
.carousel-control .glyphicon-chevron-left,
.carousel-control .glyphicon-chevron-right {
  position: absolute;
  top: 50%;
  margin-top: -10px;
  z-index: 5;
  display: inline-block;
}
.carousel-control .icon-prev,
.carousel-control .glyphicon-chevron-left {
  left: 50%;
  margin-left: -10px;
}
.carousel-control .icon-next,
.carousel-control .glyphicon-chevron-right {
  right: 50%;
  margin-right: -10px;
}
.carousel-control .icon-prev,
.carousel-control .icon-next {
  width: 20px;
  height: 20px;
  line-height: 1;
  font-family: serif;
}
.carousel-control .icon-prev:before {
  content: '\2039';
}
.carousel-control .icon-next:before {
  content: '\203a';
}
.carousel-indicators {
  position: absolute;
  bottom: 10px;
  left: 50%;
  z-index: 15;
  width: 60%;
  margin-left: -30%;
  padding-left: 0;
  list-style: none;
  text-align: center;
}
.carousel-indicators li {
  display: inline-block;
  width: 10px;
  height: 10px;
  margin: 1px;
  text-indent: -999px;
  border: 1px solid #fff;
  border-radius: 10px;
  cursor: pointer;
  background-color: #000 \9;
  background-color: rgba(0, 0, 0, 0);
}
.carousel-indicators .active {
  margin: 0;
  width: 12px;
  height: 12px;
  background-color: #fff;
}
.carousel-caption {
  position: absolute;
  left: 15%;
  right: 15%;
  bottom: 20px;
  z-index: 10;
  padding-top: 20px;
  padding-bottom: 20px;
  color: #fff;
  text-align: center;
  text-shadow: 0 1px 2px rgba(0, 0, 0, 0.6);
}
.carousel-caption .btn {
  text-shadow: none;
}
@media screen and (min-width: 768px) {
  .carousel-control .glyphicon-chevron-left,
  .carousel-control .glyphicon-chevron-right,
  .carousel-control .icon-prev,
  .carousel-control .icon-next {
    width: 30px;
    height: 30px;
    margin-top: -10px;
    font-size: 30px;
  }
  .carousel-control .glyphicon-chevron-left,
  .carousel-control .icon-prev {
    margin-left: -10px;
  }
  .carousel-control .glyphicon-chevron-right,
  .carousel-control .icon-next {
    margin-right: -10px;
  }
  .carousel-caption {
    left: 20%;
    right: 20%;
    padding-bottom: 30px;
  }
  .carousel-indicators {
    bottom: 20px;
  }
}
.clearfix:before,
.clearfix:after,
.dl-horizontal dd:before,
.dl-horizontal dd:after,
.container:before,
.container:after,
.container-fluid:before,
.container-fluid:after,
.row:before,
.row:after,
.form-horizontal .form-group:before,
.form-horizontal .form-group:after,
.btn-toolbar:before,
.btn-toolbar:after,
.btn-group-vertical > .btn-group:before,
.btn-group-vertical > .btn-group:after,
.nav:before,
.nav:after,
.navbar:before,
.navbar:after,
.navbar-header:before,
.navbar-header:after,
.navbar-collapse:before,
.navbar-collapse:after,
.pager:before,
.pager:after,
.panel-body:before,
.panel-body:after,
.modal-header:before,
.modal-header:after,
.modal-footer:before,
.modal-footer:after,
.item_buttons:before,
.item_buttons:after {
  content: " ";
  display: table;
}
.clearfix:after,
.dl-horizontal dd:after,
.container:after,
.container-fluid:after,
.row:after,
.form-horizontal .form-group:after,
.btn-toolbar:after,
.btn-group-vertical > .btn-group:after,
.nav:after,
.navbar:after,
.navbar-header:after,
.navbar-collapse:after,
.pager:after,
.panel-body:after,
.modal-header:after,
.modal-footer:after,
.item_buttons:after {
  clear: both;
}
.center-block {
  display: block;
  margin-left: auto;
  margin-right: auto;
}
.pull-right {
  float: right !important;
}
.pull-left {
  float: left !important;
}
.hide {
  display: none !important;
}
.show {
  display: block !important;
}
.invisible {
  visibility: hidden;
}
.text-hide {
  font: 0/0 a;
  color: transparent;
  text-shadow: none;
  background-color: transparent;
  border: 0;
}
.hidden {
  display: none !important;
}
.affix {
  position: fixed;
}
@-ms-viewport {
  width: device-width;
}
.visible-xs,
.visible-sm,
.visible-md,
.visible-lg {
  display: none !important;
}
.visible-xs-block,
.visible-xs-inline,
.visible-xs-inline-block,
.visible-sm-block,
.visible-sm-inline,
.visible-sm-inline-block,
.visible-md-block,
.visible-md-inline,
.visible-md-inline-block,
.visible-lg-block,
.visible-lg-inline,
.visible-lg-inline-block {
  display: none !important;
}
@media (max-width: 767px) {
  .visible-xs {
    display: block !important;
  }
  table.visible-xs {
    display: table !important;
  }
  tr.visible-xs {
    display: table-row !important;
  }
  th.visible-xs,
  td.visible-xs {
    display: table-cell !important;
  }
}
@media (max-width: 767px) {
  .visible-xs-block {
    display: block !important;
  }
}
@media (max-width: 767px) {
  .visible-xs-inline {
    display: inline !important;
  }
}
@media (max-width: 767px) {
  .visible-xs-inline-block {
    display: inline-block !important;
  }
}
@media (min-width: 768px) and (max-width: 991px) {
  .visible-sm {
    display: block !important;
  }
  table.visible-sm {
    display: table !important;
  }
  tr.visible-sm {
    display: table-row !important;
  }
  th.visible-sm,
  td.visible-sm {
    display: table-cell !important;
  }
}
@media (min-width: 768px) and (max-width: 991px) {
  .visible-sm-block {
    display: block !important;
  }
}
@media (min-width: 768px) and (max-width: 991px) {
  .visible-sm-inline {
    display: inline !important;
  }
}
@media (min-width: 768px) and (max-width: 991px) {
  .visible-sm-inline-block {
    display: inline-block !important;
  }
}
@media (min-width: 992px) and (max-width: 1199px) {
  .visible-md {
    display: block !important;
  }
  table.visible-md {
    display: table !important;
  }
  tr.visible-md {
    display: table-row !important;
  }
  th.visible-md,
  td.visible-md {
    display: table-cell !important;
  }
}
@media (min-width: 992px) and (max-width: 1199px) {
  .visible-md-block {
    display: block !important;
  }
}
@media (min-width: 992px) and (max-width: 1199px) {
  .visible-md-inline {
    display: inline !important;
  }
}
@media (min-width: 992px) and (max-width: 1199px) {
  .visible-md-inline-block {
    display: inline-block !important;
  }
}
@media (min-width: 1200px) {
  .visible-lg {
    display: block !important;
  }
  table.visible-lg {
    display: table !important;
  }
  tr.visible-lg {
    display: table-row !important;
  }
  th.visible-lg,
  td.visible-lg {
    display: table-cell !important;
  }
}
@media (min-width: 1200px) {
  .visible-lg-block {
    display: block !important;
  }
}
@media (min-width: 1200px) {
  .visible-lg-inline {
    display: inline !important;
  }
}
@media (min-width: 1200px) {
  .visible-lg-inline-block {
    display: inline-block !important;
  }
}
@media (max-width: 767px) {
  .hidden-xs {
    display: none !important;
  }
}
@media (min-width: 768px) and (max-width: 991px) {
  .hidden-sm {
    display: none !important;
  }
}
@media (min-width: 992px) and (max-width: 1199px) {
  .hidden-md {
    display: none !important;
  }
}
@media (min-width: 1200px) {
  .hidden-lg {
    display: none !important;
  }
}
.visible-print {
  display: none !important;
}
@media print {
  .visible-print {
    display: block !important;
  }
  table.visible-print {
    display: table !important;
  }
  tr.visible-print {
    display: table-row !important;
  }
  th.visible-print,
  td.visible-print {
    display: table-cell !important;
  }
}
.visible-print-block {
  display: none !important;
}
@media print {
  .visible-print-block {
    display: block !important;
  }
}
.visible-print-inline {
  display: none !important;
}
@media print {
  .visible-print-inline {
    display: inline !important;
  }
}
.visible-print-inline-block {
  display: none !important;
}
@media print {
  .visible-print-inline-block {
    display: inline-block !important;
  }
}
@media print {
  .hidden-print {
    display: none !important;
  }
}
/*!
*
* Font Awesome
*
*/
/*!
 *  Font Awesome 4.7.0 by @davegandy - http://fontawesome.io - @fontawesome
 *  License - http://fontawesome.io/license (Font: SIL OFL 1.1, CSS: MIT License)
 */
/* FONT PATH
 * -------------------------- */
@font-face {
  font-family: 'FontAwesome';
  src: url('../components/font-awesome/fonts/fontawesome-webfont.eot?v=4.7.0');
  src: url('../components/font-awesome/fonts/fontawesome-webfont.eot?#iefix&v=4.7.0') format('embedded-opentype'), url('../components/font-awesome/fonts/fontawesome-webfont.woff2?v=4.7.0') format('woff2'), url('../components/font-awesome/fonts/fontawesome-webfont.woff?v=4.7.0') format('woff'), url('../components/font-awesome/fonts/fontawesome-webfont.ttf?v=4.7.0') format('truetype'), url('../components/font-awesome/fonts/fontawesome-webfont.svg?v=4.7.0#fontawesomeregular') format('svg');
  font-weight: normal;
  font-style: normal;
}
.fa {
  display: inline-block;
  font: normal normal normal 14px/1 FontAwesome;
  font-size: inherit;
  text-rendering: auto;
  -webkit-font-smoothing: antialiased;
  -moz-osx-font-smoothing: grayscale;
}
/* makes the font 33% larger relative to the icon container */
.fa-lg {
  font-size: 1.33333333em;
  line-height: 0.75em;
  vertical-align: -15%;
}
.fa-2x {
  font-size: 2em;
}
.fa-3x {
  font-size: 3em;
}
.fa-4x {
  font-size: 4em;
}
.fa-5x {
  font-size: 5em;
}
.fa-fw {
  width: 1.28571429em;
  text-align: center;
}
.fa-ul {
  padding-left: 0;
  margin-left: 2.14285714em;
  list-style-type: none;
}
.fa-ul > li {
  position: relative;
}
.fa-li {
  position: absolute;
  left: -2.14285714em;
  width: 2.14285714em;
  top: 0.14285714em;
  text-align: center;
}
.fa-li.fa-lg {
  left: -1.85714286em;
}
.fa-border {
  padding: .2em .25em .15em;
  border: solid 0.08em #eee;
  border-radius: .1em;
}
.fa-pull-left {
  float: left;
}
.fa-pull-right {
  float: right;
}
.fa.fa-pull-left {
  margin-right: .3em;
}
.fa.fa-pull-right {
  margin-left: .3em;
}
/* Deprecated as of 4.4.0 */
.pull-right {
  float: right;
}
.pull-left {
  float: left;
}
.fa.pull-left {
  margin-right: .3em;
}
.fa.pull-right {
  margin-left: .3em;
}
.fa-spin {
  -webkit-animation: fa-spin 2s infinite linear;
  animation: fa-spin 2s infinite linear;
}
.fa-pulse {
  -webkit-animation: fa-spin 1s infinite steps(8);
  animation: fa-spin 1s infinite steps(8);
}
@-webkit-keyframes fa-spin {
  0% {
    -webkit-transform: rotate(0deg);
    transform: rotate(0deg);
  }
  100% {
    -webkit-transform: rotate(359deg);
    transform: rotate(359deg);
  }
}
@keyframes fa-spin {
  0% {
    -webkit-transform: rotate(0deg);
    transform: rotate(0deg);
  }
  100% {
    -webkit-transform: rotate(359deg);
    transform: rotate(359deg);
  }
}
.fa-rotate-90 {
  -ms-filter: "progid:DXImageTransform.Microsoft.BasicImage(rotation=1)";
  -webkit-transform: rotate(90deg);
  -ms-transform: rotate(90deg);
  transform: rotate(90deg);
}
.fa-rotate-180 {
  -ms-filter: "progid:DXImageTransform.Microsoft.BasicImage(rotation=2)";
  -webkit-transform: rotate(180deg);
  -ms-transform: rotate(180deg);
  transform: rotate(180deg);
}
.fa-rotate-270 {
  -ms-filter: "progid:DXImageTransform.Microsoft.BasicImage(rotation=3)";
  -webkit-transform: rotate(270deg);
  -ms-transform: rotate(270deg);
  transform: rotate(270deg);
}
.fa-flip-horizontal {
  -ms-filter: "progid:DXImageTransform.Microsoft.BasicImage(rotation=0, mirror=1)";
  -webkit-transform: scale(-1, 1);
  -ms-transform: scale(-1, 1);
  transform: scale(-1, 1);
}
.fa-flip-vertical {
  -ms-filter: "progid:DXImageTransform.Microsoft.BasicImage(rotation=2, mirror=1)";
  -webkit-transform: scale(1, -1);
  -ms-transform: scale(1, -1);
  transform: scale(1, -1);
}
:root .fa-rotate-90,
:root .fa-rotate-180,
:root .fa-rotate-270,
:root .fa-flip-horizontal,
:root .fa-flip-vertical {
  filter: none;
}
.fa-stack {
  position: relative;
  display: inline-block;
  width: 2em;
  height: 2em;
  line-height: 2em;
  vertical-align: middle;
}
.fa-stack-1x,
.fa-stack-2x {
  position: absolute;
  left: 0;
  width: 100%;
  text-align: center;
}
.fa-stack-1x {
  line-height: inherit;
}
.fa-stack-2x {
  font-size: 2em;
}
.fa-inverse {
  color: #fff;
}
/* Font Awesome uses the Unicode Private Use Area (PUA) to ensure screen
   readers do not read off random characters that represent icons */
.fa-glass:before {
  content: "\f000";
}
.fa-music:before {
  content: "\f001";
}
.fa-search:before {
  content: "\f002";
}
.fa-envelope-o:before {
  content: "\f003";
}
.fa-heart:before {
  content: "\f004";
}
.fa-star:before {
  content: "\f005";
}
.fa-star-o:before {
  content: "\f006";
}
.fa-user:before {
  content: "\f007";
}
.fa-film:before {
  content: "\f008";
}
.fa-th-large:before {
  content: "\f009";
}
.fa-th:before {
  content: "\f00a";
}
.fa-th-list:before {
  content: "\f00b";
}
.fa-check:before {
  content: "\f00c";
}
.fa-remove:before,
.fa-close:before,
.fa-times:before {
  content: "\f00d";
}
.fa-search-plus:before {
  content: "\f00e";
}
.fa-search-minus:before {
  content: "\f010";
}
.fa-power-off:before {
  content: "\f011";
}
.fa-signal:before {
  content: "\f012";
}
.fa-gear:before,
.fa-cog:before {
  content: "\f013";
}
.fa-trash-o:before {
  content: "\f014";
}
.fa-home:before {
  content: "\f015";
}
.fa-file-o:before {
  content: "\f016";
}
.fa-clock-o:before {
  content: "\f017";
}
.fa-road:before {
  content: "\f018";
}
.fa-download:before {
  content: "\f019";
}
.fa-arrow-circle-o-down:before {
  content: "\f01a";
}
.fa-arrow-circle-o-up:before {
  content: "\f01b";
}
.fa-inbox:before {
  content: "\f01c";
}
.fa-play-circle-o:before {
  content: "\f01d";
}
.fa-rotate-right:before,
.fa-repeat:before {
  content: "\f01e";
}
.fa-refresh:before {
  content: "\f021";
}
.fa-list-alt:before {
  content: "\f022";
}
.fa-lock:before {
  content: "\f023";
}
.fa-flag:before {
  content: "\f024";
}
.fa-headphones:before {
  content: "\f025";
}
.fa-volume-off:before {
  content: "\f026";
}
.fa-volume-down:before {
  content: "\f027";
}
.fa-volume-up:before {
  content: "\f028";
}
.fa-qrcode:before {
  content: "\f029";
}
.fa-barcode:before {
  content: "\f02a";
}
.fa-tag:before {
  content: "\f02b";
}
.fa-tags:before {
  content: "\f02c";
}
.fa-book:before {
  content: "\f02d";
}
.fa-bookmark:before {
  content: "\f02e";
}
.fa-print:before {
  content: "\f02f";
}
.fa-camera:before {
  content: "\f030";
}
.fa-font:before {
  content: "\f031";
}
.fa-bold:before {
  content: "\f032";
}
.fa-italic:before {
  content: "\f033";
}
.fa-text-height:before {
  content: "\f034";
}
.fa-text-width:before {
  content: "\f035";
}
.fa-align-left:before {
  content: "\f036";
}
.fa-align-center:before {
  content: "\f037";
}
.fa-align-right:before {
  content: "\f038";
}
.fa-align-justify:before {
  content: "\f039";
}
.fa-list:before {
  content: "\f03a";
}
.fa-dedent:before,
.fa-outdent:before {
  content: "\f03b";
}
.fa-indent:before {
  content: "\f03c";
}
.fa-video-camera:before {
  content: "\f03d";
}
.fa-photo:before,
.fa-image:before,
.fa-picture-o:before {
  content: "\f03e";
}
.fa-pencil:before {
  content: "\f040";
}
.fa-map-marker:before {
  content: "\f041";
}
.fa-adjust:before {
  content: "\f042";
}
.fa-tint:before {
  content: "\f043";
}
.fa-edit:before,
.fa-pencil-square-o:before {
  content: "\f044";
}
.fa-share-square-o:before {
  content: "\f045";
}
.fa-check-square-o:before {
  content: "\f046";
}
.fa-arrows:before {
  content: "\f047";
}
.fa-step-backward:before {
  content: "\f048";
}
.fa-fast-backward:before {
  content: "\f049";
}
.fa-backward:before {
  content: "\f04a";
}
.fa-play:before {
  content: "\f04b";
}
.fa-pause:before {
  content: "\f04c";
}
.fa-stop:before {
  content: "\f04d";
}
.fa-forward:before {
  content: "\f04e";
}
.fa-fast-forward:before {
  content: "\f050";
}
.fa-step-forward:before {
  content: "\f051";
}
.fa-eject:before {
  content: "\f052";
}
.fa-chevron-left:before {
  content: "\f053";
}
.fa-chevron-right:before {
  content: "\f054";
}
.fa-plus-circle:before {
  content: "\f055";
}
.fa-minus-circle:before {
  content: "\f056";
}
.fa-times-circle:before {
  content: "\f057";
}
.fa-check-circle:before {
  content: "\f058";
}
.fa-question-circle:before {
  content: "\f059";
}
.fa-info-circle:before {
  content: "\f05a";
}
.fa-crosshairs:before {
  content: "\f05b";
}
.fa-times-circle-o:before {
  content: "\f05c";
}
.fa-check-circle-o:before {
  content: "\f05d";
}
.fa-ban:before {
  content: "\f05e";
}
.fa-arrow-left:before {
  content: "\f060";
}
.fa-arrow-right:before {
  content: "\f061";
}
.fa-arrow-up:before {
  content: "\f062";
}
.fa-arrow-down:before {
  content: "\f063";
}
.fa-mail-forward:before,
.fa-share:before {
  content: "\f064";
}
.fa-expand:before {
  content: "\f065";
}
.fa-compress:before {
  content: "\f066";
}
.fa-plus:before {
  content: "\f067";
}
.fa-minus:before {
  content: "\f068";
}
.fa-asterisk:before {
  content: "\f069";
}
.fa-exclamation-circle:before {
  content: "\f06a";
}
.fa-gift:before {
  content: "\f06b";
}
.fa-leaf:before {
  content: "\f06c";
}
.fa-fire:before {
  content: "\f06d";
}
.fa-eye:before {
  content: "\f06e";
}
.fa-eye-slash:before {
  content: "\f070";
}
.fa-warning:before,
.fa-exclamation-triangle:before {
  content: "\f071";
}
.fa-plane:before {
  content: "\f072";
}
.fa-calendar:before {
  content: "\f073";
}
.fa-random:before {
  content: "\f074";
}
.fa-comment:before {
  content: "\f075";
}
.fa-magnet:before {
  content: "\f076";
}
.fa-chevron-up:before {
  content: "\f077";
}
.fa-chevron-down:before {
  content: "\f078";
}
.fa-retweet:before {
  content: "\f079";
}
.fa-shopping-cart:before {
  content: "\f07a";
}
.fa-folder:before {
  content: "\f07b";
}
.fa-folder-open:before {
  content: "\f07c";
}
.fa-arrows-v:before {
  content: "\f07d";
}
.fa-arrows-h:before {
  content: "\f07e";
}
.fa-bar-chart-o:before,
.fa-bar-chart:before {
  content: "\f080";
}
.fa-twitter-square:before {
  content: "\f081";
}
.fa-facebook-square:before {
  content: "\f082";
}
.fa-camera-retro:before {
  content: "\f083";
}
.fa-key:before {
  content: "\f084";
}
.fa-gears:before,
.fa-cogs:before {
  content: "\f085";
}
.fa-comments:before {
  content: "\f086";
}
.fa-thumbs-o-up:before {
  content: "\f087";
}
.fa-thumbs-o-down:before {
  content: "\f088";
}
.fa-star-half:before {
  content: "\f089";
}
.fa-heart-o:before {
  content: "\f08a";
}
.fa-sign-out:before {
  content: "\f08b";
}
.fa-linkedin-square:before {
  content: "\f08c";
}
.fa-thumb-tack:before {
  content: "\f08d";
}
.fa-external-link:before {
  content: "\f08e";
}
.fa-sign-in:before {
  content: "\f090";
}
.fa-trophy:before {
  content: "\f091";
}
.fa-github-square:before {
  content: "\f092";
}
.fa-upload:before {
  content: "\f093";
}
.fa-lemon-o:before {
  content: "\f094";
}
.fa-phone:before {
  content: "\f095";
}
.fa-square-o:before {
  content: "\f096";
}
.fa-bookmark-o:before {
  content: "\f097";
}
.fa-phone-square:before {
  content: "\f098";
}
.fa-twitter:before {
  content: "\f099";
}
.fa-facebook-f:before,
.fa-facebook:before {
  content: "\f09a";
}
.fa-github:before {
  content: "\f09b";
}
.fa-unlock:before {
  content: "\f09c";
}
.fa-credit-card:before {
  content: "\f09d";
}
.fa-feed:before,
.fa-rss:before {
  content: "\f09e";
}
.fa-hdd-o:before {
  content: "\f0a0";
}
.fa-bullhorn:before {
  content: "\f0a1";
}
.fa-bell:before {
  content: "\f0f3";
}
.fa-certificate:before {
  content: "\f0a3";
}
.fa-hand-o-right:before {
  content: "\f0a4";
}
.fa-hand-o-left:before {
  content: "\f0a5";
}
.fa-hand-o-up:before {
  content: "\f0a6";
}
.fa-hand-o-down:before {
  content: "\f0a7";
}
.fa-arrow-circle-left:before {
  content: "\f0a8";
}
.fa-arrow-circle-right:before {
  content: "\f0a9";
}
.fa-arrow-circle-up:before {
  content: "\f0aa";
}
.fa-arrow-circle-down:before {
  content: "\f0ab";
}
.fa-globe:before {
  content: "\f0ac";
}
.fa-wrench:before {
  content: "\f0ad";
}
.fa-tasks:before {
  content: "\f0ae";
}
.fa-filter:before {
  content: "\f0b0";
}
.fa-briefcase:before {
  content: "\f0b1";
}
.fa-arrows-alt:before {
  content: "\f0b2";
}
.fa-group:before,
.fa-users:before {
  content: "\f0c0";
}
.fa-chain:before,
.fa-link:before {
  content: "\f0c1";
}
.fa-cloud:before {
  content: "\f0c2";
}
.fa-flask:before {
  content: "\f0c3";
}
.fa-cut:before,
.fa-scissors:before {
  content: "\f0c4";
}
.fa-copy:before,
.fa-files-o:before {
  content: "\f0c5";
}
.fa-paperclip:before {
  content: "\f0c6";
}
.fa-save:before,
.fa-floppy-o:before {
  content: "\f0c7";
}
.fa-square:before {
  content: "\f0c8";
}
.fa-navicon:before,
.fa-reorder:before,
.fa-bars:before {
  content: "\f0c9";
}
.fa-list-ul:before {
  content: "\f0ca";
}
.fa-list-ol:before {
  content: "\f0cb";
}
.fa-strikethrough:before {
  content: "\f0cc";
}
.fa-underline:before {
  content: "\f0cd";
}
.fa-table:before {
  content: "\f0ce";
}
.fa-magic:before {
  content: "\f0d0";
}
.fa-truck:before {
  content: "\f0d1";
}
.fa-pinterest:before {
  content: "\f0d2";
}
.fa-pinterest-square:before {
  content: "\f0d3";
}
.fa-google-plus-square:before {
  content: "\f0d4";
}
.fa-google-plus:before {
  content: "\f0d5";
}
.fa-money:before {
  content: "\f0d6";
}
.fa-caret-down:before {
  content: "\f0d7";
}
.fa-caret-up:before {
  content: "\f0d8";
}
.fa-caret-left:before {
  content: "\f0d9";
}
.fa-caret-right:before {
  content: "\f0da";
}
.fa-columns:before {
  content: "\f0db";
}
.fa-unsorted:before,
.fa-sort:before {
  content: "\f0dc";
}
.fa-sort-down:before,
.fa-sort-desc:before {
  content: "\f0dd";
}
.fa-sort-up:before,
.fa-sort-asc:before {
  content: "\f0de";
}
.fa-envelope:before {
  content: "\f0e0";
}
.fa-linkedin:before {
  content: "\f0e1";
}
.fa-rotate-left:before,
.fa-undo:before {
  content: "\f0e2";
}
.fa-legal:before,
.fa-gavel:before {
  content: "\f0e3";
}
.fa-dashboard:before,
.fa-tachometer:before {
  content: "\f0e4";
}
.fa-comment-o:before {
  content: "\f0e5";
}
.fa-comments-o:before {
  content: "\f0e6";
}
.fa-flash:before,
.fa-bolt:before {
  content: "\f0e7";
}
.fa-sitemap:before {
  content: "\f0e8";
}
.fa-umbrella:before {
  content: "\f0e9";
}
.fa-paste:before,
.fa-clipboard:before {
  content: "\f0ea";
}
.fa-lightbulb-o:before {
  content: "\f0eb";
}
.fa-exchange:before {
  content: "\f0ec";
}
.fa-cloud-download:before {
  content: "\f0ed";
}
.fa-cloud-upload:before {
  content: "\f0ee";
}
.fa-user-md:before {
  content: "\f0f0";
}
.fa-stethoscope:before {
  content: "\f0f1";
}
.fa-suitcase:before {
  content: "\f0f2";
}
.fa-bell-o:before {
  content: "\f0a2";
}
.fa-coffee:before {
  content: "\f0f4";
}
.fa-cutlery:before {
  content: "\f0f5";
}
.fa-file-text-o:before {
  content: "\f0f6";
}
.fa-building-o:before {
  content: "\f0f7";
}
.fa-hospital-o:before {
  content: "\f0f8";
}
.fa-ambulance:before {
  content: "\f0f9";
}
.fa-medkit:before {
  content: "\f0fa";
}
.fa-fighter-jet:before {
  content: "\f0fb";
}
.fa-beer:before {
  content: "\f0fc";
}
.fa-h-square:before {
  content: "\f0fd";
}
.fa-plus-square:before {
  content: "\f0fe";
}
.fa-angle-double-left:before {
  content: "\f100";
}
.fa-angle-double-right:before {
  content: "\f101";
}
.fa-angle-double-up:before {
  content: "\f102";
}
.fa-angle-double-down:before {
  content: "\f103";
}
.fa-angle-left:before {
  content: "\f104";
}
.fa-angle-right:before {
  content: "\f105";
}
.fa-angle-up:before {
  content: "\f106";
}
.fa-angle-down:before {
  content: "\f107";
}
.fa-desktop:before {
  content: "\f108";
}
.fa-laptop:before {
  content: "\f109";
}
.fa-tablet:before {
  content: "\f10a";
}
.fa-mobile-phone:before,
.fa-mobile:before {
  content: "\f10b";
}
.fa-circle-o:before {
  content: "\f10c";
}
.fa-quote-left:before {
  content: "\f10d";
}
.fa-quote-right:before {
  content: "\f10e";
}
.fa-spinner:before {
  content: "\f110";
}
.fa-circle:before {
  content: "\f111";
}
.fa-mail-reply:before,
.fa-reply:before {
  content: "\f112";
}
.fa-github-alt:before {
  content: "\f113";
}
.fa-folder-o:before {
  content: "\f114";
}
.fa-folder-open-o:before {
  content: "\f115";
}
.fa-smile-o:before {
  content: "\f118";
}
.fa-frown-o:before {
  content: "\f119";
}
.fa-meh-o:before {
  content: "\f11a";
}
.fa-gamepad:before {
  content: "\f11b";
}
.fa-keyboard-o:before {
  content: "\f11c";
}
.fa-flag-o:before {
  content: "\f11d";
}
.fa-flag-checkered:before {
  content: "\f11e";
}
.fa-terminal:before {
  content: "\f120";
}
.fa-code:before {
  content: "\f121";
}
.fa-mail-reply-all:before,
.fa-reply-all:before {
  content: "\f122";
}
.fa-star-half-empty:before,
.fa-star-half-full:before,
.fa-star-half-o:before {
  content: "\f123";
}
.fa-location-arrow:before {
  content: "\f124";
}
.fa-crop:before {
  content: "\f125";
}
.fa-code-fork:before {
  content: "\f126";
}
.fa-unlink:before,
.fa-chain-broken:before {
  content: "\f127";
}
.fa-question:before {
  content: "\f128";
}
.fa-info:before {
  content: "\f129";
}
.fa-exclamation:before {
  content: "\f12a";
}
.fa-superscript:before {
  content: "\f12b";
}
.fa-subscript:before {
  content: "\f12c";
}
.fa-eraser:before {
  content: "\f12d";
}
.fa-puzzle-piece:before {
  content: "\f12e";
}
.fa-microphone:before {
  content: "\f130";
}
.fa-microphone-slash:before {
  content: "\f131";
}
.fa-shield:before {
  content: "\f132";
}
.fa-calendar-o:before {
  content: "\f133";
}
.fa-fire-extinguisher:before {
  content: "\f134";
}
.fa-rocket:before {
  content: "\f135";
}
.fa-maxcdn:before {
  content: "\f136";
}
.fa-chevron-circle-left:before {
  content: "\f137";
}
.fa-chevron-circle-right:before {
  content: "\f138";
}
.fa-chevron-circle-up:before {
  content: "\f139";
}
.fa-chevron-circle-down:before {
  content: "\f13a";
}
.fa-html5:before {
  content: "\f13b";
}
.fa-css3:before {
  content: "\f13c";
}
.fa-anchor:before {
  content: "\f13d";
}
.fa-unlock-alt:before {
  content: "\f13e";
}
.fa-bullseye:before {
  content: "\f140";
}
.fa-ellipsis-h:before {
  content: "\f141";
}
.fa-ellipsis-v:before {
  content: "\f142";
}
.fa-rss-square:before {
  content: "\f143";
}
.fa-play-circle:before {
  content: "\f144";
}
.fa-ticket:before {
  content: "\f145";
}
.fa-minus-square:before {
  content: "\f146";
}
.fa-minus-square-o:before {
  content: "\f147";
}
.fa-level-up:before {
  content: "\f148";
}
.fa-level-down:before {
  content: "\f149";
}
.fa-check-square:before {
  content: "\f14a";
}
.fa-pencil-square:before {
  content: "\f14b";
}
.fa-external-link-square:before {
  content: "\f14c";
}
.fa-share-square:before {
  content: "\f14d";
}
.fa-compass:before {
  content: "\f14e";
}
.fa-toggle-down:before,
.fa-caret-square-o-down:before {
  content: "\f150";
}
.fa-toggle-up:before,
.fa-caret-square-o-up:before {
  content: "\f151";
}
.fa-toggle-right:before,
.fa-caret-square-o-right:before {
  content: "\f152";
}
.fa-euro:before,
.fa-eur:before {
  content: "\f153";
}
.fa-gbp:before {
  content: "\f154";
}
.fa-dollar:before,
.fa-usd:before {
  content: "\f155";
}
.fa-rupee:before,
.fa-inr:before {
  content: "\f156";
}
.fa-cny:before,
.fa-rmb:before,
.fa-yen:before,
.fa-jpy:before {
  content: "\f157";
}
.fa-ruble:before,
.fa-rouble:before,
.fa-rub:before {
  content: "\f158";
}
.fa-won:before,
.fa-krw:before {
  content: "\f159";
}
.fa-bitcoin:before,
.fa-btc:before {
  content: "\f15a";
}
.fa-file:before {
  content: "\f15b";
}
.fa-file-text:before {
  content: "\f15c";
}
.fa-sort-alpha-asc:before {
  content: "\f15d";
}
.fa-sort-alpha-desc:before {
  content: "\f15e";
}
.fa-sort-amount-asc:before {
  content: "\f160";
}
.fa-sort-amount-desc:before {
  content: "\f161";
}
.fa-sort-numeric-asc:before {
  content: "\f162";
}
.fa-sort-numeric-desc:before {
  content: "\f163";
}
.fa-thumbs-up:before {
  content: "\f164";
}
.fa-thumbs-down:before {
  content: "\f165";
}
.fa-youtube-square:before {
  content: "\f166";
}
.fa-youtube:before {
  content: "\f167";
}
.fa-xing:before {
  content: "\f168";
}
.fa-xing-square:before {
  content: "\f169";
}
.fa-youtube-play:before {
  content: "\f16a";
}
.fa-dropbox:before {
  content: "\f16b";
}
.fa-stack-overflow:before {
  content: "\f16c";
}
.fa-instagram:before {
  content: "\f16d";
}
.fa-flickr:before {
  content: "\f16e";
}
.fa-adn:before {
  content: "\f170";
}
.fa-bitbucket:before {
  content: "\f171";
}
.fa-bitbucket-square:before {
  content: "\f172";
}
.fa-tumblr:before {
  content: "\f173";
}
.fa-tumblr-square:before {
  content: "\f174";
}
.fa-long-arrow-down:before {
  content: "\f175";
}
.fa-long-arrow-up:before {
  content: "\f176";
}
.fa-long-arrow-left:before {
  content: "\f177";
}
.fa-long-arrow-right:before {
  content: "\f178";
}
.fa-apple:before {
  content: "\f179";
}
.fa-windows:before {
  content: "\f17a";
}
.fa-android:before {
  content: "\f17b";
}
.fa-linux:before {
  content: "\f17c";
}
.fa-dribbble:before {
  content: "\f17d";
}
.fa-skype:before {
  content: "\f17e";
}
.fa-foursquare:before {
  content: "\f180";
}
.fa-trello:before {
  content: "\f181";
}
.fa-female:before {
  content: "\f182";
}
.fa-male:before {
  content: "\f183";
}
.fa-gittip:before,
.fa-gratipay:before {
  content: "\f184";
}
.fa-sun-o:before {
  content: "\f185";
}
.fa-moon-o:before {
  content: "\f186";
}
.fa-archive:before {
  content: "\f187";
}
.fa-bug:before {
  content: "\f188";
}
.fa-vk:before {
  content: "\f189";
}
.fa-weibo:before {
  content: "\f18a";
}
.fa-renren:before {
  content: "\f18b";
}
.fa-pagelines:before {
  content: "\f18c";
}
.fa-stack-exchange:before {
  content: "\f18d";
}
.fa-arrow-circle-o-right:before {
  content: "\f18e";
}
.fa-arrow-circle-o-left:before {
  content: "\f190";
}
.fa-toggle-left:before,
.fa-caret-square-o-left:before {
  content: "\f191";
}
.fa-dot-circle-o:before {
  content: "\f192";
}
.fa-wheelchair:before {
  content: "\f193";
}
.fa-vimeo-square:before {
  content: "\f194";
}
.fa-turkish-lira:before,
.fa-try:before {
  content: "\f195";
}
.fa-plus-square-o:before {
  content: "\f196";
}
.fa-space-shuttle:before {
  content: "\f197";
}
.fa-slack:before {
  content: "\f198";
}
.fa-envelope-square:before {
  content: "\f199";
}
.fa-wordpress:before {
  content: "\f19a";
}
.fa-openid:before {
  content: "\f19b";
}
.fa-institution:before,
.fa-bank:before,
.fa-university:before {
  content: "\f19c";
}
.fa-mortar-board:before,
.fa-graduation-cap:before {
  content: "\f19d";
}
.fa-yahoo:before {
  content: "\f19e";
}
.fa-google:before {
  content: "\f1a0";
}
.fa-reddit:before {
  content: "\f1a1";
}
.fa-reddit-square:before {
  content: "\f1a2";
}
.fa-stumbleupon-circle:before {
  content: "\f1a3";
}
.fa-stumbleupon:before {
  content: "\f1a4";
}
.fa-delicious:before {
  content: "\f1a5";
}
.fa-digg:before {
  content: "\f1a6";
}
.fa-pied-piper-pp:before {
  content: "\f1a7";
}
.fa-pied-piper-alt:before {
  content: "\f1a8";
}
.fa-drupal:before {
  content: "\f1a9";
}
.fa-joomla:before {
  content: "\f1aa";
}
.fa-language:before {
  content: "\f1ab";
}
.fa-fax:before {
  content: "\f1ac";
}
.fa-building:before {
  content: "\f1ad";
}
.fa-child:before {
  content: "\f1ae";
}
.fa-paw:before {
  content: "\f1b0";
}
.fa-spoon:before {
  content: "\f1b1";
}
.fa-cube:before {
  content: "\f1b2";
}
.fa-cubes:before {
  content: "\f1b3";
}
.fa-behance:before {
  content: "\f1b4";
}
.fa-behance-square:before {
  content: "\f1b5";
}
.fa-steam:before {
  content: "\f1b6";
}
.fa-steam-square:before {
  content: "\f1b7";
}
.fa-recycle:before {
  content: "\f1b8";
}
.fa-automobile:before,
.fa-car:before {
  content: "\f1b9";
}
.fa-cab:before,
.fa-taxi:before {
  content: "\f1ba";
}
.fa-tree:before {
  content: "\f1bb";
}
.fa-spotify:before {
  content: "\f1bc";
}
.fa-deviantart:before {
  content: "\f1bd";
}
.fa-soundcloud:before {
  content: "\f1be";
}
.fa-database:before {
  content: "\f1c0";
}
.fa-file-pdf-o:before {
  content: "\f1c1";
}
.fa-file-word-o:before {
  content: "\f1c2";
}
.fa-file-excel-o:before {
  content: "\f1c3";
}
.fa-file-powerpoint-o:before {
  content: "\f1c4";
}
.fa-file-photo-o:before,
.fa-file-picture-o:before,
.fa-file-image-o:before {
  content: "\f1c5";
}
.fa-file-zip-o:before,
.fa-file-archive-o:before {
  content: "\f1c6";
}
.fa-file-sound-o:before,
.fa-file-audio-o:before {
  content: "\f1c7";
}
.fa-file-movie-o:before,
.fa-file-video-o:before {
  content: "\f1c8";
}
.fa-file-code-o:before {
  content: "\f1c9";
}
.fa-vine:before {
  content: "\f1ca";
}
.fa-codepen:before {
  content: "\f1cb";
}
.fa-jsfiddle:before {
  content: "\f1cc";
}
.fa-life-bouy:before,
.fa-life-buoy:before,
.fa-life-saver:before,
.fa-support:before,
.fa-life-ring:before {
  content: "\f1cd";
}
.fa-circle-o-notch:before {
  content: "\f1ce";
}
.fa-ra:before,
.fa-resistance:before,
.fa-rebel:before {
  content: "\f1d0";
}
.fa-ge:before,
.fa-empire:before {
  content: "\f1d1";
}
.fa-git-square:before {
  content: "\f1d2";
}
.fa-git:before {
  content: "\f1d3";
}
.fa-y-combinator-square:before,
.fa-yc-square:before,
.fa-hacker-news:before {
  content: "\f1d4";
}
.fa-tencent-weibo:before {
  content: "\f1d5";
}
.fa-qq:before {
  content: "\f1d6";
}
.fa-wechat:before,
.fa-weixin:before {
  content: "\f1d7";
}
.fa-send:before,
.fa-paper-plane:before {
  content: "\f1d8";
}
.fa-send-o:before,
.fa-paper-plane-o:before {
  content: "\f1d9";
}
.fa-history:before {
  content: "\f1da";
}
.fa-circle-thin:before {
  content: "\f1db";
}
.fa-header:before {
  content: "\f1dc";
}
.fa-paragraph:before {
  content: "\f1dd";
}
.fa-sliders:before {
  content: "\f1de";
}
.fa-share-alt:before {
  content: "\f1e0";
}
.fa-share-alt-square:before {
  content: "\f1e1";
}
.fa-bomb:before {
  content: "\f1e2";
}
.fa-soccer-ball-o:before,
.fa-futbol-o:before {
  content: "\f1e3";
}
.fa-tty:before {
  content: "\f1e4";
}
.fa-binoculars:before {
  content: "\f1e5";
}
.fa-plug:before {
  content: "\f1e6";
}
.fa-slideshare:before {
  content: "\f1e7";
}
.fa-twitch:before {
  content: "\f1e8";
}
.fa-yelp:before {
  content: "\f1e9";
}
.fa-newspaper-o:before {
  content: "\f1ea";
}
.fa-wifi:before {
  content: "\f1eb";
}
.fa-calculator:before {
  content: "\f1ec";
}
.fa-paypal:before {
  content: "\f1ed";
}
.fa-google-wallet:before {
  content: "\f1ee";
}
.fa-cc-visa:before {
  content: "\f1f0";
}
.fa-cc-mastercard:before {
  content: "\f1f1";
}
.fa-cc-discover:before {
  content: "\f1f2";
}
.fa-cc-amex:before {
  content: "\f1f3";
}
.fa-cc-paypal:before {
  content: "\f1f4";
}
.fa-cc-stripe:before {
  content: "\f1f5";
}
.fa-bell-slash:before {
  content: "\f1f6";
}
.fa-bell-slash-o:before {
  content: "\f1f7";
}
.fa-trash:before {
  content: "\f1f8";
}
.fa-copyright:before {
  content: "\f1f9";
}
.fa-at:before {
  content: "\f1fa";
}
.fa-eyedropper:before {
  content: "\f1fb";
}
.fa-paint-brush:before {
  content: "\f1fc";
}
.fa-birthday-cake:before {
  content: "\f1fd";
}
.fa-area-chart:before {
  content: "\f1fe";
}
.fa-pie-chart:before {
  content: "\f200";
}
.fa-line-chart:before {
  content: "\f201";
}
.fa-lastfm:before {
  content: "\f202";
}
.fa-lastfm-square:before {
  content: "\f203";
}
.fa-toggle-off:before {
  content: "\f204";
}
.fa-toggle-on:before {
  content: "\f205";
}
.fa-bicycle:before {
  content: "\f206";
}
.fa-bus:before {
  content: "\f207";
}
.fa-ioxhost:before {
  content: "\f208";
}
.fa-angellist:before {
  content: "\f209";
}
.fa-cc:before {
  content: "\f20a";
}
.fa-shekel:before,
.fa-sheqel:before,
.fa-ils:before {
  content: "\f20b";
}
.fa-meanpath:before {
  content: "\f20c";
}
.fa-buysellads:before {
  content: "\f20d";
}
.fa-connectdevelop:before {
  content: "\f20e";
}
.fa-dashcube:before {
  content: "\f210";
}
.fa-forumbee:before {
  content: "\f211";
}
.fa-leanpub:before {
  content: "\f212";
}
.fa-sellsy:before {
  content: "\f213";
}
.fa-shirtsinbulk:before {
  content: "\f214";
}
.fa-simplybuilt:before {
  content: "\f215";
}
.fa-skyatlas:before {
  content: "\f216";
}
.fa-cart-plus:before {
  content: "\f217";
}
.fa-cart-arrow-down:before {
  content: "\f218";
}
.fa-diamond:before {
  content: "\f219";
}
.fa-ship:before {
  content: "\f21a";
}
.fa-user-secret:before {
  content: "\f21b";
}
.fa-motorcycle:before {
  content: "\f21c";
}
.fa-street-view:before {
  content: "\f21d";
}
.fa-heartbeat:before {
  content: "\f21e";
}
.fa-venus:before {
  content: "\f221";
}
.fa-mars:before {
  content: "\f222";
}
.fa-mercury:before {
  content: "\f223";
}
.fa-intersex:before,
.fa-transgender:before {
  content: "\f224";
}
.fa-transgender-alt:before {
  content: "\f225";
}
.fa-venus-double:before {
  content: "\f226";
}
.fa-mars-double:before {
  content: "\f227";
}
.fa-venus-mars:before {
  content: "\f228";
}
.fa-mars-stroke:before {
  content: "\f229";
}
.fa-mars-stroke-v:before {
  content: "\f22a";
}
.fa-mars-stroke-h:before {
  content: "\f22b";
}
.fa-neuter:before {
  content: "\f22c";
}
.fa-genderless:before {
  content: "\f22d";
}
.fa-facebook-official:before {
  content: "\f230";
}
.fa-pinterest-p:before {
  content: "\f231";
}
.fa-whatsapp:before {
  content: "\f232";
}
.fa-server:before {
  content: "\f233";
}
.fa-user-plus:before {
  content: "\f234";
}
.fa-user-times:before {
  content: "\f235";
}
.fa-hotel:before,
.fa-bed:before {
  content: "\f236";
}
.fa-viacoin:before {
  content: "\f237";
}
.fa-train:before {
  content: "\f238";
}
.fa-subway:before {
  content: "\f239";
}
.fa-medium:before {
  content: "\f23a";
}
.fa-yc:before,
.fa-y-combinator:before {
  content: "\f23b";
}
.fa-optin-monster:before {
  content: "\f23c";
}
.fa-opencart:before {
  content: "\f23d";
}
.fa-expeditedssl:before {
  content: "\f23e";
}
.fa-battery-4:before,
.fa-battery:before,
.fa-battery-full:before {
  content: "\f240";
}
.fa-battery-3:before,
.fa-battery-three-quarters:before {
  content: "\f241";
}
.fa-battery-2:before,
.fa-battery-half:before {
  content: "\f242";
}
.fa-battery-1:before,
.fa-battery-quarter:before {
  content: "\f243";
}
.fa-battery-0:before,
.fa-battery-empty:before {
  content: "\f244";
}
.fa-mouse-pointer:before {
  content: "\f245";
}
.fa-i-cursor:before {
  content: "\f246";
}
.fa-object-group:before {
  content: "\f247";
}
.fa-object-ungroup:before {
  content: "\f248";
}
.fa-sticky-note:before {
  content: "\f249";
}
.fa-sticky-note-o:before {
  content: "\f24a";
}
.fa-cc-jcb:before {
  content: "\f24b";
}
.fa-cc-diners-club:before {
  content: "\f24c";
}
.fa-clone:before {
  content: "\f24d";
}
.fa-balance-scale:before {
  content: "\f24e";
}
.fa-hourglass-o:before {
  content: "\f250";
}
.fa-hourglass-1:before,
.fa-hourglass-start:before {
  content: "\f251";
}
.fa-hourglass-2:before,
.fa-hourglass-half:before {
  content: "\f252";
}
.fa-hourglass-3:before,
.fa-hourglass-end:before {
  content: "\f253";
}
.fa-hourglass:before {
  content: "\f254";
}
.fa-hand-grab-o:before,
.fa-hand-rock-o:before {
  content: "\f255";
}
.fa-hand-stop-o:before,
.fa-hand-paper-o:before {
  content: "\f256";
}
.fa-hand-scissors-o:before {
  content: "\f257";
}
.fa-hand-lizard-o:before {
  content: "\f258";
}
.fa-hand-spock-o:before {
  content: "\f259";
}
.fa-hand-pointer-o:before {
  content: "\f25a";
}
.fa-hand-peace-o:before {
  content: "\f25b";
}
.fa-trademark:before {
  content: "\f25c";
}
.fa-registered:before {
  content: "\f25d";
}
.fa-creative-commons:before {
  content: "\f25e";
}
.fa-gg:before {
  content: "\f260";
}
.fa-gg-circle:before {
  content: "\f261";
}
.fa-tripadvisor:before {
  content: "\f262";
}
.fa-odnoklassniki:before {
  content: "\f263";
}
.fa-odnoklassniki-square:before {
  content: "\f264";
}
.fa-get-pocket:before {
  content: "\f265";
}
.fa-wikipedia-w:before {
  content: "\f266";
}
.fa-safari:before {
  content: "\f267";
}
.fa-chrome:before {
  content: "\f268";
}
.fa-firefox:before {
  content: "\f269";
}
.fa-opera:before {
  content: "\f26a";
}
.fa-internet-explorer:before {
  content: "\f26b";
}
.fa-tv:before,
.fa-television:before {
  content: "\f26c";
}
.fa-contao:before {
  content: "\f26d";
}
.fa-500px:before {
  content: "\f26e";
}
.fa-amazon:before {
  content: "\f270";
}
.fa-calendar-plus-o:before {
  content: "\f271";
}
.fa-calendar-minus-o:before {
  content: "\f272";
}
.fa-calendar-times-o:before {
  content: "\f273";
}
.fa-calendar-check-o:before {
  content: "\f274";
}
.fa-industry:before {
  content: "\f275";
}
.fa-map-pin:before {
  content: "\f276";
}
.fa-map-signs:before {
  content: "\f277";
}
.fa-map-o:before {
  content: "\f278";
}
.fa-map:before {
  content: "\f279";
}
.fa-commenting:before {
  content: "\f27a";
}
.fa-commenting-o:before {
  content: "\f27b";
}
.fa-houzz:before {
  content: "\f27c";
}
.fa-vimeo:before {
  content: "\f27d";
}
.fa-black-tie:before {
  content: "\f27e";
}
.fa-fonticons:before {
  content: "\f280";
}
.fa-reddit-alien:before {
  content: "\f281";
}
.fa-edge:before {
  content: "\f282";
}
.fa-credit-card-alt:before {
  content: "\f283";
}
.fa-codiepie:before {
  content: "\f284";
}
.fa-modx:before {
  content: "\f285";
}
.fa-fort-awesome:before {
  content: "\f286";
}
.fa-usb:before {
  content: "\f287";
}
.fa-product-hunt:before {
  content: "\f288";
}
.fa-mixcloud:before {
  content: "\f289";
}
.fa-scribd:before {
  content: "\f28a";
}
.fa-pause-circle:before {
  content: "\f28b";
}
.fa-pause-circle-o:before {
  content: "\f28c";
}
.fa-stop-circle:before {
  content: "\f28d";
}
.fa-stop-circle-o:before {
  content: "\f28e";
}
.fa-shopping-bag:before {
  content: "\f290";
}
.fa-shopping-basket:before {
  content: "\f291";
}
.fa-hashtag:before {
  content: "\f292";
}
.fa-bluetooth:before {
  content: "\f293";
}
.fa-bluetooth-b:before {
  content: "\f294";
}
.fa-percent:before {
  content: "\f295";
}
.fa-gitlab:before {
  content: "\f296";
}
.fa-wpbeginner:before {
  content: "\f297";
}
.fa-wpforms:before {
  content: "\f298";
}
.fa-envira:before {
  content: "\f299";
}
.fa-universal-access:before {
  content: "\f29a";
}
.fa-wheelchair-alt:before {
  content: "\f29b";
}
.fa-question-circle-o:before {
  content: "\f29c";
}
.fa-blind:before {
  content: "\f29d";
}
.fa-audio-description:before {
  content: "\f29e";
}
.fa-volume-control-phone:before {
  content: "\f2a0";
}
.fa-braille:before {
  content: "\f2a1";
}
.fa-assistive-listening-systems:before {
  content: "\f2a2";
}
.fa-asl-interpreting:before,
.fa-american-sign-language-interpreting:before {
  content: "\f2a3";
}
.fa-deafness:before,
.fa-hard-of-hearing:before,
.fa-deaf:before {
  content: "\f2a4";
}
.fa-glide:before {
  content: "\f2a5";
}
.fa-glide-g:before {
  content: "\f2a6";
}
.fa-signing:before,
.fa-sign-language:before {
  content: "\f2a7";
}
.fa-low-vision:before {
  content: "\f2a8";
}
.fa-viadeo:before {
  content: "\f2a9";
}
.fa-viadeo-square:before {
  content: "\f2aa";
}
.fa-snapchat:before {
  content: "\f2ab";
}
.fa-snapchat-ghost:before {
  content: "\f2ac";
}
.fa-snapchat-square:before {
  content: "\f2ad";
}
.fa-pied-piper:before {
  content: "\f2ae";
}
.fa-first-order:before {
  content: "\f2b0";
}
.fa-yoast:before {
  content: "\f2b1";
}
.fa-themeisle:before {
  content: "\f2b2";
}
.fa-google-plus-circle:before,
.fa-google-plus-official:before {
  content: "\f2b3";
}
.fa-fa:before,
.fa-font-awesome:before {
  content: "\f2b4";
}
.fa-handshake-o:before {
  content: "\f2b5";
}
.fa-envelope-open:before {
  content: "\f2b6";
}
.fa-envelope-open-o:before {
  content: "\f2b7";
}
.fa-linode:before {
  content: "\f2b8";
}
.fa-address-book:before {
  content: "\f2b9";
}
.fa-address-book-o:before {
  content: "\f2ba";
}
.fa-vcard:before,
.fa-address-card:before {
  content: "\f2bb";
}
.fa-vcard-o:before,
.fa-address-card-o:before {
  content: "\f2bc";
}
.fa-user-circle:before {
  content: "\f2bd";
}
.fa-user-circle-o:before {
  content: "\f2be";
}
.fa-user-o:before {
  content: "\f2c0";
}
.fa-id-badge:before {
  content: "\f2c1";
}
.fa-drivers-license:before,
.fa-id-card:before {
  content: "\f2c2";
}
.fa-drivers-license-o:before,
.fa-id-card-o:before {
  content: "\f2c3";
}
.fa-quora:before {
  content: "\f2c4";
}
.fa-free-code-camp:before {
  content: "\f2c5";
}
.fa-telegram:before {
  content: "\f2c6";
}
.fa-thermometer-4:before,
.fa-thermometer:before,
.fa-thermometer-full:before {
  content: "\f2c7";
}
.fa-thermometer-3:before,
.fa-thermometer-three-quarters:before {
  content: "\f2c8";
}
.fa-thermometer-2:before,
.fa-thermometer-half:before {
  content: "\f2c9";
}
.fa-thermometer-1:before,
.fa-thermometer-quarter:before {
  content: "\f2ca";
}
.fa-thermometer-0:before,
.fa-thermometer-empty:before {
  content: "\f2cb";
}
.fa-shower:before {
  content: "\f2cc";
}
.fa-bathtub:before,
.fa-s15:before,
.fa-bath:before {
  content: "\f2cd";
}
.fa-podcast:before {
  content: "\f2ce";
}
.fa-window-maximize:before {
  content: "\f2d0";
}
.fa-window-minimize:before {
  content: "\f2d1";
}
.fa-window-restore:before {
  content: "\f2d2";
}
.fa-times-rectangle:before,
.fa-window-close:before {
  content: "\f2d3";
}
.fa-times-rectangle-o:before,
.fa-window-close-o:before {
  content: "\f2d4";
}
.fa-bandcamp:before {
  content: "\f2d5";
}
.fa-grav:before {
  content: "\f2d6";
}
.fa-etsy:before {
  content: "\f2d7";
}
.fa-imdb:before {
  content: "\f2d8";
}
.fa-ravelry:before {
  content: "\f2d9";
}
.fa-eercast:before {
  content: "\f2da";
}
.fa-microchip:before {
  content: "\f2db";
}
.fa-snowflake-o:before {
  content: "\f2dc";
}
.fa-superpowers:before {
  content: "\f2dd";
}
.fa-wpexplorer:before {
  content: "\f2de";
}
.fa-meetup:before {
  content: "\f2e0";
}
.sr-only {
  position: absolute;
  width: 1px;
  height: 1px;
  padding: 0;
  margin: -1px;
  overflow: hidden;
  clip: rect(0, 0, 0, 0);
  border: 0;
}
.sr-only-focusable:active,
.sr-only-focusable:focus {
  position: static;
  width: auto;
  height: auto;
  margin: 0;
  overflow: visible;
  clip: auto;
}
.sr-only-focusable:active,
.sr-only-focusable:focus {
  position: static;
  width: auto;
  height: auto;
  margin: 0;
  overflow: visible;
  clip: auto;
}
/*!
*
* IPython base
*
*/
.modal.fade .modal-dialog {
  -webkit-transform: translate(0, 0);
  -ms-transform: translate(0, 0);
  -o-transform: translate(0, 0);
  transform: translate(0, 0);
}
code {
  color: #000;
}
pre {
  font-size: inherit;
  line-height: inherit;
}
label {
  font-weight: normal;
}
/* Make the page background atleast 100% the height of the view port */
/* Make the page itself atleast 70% the height of the view port */
.border-box-sizing {
  box-sizing: border-box;
  -moz-box-sizing: border-box;
  -webkit-box-sizing: border-box;
}
.corner-all {
  border-radius: 2px;
}
.no-padding {
  padding: 0px;
}
/* Flexible box model classes */
/* Taken from Alex Russell http://infrequently.org/2009/08/css-3-progress/ */
/* This file is a compatability layer.  It allows the usage of flexible box 
model layouts accross multiple browsers, including older browsers.  The newest,
universal implementation of the flexible box model is used when available (see
`Modern browsers` comments below).  Browsers that are known to implement this 
new spec completely include:

    Firefox 28.0+
    Chrome 29.0+
    Internet Explorer 11+ 
    Opera 17.0+

Browsers not listed, including Safari, are supported via the styling under the
`Old browsers` comments below.
*/
.hbox {
  /* Old browsers */
  display: -webkit-box;
  -webkit-box-orient: horizontal;
  -webkit-box-align: stretch;
  display: -moz-box;
  -moz-box-orient: horizontal;
  -moz-box-align: stretch;
  display: box;
  box-orient: horizontal;
  box-align: stretch;
  /* Modern browsers */
  display: flex;
  flex-direction: row;
  align-items: stretch;
}
.hbox > * {
  /* Old browsers */
  -webkit-box-flex: 0;
  -moz-box-flex: 0;
  box-flex: 0;
  /* Modern browsers */
  flex: none;
}
.vbox {
  /* Old browsers */
  display: -webkit-box;
  -webkit-box-orient: vertical;
  -webkit-box-align: stretch;
  display: -moz-box;
  -moz-box-orient: vertical;
  -moz-box-align: stretch;
  display: box;
  box-orient: vertical;
  box-align: stretch;
  /* Modern browsers */
  display: flex;
  flex-direction: column;
  align-items: stretch;
}
.vbox > * {
  /* Old browsers */
  -webkit-box-flex: 0;
  -moz-box-flex: 0;
  box-flex: 0;
  /* Modern browsers */
  flex: none;
}
.hbox.reverse,
.vbox.reverse,
.reverse {
  /* Old browsers */
  -webkit-box-direction: reverse;
  -moz-box-direction: reverse;
  box-direction: reverse;
  /* Modern browsers */
  flex-direction: row-reverse;
}
.hbox.box-flex0,
.vbox.box-flex0,
.box-flex0 {
  /* Old browsers */
  -webkit-box-flex: 0;
  -moz-box-flex: 0;
  box-flex: 0;
  /* Modern browsers */
  flex: none;
  width: auto;
}
.hbox.box-flex1,
.vbox.box-flex1,
.box-flex1 {
  /* Old browsers */
  -webkit-box-flex: 1;
  -moz-box-flex: 1;
  box-flex: 1;
  /* Modern browsers */
  flex: 1;
}
.hbox.box-flex,
.vbox.box-flex,
.box-flex {
  /* Old browsers */
  /* Old browsers */
  -webkit-box-flex: 1;
  -moz-box-flex: 1;
  box-flex: 1;
  /* Modern browsers */
  flex: 1;
}
.hbox.box-flex2,
.vbox.box-flex2,
.box-flex2 {
  /* Old browsers */
  -webkit-box-flex: 2;
  -moz-box-flex: 2;
  box-flex: 2;
  /* Modern browsers */
  flex: 2;
}
.box-group1 {
  /*  Deprecated */
  -webkit-box-flex-group: 1;
  -moz-box-flex-group: 1;
  box-flex-group: 1;
}
.box-group2 {
  /* Deprecated */
  -webkit-box-flex-group: 2;
  -moz-box-flex-group: 2;
  box-flex-group: 2;
}
.hbox.start,
.vbox.start,
.start {
  /* Old browsers */
  -webkit-box-pack: start;
  -moz-box-pack: start;
  box-pack: start;
  /* Modern browsers */
  justify-content: flex-start;
}
.hbox.end,
.vbox.end,
.end {
  /* Old browsers */
  -webkit-box-pack: end;
  -moz-box-pack: end;
  box-pack: end;
  /* Modern browsers */
  justify-content: flex-end;
}
.hbox.center,
.vbox.center,
.center {
  /* Old browsers */
  -webkit-box-pack: center;
  -moz-box-pack: center;
  box-pack: center;
  /* Modern browsers */
  justify-content: center;
}
.hbox.baseline,
.vbox.baseline,
.baseline {
  /* Old browsers */
  -webkit-box-pack: baseline;
  -moz-box-pack: baseline;
  box-pack: baseline;
  /* Modern browsers */
  justify-content: baseline;
}
.hbox.stretch,
.vbox.stretch,
.stretch {
  /* Old browsers */
  -webkit-box-pack: stretch;
  -moz-box-pack: stretch;
  box-pack: stretch;
  /* Modern browsers */
  justify-content: stretch;
}
.hbox.align-start,
.vbox.align-start,
.align-start {
  /* Old browsers */
  -webkit-box-align: start;
  -moz-box-align: start;
  box-align: start;
  /* Modern browsers */
  align-items: flex-start;
}
.hbox.align-end,
.vbox.align-end,
.align-end {
  /* Old browsers */
  -webkit-box-align: end;
  -moz-box-align: end;
  box-align: end;
  /* Modern browsers */
  align-items: flex-end;
}
.hbox.align-center,
.vbox.align-center,
.align-center {
  /* Old browsers */
  -webkit-box-align: center;
  -moz-box-align: center;
  box-align: center;
  /* Modern browsers */
  align-items: center;
}
.hbox.align-baseline,
.vbox.align-baseline,
.align-baseline {
  /* Old browsers */
  -webkit-box-align: baseline;
  -moz-box-align: baseline;
  box-align: baseline;
  /* Modern browsers */
  align-items: baseline;
}
.hbox.align-stretch,
.vbox.align-stretch,
.align-stretch {
  /* Old browsers */
  -webkit-box-align: stretch;
  -moz-box-align: stretch;
  box-align: stretch;
  /* Modern browsers */
  align-items: stretch;
}
div.error {
  margin: 2em;
  text-align: center;
}
div.error > h1 {
  font-size: 500%;
  line-height: normal;
}
div.error > p {
  font-size: 200%;
  line-height: normal;
}
div.traceback-wrapper {
  text-align: left;
  max-width: 800px;
  margin: auto;
}
div.traceback-wrapper pre.traceback {
  max-height: 600px;
  overflow: auto;
}
/**
 * Primary styles
 *
 * Author: Jupyter Development Team
 */
body {
  background-color: #fff;
  /* This makes sure that the body covers the entire window and needs to
       be in a different element than the display: box in wrapper below */
  position: absolute;
  left: 0px;
  right: 0px;
  top: 0px;
  bottom: 0px;
  overflow: visible;
}
body > #header {
  /* Initially hidden to prevent FLOUC */
  display: none;
  background-color: #fff;
  /* Display over codemirror */
  position: relative;
  z-index: 100;
}
body > #header #header-container {
  display: flex;
  flex-direction: row;
  justify-content: space-between;
  padding: 5px;
  padding-bottom: 5px;
  padding-top: 5px;
  box-sizing: border-box;
  -moz-box-sizing: border-box;
  -webkit-box-sizing: border-box;
}
body > #header .header-bar {
  width: 100%;
  height: 1px;
  background: #e7e7e7;
  margin-bottom: -1px;
}
@media print {
  body > #header {
    display: none !important;
  }
}
#header-spacer {
  width: 100%;
  visibility: hidden;
}
@media print {
  #header-spacer {
    display: none;
  }
}
#ipython_notebook {
  padding-left: 0px;
  padding-top: 1px;
  padding-bottom: 1px;
}
[dir="rtl"] #ipython_notebook {
  margin-right: 10px;
  margin-left: 0;
}
[dir="rtl"] #ipython_notebook.pull-left {
  float: right !important;
  float: right;
}
.flex-spacer {
  flex: 1;
}
#noscript {
  width: auto;
  padding-top: 16px;
  padding-bottom: 16px;
  text-align: center;
  font-size: 22px;
  color: red;
  font-weight: bold;
}
#ipython_notebook img {
  height: 28px;
}
#site {
  width: 100%;
  display: none;
  box-sizing: border-box;
  -moz-box-sizing: border-box;
  -webkit-box-sizing: border-box;
  overflow: auto;
}
@media print {
  #site {
    height: auto !important;
  }
}
/* Smaller buttons */
.ui-button .ui-button-text {
  padding: 0.2em 0.8em;
  font-size: 77%;
}
input.ui-button {
  padding: 0.3em 0.9em;
}
span#kernel_logo_widget {
  margin: 0 10px;
}
span#login_widget {
  float: right;
}
[dir="rtl"] span#login_widget {
  float: left;
}
span#login_widget > .button,
#logout {
  color: #333;
  background-color: #fff;
  border-color: #ccc;
}
span#login_widget > .button:focus,
#logout:focus,
span#login_widget > .button.focus,
#logout.focus {
  color: #333;
  background-color: #e6e6e6;
  border-color: #8c8c8c;
}
span#login_widget > .button:hover,
#logout:hover {
  color: #333;
  background-color: #e6e6e6;
  border-color: #adadad;
}
span#login_widget > .button:active,
#logout:active,
span#login_widget > .button.active,
#logout.active,
.open > .dropdown-togglespan#login_widget > .button,
.open > .dropdown-toggle#logout {
  color: #333;
  background-color: #e6e6e6;
  border-color: #adadad;
}
span#login_widget > .button:active:hover,
#logout:active:hover,
span#login_widget > .button.active:hover,
#logout.active:hover,
.open > .dropdown-togglespan#login_widget > .button:hover,
.open > .dropdown-toggle#logout:hover,
span#login_widget > .button:active:focus,
#logout:active:focus,
span#login_widget > .button.active:focus,
#logout.active:focus,
.open > .dropdown-togglespan#login_widget > .button:focus,
.open > .dropdown-toggle#logout:focus,
span#login_widget > .button:active.focus,
#logout:active.focus,
span#login_widget > .button.active.focus,
#logout.active.focus,
.open > .dropdown-togglespan#login_widget > .button.focus,
.open > .dropdown-toggle#logout.focus {
  color: #333;
  background-color: #d4d4d4;
  border-color: #8c8c8c;
}
span#login_widget > .button:active,
#logout:active,
span#login_widget > .button.active,
#logout.active,
.open > .dropdown-togglespan#login_widget > .button,
.open > .dropdown-toggle#logout {
  background-image: none;
}
span#login_widget > .button.disabled:hover,
#logout.disabled:hover,
span#login_widget > .button[disabled]:hover,
#logout[disabled]:hover,
fieldset[disabled] span#login_widget > .button:hover,
fieldset[disabled] #logout:hover,
span#login_widget > .button.disabled:focus,
#logout.disabled:focus,
span#login_widget > .button[disabled]:focus,
#logout[disabled]:focus,
fieldset[disabled] span#login_widget > .button:focus,
fieldset[disabled] #logout:focus,
span#login_widget > .button.disabled.focus,
#logout.disabled.focus,
span#login_widget > .button[disabled].focus,
#logout[disabled].focus,
fieldset[disabled] span#login_widget > .button.focus,
fieldset[disabled] #logout.focus {
  background-color: #fff;
  border-color: #ccc;
}
span#login_widget > .button .badge,
#logout .badge {
  color: #fff;
  background-color: #333;
}
.nav-header {
  text-transform: none;
}
#header > span {
  margin-top: 10px;
}
.modal_stretch .modal-dialog {
  /* Old browsers */
  display: -webkit-box;
  -webkit-box-orient: vertical;
  -webkit-box-align: stretch;
  display: -moz-box;
  -moz-box-orient: vertical;
  -moz-box-align: stretch;
  display: box;
  box-orient: vertical;
  box-align: stretch;
  /* Modern browsers */
  display: flex;
  flex-direction: column;
  align-items: stretch;
  min-height: 80vh;
}
.modal_stretch .modal-dialog .modal-body {
  max-height: calc(100vh - 200px);
  overflow: auto;
  flex: 1;
}
.modal-header {
  cursor: move;
}
@media (min-width: 768px) {
  .modal .modal-dialog {
    width: 700px;
  }
}
@media (min-width: 768px) {
  select.form-control {
    margin-left: 12px;
    margin-right: 12px;
  }
}
/*!
*
* IPython auth
*
*/
.center-nav {
  display: inline-block;
  margin-bottom: -4px;
}
[dir="rtl"] .center-nav form.pull-left {
  float: right !important;
  float: right;
}
[dir="rtl"] .center-nav .navbar-text {
  float: right;
}
[dir="rtl"] .navbar-inner {
  text-align: right;
}
[dir="rtl"] div.text-left {
  text-align: right;
}
/*!
*
* IPython tree view
*
*/
/* We need an invisible input field on top of the sentense*/
/* "Drag file onto the list ..." */
.alternate_upload {
  background-color: none;
  display: inline;
}
.alternate_upload.form {
  padding: 0;
  margin: 0;
}
.alternate_upload input.fileinput {
  position: absolute;
  display: block;
  width: 100%;
  height: 100%;
  overflow: hidden;
  cursor: pointer;
  opacity: 0;
  z-index: 2;
}
.alternate_upload .btn-xs > input.fileinput {
  margin: -1px -5px;
}
.alternate_upload .btn-upload {
  position: relative;
  height: 22px;
}
::-webkit-file-upload-button {
  cursor: pointer;
}
/**
 * Primary styles
 *
 * Author: Jupyter Development Team
 */
ul#tabs {
  margin-bottom: 4px;
}
ul#tabs a {
  padding-top: 6px;
  padding-bottom: 4px;
}
[dir="rtl"] ul#tabs.nav-tabs > li {
  float: right;
}
[dir="rtl"] ul#tabs.nav.nav-tabs {
  padding-right: 0;
}
ul.breadcrumb a:focus,
ul.breadcrumb a:hover {
  text-decoration: none;
}
ul.breadcrumb i.icon-home {
  font-size: 16px;
  margin-right: 4px;
}
ul.breadcrumb span {
  color: #5e5e5e;
}
.list_toolbar {
  padding: 4px 0 4px 0;
  vertical-align: middle;
}
.list_toolbar .tree-buttons {
  padding-top: 1px;
}
[dir="rtl"] .list_toolbar .tree-buttons .pull-right {
  float: left !important;
  float: left;
}
[dir="rtl"] .list_toolbar .col-sm-4,
[dir="rtl"] .list_toolbar .col-sm-8 {
  float: right;
}
.dynamic-buttons {
  padding-top: 3px;
  display: inline-block;
}
.list_toolbar [class*="span"] {
  min-height: 24px;
}
.list_header {
  font-weight: bold;
  background-color: #EEE;
}
.list_placeholder {
  font-weight: bold;
  padding-top: 4px;
  padding-bottom: 4px;
  padding-left: 7px;
  padding-right: 7px;
}
.list_container {
  margin-top: 4px;
  margin-bottom: 20px;
  border: 1px solid #ddd;
  border-radius: 2px;
}
.list_container > div {
  border-bottom: 1px solid #ddd;
}
.list_container > div:hover .list-item {
  background-color: red;
}
.list_container > div:last-child {
  border: none;
}
.list_item:hover .list_item {
  background-color: #ddd;
}
.list_item a {
  text-decoration: none;
}
.list_item:hover {
  background-color: #fafafa;
}
.list_header > div,
.list_item > div {
  padding-top: 4px;
  padding-bottom: 4px;
  padding-left: 7px;
  padding-right: 7px;
  line-height: 22px;
}
.list_header > div input,
.list_item > div input {
  margin-right: 7px;
  margin-left: 14px;
  vertical-align: text-bottom;
  line-height: 22px;
  position: relative;
  top: -1px;
}
.list_header > div .item_link,
.list_item > div .item_link {
  margin-left: -1px;
  vertical-align: baseline;
  line-height: 22px;
}
[dir="rtl"] .list_item > div input {
  margin-right: 0;
}
.new-file input[type=checkbox] {
  visibility: hidden;
}
.item_name {
  line-height: 22px;
  height: 24px;
}
.item_icon {
  font-size: 14px;
  color: #5e5e5e;
  margin-right: 7px;
  margin-left: 7px;
  line-height: 22px;
  vertical-align: baseline;
}
.item_modified {
  margin-right: 7px;
  margin-left: 7px;
}
[dir="rtl"] .item_modified.pull-right {
  float: left !important;
  float: left;
}
.item_buttons {
  line-height: 1em;
  margin-left: -5px;
}
.item_buttons .btn,
.item_buttons .btn-group,
.item_buttons .input-group {
  float: left;
}
.item_buttons > .btn,
.item_buttons > .btn-group,
.item_buttons > .input-group {
  margin-left: 5px;
}
.item_buttons .btn {
  min-width: 13ex;
}
.item_buttons .running-indicator {
  padding-top: 4px;
  color: #5cb85c;
}
.item_buttons .kernel-name {
  padding-top: 4px;
  color: #5bc0de;
  margin-right: 7px;
  float: left;
}
[dir="rtl"] .item_buttons.pull-right {
  float: left !important;
  float: left;
}
[dir="rtl"] .item_buttons .kernel-name {
  margin-left: 7px;
  float: right;
}
.toolbar_info {
  height: 24px;
  line-height: 24px;
}
.list_item input:not([type=checkbox]) {
  padding-top: 3px;
  padding-bottom: 3px;
  height: 22px;
  line-height: 14px;
  margin: 0px;
}
.highlight_text {
  color: blue;
}
#project_name {
  display: inline-block;
  padding-left: 7px;
  margin-left: -2px;
}
#project_name > .breadcrumb {
  padding: 0px;
  margin-bottom: 0px;
  background-color: transparent;
  font-weight: bold;
}
.sort_button {
  display: inline-block;
  padding-left: 7px;
}
[dir="rtl"] .sort_button.pull-right {
  float: left !important;
  float: left;
}
#tree-selector {
  padding-right: 0px;
}
#button-select-all {
  min-width: 50px;
}
[dir="rtl"] #button-select-all.btn {
  float: right ;
}
#select-all {
  margin-left: 7px;
  margin-right: 2px;
  margin-top: 2px;
  height: 16px;
}
[dir="rtl"] #select-all.pull-left {
  float: right !important;
  float: right;
}
.menu_icon {
  margin-right: 2px;
}
.tab-content .row {
  margin-left: 0px;
  margin-right: 0px;
}
.folder_icon:before {
  display: inline-block;
  font: normal normal normal 14px/1 FontAwesome;
  font-size: inherit;
  text-rendering: auto;
  -webkit-font-smoothing: antialiased;
  -moz-osx-font-smoothing: grayscale;
  content: "\f114";
}
.folder_icon:before.fa-pull-left {
  margin-right: .3em;
}
.folder_icon:before.fa-pull-right {
  margin-left: .3em;
}
.folder_icon:before.pull-left {
  margin-right: .3em;
}
.folder_icon:before.pull-right {
  margin-left: .3em;
}
.notebook_icon:before {
  display: inline-block;
  font: normal normal normal 14px/1 FontAwesome;
  font-size: inherit;
  text-rendering: auto;
  -webkit-font-smoothing: antialiased;
  -moz-osx-font-smoothing: grayscale;
  content: "\f02d";
  position: relative;
  top: -1px;
}
.notebook_icon:before.fa-pull-left {
  margin-right: .3em;
}
.notebook_icon:before.fa-pull-right {
  margin-left: .3em;
}
.notebook_icon:before.pull-left {
  margin-right: .3em;
}
.notebook_icon:before.pull-right {
  margin-left: .3em;
}
.running_notebook_icon:before {
  display: inline-block;
  font: normal normal normal 14px/1 FontAwesome;
  font-size: inherit;
  text-rendering: auto;
  -webkit-font-smoothing: antialiased;
  -moz-osx-font-smoothing: grayscale;
  content: "\f02d";
  position: relative;
  top: -1px;
  color: #5cb85c;
}
.running_notebook_icon:before.fa-pull-left {
  margin-right: .3em;
}
.running_notebook_icon:before.fa-pull-right {
  margin-left: .3em;
}
.running_notebook_icon:before.pull-left {
  margin-right: .3em;
}
.running_notebook_icon:before.pull-right {
  margin-left: .3em;
}
.file_icon:before {
  display: inline-block;
  font: normal normal normal 14px/1 FontAwesome;
  font-size: inherit;
  text-rendering: auto;
  -webkit-font-smoothing: antialiased;
  -moz-osx-font-smoothing: grayscale;
  content: "\f016";
  position: relative;
  top: -2px;
}
.file_icon:before.fa-pull-left {
  margin-right: .3em;
}
.file_icon:before.fa-pull-right {
  margin-left: .3em;
}
.file_icon:before.pull-left {
  margin-right: .3em;
}
.file_icon:before.pull-right {
  margin-left: .3em;
}
#notebook_toolbar .pull-right {
  padding-top: 0px;
  margin-right: -1px;
}
ul#new-menu {
  left: auto;
  right: 0;
}
#new-menu .dropdown-header {
  font-size: 10px;
  border-bottom: 1px solid #e5e5e5;
  padding: 0 0 3px;
  margin: -3px 20px 0;
}
.kernel-menu-icon {
  padding-right: 12px;
  width: 24px;
  content: "\f096";
}
.kernel-menu-icon:before {
  content: "\f096";
}
.kernel-menu-icon-current:before {
  content: "\f00c";
}
#tab_content {
  padding-top: 20px;
}
#running .panel-group .panel {
  margin-top: 3px;
  margin-bottom: 1em;
}
#running .panel-group .panel .panel-heading {
  background-color: #EEE;
  padding-top: 4px;
  padding-bottom: 4px;
  padding-left: 7px;
  padding-right: 7px;
  line-height: 22px;
}
#running .panel-group .panel .panel-heading a:focus,
#running .panel-group .panel .panel-heading a:hover {
  text-decoration: none;
}
#running .panel-group .panel .panel-body {
  padding: 0px;
}
#running .panel-group .panel .panel-body .list_container {
  margin-top: 0px;
  margin-bottom: 0px;
  border: 0px;
  border-radius: 0px;
}
#running .panel-group .panel .panel-body .list_container .list_item {
  border-bottom: 1px solid #ddd;
}
#running .panel-group .panel .panel-body .list_container .list_item:last-child {
  border-bottom: 0px;
}
.delete-button {
  display: none;
}
.duplicate-button {
  display: none;
}
.rename-button {
  display: none;
}
.move-button {
  display: none;
}
.download-button {
  display: none;
}
.shutdown-button {
  display: none;
}
.dynamic-instructions {
  display: inline-block;
  padding-top: 4px;
}
/*!
*
* IPython text editor webapp
*
*/
.selected-keymap i.fa {
  padding: 0px 5px;
}
.selected-keymap i.fa:before {
  content: "\f00c";
}
#mode-menu {
  overflow: auto;
  max-height: 20em;
}
.edit_app #header {
  -webkit-box-shadow: 0px 0px 12px 1px rgba(87, 87, 87, 0.2);
  box-shadow: 0px 0px 12px 1px rgba(87, 87, 87, 0.2);
}
.edit_app #menubar .navbar {
  /* Use a negative 1 bottom margin, so the border overlaps the border of the
    header */
  margin-bottom: -1px;
}
.dirty-indicator {
  display: inline-block;
  font: normal normal normal 14px/1 FontAwesome;
  font-size: inherit;
  text-rendering: auto;
  -webkit-font-smoothing: antialiased;
  -moz-osx-font-smoothing: grayscale;
  width: 20px;
}
.dirty-indicator.fa-pull-left {
  margin-right: .3em;
}
.dirty-indicator.fa-pull-right {
  margin-left: .3em;
}
.dirty-indicator.pull-left {
  margin-right: .3em;
}
.dirty-indicator.pull-right {
  margin-left: .3em;
}
.dirty-indicator-dirty {
  display: inline-block;
  font: normal normal normal 14px/1 FontAwesome;
  font-size: inherit;
  text-rendering: auto;
  -webkit-font-smoothing: antialiased;
  -moz-osx-font-smoothing: grayscale;
  width: 20px;
}
.dirty-indicator-dirty.fa-pull-left {
  margin-right: .3em;
}
.dirty-indicator-dirty.fa-pull-right {
  margin-left: .3em;
}
.dirty-indicator-dirty.pull-left {
  margin-right: .3em;
}
.dirty-indicator-dirty.pull-right {
  margin-left: .3em;
}
.dirty-indicator-clean {
  display: inline-block;
  font: normal normal normal 14px/1 FontAwesome;
  font-size: inherit;
  text-rendering: auto;
  -webkit-font-smoothing: antialiased;
  -moz-osx-font-smoothing: grayscale;
  width: 20px;
}
.dirty-indicator-clean.fa-pull-left {
  margin-right: .3em;
}
.dirty-indicator-clean.fa-pull-right {
  margin-left: .3em;
}
.dirty-indicator-clean.pull-left {
  margin-right: .3em;
}
.dirty-indicator-clean.pull-right {
  margin-left: .3em;
}
.dirty-indicator-clean:before {
  display: inline-block;
  font: normal normal normal 14px/1 FontAwesome;
  font-size: inherit;
  text-rendering: auto;
  -webkit-font-smoothing: antialiased;
  -moz-osx-font-smoothing: grayscale;
  content: "\f00c";
}
.dirty-indicator-clean:before.fa-pull-left {
  margin-right: .3em;
}
.dirty-indicator-clean:before.fa-pull-right {
  margin-left: .3em;
}
.dirty-indicator-clean:before.pull-left {
  margin-right: .3em;
}
.dirty-indicator-clean:before.pull-right {
  margin-left: .3em;
}
#filename {
  font-size: 16pt;
  display: table;
  padding: 0px 5px;
}
#current-mode {
  padding-left: 5px;
  padding-right: 5px;
}
#texteditor-backdrop {
  padding-top: 20px;
  padding-bottom: 20px;
}
@media not print {
  #texteditor-backdrop {
    background-color: #EEE;
  }
}
@media print {
  #texteditor-backdrop #texteditor-container .CodeMirror-gutter,
  #texteditor-backdrop #texteditor-container .CodeMirror-gutters {
    background-color: #fff;
  }
}
@media not print {
  #texteditor-backdrop #texteditor-container .CodeMirror-gutter,
  #texteditor-backdrop #texteditor-container .CodeMirror-gutters {
    background-color: #fff;
  }
}
@media not print {
  #texteditor-backdrop #texteditor-container {
    padding: 0px;
    background-color: #fff;
    -webkit-box-shadow: 0px 0px 12px 1px rgba(87, 87, 87, 0.2);
    box-shadow: 0px 0px 12px 1px rgba(87, 87, 87, 0.2);
  }
}
.CodeMirror-dialog {
  background-color: #fff;
}
/*!
*
* IPython notebook
*
*/
/* CSS font colors for translated ANSI escape sequences */
/* The color values are a mix of
   http://www.xcolors.net/dl/baskerville-ivorylight and
   http://www.xcolors.net/dl/euphrasia */
.ansi-black-fg {
  color: #3E424D;
}
.ansi-black-bg {
  background-color: #3E424D;
}
.ansi-black-intense-fg {
  color: #282C36;
}
.ansi-black-intense-bg {
  background-color: #282C36;
}
.ansi-red-fg {
  color: #E75C58;
}
.ansi-red-bg {
  background-color: #E75C58;
}
.ansi-red-intense-fg {
  color: #B22B31;
}
.ansi-red-intense-bg {
  background-color: #B22B31;
}
.ansi-green-fg {
  color: #00A250;
}
.ansi-green-bg {
  background-color: #00A250;
}
.ansi-green-intense-fg {
  color: #007427;
}
.ansi-green-intense-bg {
  background-color: #007427;
}
.ansi-yellow-fg {
  color: #DDB62B;
}
.ansi-yellow-bg {
  background-color: #DDB62B;
}
.ansi-yellow-intense-fg {
  color: #B27D12;
}
.ansi-yellow-intense-bg {
  background-color: #B27D12;
}
.ansi-blue-fg {
  color: #208FFB;
}
.ansi-blue-bg {
  background-color: #208FFB;
}
.ansi-blue-intense-fg {
  color: #0065CA;
}
.ansi-blue-intense-bg {
  background-color: #0065CA;
}
.ansi-magenta-fg {
  color: #D160C4;
}
.ansi-magenta-bg {
  background-color: #D160C4;
}
.ansi-magenta-intense-fg {
  color: #A03196;
}
.ansi-magenta-intense-bg {
  background-color: #A03196;
}
.ansi-cyan-fg {
  color: #60C6C8;
}
.ansi-cyan-bg {
  background-color: #60C6C8;
}
.ansi-cyan-intense-fg {
  color: #258F8F;
}
.ansi-cyan-intense-bg {
  background-color: #258F8F;
}
.ansi-white-fg {
  color: #C5C1B4;
}
.ansi-white-bg {
  background-color: #C5C1B4;
}
.ansi-white-intense-fg {
  color: #A1A6B2;
}
.ansi-white-intense-bg {
  background-color: #A1A6B2;
}
.ansi-default-inverse-fg {
  color: #FFFFFF;
}
.ansi-default-inverse-bg {
  background-color: #000000;
}
.ansi-bold {
  font-weight: bold;
}
.ansi-underline {
  text-decoration: underline;
}
/* The following styles are deprecated an will be removed in a future version */
.ansibold {
  font-weight: bold;
}
.ansi-inverse {
  outline: 0.5px dotted;
}
/* use dark versions for foreground, to improve visibility */
.ansiblack {
  color: black;
}
.ansired {
  color: darkred;
}
.ansigreen {
  color: darkgreen;
}
.ansiyellow {
  color: #c4a000;
}
.ansiblue {
  color: darkblue;
}
.ansipurple {
  color: darkviolet;
}
.ansicyan {
  color: steelblue;
}
.ansigray {
  color: gray;
}
/* and light for background, for the same reason */
.ansibgblack {
  background-color: black;
}
.ansibgred {
  background-color: red;
}
.ansibggreen {
  background-color: green;
}
.ansibgyellow {
  background-color: yellow;
}
.ansibgblue {
  background-color: blue;
}
.ansibgpurple {
  background-color: magenta;
}
.ansibgcyan {
  background-color: cyan;
}
.ansibggray {
  background-color: gray;
}
div.cell {
  /* Old browsers */
  display: -webkit-box;
  -webkit-box-orient: vertical;
  -webkit-box-align: stretch;
  display: -moz-box;
  -moz-box-orient: vertical;
  -moz-box-align: stretch;
  display: box;
  box-orient: vertical;
  box-align: stretch;
  /* Modern browsers */
  display: flex;
  flex-direction: column;
  align-items: stretch;
  border-radius: 2px;
  box-sizing: border-box;
  -moz-box-sizing: border-box;
  -webkit-box-sizing: border-box;
  border-width: 1px;
  border-style: solid;
  border-color: transparent;
  width: 100%;
  padding: 5px;
  /* This acts as a spacer between cells, that is outside the border */
  margin: 0px;
  outline: none;
  position: relative;
  overflow: visible;
}
div.cell:before {
  position: absolute;
  display: block;
  top: -1px;
  left: -1px;
  width: 5px;
  height: calc(100% +  2px);
  content: '';
  background: transparent;
}
div.cell.jupyter-soft-selected {
  border-left-color: #E3F2FD;
  border-left-width: 1px;
  padding-left: 5px;
  border-right-color: #E3F2FD;
  border-right-width: 1px;
  background: #E3F2FD;
}
@media print {
  div.cell.jupyter-soft-selected {
    border-color: transparent;
  }
}
div.cell.selected,
div.cell.selected.jupyter-soft-selected {
  border-color: #ababab;
}
div.cell.selected:before,
div.cell.selected.jupyter-soft-selected:before {
  position: absolute;
  display: block;
  top: -1px;
  left: -1px;
  width: 5px;
  height: calc(100% +  2px);
  content: '';
  background: #42A5F5;
}
@media print {
  div.cell.selected,
  div.cell.selected.jupyter-soft-selected {
    border-color: transparent;
  }
}
.edit_mode div.cell.selected {
  border-color: #66BB6A;
}
.edit_mode div.cell.selected:before {
  position: absolute;
  display: block;
  top: -1px;
  left: -1px;
  width: 5px;
  height: calc(100% +  2px);
  content: '';
  background: #66BB6A;
}
@media print {
  .edit_mode div.cell.selected {
    border-color: transparent;
  }
}
.prompt {
  /* This needs to be wide enough for 3 digit prompt numbers: In[100]: */
  min-width: 14ex;
  /* This padding is tuned to match the padding on the CodeMirror editor. */
  padding: 0.4em;
  margin: 0px;
  font-family: monospace;
  text-align: right;
  /* This has to match that of the the CodeMirror class line-height below */
  line-height: 1.21429em;
  /* Don't highlight prompt number selection */
  -webkit-touch-callout: none;
  -webkit-user-select: none;
  -khtml-user-select: none;
  -moz-user-select: none;
  -ms-user-select: none;
  user-select: none;
  /* Use default cursor */
  cursor: default;
}
@media (max-width: 540px) {
  .prompt {
    text-align: left;
  }
}
div.inner_cell {
  min-width: 0;
  /* Old browsers */
  display: -webkit-box;
  -webkit-box-orient: vertical;
  -webkit-box-align: stretch;
  display: -moz-box;
  -moz-box-orient: vertical;
  -moz-box-align: stretch;
  display: box;
  box-orient: vertical;
  box-align: stretch;
  /* Modern browsers */
  display: flex;
  flex-direction: column;
  align-items: stretch;
  /* Old browsers */
  -webkit-box-flex: 1;
  -moz-box-flex: 1;
  box-flex: 1;
  /* Modern browsers */
  flex: 1;
}
/* input_area and input_prompt must match in top border and margin for alignment */
div.input_area {
  border: 1px solid #cfcfcf;
  border-radius: 2px;
  background: #f7f7f7;
  line-height: 1.21429em;
}
/* This is needed so that empty prompt areas can collapse to zero height when there
   is no content in the output_subarea and the prompt. The main purpose of this is
   to make sure that empty JavaScript output_subareas have no height. */
div.prompt:empty {
  padding-top: 0;
  padding-bottom: 0;
}
div.unrecognized_cell {
  padding: 5px 5px 5px 0px;
  /* Old browsers */
  display: -webkit-box;
  -webkit-box-orient: horizontal;
  -webkit-box-align: stretch;
  display: -moz-box;
  -moz-box-orient: horizontal;
  -moz-box-align: stretch;
  display: box;
  box-orient: horizontal;
  box-align: stretch;
  /* Modern browsers */
  display: flex;
  flex-direction: row;
  align-items: stretch;
}
div.unrecognized_cell .inner_cell {
  border-radius: 2px;
  padding: 5px;
  font-weight: bold;
  color: red;
  border: 1px solid #cfcfcf;
  background: #eaeaea;
}
div.unrecognized_cell .inner_cell a {
  color: inherit;
  text-decoration: none;
}
div.unrecognized_cell .inner_cell a:hover {
  color: inherit;
  text-decoration: none;
}
@media (max-width: 540px) {
  div.unrecognized_cell > div.prompt {
    display: none;
  }
}
div.code_cell {
  /* avoid page breaking on code cells when printing */
}
@media print {
  div.code_cell {
    page-break-inside: avoid;
  }
}
/* any special styling for code cells that are currently running goes here */
div.input {
  page-break-inside: avoid;
  /* Old browsers */
  display: -webkit-box;
  -webkit-box-orient: horizontal;
  -webkit-box-align: stretch;
  display: -moz-box;
  -moz-box-orient: horizontal;
  -moz-box-align: stretch;
  display: box;
  box-orient: horizontal;
  box-align: stretch;
  /* Modern browsers */
  display: flex;
  flex-direction: row;
  align-items: stretch;
}
@media (max-width: 540px) {
  div.input {
    /* Old browsers */
    display: -webkit-box;
    -webkit-box-orient: vertical;
    -webkit-box-align: stretch;
    display: -moz-box;
    -moz-box-orient: vertical;
    -moz-box-align: stretch;
    display: box;
    box-orient: vertical;
    box-align: stretch;
    /* Modern browsers */
    display: flex;
    flex-direction: column;
    align-items: stretch;
  }
}
/* input_area and input_prompt must match in top border and margin for alignment */
div.input_prompt {
  color: #303F9F;
  border-top: 1px solid transparent;
}
div.input_area > div.highlight {
  margin: 0.4em;
  border: none;
  padding: 0px;
  background-color: transparent;
}
div.input_area > div.highlight > pre {
  margin: 0px;
  border: none;
  padding: 0px;
  background-color: transparent;
}
/* The following gets added to the <head> if it is detected that the user has a
 * monospace font with inconsistent normal/bold/italic height.  See
 * notebookmain.js.  Such fonts will have keywords vertically offset with
 * respect to the rest of the text.  The user should select a better font.
 * See: https://github.com/ipython/ipython/issues/1503
 *
 * .CodeMirror span {
 *      vertical-align: bottom;
 * }
 */
.CodeMirror {
  line-height: 1.21429em;
  /* Changed from 1em to our global default */
  font-size: 14px;
  height: auto;
  /* Changed to auto to autogrow */
  background: none;
  /* Changed from white to allow our bg to show through */
}
.CodeMirror-scroll {
  /*  The CodeMirror docs are a bit fuzzy on if overflow-y should be hidden or visible.*/
  /*  We have found that if it is visible, vertical scrollbars appear with font size changes.*/
  overflow-y: hidden;
  overflow-x: auto;
}
.CodeMirror-lines {
  /* In CM2, this used to be 0.4em, but in CM3 it went to 4px. We need the em value because */
  /* we have set a different line-height and want this to scale with that. */
  /* Note that this should set vertical padding only, since CodeMirror assumes
       that horizontal padding will be set on CodeMirror pre */
  padding: 0.4em 0;
}
.CodeMirror-linenumber {
  padding: 0 8px 0 4px;
}
.CodeMirror-gutters {
  border-bottom-left-radius: 2px;
  border-top-left-radius: 2px;
}
.CodeMirror pre {
  /* In CM3 this went to 4px from 0 in CM2. This sets horizontal padding only,
    use .CodeMirror-lines for vertical */
  padding: 0 0.4em;
  border: 0;
  border-radius: 0;
}
.CodeMirror-cursor {
  border-left: 1.4px solid black;
}
@media screen and (min-width: 2138px) and (max-width: 4319px) {
  .CodeMirror-cursor {
    border-left: 2px solid black;
  }
}
@media screen and (min-width: 4320px) {
  .CodeMirror-cursor {
    border-left: 4px solid black;
  }
}
/*

Original style from softwaremaniacs.org (c) Ivan Sagalaev <Maniac@SoftwareManiacs.Org>
Adapted from GitHub theme

*/
.highlight-base {
  color: #000;
}
.highlight-variable {
  color: #000;
}
.highlight-variable-2 {
  color: #1a1a1a;
}
.highlight-variable-3 {
  color: #333333;
}
.highlight-string {
  color: #BA2121;
}
.highlight-comment {
  color: #408080;
  font-style: italic;
}
.highlight-number {
  color: #080;
}
.highlight-atom {
  color: #88F;
}
.highlight-keyword {
  color: #008000;
  font-weight: bold;
}
.highlight-builtin {
  color: #008000;
}
.highlight-error {
  color: #f00;
}
.highlight-operator {
  color: #AA22FF;
  font-weight: bold;
}
.highlight-meta {
  color: #AA22FF;
}
/* previously not defined, copying from default codemirror */
.highlight-def {
  color: #00f;
}
.highlight-string-2 {
  color: #f50;
}
.highlight-qualifier {
  color: #555;
}
.highlight-bracket {
  color: #997;
}
.highlight-tag {
  color: #170;
}
.highlight-attribute {
  color: #00c;
}
.highlight-header {
  color: blue;
}
.highlight-quote {
  color: #090;
}
.highlight-link {
  color: #00c;
}
/* apply the same style to codemirror */
.cm-s-ipython span.cm-keyword {
  color: #008000;
  font-weight: bold;
}
.cm-s-ipython span.cm-atom {
  color: #88F;
}
.cm-s-ipython span.cm-number {
  color: #080;
}
.cm-s-ipython span.cm-def {
  color: #00f;
}
.cm-s-ipython span.cm-variable {
  color: #000;
}
.cm-s-ipython span.cm-operator {
  color: #AA22FF;
  font-weight: bold;
}
.cm-s-ipython span.cm-variable-2 {
  color: #1a1a1a;
}
.cm-s-ipython span.cm-variable-3 {
  color: #333333;
}
.cm-s-ipython span.cm-comment {
  color: #408080;
  font-style: italic;
}
.cm-s-ipython span.cm-string {
  color: #BA2121;
}
.cm-s-ipython span.cm-string-2 {
  color: #f50;
}
.cm-s-ipython span.cm-meta {
  color: #AA22FF;
}
.cm-s-ipython span.cm-qualifier {
  color: #555;
}
.cm-s-ipython span.cm-builtin {
  color: #008000;
}
.cm-s-ipython span.cm-bracket {
  color: #997;
}
.cm-s-ipython span.cm-tag {
  color: #170;
}
.cm-s-ipython span.cm-attribute {
  color: #00c;
}
.cm-s-ipython span.cm-header {
  color: blue;
}
.cm-s-ipython span.cm-quote {
  color: #090;
}
.cm-s-ipython span.cm-link {
  color: #00c;
}
.cm-s-ipython span.cm-error {
  color: #f00;
}
.cm-s-ipython span.cm-tab {
  background: url(data:image/png;base64,iVBORw0KGgoAAAANSUhEUgAAADAAAAAMCAYAAAAkuj5RAAAAAXNSR0IArs4c6QAAAGFJREFUSMft1LsRQFAQheHPowAKoACx3IgEKtaEHujDjORSgWTH/ZOdnZOcM/sgk/kFFWY0qV8foQwS4MKBCS3qR6ixBJvElOobYAtivseIE120FaowJPN75GMu8j/LfMwNjh4HUpwg4LUAAAAASUVORK5CYII=);
  background-position: right;
  background-repeat: no-repeat;
}
div.output_wrapper {
  /* this position must be relative to enable descendents to be absolute within it */
  position: relative;
  /* Old browsers */
  display: -webkit-box;
  -webkit-box-orient: vertical;
  -webkit-box-align: stretch;
  display: -moz-box;
  -moz-box-orient: vertical;
  -moz-box-align: stretch;
  display: box;
  box-orient: vertical;
  box-align: stretch;
  /* Modern browsers */
  display: flex;
  flex-direction: column;
  align-items: stretch;
  z-index: 1;
}
/* class for the output area when it should be height-limited */
div.output_scroll {
  /* ideally, this would be max-height, but FF barfs all over that */
  height: 24em;
  /* FF needs this *and the wrapper* to specify full width, or it will shrinkwrap */
  width: 100%;
  overflow: auto;
  border-radius: 2px;
  -webkit-box-shadow: inset 0 2px 8px rgba(0, 0, 0, 0.8);
  box-shadow: inset 0 2px 8px rgba(0, 0, 0, 0.8);
  display: block;
}
/* output div while it is collapsed */
div.output_collapsed {
  margin: 0px;
  padding: 0px;
  /* Old browsers */
  display: -webkit-box;
  -webkit-box-orient: vertical;
  -webkit-box-align: stretch;
  display: -moz-box;
  -moz-box-orient: vertical;
  -moz-box-align: stretch;
  display: box;
  box-orient: vertical;
  box-align: stretch;
  /* Modern browsers */
  display: flex;
  flex-direction: column;
  align-items: stretch;
}
div.out_prompt_overlay {
  height: 100%;
  padding: 0px 0.4em;
  position: absolute;
  border-radius: 2px;
}
div.out_prompt_overlay:hover {
  /* use inner shadow to get border that is computed the same on WebKit/FF */
  -webkit-box-shadow: inset 0 0 1px #000;
  box-shadow: inset 0 0 1px #000;
  background: rgba(240, 240, 240, 0.5);
}
div.output_prompt {
  color: #D84315;
}
/* This class is the outer container of all output sections. */
div.output_area {
  padding: 0px;
  page-break-inside: avoid;
  /* Old browsers */
  display: -webkit-box;
  -webkit-box-orient: horizontal;
  -webkit-box-align: stretch;
  display: -moz-box;
  -moz-box-orient: horizontal;
  -moz-box-align: stretch;
  display: box;
  box-orient: horizontal;
  box-align: stretch;
  /* Modern browsers */
  display: flex;
  flex-direction: row;
  align-items: stretch;
}
div.output_area .MathJax_Display {
  text-align: left !important;
}
div.output_area .rendered_html table {
  margin-left: 0;
  margin-right: 0;
}
div.output_area .rendered_html img {
  margin-left: 0;
  margin-right: 0;
}
div.output_area img,
div.output_area svg {
  max-width: 100%;
  height: auto;
}
div.output_area img.unconfined,
div.output_area svg.unconfined {
  max-width: none;
}
div.output_area .mglyph > img {
  max-width: none;
}
/* This is needed to protect the pre formating from global settings such
   as that of bootstrap */
.output {
  /* Old browsers */
  display: -webkit-box;
  -webkit-box-orient: vertical;
  -webkit-box-align: stretch;
  display: -moz-box;
  -moz-box-orient: vertical;
  -moz-box-align: stretch;
  display: box;
  box-orient: vertical;
  box-align: stretch;
  /* Modern browsers */
  display: flex;
  flex-direction: column;
  align-items: stretch;
}
@media (max-width: 540px) {
  div.output_area {
    /* Old browsers */
    display: -webkit-box;
    -webkit-box-orient: vertical;
    -webkit-box-align: stretch;
    display: -moz-box;
    -moz-box-orient: vertical;
    -moz-box-align: stretch;
    display: box;
    box-orient: vertical;
    box-align: stretch;
    /* Modern browsers */
    display: flex;
    flex-direction: column;
    align-items: stretch;
  }
}
div.output_area pre {
  margin: 0;
  padding: 1px 0 1px 0;
  border: 0;
  vertical-align: baseline;
  color: black;
  background-color: transparent;
  border-radius: 0;
}
/* This class is for the output subarea inside the output_area and after
   the prompt div. */
div.output_subarea {
  overflow-x: auto;
  padding: 0.4em;
  /* Old browsers */
  -webkit-box-flex: 1;
  -moz-box-flex: 1;
  box-flex: 1;
  /* Modern browsers */
  flex: 1;
  max-width: calc(100% - 14ex);
}
div.output_scroll div.output_subarea {
  overflow-x: visible;
}
/* The rest of the output_* classes are for special styling of the different
   output types */
/* all text output has this class: */
div.output_text {
  text-align: left;
  color: #000;
  /* This has to match that of the the CodeMirror class line-height below */
  line-height: 1.21429em;
}
/* stdout/stderr are 'text' as well as 'stream', but execute_result/error are *not* streams */
div.output_stderr {
  background: #fdd;
  /* very light red background for stderr */
}
div.output_latex {
  text-align: left;
}
/* Empty output_javascript divs should have no height */
div.output_javascript:empty {
  padding: 0;
}
.js-error {
  color: darkred;
}
/* raw_input styles */
div.raw_input_container {
  line-height: 1.21429em;
  padding-top: 5px;
}
pre.raw_input_prompt {
  /* nothing needed here. */
}
input.raw_input {
  font-family: monospace;
  font-size: inherit;
  color: inherit;
  width: auto;
  /* make sure input baseline aligns with prompt */
  vertical-align: baseline;
  /* padding + margin = 0.5em between prompt and cursor */
  padding: 0em 0.25em;
  margin: 0em 0.25em;
}
input.raw_input:focus {
  box-shadow: none;
}
p.p-space {
  margin-bottom: 10px;
}
div.output_unrecognized {
  padding: 5px;
  font-weight: bold;
  color: red;
}
div.output_unrecognized a {
  color: inherit;
  text-decoration: none;
}
div.output_unrecognized a:hover {
  color: inherit;
  text-decoration: none;
}
.rendered_html {
  color: #000;
  /* any extras will just be numbers: */
}
.rendered_html em {
  font-style: italic;
}
.rendered_html strong {
  font-weight: bold;
}
.rendered_html u {
  text-decoration: underline;
}
.rendered_html :link {
  text-decoration: underline;
}
.rendered_html :visited {
  text-decoration: underline;
}
.rendered_html h1 {
  font-size: 185.7%;
  margin: 1.08em 0 0 0;
  font-weight: bold;
  line-height: 1.0;
}
.rendered_html h2 {
  font-size: 157.1%;
  margin: 1.27em 0 0 0;
  font-weight: bold;
  line-height: 1.0;
}
.rendered_html h3 {
  font-size: 128.6%;
  margin: 1.55em 0 0 0;
  font-weight: bold;
  line-height: 1.0;
}
.rendered_html h4 {
  font-size: 100%;
  margin: 2em 0 0 0;
  font-weight: bold;
  line-height: 1.0;
}
.rendered_html h5 {
  font-size: 100%;
  margin: 2em 0 0 0;
  font-weight: bold;
  line-height: 1.0;
  font-style: italic;
}
.rendered_html h6 {
  font-size: 100%;
  margin: 2em 0 0 0;
  font-weight: bold;
  line-height: 1.0;
  font-style: italic;
}
.rendered_html h1:first-child {
  margin-top: 0.538em;
}
.rendered_html h2:first-child {
  margin-top: 0.636em;
}
.rendered_html h3:first-child {
  margin-top: 0.777em;
}
.rendered_html h4:first-child {
  margin-top: 1em;
}
.rendered_html h5:first-child {
  margin-top: 1em;
}
.rendered_html h6:first-child {
  margin-top: 1em;
}
.rendered_html ul:not(.list-inline),
.rendered_html ol:not(.list-inline) {
  padding-left: 2em;
}
.rendered_html ul {
  list-style: disc;
}
.rendered_html ul ul {
  list-style: square;
  margin-top: 0;
}
.rendered_html ul ul ul {
  list-style: circle;
}
.rendered_html ol {
  list-style: decimal;
}
.rendered_html ol ol {
  list-style: upper-alpha;
  margin-top: 0;
}
.rendered_html ol ol ol {
  list-style: lower-alpha;
}
.rendered_html ol ol ol ol {
  list-style: lower-roman;
}
.rendered_html ol ol ol ol ol {
  list-style: decimal;
}
.rendered_html * + ul {
  margin-top: 1em;
}
.rendered_html * + ol {
  margin-top: 1em;
}
.rendered_html hr {
  color: black;
  background-color: black;
}
.rendered_html pre {
  margin: 1em 2em;
  padding: 0px;
  background-color: #fff;
}
.rendered_html code {
  background-color: #eff0f1;
}
.rendered_html p code {
  padding: 1px 5px;
}
.rendered_html pre code {
  background-color: #fff;
}
.rendered_html pre,
.rendered_html code {
  border: 0;
  color: #000;
  font-size: 100%;
}
.rendered_html blockquote {
  margin: 1em 2em;
}
.rendered_html table {
  margin-left: auto;
  margin-right: auto;
  border: none;
  border-collapse: collapse;
  border-spacing: 0;
  color: black;
  font-size: 12px;
  table-layout: fixed;
}
.rendered_html thead {
  border-bottom: 1px solid black;
  vertical-align: bottom;
}
.rendered_html tr,
.rendered_html th,
.rendered_html td {
  text-align: right;
  vertical-align: middle;
  padding: 0.5em 0.5em;
  line-height: normal;
  white-space: normal;
  max-width: none;
  border: none;
}
.rendered_html th {
  font-weight: bold;
}
.rendered_html tbody tr:nth-child(odd) {
  background: #f5f5f5;
}
.rendered_html tbody tr:hover {
  background: rgba(66, 165, 245, 0.2);
}
.rendered_html * + table {
  margin-top: 1em;
}
.rendered_html p {
  text-align: left;
}
.rendered_html * + p {
  margin-top: 1em;
}
.rendered_html img {
  display: block;
  margin-left: auto;
  margin-right: auto;
}
.rendered_html * + img {
  margin-top: 1em;
}
.rendered_html img,
.rendered_html svg {
  max-width: 100%;
  height: auto;
}
.rendered_html img.unconfined,
.rendered_html svg.unconfined {
  max-width: none;
}
.rendered_html .alert {
  margin-bottom: initial;
}
.rendered_html * + .alert {
  margin-top: 1em;
}
[dir="rtl"] .rendered_html p {
  text-align: right;
}
div.text_cell {
  /* Old browsers */
  display: -webkit-box;
  -webkit-box-orient: horizontal;
  -webkit-box-align: stretch;
  display: -moz-box;
  -moz-box-orient: horizontal;
  -moz-box-align: stretch;
  display: box;
  box-orient: horizontal;
  box-align: stretch;
  /* Modern browsers */
  display: flex;
  flex-direction: row;
  align-items: stretch;
}
@media (max-width: 540px) {
  div.text_cell > div.prompt {
    display: none;
  }
}
div.text_cell_render {
  /*font-family: "Helvetica Neue", Arial, Helvetica, Geneva, sans-serif;*/
  outline: none;
  resize: none;
  width: inherit;
  border-style: none;
  padding: 0.5em 0.5em 0.5em 0.4em;
  color: #000;
  box-sizing: border-box;
  -moz-box-sizing: border-box;
  -webkit-box-sizing: border-box;
}
a.anchor-link:link {
  text-decoration: none;
  padding: 0px 20px;
  visibility: hidden;
}
h1:hover .anchor-link,
h2:hover .anchor-link,
h3:hover .anchor-link,
h4:hover .anchor-link,
h5:hover .anchor-link,
h6:hover .anchor-link {
  visibility: visible;
}
.text_cell.rendered .input_area {
  display: none;
}
.text_cell.rendered .rendered_html {
  overflow-x: auto;
  overflow-y: hidden;
}
.text_cell.rendered .rendered_html tr,
.text_cell.rendered .rendered_html th,
.text_cell.rendered .rendered_html td {
  max-width: none;
}
.text_cell.unrendered .text_cell_render {
  display: none;
}
.text_cell .dropzone .input_area {
  border: 2px dashed #bababa;
  margin: -1px;
}
.cm-header-1,
.cm-header-2,
.cm-header-3,
.cm-header-4,
.cm-header-5,
.cm-header-6 {
  font-weight: bold;
  font-family: "Helvetica Neue", Helvetica, Arial, sans-serif;
}
.cm-header-1 {
  font-size: 185.7%;
}
.cm-header-2 {
  font-size: 157.1%;
}
.cm-header-3 {
  font-size: 128.6%;
}
.cm-header-4 {
  font-size: 110%;
}
.cm-header-5 {
  font-size: 100%;
  font-style: italic;
}
.cm-header-6 {
  font-size: 100%;
  font-style: italic;
}
/*!
*
* IPython notebook webapp
*
*/
@media (max-width: 767px) {
  .notebook_app {
    padding-left: 0px;
    padding-right: 0px;
  }
}
#ipython-main-app {
  box-sizing: border-box;
  -moz-box-sizing: border-box;
  -webkit-box-sizing: border-box;
  height: 100%;
}
div#notebook_panel {
  margin: 0px;
  padding: 0px;
  box-sizing: border-box;
  -moz-box-sizing: border-box;
  -webkit-box-sizing: border-box;
  height: 100%;
}
div#notebook {
  font-size: 14px;
  line-height: 20px;
  overflow-y: hidden;
  overflow-x: auto;
  width: 100%;
  /* This spaces the page away from the edge of the notebook area */
  padding-top: 20px;
  margin: 0px;
  outline: none;
  box-sizing: border-box;
  -moz-box-sizing: border-box;
  -webkit-box-sizing: border-box;
  min-height: 100%;
}
@media not print {
  #notebook-container {
    padding: 15px;
    background-color: #fff;
    min-height: 0;
    -webkit-box-shadow: 0px 0px 12px 1px rgba(87, 87, 87, 0.2);
    box-shadow: 0px 0px 12px 1px rgba(87, 87, 87, 0.2);
  }
}
@media print {
  #notebook-container {
    width: 100%;
  }
}
div.ui-widget-content {
  border: 1px solid #ababab;
  outline: none;
}
pre.dialog {
  background-color: #f7f7f7;
  border: 1px solid #ddd;
  border-radius: 2px;
  padding: 0.4em;
  padding-left: 2em;
}
p.dialog {
  padding: 0.2em;
}
/* Word-wrap output correctly.  This is the CSS3 spelling, though Firefox seems
   to not honor it correctly.  Webkit browsers (Chrome, rekonq, Safari) do.
 */
pre,
code,
kbd,
samp {
  white-space: pre-wrap;
}
#fonttest {
  font-family: monospace;
}
p {
  margin-bottom: 0;
}
.end_space {
  min-height: 100px;
  transition: height .2s ease;
}
.notebook_app > #header {
  -webkit-box-shadow: 0px 0px 12px 1px rgba(87, 87, 87, 0.2);
  box-shadow: 0px 0px 12px 1px rgba(87, 87, 87, 0.2);
}
@media not print {
  .notebook_app {
    background-color: #EEE;
  }
}
kbd {
  border-style: solid;
  border-width: 1px;
  box-shadow: none;
  margin: 2px;
  padding-left: 2px;
  padding-right: 2px;
  padding-top: 1px;
  padding-bottom: 1px;
}
.jupyter-keybindings {
  padding: 1px;
  line-height: 24px;
  border-bottom: 1px solid gray;
}
.jupyter-keybindings input {
  margin: 0;
  padding: 0;
  border: none;
}
.jupyter-keybindings i {
  padding: 6px;
}
.well code {
  background-color: #ffffff;
  border-color: #ababab;
  border-width: 1px;
  border-style: solid;
  padding: 2px;
  padding-top: 1px;
  padding-bottom: 1px;
}
/* CSS for the cell toolbar */
.celltoolbar {
  border: thin solid #CFCFCF;
  border-bottom: none;
  background: #EEE;
  border-radius: 2px 2px 0px 0px;
  width: 100%;
  height: 29px;
  padding-right: 4px;
  /* Old browsers */
  display: -webkit-box;
  -webkit-box-orient: horizontal;
  -webkit-box-align: stretch;
  display: -moz-box;
  -moz-box-orient: horizontal;
  -moz-box-align: stretch;
  display: box;
  box-orient: horizontal;
  box-align: stretch;
  /* Modern browsers */
  display: flex;
  flex-direction: row;
  align-items: stretch;
  /* Old browsers */
  -webkit-box-pack: end;
  -moz-box-pack: end;
  box-pack: end;
  /* Modern browsers */
  justify-content: flex-end;
  display: -webkit-flex;
}
@media print {
  .celltoolbar {
    display: none;
  }
}
.ctb_hideshow {
  display: none;
  vertical-align: bottom;
}
/* ctb_show is added to the ctb_hideshow div to show the cell toolbar.
   Cell toolbars are only shown when the ctb_global_show class is also set.
*/
.ctb_global_show .ctb_show.ctb_hideshow {
  display: block;
}
.ctb_global_show .ctb_show + .input_area,
.ctb_global_show .ctb_show + div.text_cell_input,
.ctb_global_show .ctb_show ~ div.text_cell_render {
  border-top-right-radius: 0px;
  border-top-left-radius: 0px;
}
.ctb_global_show .ctb_show ~ div.text_cell_render {
  border: 1px solid #cfcfcf;
}
.celltoolbar {
  font-size: 87%;
  padding-top: 3px;
}
.celltoolbar select {
  display: block;
  width: 100%;
  height: 32px;
  padding: 6px 12px;
  font-size: 13px;
  line-height: 1.42857143;
  color: #555555;
  background-color: #fff;
  background-image: none;
  border: 1px solid #ccc;
  border-radius: 2px;
  -webkit-box-shadow: inset 0 1px 1px rgba(0, 0, 0, 0.075);
  box-shadow: inset 0 1px 1px rgba(0, 0, 0, 0.075);
  -webkit-transition: border-color ease-in-out .15s, box-shadow ease-in-out .15s;
  -o-transition: border-color ease-in-out .15s, box-shadow ease-in-out .15s;
  transition: border-color ease-in-out .15s, box-shadow ease-in-out .15s;
  height: 30px;
  padding: 5px 10px;
  font-size: 12px;
  line-height: 1.5;
  border-radius: 1px;
  width: inherit;
  font-size: inherit;
  height: 22px;
  padding: 0px;
  display: inline-block;
}
.celltoolbar select:focus {
  border-color: #66afe9;
  outline: 0;
  -webkit-box-shadow: inset 0 1px 1px rgba(0,0,0,.075), 0 0 8px rgba(102, 175, 233, 0.6);
  box-shadow: inset 0 1px 1px rgba(0,0,0,.075), 0 0 8px rgba(102, 175, 233, 0.6);
}
.celltoolbar select::-moz-placeholder {
  color: #999;
  opacity: 1;
}
.celltoolbar select:-ms-input-placeholder {
  color: #999;
}
.celltoolbar select::-webkit-input-placeholder {
  color: #999;
}
.celltoolbar select::-ms-expand {
  border: 0;
  background-color: transparent;
}
.celltoolbar select[disabled],
.celltoolbar select[readonly],
fieldset[disabled] .celltoolbar select {
  background-color: #eeeeee;
  opacity: 1;
}
.celltoolbar select[disabled],
fieldset[disabled] .celltoolbar select {
  cursor: not-allowed;
}
textarea.celltoolbar select {
  height: auto;
}
select.celltoolbar select {
  height: 30px;
  line-height: 30px;
}
textarea.celltoolbar select,
select[multiple].celltoolbar select {
  height: auto;
}
.celltoolbar label {
  margin-left: 5px;
  margin-right: 5px;
}
.tags_button_container {
  width: 100%;
  display: flex;
}
.tag-container {
  display: flex;
  flex-direction: row;
  flex-grow: 1;
  overflow: hidden;
  position: relative;
}
.tag-container > * {
  margin: 0 4px;
}
.remove-tag-btn {
  margin-left: 4px;
}
.tags-input {
  display: flex;
}
.cell-tag:last-child:after {
  content: "";
  position: absolute;
  right: 0;
  width: 40px;
  height: 100%;
  /* Fade to background color of cell toolbar */
  background: linear-gradient(to right, rgba(0, 0, 0, 0), #EEE);
}
.tags-input > * {
  margin-left: 4px;
}
.cell-tag,
.tags-input input,
.tags-input button {
  display: block;
  width: 100%;
  height: 32px;
  padding: 6px 12px;
  font-size: 13px;
  line-height: 1.42857143;
  color: #555555;
  background-color: #fff;
  background-image: none;
  border: 1px solid #ccc;
  border-radius: 2px;
  -webkit-box-shadow: inset 0 1px 1px rgba(0, 0, 0, 0.075);
  box-shadow: inset 0 1px 1px rgba(0, 0, 0, 0.075);
  -webkit-transition: border-color ease-in-out .15s, box-shadow ease-in-out .15s;
  -o-transition: border-color ease-in-out .15s, box-shadow ease-in-out .15s;
  transition: border-color ease-in-out .15s, box-shadow ease-in-out .15s;
  height: 30px;
  padding: 5px 10px;
  font-size: 12px;
  line-height: 1.5;
  border-radius: 1px;
  box-shadow: none;
  width: inherit;
  font-size: inherit;
  height: 22px;
  line-height: 22px;
  padding: 0px 4px;
  display: inline-block;
}
.cell-tag:focus,
.tags-input input:focus,
.tags-input button:focus {
  border-color: #66afe9;
  outline: 0;
  -webkit-box-shadow: inset 0 1px 1px rgba(0,0,0,.075), 0 0 8px rgba(102, 175, 233, 0.6);
  box-shadow: inset 0 1px 1px rgba(0,0,0,.075), 0 0 8px rgba(102, 175, 233, 0.6);
}
.cell-tag::-moz-placeholder,
.tags-input input::-moz-placeholder,
.tags-input button::-moz-placeholder {
  color: #999;
  opacity: 1;
}
.cell-tag:-ms-input-placeholder,
.tags-input input:-ms-input-placeholder,
.tags-input button:-ms-input-placeholder {
  color: #999;
}
.cell-tag::-webkit-input-placeholder,
.tags-input input::-webkit-input-placeholder,
.tags-input button::-webkit-input-placeholder {
  color: #999;
}
.cell-tag::-ms-expand,
.tags-input input::-ms-expand,
.tags-input button::-ms-expand {
  border: 0;
  background-color: transparent;
}
.cell-tag[disabled],
.tags-input input[disabled],
.tags-input button[disabled],
.cell-tag[readonly],
.tags-input input[readonly],
.tags-input button[readonly],
fieldset[disabled] .cell-tag,
fieldset[disabled] .tags-input input,
fieldset[disabled] .tags-input button {
  background-color: #eeeeee;
  opacity: 1;
}
.cell-tag[disabled],
.tags-input input[disabled],
.tags-input button[disabled],
fieldset[disabled] .cell-tag,
fieldset[disabled] .tags-input input,
fieldset[disabled] .tags-input button {
  cursor: not-allowed;
}
textarea.cell-tag,
textarea.tags-input input,
textarea.tags-input button {
  height: auto;
}
select.cell-tag,
select.tags-input input,
select.tags-input button {
  height: 30px;
  line-height: 30px;
}
textarea.cell-tag,
textarea.tags-input input,
textarea.tags-input button,
select[multiple].cell-tag,
select[multiple].tags-input input,
select[multiple].tags-input button {
  height: auto;
}
.cell-tag,
.tags-input button {
  padding: 0px 4px;
}
.cell-tag {
  background-color: #fff;
  white-space: nowrap;
}
.tags-input input[type=text]:focus {
  outline: none;
  box-shadow: none;
  border-color: #ccc;
}
.completions {
  position: absolute;
  z-index: 110;
  overflow: hidden;
  border: 1px solid #ababab;
  border-radius: 2px;
  -webkit-box-shadow: 0px 6px 10px -1px #adadad;
  box-shadow: 0px 6px 10px -1px #adadad;
  line-height: 1;
}
.completions select {
  background: white;
  outline: none;
  border: none;
  padding: 0px;
  margin: 0px;
  overflow: auto;
  font-family: monospace;
  font-size: 110%;
  color: #000;
  width: auto;
}
.completions select option.context {
  color: #286090;
}
#kernel_logo_widget .current_kernel_logo {
  display: none;
  margin-top: -1px;
  margin-bottom: -1px;
  width: 32px;
  height: 32px;
}
[dir="rtl"] #kernel_logo_widget {
  float: left !important;
  float: left;
}
.modal .modal-body .move-path {
  display: flex;
  flex-direction: row;
  justify-content: space;
  align-items: center;
}
.modal .modal-body .move-path .server-root {
  padding-right: 20px;
}
.modal .modal-body .move-path .path-input {
  flex: 1;
}
#menubar {
  box-sizing: border-box;
  -moz-box-sizing: border-box;
  -webkit-box-sizing: border-box;
  margin-top: 1px;
}
#menubar .navbar {
  border-top: 1px;
  border-radius: 0px 0px 2px 2px;
  margin-bottom: 0px;
}
#menubar .navbar-toggle {
  float: left;
  padding-top: 7px;
  padding-bottom: 7px;
  border: none;
}
#menubar .navbar-collapse {
  clear: left;
}
[dir="rtl"] #menubar .navbar-toggle {
  float: right;
}
[dir="rtl"] #menubar .navbar-collapse {
  clear: right;
}
[dir="rtl"] #menubar .navbar-nav {
  float: right;
}
[dir="rtl"] #menubar .nav {
  padding-right: 0px;
}
[dir="rtl"] #menubar .navbar-nav > li {
  float: right;
}
[dir="rtl"] #menubar .navbar-right {
  float: left !important;
}
[dir="rtl"] ul.dropdown-menu {
  text-align: right;
  left: auto;
}
[dir="rtl"] ul#new-menu.dropdown-menu {
  right: auto;
  left: 0;
}
.nav-wrapper {
  border-bottom: 1px solid #e7e7e7;
}
i.menu-icon {
  padding-top: 4px;
}
[dir="rtl"] i.menu-icon.pull-right {
  float: left !important;
  float: left;
}
ul#help_menu li a {
  overflow: hidden;
  padding-right: 2.2em;
}
ul#help_menu li a i {
  margin-right: -1.2em;
}
[dir="rtl"] ul#help_menu li a {
  padding-left: 2.2em;
}
[dir="rtl"] ul#help_menu li a i {
  margin-right: 0;
  margin-left: -1.2em;
}
[dir="rtl"] ul#help_menu li a i.pull-right {
  float: left !important;
  float: left;
}
.dropdown-submenu {
  position: relative;
}
.dropdown-submenu > .dropdown-menu {
  top: 0;
  left: 100%;
  margin-top: -6px;
  margin-left: -1px;
}
[dir="rtl"] .dropdown-submenu > .dropdown-menu {
  right: 100%;
  margin-right: -1px;
}
.dropdown-submenu:hover > .dropdown-menu {
  display: block;
}
.dropdown-submenu > a:after {
  display: inline-block;
  font: normal normal normal 14px/1 FontAwesome;
  font-size: inherit;
  text-rendering: auto;
  -webkit-font-smoothing: antialiased;
  -moz-osx-font-smoothing: grayscale;
  display: block;
  content: "\f0da";
  float: right;
  color: #333333;
  margin-top: 2px;
  margin-right: -10px;
}
.dropdown-submenu > a:after.fa-pull-left {
  margin-right: .3em;
}
.dropdown-submenu > a:after.fa-pull-right {
  margin-left: .3em;
}
.dropdown-submenu > a:after.pull-left {
  margin-right: .3em;
}
.dropdown-submenu > a:after.pull-right {
  margin-left: .3em;
}
[dir="rtl"] .dropdown-submenu > a:after {
  float: left;
  content: "\f0d9";
  margin-right: 0;
  margin-left: -10px;
}
.dropdown-submenu:hover > a:after {
  color: #262626;
}
.dropdown-submenu.pull-left {
  float: none;
}
.dropdown-submenu.pull-left > .dropdown-menu {
  left: -100%;
  margin-left: 10px;
}
#notification_area {
  float: right !important;
  float: right;
  z-index: 10;
}
[dir="rtl"] #notification_area {
  float: left !important;
  float: left;
}
.indicator_area {
  float: right !important;
  float: right;
  color: #777;
  margin-left: 5px;
  margin-right: 5px;
  width: 11px;
  z-index: 10;
  text-align: center;
  width: auto;
}
[dir="rtl"] .indicator_area {
  float: left !important;
  float: left;
}
#kernel_indicator {
  float: right !important;
  float: right;
  color: #777;
  margin-left: 5px;
  margin-right: 5px;
  width: 11px;
  z-index: 10;
  text-align: center;
  width: auto;
  border-left: 1px solid;
}
#kernel_indicator .kernel_indicator_name {
  padding-left: 5px;
  padding-right: 5px;
}
[dir="rtl"] #kernel_indicator {
  float: left !important;
  float: left;
  border-left: 0;
  border-right: 1px solid;
}
#modal_indicator {
  float: right !important;
  float: right;
  color: #777;
  margin-left: 5px;
  margin-right: 5px;
  width: 11px;
  z-index: 10;
  text-align: center;
  width: auto;
}
[dir="rtl"] #modal_indicator {
  float: left !important;
  float: left;
}
#readonly-indicator {
  float: right !important;
  float: right;
  color: #777;
  margin-left: 5px;
  margin-right: 5px;
  width: 11px;
  z-index: 10;
  text-align: center;
  width: auto;
  margin-top: 2px;
  margin-bottom: 0px;
  margin-left: 0px;
  margin-right: 0px;
  display: none;
}
.modal_indicator:before {
  width: 1.28571429em;
  text-align: center;
}
.edit_mode .modal_indicator:before {
  display: inline-block;
  font: normal normal normal 14px/1 FontAwesome;
  font-size: inherit;
  text-rendering: auto;
  -webkit-font-smoothing: antialiased;
  -moz-osx-font-smoothing: grayscale;
  content: "\f040";
}
.edit_mode .modal_indicator:before.fa-pull-left {
  margin-right: .3em;
}
.edit_mode .modal_indicator:before.fa-pull-right {
  margin-left: .3em;
}
.edit_mode .modal_indicator:before.pull-left {
  margin-right: .3em;
}
.edit_mode .modal_indicator:before.pull-right {
  margin-left: .3em;
}
.command_mode .modal_indicator:before {
  display: inline-block;
  font: normal normal normal 14px/1 FontAwesome;
  font-size: inherit;
  text-rendering: auto;
  -webkit-font-smoothing: antialiased;
  -moz-osx-font-smoothing: grayscale;
  content: ' ';
}
.command_mode .modal_indicator:before.fa-pull-left {
  margin-right: .3em;
}
.command_mode .modal_indicator:before.fa-pull-right {
  margin-left: .3em;
}
.command_mode .modal_indicator:before.pull-left {
  margin-right: .3em;
}
.command_mode .modal_indicator:before.pull-right {
  margin-left: .3em;
}
.kernel_idle_icon:before {
  display: inline-block;
  font: normal normal normal 14px/1 FontAwesome;
  font-size: inherit;
  text-rendering: auto;
  -webkit-font-smoothing: antialiased;
  -moz-osx-font-smoothing: grayscale;
  content: "\f10c";
}
.kernel_idle_icon:before.fa-pull-left {
  margin-right: .3em;
}
.kernel_idle_icon:before.fa-pull-right {
  margin-left: .3em;
}
.kernel_idle_icon:before.pull-left {
  margin-right: .3em;
}
.kernel_idle_icon:before.pull-right {
  margin-left: .3em;
}
.kernel_busy_icon:before {
  display: inline-block;
  font: normal normal normal 14px/1 FontAwesome;
  font-size: inherit;
  text-rendering: auto;
  -webkit-font-smoothing: antialiased;
  -moz-osx-font-smoothing: grayscale;
  content: "\f111";
}
.kernel_busy_icon:before.fa-pull-left {
  margin-right: .3em;
}
.kernel_busy_icon:before.fa-pull-right {
  margin-left: .3em;
}
.kernel_busy_icon:before.pull-left {
  margin-right: .3em;
}
.kernel_busy_icon:before.pull-right {
  margin-left: .3em;
}
.kernel_dead_icon:before {
  display: inline-block;
  font: normal normal normal 14px/1 FontAwesome;
  font-size: inherit;
  text-rendering: auto;
  -webkit-font-smoothing: antialiased;
  -moz-osx-font-smoothing: grayscale;
  content: "\f1e2";
}
.kernel_dead_icon:before.fa-pull-left {
  margin-right: .3em;
}
.kernel_dead_icon:before.fa-pull-right {
  margin-left: .3em;
}
.kernel_dead_icon:before.pull-left {
  margin-right: .3em;
}
.kernel_dead_icon:before.pull-right {
  margin-left: .3em;
}
.kernel_disconnected_icon:before {
  display: inline-block;
  font: normal normal normal 14px/1 FontAwesome;
  font-size: inherit;
  text-rendering: auto;
  -webkit-font-smoothing: antialiased;
  -moz-osx-font-smoothing: grayscale;
  content: "\f127";
}
.kernel_disconnected_icon:before.fa-pull-left {
  margin-right: .3em;
}
.kernel_disconnected_icon:before.fa-pull-right {
  margin-left: .3em;
}
.kernel_disconnected_icon:before.pull-left {
  margin-right: .3em;
}
.kernel_disconnected_icon:before.pull-right {
  margin-left: .3em;
}
.notification_widget {
  color: #777;
  z-index: 10;
  background: rgba(240, 240, 240, 0.5);
  margin-right: 4px;
  color: #333;
  background-color: #fff;
  border-color: #ccc;
}
.notification_widget:focus,
.notification_widget.focus {
  color: #333;
  background-color: #e6e6e6;
  border-color: #8c8c8c;
}
.notification_widget:hover {
  color: #333;
  background-color: #e6e6e6;
  border-color: #adadad;
}
.notification_widget:active,
.notification_widget.active,
.open > .dropdown-toggle.notification_widget {
  color: #333;
  background-color: #e6e6e6;
  border-color: #adadad;
}
.notification_widget:active:hover,
.notification_widget.active:hover,
.open > .dropdown-toggle.notification_widget:hover,
.notification_widget:active:focus,
.notification_widget.active:focus,
.open > .dropdown-toggle.notification_widget:focus,
.notification_widget:active.focus,
.notification_widget.active.focus,
.open > .dropdown-toggle.notification_widget.focus {
  color: #333;
  background-color: #d4d4d4;
  border-color: #8c8c8c;
}
.notification_widget:active,
.notification_widget.active,
.open > .dropdown-toggle.notification_widget {
  background-image: none;
}
.notification_widget.disabled:hover,
.notification_widget[disabled]:hover,
fieldset[disabled] .notification_widget:hover,
.notification_widget.disabled:focus,
.notification_widget[disabled]:focus,
fieldset[disabled] .notification_widget:focus,
.notification_widget.disabled.focus,
.notification_widget[disabled].focus,
fieldset[disabled] .notification_widget.focus {
  background-color: #fff;
  border-color: #ccc;
}
.notification_widget .badge {
  color: #fff;
  background-color: #333;
}
.notification_widget.warning {
  color: #fff;
  background-color: #f0ad4e;
  border-color: #eea236;
}
.notification_widget.warning:focus,
.notification_widget.warning.focus {
  color: #fff;
  background-color: #ec971f;
  border-color: #985f0d;
}
.notification_widget.warning:hover {
  color: #fff;
  background-color: #ec971f;
  border-color: #d58512;
}
.notification_widget.warning:active,
.notification_widget.warning.active,
.open > .dropdown-toggle.notification_widget.warning {
  color: #fff;
  background-color: #ec971f;
  border-color: #d58512;
}
.notification_widget.warning:active:hover,
.notification_widget.warning.active:hover,
.open > .dropdown-toggle.notification_widget.warning:hover,
.notification_widget.warning:active:focus,
.notification_widget.warning.active:focus,
.open > .dropdown-toggle.notification_widget.warning:focus,
.notification_widget.warning:active.focus,
.notification_widget.warning.active.focus,
.open > .dropdown-toggle.notification_widget.warning.focus {
  color: #fff;
  background-color: #d58512;
  border-color: #985f0d;
}
.notification_widget.warning:active,
.notification_widget.warning.active,
.open > .dropdown-toggle.notification_widget.warning {
  background-image: none;
}
.notification_widget.warning.disabled:hover,
.notification_widget.warning[disabled]:hover,
fieldset[disabled] .notification_widget.warning:hover,
.notification_widget.warning.disabled:focus,
.notification_widget.warning[disabled]:focus,
fieldset[disabled] .notification_widget.warning:focus,
.notification_widget.warning.disabled.focus,
.notification_widget.warning[disabled].focus,
fieldset[disabled] .notification_widget.warning.focus {
  background-color: #f0ad4e;
  border-color: #eea236;
}
.notification_widget.warning .badge {
  color: #f0ad4e;
  background-color: #fff;
}
.notification_widget.success {
  color: #fff;
  background-color: #5cb85c;
  border-color: #4cae4c;
}
.notification_widget.success:focus,
.notification_widget.success.focus {
  color: #fff;
  background-color: #449d44;
  border-color: #255625;
}
.notification_widget.success:hover {
  color: #fff;
  background-color: #449d44;
  border-color: #398439;
}
.notification_widget.success:active,
.notification_widget.success.active,
.open > .dropdown-toggle.notification_widget.success {
  color: #fff;
  background-color: #449d44;
  border-color: #398439;
}
.notification_widget.success:active:hover,
.notification_widget.success.active:hover,
.open > .dropdown-toggle.notification_widget.success:hover,
.notification_widget.success:active:focus,
.notification_widget.success.active:focus,
.open > .dropdown-toggle.notification_widget.success:focus,
.notification_widget.success:active.focus,
.notification_widget.success.active.focus,
.open > .dropdown-toggle.notification_widget.success.focus {
  color: #fff;
  background-color: #398439;
  border-color: #255625;
}
.notification_widget.success:active,
.notification_widget.success.active,
.open > .dropdown-toggle.notification_widget.success {
  background-image: none;
}
.notification_widget.success.disabled:hover,
.notification_widget.success[disabled]:hover,
fieldset[disabled] .notification_widget.success:hover,
.notification_widget.success.disabled:focus,
.notification_widget.success[disabled]:focus,
fieldset[disabled] .notification_widget.success:focus,
.notification_widget.success.disabled.focus,
.notification_widget.success[disabled].focus,
fieldset[disabled] .notification_widget.success.focus {
  background-color: #5cb85c;
  border-color: #4cae4c;
}
.notification_widget.success .badge {
  color: #5cb85c;
  background-color: #fff;
}
.notification_widget.info {
  color: #fff;
  background-color: #5bc0de;
  border-color: #46b8da;
}
.notification_widget.info:focus,
.notification_widget.info.focus {
  color: #fff;
  background-color: #31b0d5;
  border-color: #1b6d85;
}
.notification_widget.info:hover {
  color: #fff;
  background-color: #31b0d5;
  border-color: #269abc;
}
.notification_widget.info:active,
.notification_widget.info.active,
.open > .dropdown-toggle.notification_widget.info {
  color: #fff;
  background-color: #31b0d5;
  border-color: #269abc;
}
.notification_widget.info:active:hover,
.notification_widget.info.active:hover,
.open > .dropdown-toggle.notification_widget.info:hover,
.notification_widget.info:active:focus,
.notification_widget.info.active:focus,
.open > .dropdown-toggle.notification_widget.info:focus,
.notification_widget.info:active.focus,
.notification_widget.info.active.focus,
.open > .dropdown-toggle.notification_widget.info.focus {
  color: #fff;
  background-color: #269abc;
  border-color: #1b6d85;
}
.notification_widget.info:active,
.notification_widget.info.active,
.open > .dropdown-toggle.notification_widget.info {
  background-image: none;
}
.notification_widget.info.disabled:hover,
.notification_widget.info[disabled]:hover,
fieldset[disabled] .notification_widget.info:hover,
.notification_widget.info.disabled:focus,
.notification_widget.info[disabled]:focus,
fieldset[disabled] .notification_widget.info:focus,
.notification_widget.info.disabled.focus,
.notification_widget.info[disabled].focus,
fieldset[disabled] .notification_widget.info.focus {
  background-color: #5bc0de;
  border-color: #46b8da;
}
.notification_widget.info .badge {
  color: #5bc0de;
  background-color: #fff;
}
.notification_widget.danger {
  color: #fff;
  background-color: #d9534f;
  border-color: #d43f3a;
}
.notification_widget.danger:focus,
.notification_widget.danger.focus {
  color: #fff;
  background-color: #c9302c;
  border-color: #761c19;
}
.notification_widget.danger:hover {
  color: #fff;
  background-color: #c9302c;
  border-color: #ac2925;
}
.notification_widget.danger:active,
.notification_widget.danger.active,
.open > .dropdown-toggle.notification_widget.danger {
  color: #fff;
  background-color: #c9302c;
  border-color: #ac2925;
}
.notification_widget.danger:active:hover,
.notification_widget.danger.active:hover,
.open > .dropdown-toggle.notification_widget.danger:hover,
.notification_widget.danger:active:focus,
.notification_widget.danger.active:focus,
.open > .dropdown-toggle.notification_widget.danger:focus,
.notification_widget.danger:active.focus,
.notification_widget.danger.active.focus,
.open > .dropdown-toggle.notification_widget.danger.focus {
  color: #fff;
  background-color: #ac2925;
  border-color: #761c19;
}
.notification_widget.danger:active,
.notification_widget.danger.active,
.open > .dropdown-toggle.notification_widget.danger {
  background-image: none;
}
.notification_widget.danger.disabled:hover,
.notification_widget.danger[disabled]:hover,
fieldset[disabled] .notification_widget.danger:hover,
.notification_widget.danger.disabled:focus,
.notification_widget.danger[disabled]:focus,
fieldset[disabled] .notification_widget.danger:focus,
.notification_widget.danger.disabled.focus,
.notification_widget.danger[disabled].focus,
fieldset[disabled] .notification_widget.danger.focus {
  background-color: #d9534f;
  border-color: #d43f3a;
}
.notification_widget.danger .badge {
  color: #d9534f;
  background-color: #fff;
}
div#pager {
  background-color: #fff;
  font-size: 14px;
  line-height: 20px;
  overflow: hidden;
  display: none;
  position: fixed;
  bottom: 0px;
  width: 100%;
  max-height: 50%;
  padding-top: 8px;
  -webkit-box-shadow: 0px 0px 12px 1px rgba(87, 87, 87, 0.2);
  box-shadow: 0px 0px 12px 1px rgba(87, 87, 87, 0.2);
  /* Display over codemirror */
  z-index: 100;
  /* Hack which prevents jquery ui resizable from changing top. */
  top: auto !important;
}
div#pager pre {
  line-height: 1.21429em;
  color: #000;
  background-color: #f7f7f7;
  padding: 0.4em;
}
div#pager #pager-button-area {
  position: absolute;
  top: 8px;
  right: 20px;
}
div#pager #pager-contents {
  position: relative;
  overflow: auto;
  width: 100%;
  height: 100%;
}
div#pager #pager-contents #pager-container {
  position: relative;
  padding: 15px 0px;
  box-sizing: border-box;
  -moz-box-sizing: border-box;
  -webkit-box-sizing: border-box;
}
div#pager .ui-resizable-handle {
  top: 0px;
  height: 8px;
  background: #f7f7f7;
  border-top: 1px solid #cfcfcf;
  border-bottom: 1px solid #cfcfcf;
  /* This injects handle bars (a short, wide = symbol) for 
        the resize handle. */
}
div#pager .ui-resizable-handle::after {
  content: '';
  top: 2px;
  left: 50%;
  height: 3px;
  width: 30px;
  margin-left: -15px;
  position: absolute;
  border-top: 1px solid #cfcfcf;
}
.quickhelp {
  /* Old browsers */
  display: -webkit-box;
  -webkit-box-orient: horizontal;
  -webkit-box-align: stretch;
  display: -moz-box;
  -moz-box-orient: horizontal;
  -moz-box-align: stretch;
  display: box;
  box-orient: horizontal;
  box-align: stretch;
  /* Modern browsers */
  display: flex;
  flex-direction: row;
  align-items: stretch;
  line-height: 1.8em;
}
.shortcut_key {
  display: inline-block;
  width: 21ex;
  text-align: right;
  font-family: monospace;
}
.shortcut_descr {
  display: inline-block;
  /* Old browsers */
  -webkit-box-flex: 1;
  -moz-box-flex: 1;
  box-flex: 1;
  /* Modern browsers */
  flex: 1;
}
span.save_widget {
  height: 30px;
  margin-top: 4px;
  display: flex;
  justify-content: flex-start;
  align-items: baseline;
  width: 50%;
  flex: 1;
}
span.save_widget span.filename {
  height: 100%;
  line-height: 1em;
  margin-left: 16px;
  border: none;
  font-size: 146.5%;
  text-overflow: ellipsis;
  overflow: hidden;
  white-space: nowrap;
  border-radius: 2px;
}
span.save_widget span.filename:hover {
  background-color: #e6e6e6;
}
[dir="rtl"] span.save_widget.pull-left {
  float: right !important;
  float: right;
}
[dir="rtl"] span.save_widget span.filename {
  margin-left: 0;
  margin-right: 16px;
}
span.checkpoint_status,
span.autosave_status {
  font-size: small;
  white-space: nowrap;
  padding: 0 5px;
}
@media (max-width: 767px) {
  span.save_widget {
    font-size: small;
    padding: 0 0 0 5px;
  }
  span.checkpoint_status,
  span.autosave_status {
    display: none;
  }
}
@media (min-width: 768px) and (max-width: 991px) {
  span.checkpoint_status {
    display: none;
  }
  span.autosave_status {
    font-size: x-small;
  }
}
.toolbar {
  padding: 0px;
  margin-left: -5px;
  margin-top: 2px;
  margin-bottom: 5px;
  box-sizing: border-box;
  -moz-box-sizing: border-box;
  -webkit-box-sizing: border-box;
}
.toolbar select,
.toolbar label {
  width: auto;
  vertical-align: middle;
  margin-right: 2px;
  margin-bottom: 0px;
  display: inline;
  font-size: 92%;
  margin-left: 0.3em;
  margin-right: 0.3em;
  padding: 0px;
  padding-top: 3px;
}
.toolbar .btn {
  padding: 2px 8px;
}
.toolbar .btn-group {
  margin-top: 0px;
  margin-left: 5px;
}
.toolbar-btn-label {
  margin-left: 6px;
}
#maintoolbar {
  margin-bottom: -3px;
  margin-top: -8px;
  border: 0px;
  min-height: 27px;
  margin-left: 0px;
  padding-top: 11px;
  padding-bottom: 3px;
}
#maintoolbar .navbar-text {
  float: none;
  vertical-align: middle;
  text-align: right;
  margin-left: 5px;
  margin-right: 0px;
  margin-top: 0px;
}
.select-xs {
  height: 24px;
}
[dir="rtl"] .btn-group > .btn,
.btn-group-vertical > .btn {
  float: right;
}
.pulse,
.dropdown-menu > li > a.pulse,
li.pulse > a.dropdown-toggle,
li.pulse.open > a.dropdown-toggle {
  background-color: #F37626;
  color: white;
}
/**
 * Primary styles
 *
 * Author: Jupyter Development Team
 */
/** WARNING IF YOU ARE EDITTING THIS FILE, if this is a .css file, It has a lot
 * of chance of beeing generated from the ../less/[samename].less file, you can
 * try to get back the less file by reverting somme commit in history
 **/
/*
 * We'll try to get something pretty, so we
 * have some strange css to have the scroll bar on
 * the left with fix button on the top right of the tooltip
 */
@-moz-keyframes fadeOut {
  from {
    opacity: 1;
  }
  to {
    opacity: 0;
  }
}
@-webkit-keyframes fadeOut {
  from {
    opacity: 1;
  }
  to {
    opacity: 0;
  }
}
@-moz-keyframes fadeIn {
  from {
    opacity: 0;
  }
  to {
    opacity: 1;
  }
}
@-webkit-keyframes fadeIn {
  from {
    opacity: 0;
  }
  to {
    opacity: 1;
  }
}
/*properties of tooltip after "expand"*/
.bigtooltip {
  overflow: auto;
  height: 200px;
  -webkit-transition-property: height;
  -webkit-transition-duration: 500ms;
  -moz-transition-property: height;
  -moz-transition-duration: 500ms;
  transition-property: height;
  transition-duration: 500ms;
}
/*properties of tooltip before "expand"*/
.smalltooltip {
  -webkit-transition-property: height;
  -webkit-transition-duration: 500ms;
  -moz-transition-property: height;
  -moz-transition-duration: 500ms;
  transition-property: height;
  transition-duration: 500ms;
  text-overflow: ellipsis;
  overflow: hidden;
  height: 80px;
}
.tooltipbuttons {
  position: absolute;
  padding-right: 15px;
  top: 0px;
  right: 0px;
}
.tooltiptext {
  /*avoid the button to overlap on some docstring*/
  padding-right: 30px;
}
.ipython_tooltip {
  max-width: 700px;
  /*fade-in animation when inserted*/
  -webkit-animation: fadeOut 400ms;
  -moz-animation: fadeOut 400ms;
  animation: fadeOut 400ms;
  -webkit-animation: fadeIn 400ms;
  -moz-animation: fadeIn 400ms;
  animation: fadeIn 400ms;
  vertical-align: middle;
  background-color: #f7f7f7;
  overflow: visible;
  border: #ababab 1px solid;
  outline: none;
  padding: 3px;
  margin: 0px;
  padding-left: 7px;
  font-family: monospace;
  min-height: 50px;
  -moz-box-shadow: 0px 6px 10px -1px #adadad;
  -webkit-box-shadow: 0px 6px 10px -1px #adadad;
  box-shadow: 0px 6px 10px -1px #adadad;
  border-radius: 2px;
  position: absolute;
  z-index: 1000;
}
.ipython_tooltip a {
  float: right;
}
.ipython_tooltip .tooltiptext pre {
  border: 0;
  border-radius: 0;
  font-size: 100%;
  background-color: #f7f7f7;
}
.pretooltiparrow {
  left: 0px;
  margin: 0px;
  top: -16px;
  width: 40px;
  height: 16px;
  overflow: hidden;
  position: absolute;
}
.pretooltiparrow:before {
  background-color: #f7f7f7;
  border: 1px #ababab solid;
  z-index: 11;
  content: "";
  position: absolute;
  left: 15px;
  top: 10px;
  width: 25px;
  height: 25px;
  -webkit-transform: rotate(45deg);
  -moz-transform: rotate(45deg);
  -ms-transform: rotate(45deg);
  -o-transform: rotate(45deg);
}
ul.typeahead-list i {
  margin-left: -10px;
  width: 18px;
}
[dir="rtl"] ul.typeahead-list i {
  margin-left: 0;
  margin-right: -10px;
}
ul.typeahead-list {
  max-height: 80vh;
  overflow: auto;
}
ul.typeahead-list > li > a {
  /** Firefox bug **/
  /* see https://github.com/jupyter/notebook/issues/559 */
  white-space: normal;
}
ul.typeahead-list  > li > a.pull-right {
  float: left !important;
  float: left;
}
[dir="rtl"] .typeahead-list {
  text-align: right;
}
.cmd-palette .modal-body {
  padding: 7px;
}
.cmd-palette form {
  background: white;
}
.cmd-palette input {
  outline: none;
}
.no-shortcut {
  min-width: 20px;
  color: transparent;
}
[dir="rtl"] .no-shortcut.pull-right {
  float: left !important;
  float: left;
}
[dir="rtl"] .command-shortcut.pull-right {
  float: left !important;
  float: left;
}
.command-shortcut:before {
  content: "(command mode)";
  padding-right: 3px;
  color: #777777;
}
.edit-shortcut:before {
  content: "(edit)";
  padding-right: 3px;
  color: #777777;
}
[dir="rtl"] .edit-shortcut.pull-right {
  float: left !important;
  float: left;
}
#find-and-replace #replace-preview .match,
#find-and-replace #replace-preview .insert {
  background-color: #BBDEFB;
  border-color: #90CAF9;
  border-style: solid;
  border-width: 1px;
  border-radius: 0px;
}
[dir="ltr"] #find-and-replace .input-group-btn + .form-control {
  border-left: none;
}
[dir="rtl"] #find-and-replace .input-group-btn + .form-control {
  border-right: none;
}
#find-and-replace #replace-preview .replace .match {
  background-color: #FFCDD2;
  border-color: #EF9A9A;
  border-radius: 0px;
}
#find-and-replace #replace-preview .replace .insert {
  background-color: #C8E6C9;
  border-color: #A5D6A7;
  border-radius: 0px;
}
#find-and-replace #replace-preview {
  max-height: 60vh;
  overflow: auto;
}
#find-and-replace #replace-preview pre {
  padding: 5px 10px;
}
.terminal-app {
  background: #EEE;
}
.terminal-app #header {
  background: #fff;
  -webkit-box-shadow: 0px 0px 12px 1px rgba(87, 87, 87, 0.2);
  box-shadow: 0px 0px 12px 1px rgba(87, 87, 87, 0.2);
}
.terminal-app .terminal {
  width: 100%;
  float: left;
  font-family: monospace;
  color: white;
  background: black;
  padding: 0.4em;
  border-radius: 2px;
  -webkit-box-shadow: 0px 0px 12px 1px rgba(87, 87, 87, 0.4);
  box-shadow: 0px 0px 12px 1px rgba(87, 87, 87, 0.4);
}
.terminal-app .terminal,
.terminal-app .terminal dummy-screen {
  line-height: 1em;
  font-size: 14px;
}
.terminal-app .terminal .xterm-rows {
  padding: 10px;
}
.terminal-app .terminal-cursor {
  color: black;
  background: white;
}
.terminal-app #terminado-container {
  margin-top: 20px;
}
/*# sourceMappingURL=style.min.css.map */
    </style>
<style type="text/css">
    .highlight .hll { background-color: #ffffcc }
.highlight  { background: #f8f8f8; }
.highlight .c { color: #408080; font-style: italic } /* Comment */
.highlight .err { border: 1px solid #FF0000 } /* Error */
.highlight .k { color: #008000; font-weight: bold } /* Keyword */
.highlight .o { color: #666666 } /* Operator */
.highlight .ch { color: #408080; font-style: italic } /* Comment.Hashbang */
.highlight .cm { color: #408080; font-style: italic } /* Comment.Multiline */
.highlight .cp { color: #BC7A00 } /* Comment.Preproc */
.highlight .cpf { color: #408080; font-style: italic } /* Comment.PreprocFile */
.highlight .c1 { color: #408080; font-style: italic } /* Comment.Single */
.highlight .cs { color: #408080; font-style: italic } /* Comment.Special */
.highlight .gd { color: #A00000 } /* Generic.Deleted */
.highlight .ge { font-style: italic } /* Generic.Emph */
.highlight .gr { color: #FF0000 } /* Generic.Error */
.highlight .gh { color: #000080; font-weight: bold } /* Generic.Heading */
.highlight .gi { color: #00A000 } /* Generic.Inserted */
.highlight .go { color: #888888 } /* Generic.Output */
.highlight .gp { color: #000080; font-weight: bold } /* Generic.Prompt */
.highlight .gs { font-weight: bold } /* Generic.Strong */
.highlight .gu { color: #800080; font-weight: bold } /* Generic.Subheading */
.highlight .gt { color: #0044DD } /* Generic.Traceback */
.highlight .kc { color: #008000; font-weight: bold } /* Keyword.Constant */
.highlight .kd { color: #008000; font-weight: bold } /* Keyword.Declaration */
.highlight .kn { color: #008000; font-weight: bold } /* Keyword.Namespace */
.highlight .kp { color: #008000 } /* Keyword.Pseudo */
.highlight .kr { color: #008000; font-weight: bold } /* Keyword.Reserved */
.highlight .kt { color: #B00040 } /* Keyword.Type */
.highlight .m { color: #666666 } /* Literal.Number */
.highlight .s { color: #BA2121 } /* Literal.String */
.highlight .na { color: #7D9029 } /* Name.Attribute */
.highlight .nb { color: #008000 } /* Name.Builtin */
.highlight .nc { color: #0000FF; font-weight: bold } /* Name.Class */
.highlight .no { color: #880000 } /* Name.Constant */
.highlight .nd { color: #AA22FF } /* Name.Decorator */
.highlight .ni { color: #999999; font-weight: bold } /* Name.Entity */
.highlight .ne { color: #D2413A; font-weight: bold } /* Name.Exception */
.highlight .nf { color: #0000FF } /* Name.Function */
.highlight .nl { color: #A0A000 } /* Name.Label */
.highlight .nn { color: #0000FF; font-weight: bold } /* Name.Namespace */
.highlight .nt { color: #008000; font-weight: bold } /* Name.Tag */
.highlight .nv { color: #19177C } /* Name.Variable */
.highlight .ow { color: #AA22FF; font-weight: bold } /* Operator.Word */
.highlight .w { color: #bbbbbb } /* Text.Whitespace */
.highlight .mb { color: #666666 } /* Literal.Number.Bin */
.highlight .mf { color: #666666 } /* Literal.Number.Float */
.highlight .mh { color: #666666 } /* Literal.Number.Hex */
.highlight .mi { color: #666666 } /* Literal.Number.Integer */
.highlight .mo { color: #666666 } /* Literal.Number.Oct */
.highlight .sa { color: #BA2121 } /* Literal.String.Affix */
.highlight .sb { color: #BA2121 } /* Literal.String.Backtick */
.highlight .sc { color: #BA2121 } /* Literal.String.Char */
.highlight .dl { color: #BA2121 } /* Literal.String.Delimiter */
.highlight .sd { color: #BA2121; font-style: italic } /* Literal.String.Doc */
.highlight .s2 { color: #BA2121 } /* Literal.String.Double */
.highlight .se { color: #BB6622; font-weight: bold } /* Literal.String.Escape */
.highlight .sh { color: #BA2121 } /* Literal.String.Heredoc */
.highlight .si { color: #BB6688; font-weight: bold } /* Literal.String.Interpol */
.highlight .sx { color: #008000 } /* Literal.String.Other */
.highlight .sr { color: #BB6688 } /* Literal.String.Regex */
.highlight .s1 { color: #BA2121 } /* Literal.String.Single */
.highlight .ss { color: #19177C } /* Literal.String.Symbol */
.highlight .bp { color: #008000 } /* Name.Builtin.Pseudo */
.highlight .fm { color: #0000FF } /* Name.Function.Magic */
.highlight .vc { color: #19177C } /* Name.Variable.Class */
.highlight .vg { color: #19177C } /* Name.Variable.Global */
.highlight .vi { color: #19177C } /* Name.Variable.Instance */
.highlight .vm { color: #19177C } /* Name.Variable.Magic */
.highlight .il { color: #666666 } /* Literal.Number.Integer.Long */
    </style>
<style type="text/css">
    
/* Temporary definitions which will become obsolete with Notebook release 5.0 */
.ansi-black-fg { color: #3E424D; }
.ansi-black-bg { background-color: #3E424D; }
.ansi-black-intense-fg { color: #282C36; }
.ansi-black-intense-bg { background-color: #282C36; }
.ansi-red-fg { color: #E75C58; }
.ansi-red-bg { background-color: #E75C58; }
.ansi-red-intense-fg { color: #B22B31; }
.ansi-red-intense-bg { background-color: #B22B31; }
.ansi-green-fg { color: #00A250; }
.ansi-green-bg { background-color: #00A250; }
.ansi-green-intense-fg { color: #007427; }
.ansi-green-intense-bg { background-color: #007427; }
.ansi-yellow-fg { color: #DDB62B; }
.ansi-yellow-bg { background-color: #DDB62B; }
.ansi-yellow-intense-fg { color: #B27D12; }
.ansi-yellow-intense-bg { background-color: #B27D12; }
.ansi-blue-fg { color: #208FFB; }
.ansi-blue-bg { background-color: #208FFB; }
.ansi-blue-intense-fg { color: #0065CA; }
.ansi-blue-intense-bg { background-color: #0065CA; }
.ansi-magenta-fg { color: #D160C4; }
.ansi-magenta-bg { background-color: #D160C4; }
.ansi-magenta-intense-fg { color: #A03196; }
.ansi-magenta-intense-bg { background-color: #A03196; }
.ansi-cyan-fg { color: #60C6C8; }
.ansi-cyan-bg { background-color: #60C6C8; }
.ansi-cyan-intense-fg { color: #258F8F; }
.ansi-cyan-intense-bg { background-color: #258F8F; }
.ansi-white-fg { color: #C5C1B4; }
.ansi-white-bg { background-color: #C5C1B4; }
.ansi-white-intense-fg { color: #A1A6B2; }
.ansi-white-intense-bg { background-color: #A1A6B2; }

.ansi-bold { font-weight: bold; }

    </style>


<style type="text/css">
/* Overrides of notebook CSS for static HTML export */
body {
  overflow: visible;
  padding: 8px;
}

div#notebook {
  overflow: visible;
  border-top: none;
}@media print {
  div.cell {
    display: block;
    page-break-inside: avoid;
  } 
  div.output_wrapper { 
    display: block;
    page-break-inside: avoid; 
  }
  div.output { 
    display: block;
    page-break-inside: avoid; 
  }
}
</style>

<!-- Custom stylesheet, it must be in the same directory as the html file -->
<link rel="stylesheet" href="custom.css">

<!-- Loading mathjax macro -->
<!-- Load mathjax -->
    <script src="https://cdnjs.cloudflare.com/ajax/libs/mathjax/2.7.5/latest.js?config=TeX-AMS_HTML"></script>
    <!-- MathJax configuration -->
    <script type="text/x-mathjax-config">
    MathJax.Hub.Config({
        tex2jax: {
            inlineMath: [ ['$','$'], ["\\(","\\)"] ],
            displayMath: [ ['$$','$$'], ["\\[","\\]"] ],
            processEscapes: true,
            processEnvironments: true
        },
        // Center justify equations in code and markdown cells. Elsewhere
        // we use CSS to left justify single line equations in code cells.
        displayAlign: 'center',
        "HTML-CSS": {
            styles: {'.MathJax_Display': {"margin": 0}},
            linebreaks: { automatic: true }
        }
    });
    </script>
    <!-- End of mathjax configuration --></head>
<body>
  <div tabindex="-1" id="notebook" class="border-box-sizing">
    <div class="container" id="notebook-container">

<div class="cell border-box-sizing text_cell rendered"><div class="prompt input_prompt">
</div><div class="inner_cell">
<div class="text_cell_render border-box-sizing rendered_html">
<h1 id="Importing-the-Required-Python-Libraries">Importing the Required Python Libraries<a class="anchor-link" href="#Importing-the-Required-Python-Libraries">&#182;</a></h1>
</div>
</div>
</div>
<div class="cell border-box-sizing code_cell rendered">
<div class="input">
<div class="prompt input_prompt">In&nbsp;[1]:</div>
<div class="inner_cell">
    <div class="input_area">
<div class=" highlight hl-ipython3"><pre><span></span><span class="c1"># importing the requried python libraries</span>
<span class="kn">import</span> <span class="nn">sys</span>
<span class="kn">import</span> <span class="nn">numpy</span> <span class="k">as</span> <span class="nn">np</span>
<span class="kn">import</span> <span class="nn">pandas</span> <span class="k">as</span> <span class="nn">pd</span>
<span class="kn">import</span> <span class="nn">matplotlib.pyplot</span> <span class="k">as</span> <span class="nn">plt</span>
<span class="kn">from</span> <span class="nn">matplotlib</span> <span class="k">import</span> <span class="n">pyplot</span> <span class="k">as</span> <span class="n">plt</span>
<span class="o">%</span><span class="k">matplotlib</span> inline
<span class="kn">import</span> <span class="nn">seaborn</span> <span class="k">as</span> <span class="nn">sns</span>
<span class="kn">import</span> <span class="nn">scipy</span> <span class="k">as</span> <span class="nn">sc</span>
<span class="kn">import</span> <span class="nn">sklearn</span>
<span class="kn">from</span> <span class="nn">datetime</span> <span class="k">import</span> <span class="n">datetime</span> <span class="k">as</span> <span class="n">dt</span>
<span class="kn">from</span> <span class="nn">mlxtend.frequent_patterns</span> <span class="k">import</span> <span class="n">apriori</span><span class="p">,</span> <span class="n">association_rules</span>
</pre></div>

    </div>
</div>
</div>

</div>
<div class="cell border-box-sizing text_cell rendered"><div class="prompt input_prompt">
</div><div class="inner_cell">
<div class="text_cell_render border-box-sizing rendered_html">
<h1 id="Loading-the-data-from-Excel-to-data-frame">Loading the data from Excel to data frame<a class="anchor-link" href="#Loading-the-data-from-Excel-to-data-frame">&#182;</a></h1>
</div>
</div>
</div>
<div class="cell border-box-sizing code_cell rendered">
<div class="input">
<div class="prompt input_prompt">In&nbsp;[2]:</div>
<div class="inner_cell">
    <div class="input_area">
<div class=" highlight hl-ipython3"><pre><span></span><span class="c1"># Loading the data from xlsx file</span>
<span class="n">data_path</span> <span class="o">=</span> <span class="s2">&quot;OnlineRetail.xlsx&quot;</span>
<span class="n">datafields</span> <span class="o">=</span> <span class="n">pd</span><span class="o">.</span><span class="n">read_excel</span><span class="p">(</span><span class="n">data_path</span><span class="p">)</span> 
</pre></div>

    </div>
</div>
</div>

</div>
<div class="cell border-box-sizing code_cell rendered">
<div class="input">
<div class="prompt input_prompt">In&nbsp;[3]:</div>
<div class="inner_cell">
    <div class="input_area">
<div class=" highlight hl-ipython3"><pre><span></span><span class="c1"># display the first 10 transcations</span>
<span class="n">datafields</span><span class="o">.</span><span class="n">head</span><span class="p">(</span><span class="mi">10</span><span class="p">)</span>
</pre></div>

    </div>
</div>
</div>

<div class="output_wrapper">
<div class="output">


<div class="output_area">

    <div class="prompt output_prompt">Out[3]:</div>



<div class="output_html rendered_html output_subarea output_execute_result">
<div>
<style scoped>
    .dataframe tbody tr th:only-of-type {
        vertical-align: middle;
    }

    .dataframe tbody tr th {
        vertical-align: top;
    }

    .dataframe thead th {
        text-align: right;
    }
</style>
<table border="1" class="dataframe">
  <thead>
    <tr style="text-align: right;">
      <th></th>
      <th>InvoiceNo</th>
      <th>StockCode</th>
      <th>Description</th>
      <th>Quantity</th>
      <th>InvoiceDate</th>
      <th>UnitPrice</th>
      <th>CustomerID</th>
      <th>Country</th>
    </tr>
  </thead>
  <tbody>
    <tr>
      <th>0</th>
      <td>536365</td>
      <td>85123A</td>
      <td>WHITE HANGING HEART T-LIGHT HOLDER</td>
      <td>6</td>
      <td>2010-12-01 08:26:00</td>
      <td>2.55</td>
      <td>17850.0</td>
      <td>United Kingdom</td>
    </tr>
    <tr>
      <th>1</th>
      <td>536365</td>
      <td>71053</td>
      <td>WHITE METAL LANTERN</td>
      <td>6</td>
      <td>2010-12-01 08:26:00</td>
      <td>3.39</td>
      <td>17850.0</td>
      <td>United Kingdom</td>
    </tr>
    <tr>
      <th>2</th>
      <td>536365</td>
      <td>84406B</td>
      <td>CREAM CUPID HEARTS COAT HANGER</td>
      <td>8</td>
      <td>2010-12-01 08:26:00</td>
      <td>2.75</td>
      <td>17850.0</td>
      <td>United Kingdom</td>
    </tr>
    <tr>
      <th>3</th>
      <td>536365</td>
      <td>84029G</td>
      <td>KNITTED UNION FLAG HOT WATER BOTTLE</td>
      <td>6</td>
      <td>2010-12-01 08:26:00</td>
      <td>3.39</td>
      <td>17850.0</td>
      <td>United Kingdom</td>
    </tr>
    <tr>
      <th>4</th>
      <td>536365</td>
      <td>84029E</td>
      <td>RED WOOLLY HOTTIE WHITE HEART.</td>
      <td>6</td>
      <td>2010-12-01 08:26:00</td>
      <td>3.39</td>
      <td>17850.0</td>
      <td>United Kingdom</td>
    </tr>
    <tr>
      <th>5</th>
      <td>536365</td>
      <td>22752</td>
      <td>SET 7 BABUSHKA NESTING BOXES</td>
      <td>2</td>
      <td>2010-12-01 08:26:00</td>
      <td>7.65</td>
      <td>17850.0</td>
      <td>United Kingdom</td>
    </tr>
    <tr>
      <th>6</th>
      <td>536365</td>
      <td>21730</td>
      <td>GLASS STAR FROSTED T-LIGHT HOLDER</td>
      <td>6</td>
      <td>2010-12-01 08:26:00</td>
      <td>4.25</td>
      <td>17850.0</td>
      <td>United Kingdom</td>
    </tr>
    <tr>
      <th>7</th>
      <td>536366</td>
      <td>22633</td>
      <td>HAND WARMER UNION JACK</td>
      <td>6</td>
      <td>2010-12-01 08:28:00</td>
      <td>1.85</td>
      <td>17850.0</td>
      <td>United Kingdom</td>
    </tr>
    <tr>
      <th>8</th>
      <td>536366</td>
      <td>22632</td>
      <td>HAND WARMER RED POLKA DOT</td>
      <td>6</td>
      <td>2010-12-01 08:28:00</td>
      <td>1.85</td>
      <td>17850.0</td>
      <td>United Kingdom</td>
    </tr>
    <tr>
      <th>9</th>
      <td>536367</td>
      <td>84879</td>
      <td>ASSORTED COLOUR BIRD ORNAMENT</td>
      <td>32</td>
      <td>2010-12-01 08:34:00</td>
      <td>1.69</td>
      <td>13047.0</td>
      <td>United Kingdom</td>
    </tr>
  </tbody>
</table>
</div>
</div>

</div>

</div>
</div>

</div>
<div class="cell border-box-sizing code_cell rendered">
<div class="input">
<div class="prompt input_prompt">In&nbsp;[4]:</div>
<div class="inner_cell">
    <div class="input_area">
<div class=" highlight hl-ipython3"><pre><span></span><span class="c1"># display the last 10 transcations</span>
<span class="n">datafields</span><span class="o">.</span><span class="n">tail</span><span class="p">(</span><span class="mi">10</span><span class="p">)</span>
</pre></div>

    </div>
</div>
</div>

<div class="output_wrapper">
<div class="output">


<div class="output_area">

    <div class="prompt output_prompt">Out[4]:</div>



<div class="output_html rendered_html output_subarea output_execute_result">
<div>
<style scoped>
    .dataframe tbody tr th:only-of-type {
        vertical-align: middle;
    }

    .dataframe tbody tr th {
        vertical-align: top;
    }

    .dataframe thead th {
        text-align: right;
    }
</style>
<table border="1" class="dataframe">
  <thead>
    <tr style="text-align: right;">
      <th></th>
      <th>InvoiceNo</th>
      <th>StockCode</th>
      <th>Description</th>
      <th>Quantity</th>
      <th>InvoiceDate</th>
      <th>UnitPrice</th>
      <th>CustomerID</th>
      <th>Country</th>
    </tr>
  </thead>
  <tbody>
    <tr>
      <th>541899</th>
      <td>581587</td>
      <td>22726</td>
      <td>ALARM CLOCK BAKELIKE GREEN</td>
      <td>4</td>
      <td>2011-12-09 12:50:00</td>
      <td>3.75</td>
      <td>12680.0</td>
      <td>France</td>
    </tr>
    <tr>
      <th>541900</th>
      <td>581587</td>
      <td>22730</td>
      <td>ALARM CLOCK BAKELIKE IVORY</td>
      <td>4</td>
      <td>2011-12-09 12:50:00</td>
      <td>3.75</td>
      <td>12680.0</td>
      <td>France</td>
    </tr>
    <tr>
      <th>541901</th>
      <td>581587</td>
      <td>22367</td>
      <td>CHILDRENS APRON SPACEBOY DESIGN</td>
      <td>8</td>
      <td>2011-12-09 12:50:00</td>
      <td>1.95</td>
      <td>12680.0</td>
      <td>France</td>
    </tr>
    <tr>
      <th>541902</th>
      <td>581587</td>
      <td>22629</td>
      <td>SPACEBOY LUNCH BOX</td>
      <td>12</td>
      <td>2011-12-09 12:50:00</td>
      <td>1.95</td>
      <td>12680.0</td>
      <td>France</td>
    </tr>
    <tr>
      <th>541903</th>
      <td>581587</td>
      <td>23256</td>
      <td>CHILDRENS CUTLERY SPACEBOY</td>
      <td>4</td>
      <td>2011-12-09 12:50:00</td>
      <td>4.15</td>
      <td>12680.0</td>
      <td>France</td>
    </tr>
    <tr>
      <th>541904</th>
      <td>581587</td>
      <td>22613</td>
      <td>PACK OF 20 SPACEBOY NAPKINS</td>
      <td>12</td>
      <td>2011-12-09 12:50:00</td>
      <td>0.85</td>
      <td>12680.0</td>
      <td>France</td>
    </tr>
    <tr>
      <th>541905</th>
      <td>581587</td>
      <td>22899</td>
      <td>CHILDREN'S APRON DOLLY GIRL</td>
      <td>6</td>
      <td>2011-12-09 12:50:00</td>
      <td>2.10</td>
      <td>12680.0</td>
      <td>France</td>
    </tr>
    <tr>
      <th>541906</th>
      <td>581587</td>
      <td>23254</td>
      <td>CHILDRENS CUTLERY DOLLY GIRL</td>
      <td>4</td>
      <td>2011-12-09 12:50:00</td>
      <td>4.15</td>
      <td>12680.0</td>
      <td>France</td>
    </tr>
    <tr>
      <th>541907</th>
      <td>581587</td>
      <td>23255</td>
      <td>CHILDRENS CUTLERY CIRCUS PARADE</td>
      <td>4</td>
      <td>2011-12-09 12:50:00</td>
      <td>4.15</td>
      <td>12680.0</td>
      <td>France</td>
    </tr>
    <tr>
      <th>541908</th>
      <td>581587</td>
      <td>22138</td>
      <td>BAKING SET 9 PIECE RETROSPOT</td>
      <td>3</td>
      <td>2011-12-09 12:50:00</td>
      <td>4.95</td>
      <td>12680.0</td>
      <td>France</td>
    </tr>
  </tbody>
</table>
</div>
</div>

</div>

</div>
</div>

</div>
<div class="cell border-box-sizing code_cell rendered">
<div class="input">
<div class="prompt input_prompt">In&nbsp;[5]:</div>
<div class="inner_cell">
    <div class="input_area">
<div class=" highlight hl-ipython3"><pre><span></span><span class="c1"># display the array size details of transcations</span>
<span class="n">datafields</span><span class="o">.</span><span class="n">shape</span>
</pre></div>

    </div>
</div>
</div>

<div class="output_wrapper">
<div class="output">


<div class="output_area">

    <div class="prompt output_prompt">Out[5]:</div>




<div class="output_text output_subarea output_execute_result">
<pre>(541909, 8)</pre>
</div>

</div>

</div>
</div>

</div>
<div class="cell border-box-sizing text_cell rendered"><div class="prompt input_prompt">
</div><div class="inner_cell">
<div class="text_cell_render border-box-sizing rendered_html">
<h1 id="Data-Pre-processing">Data Pre processing<a class="anchor-link" href="#Data-Pre-processing">&#182;</a></h1>
</div>
</div>
</div>
<div class="cell border-box-sizing code_cell rendered">
<div class="input">
<div class="prompt input_prompt">In&nbsp;[6]:</div>
<div class="inner_cell">
    <div class="input_area">
<div class=" highlight hl-ipython3"><pre><span></span><span class="c1"># Identifying the features data type from the data set</span>
<span class="n">datafields</span><span class="o">.</span><span class="n">dtypes</span>
</pre></div>

    </div>
</div>
</div>

<div class="output_wrapper">
<div class="output">


<div class="output_area">

    <div class="prompt output_prompt">Out[6]:</div>




<div class="output_text output_subarea output_execute_result">
<pre>InvoiceNo              object
StockCode              object
Description            object
Quantity                int64
InvoiceDate    datetime64[ns]
UnitPrice             float64
CustomerID            float64
Country                object
dtype: object</pre>
</div>

</div>

</div>
</div>

</div>
<div class="cell border-box-sizing code_cell rendered">
<div class="input">
<div class="prompt input_prompt">In&nbsp;[7]:</div>
<div class="inner_cell">
    <div class="input_area">
<div class=" highlight hl-ipython3"><pre><span></span><span class="c1"># Find if any features have Null values</span>
<span class="n">datafields</span><span class="o">.</span><span class="n">columns</span><span class="p">[</span><span class="n">datafields</span><span class="o">.</span><span class="n">isna</span><span class="p">()</span><span class="o">.</span><span class="n">any</span><span class="p">()]</span><span class="o">.</span><span class="n">tolist</span><span class="p">()</span>
</pre></div>

    </div>
</div>
</div>

<div class="output_wrapper">
<div class="output">


<div class="output_area">

    <div class="prompt output_prompt">Out[7]:</div>




<div class="output_text output_subarea output_execute_result">
<pre>[&#39;Description&#39;, &#39;CustomerID&#39;]</pre>
</div>

</div>

</div>
</div>

</div>
<div class="cell border-box-sizing code_cell rendered">
<div class="input">
<div class="prompt input_prompt">In&nbsp;[8]:</div>
<div class="inner_cell">
    <div class="input_area">
<div class=" highlight hl-ipython3"><pre><span></span><span class="c1"># Find how many number of observations will get affected</span>
<span class="n">datafields</span><span class="o">.</span><span class="n">isnull</span><span class="p">()</span><span class="o">.</span><span class="n">sum</span><span class="p">()</span>
</pre></div>

    </div>
</div>
</div>

<div class="output_wrapper">
<div class="output">


<div class="output_area">

    <div class="prompt output_prompt">Out[8]:</div>




<div class="output_text output_subarea output_execute_result">
<pre>InvoiceNo           0
StockCode           0
Description      1454
Quantity            0
InvoiceDate         0
UnitPrice           0
CustomerID     135080
Country             0
dtype: int64</pre>
</div>

</div>

</div>
</div>

</div>
<div class="cell border-box-sizing code_cell rendered">
<div class="input">
<div class="prompt input_prompt">In&nbsp;[9]:</div>
<div class="inner_cell">
    <div class="input_area">
<div class=" highlight hl-ipython3"><pre><span></span><span class="c1"># Replace ? with NaN and view the data.</span>
<span class="n">datafields</span><span class="o">.</span><span class="n">replace</span><span class="p">(</span><span class="s1">&#39;?&#39;</span><span class="p">,</span> <span class="n">np</span><span class="o">.</span><span class="n">nan</span><span class="p">,</span> <span class="n">inplace</span><span class="o">=</span><span class="kc">True</span><span class="p">)</span>

<span class="c1"># Stripping extra spaces in the description </span>
<span class="n">datafields</span><span class="p">[</span><span class="s1">&#39;Description&#39;</span><span class="p">]</span> <span class="o">=</span> <span class="n">datafields</span><span class="p">[</span><span class="s1">&#39;Description&#39;</span><span class="p">]</span><span class="o">.</span><span class="n">str</span><span class="o">.</span><span class="n">strip</span><span class="p">()</span> 
  
<span class="c1"># Dropping the rows without any invoice number </span>
<span class="n">datafields</span><span class="o">.</span><span class="n">dropna</span><span class="p">(</span><span class="n">axis</span> <span class="o">=</span> <span class="mi">0</span><span class="p">,</span> <span class="n">subset</span> <span class="o">=</span><span class="p">[</span><span class="s1">&#39;InvoiceNo&#39;</span><span class="p">],</span> <span class="n">inplace</span> <span class="o">=</span> <span class="kc">True</span><span class="p">)</span> 
<span class="n">datafields</span><span class="p">[</span><span class="s1">&#39;InvoiceNo&#39;</span><span class="p">]</span> <span class="o">=</span> <span class="n">datafields</span><span class="p">[</span><span class="s1">&#39;InvoiceNo&#39;</span><span class="p">]</span><span class="o">.</span><span class="n">astype</span><span class="p">(</span><span class="s1">&#39;str&#39;</span><span class="p">)</span> 

<span class="c1"># Dropping all transactions which were done canceled  </span>
<span class="n">datafields</span> <span class="o">=</span> <span class="n">datafields</span><span class="p">[</span><span class="o">~</span><span class="n">datafields</span><span class="p">[</span><span class="s1">&#39;InvoiceNo&#39;</span><span class="p">]</span><span class="o">.</span><span class="n">str</span><span class="o">.</span><span class="n">contains</span><span class="p">(</span><span class="s1">&#39;C&#39;</span><span class="p">)]</span> 

<span class="c1"># Dropping the rows whoes having null values to avoid errors  </span>
<span class="n">datafields</span><span class="o">.</span><span class="n">dropna</span><span class="p">(</span><span class="n">inplace</span> <span class="o">=</span> <span class="kc">True</span><span class="p">)</span>

<span class="c1"># Dropping the rows whoes having the POSTAGE,CARRIAGE,Manual,Bank Charges,DOTCOM POSTAGE</span>
<span class="n">datafields</span> <span class="o">=</span> <span class="n">datafields</span><span class="p">[</span><span class="o">~</span><span class="n">datafields</span><span class="p">[</span><span class="s1">&#39;Description&#39;</span><span class="p">]</span><span class="o">.</span><span class="n">str</span><span class="o">.</span><span class="n">contains</span><span class="p">(</span><span class="s1">&#39;POSTAGE&#39;</span><span class="p">)]</span> 
<span class="n">datafields</span> <span class="o">=</span> <span class="n">datafields</span><span class="p">[</span><span class="o">~</span><span class="n">datafields</span><span class="p">[</span><span class="s1">&#39;Description&#39;</span><span class="p">]</span><span class="o">.</span><span class="n">str</span><span class="o">.</span><span class="n">contains</span><span class="p">(</span><span class="s1">&#39;CARRIAGE&#39;</span><span class="p">)]</span> 
<span class="n">datafields</span> <span class="o">=</span> <span class="n">datafields</span><span class="p">[</span><span class="o">~</span><span class="n">datafields</span><span class="p">[</span><span class="s1">&#39;Description&#39;</span><span class="p">]</span><span class="o">.</span><span class="n">str</span><span class="o">.</span><span class="n">contains</span><span class="p">(</span><span class="s1">&#39;Manual&#39;</span><span class="p">)]</span> 
<span class="n">datafields</span> <span class="o">=</span> <span class="n">datafields</span><span class="p">[</span><span class="o">~</span><span class="n">datafields</span><span class="p">[</span><span class="s1">&#39;Description&#39;</span><span class="p">]</span><span class="o">.</span><span class="n">str</span><span class="o">.</span><span class="n">contains</span><span class="p">(</span><span class="s1">&#39;Bank Charges&#39;</span><span class="p">)]</span> 
<span class="n">datafields</span> <span class="o">=</span> <span class="n">datafields</span><span class="p">[</span><span class="o">~</span><span class="n">datafields</span><span class="p">[</span><span class="s1">&#39;Description&#39;</span><span class="p">]</span><span class="o">.</span><span class="n">str</span><span class="o">.</span><span class="n">contains</span><span class="p">(</span><span class="s1">&#39;DOTCOM POSTAGE&#39;</span><span class="p">)]</span> 



<span class="c1"># Date prunning making the datetime stamp round</span>
<span class="n">datafields</span><span class="p">[</span><span class="s1">&#39;InvoiceDate&#39;</span><span class="p">]</span> <span class="o">=</span> <span class="n">datafields</span><span class="p">[</span><span class="s1">&#39;InvoiceDate&#39;</span><span class="p">]</span><span class="o">.</span><span class="n">dt</span><span class="o">.</span><span class="n">normalize</span><span class="p">()</span>
</pre></div>

    </div>
</div>
</div>

</div>
<div class="cell border-box-sizing code_cell rendered">
<div class="input">
<div class="prompt input_prompt">In&nbsp;[10]:</div>
<div class="inner_cell">
    <div class="input_area">
<div class=" highlight hl-ipython3"><pre><span></span><span class="c1"># display the array size details of transcations</span>
<span class="n">datafields</span><span class="o">.</span><span class="n">shape</span>
</pre></div>

    </div>
</div>
</div>

<div class="output_wrapper">
<div class="output">


<div class="output_area">

    <div class="prompt output_prompt">Out[10]:</div>




<div class="output_text output_subarea output_execute_result">
<pre>(396312, 8)</pre>
</div>

</div>

</div>
</div>

</div>
<div class="cell border-box-sizing code_cell rendered">
<div class="input">
<div class="prompt input_prompt">In&nbsp;[11]:</div>
<div class="inner_cell">
    <div class="input_area">
<div class=" highlight hl-ipython3"><pre><span></span><span class="c1"># Find if any features have Null values</span>
<span class="n">datafields</span><span class="o">.</span><span class="n">columns</span><span class="p">[</span><span class="n">datafields</span><span class="o">.</span><span class="n">isna</span><span class="p">()</span><span class="o">.</span><span class="n">any</span><span class="p">()]</span><span class="o">.</span><span class="n">tolist</span><span class="p">()</span>
</pre></div>

    </div>
</div>
</div>

<div class="output_wrapper">
<div class="output">


<div class="output_area">

    <div class="prompt output_prompt">Out[11]:</div>




<div class="output_text output_subarea output_execute_result">
<pre>[]</pre>
</div>

</div>

</div>
</div>

</div>
<div class="cell border-box-sizing code_cell rendered">
<div class="input">
<div class="prompt input_prompt">In&nbsp;[12]:</div>
<div class="inner_cell">
    <div class="input_area">
<div class=" highlight hl-ipython3"><pre><span></span><span class="c1"># Find how many number of observations will get affected</span>
<span class="n">datafields</span><span class="o">.</span><span class="n">isnull</span><span class="p">()</span><span class="o">.</span><span class="n">sum</span><span class="p">()</span>
</pre></div>

    </div>
</div>
</div>

<div class="output_wrapper">
<div class="output">


<div class="output_area">

    <div class="prompt output_prompt">Out[12]:</div>




<div class="output_text output_subarea output_execute_result">
<pre>InvoiceNo      0
StockCode      0
Description    0
Quantity       0
InvoiceDate    0
UnitPrice      0
CustomerID     0
Country        0
dtype: int64</pre>
</div>

</div>

</div>
</div>

</div>
<div class="cell border-box-sizing code_cell rendered">
<div class="input">
<div class="prompt input_prompt">In&nbsp;[13]:</div>
<div class="inner_cell">
    <div class="input_area">
<div class=" highlight hl-ipython3"><pre><span></span><span class="c1"># display the array size details of transcations</span>
<span class="n">datafields</span><span class="o">.</span><span class="n">shape</span>
</pre></div>

    </div>
</div>
</div>

<div class="output_wrapper">
<div class="output">


<div class="output_area">

    <div class="prompt output_prompt">Out[13]:</div>




<div class="output_text output_subarea output_execute_result">
<pre>(396312, 8)</pre>
</div>

</div>

</div>
</div>

</div>
<div class="cell border-box-sizing code_cell rendered">
<div class="input">
<div class="prompt input_prompt">In&nbsp;[14]:</div>
<div class="inner_cell">
    <div class="input_area">
<div class=" highlight hl-ipython3"><pre><span></span><span class="c1"># Categorical into Numeric </span>

<span class="c1"># using apply method to convert the data types of the feature</span>
<span class="n">datafields</span><span class="p">[[</span><span class="s1">&#39;InvoiceNo&#39;</span><span class="p">]]</span> <span class="o">=</span> <span class="n">datafields</span><span class="p">[[</span><span class="s1">&#39;InvoiceNo&#39;</span><span class="p">]]</span><span class="o">.</span><span class="n">apply</span><span class="p">(</span><span class="n">pd</span><span class="o">.</span><span class="n">to_numeric</span><span class="p">)</span> 

<span class="c1"># using astype method to conver the floating point data type to intger of feature</span>
<span class="n">datafields</span><span class="p">[[</span><span class="s1">&#39;CustomerID&#39;</span><span class="p">]]</span> <span class="o">=</span> <span class="n">datafields</span><span class="p">[[</span><span class="s1">&#39;CustomerID&#39;</span><span class="p">]]</span><span class="o">.</span><span class="n">astype</span><span class="p">(</span><span class="n">np</span><span class="o">.</span><span class="n">int64</span><span class="p">)</span>

<span class="c1"># Identifying the features data type from the data set</span>
<span class="n">datafields</span><span class="o">.</span><span class="n">dtypes</span>
</pre></div>

    </div>
</div>
</div>

<div class="output_wrapper">
<div class="output">


<div class="output_area">

    <div class="prompt output_prompt">Out[14]:</div>




<div class="output_text output_subarea output_execute_result">
<pre>InvoiceNo               int64
StockCode              object
Description            object
Quantity                int64
InvoiceDate    datetime64[ns]
UnitPrice             float64
CustomerID              int64
Country                object
dtype: object</pre>
</div>

</div>

</div>
</div>

</div>
<div class="cell border-box-sizing text_cell rendered"><div class="prompt input_prompt">
</div><div class="inner_cell">
<div class="text_cell_render border-box-sizing rendered_html">
<h1 id="Exploratory-Data-Analysis">Exploratory Data Analysis<a class="anchor-link" href="#Exploratory-Data-Analysis">&#182;</a></h1>
</div>
</div>
</div>
<div class="cell border-box-sizing code_cell rendered">
<div class="input">
<div class="prompt input_prompt">In&nbsp;[15]:</div>
<div class="inner_cell">
    <div class="input_area">
<div class=" highlight hl-ipython3"><pre><span></span><span class="c1"># Exploring the columns of the data </span>
<span class="c1"># displaying the list of columns in the xlsx file</span>
<span class="n">datafields</span><span class="o">.</span><span class="n">columns</span>
</pre></div>

    </div>
</div>
</div>

<div class="output_wrapper">
<div class="output">


<div class="output_area">

    <div class="prompt output_prompt">Out[15]:</div>




<div class="output_text output_subarea output_execute_result">
<pre>Index([&#39;InvoiceNo&#39;, &#39;StockCode&#39;, &#39;Description&#39;, &#39;Quantity&#39;, &#39;InvoiceDate&#39;,
       &#39;UnitPrice&#39;, &#39;CustomerID&#39;, &#39;Country&#39;],
      dtype=&#39;object&#39;)</pre>
</div>

</div>

</div>
</div>

</div>
<div class="cell border-box-sizing code_cell rendered">
<div class="input">
<div class="prompt input_prompt">In&nbsp;[16]:</div>
<div class="inner_cell">
    <div class="input_area">
<div class=" highlight hl-ipython3"><pre><span></span><span class="c1"># Exploring the different regions of transactions  </span>
<span class="c1"># displaying the customer locations based on the transactions</span>
<span class="n">datafields</span><span class="o">.</span><span class="n">Country</span><span class="o">.</span><span class="n">unique</span><span class="p">()</span> 
</pre></div>

    </div>
</div>
</div>

<div class="output_wrapper">
<div class="output">


<div class="output_area">

    <div class="prompt output_prompt">Out[16]:</div>




<div class="output_text output_subarea output_execute_result">
<pre>array([&#39;United Kingdom&#39;, &#39;France&#39;, &#39;Australia&#39;, &#39;Netherlands&#39;, &#39;Germany&#39;,
       &#39;Norway&#39;, &#39;EIRE&#39;, &#39;Switzerland&#39;, &#39;Spain&#39;, &#39;Poland&#39;, &#39;Portugal&#39;,
       &#39;Italy&#39;, &#39;Belgium&#39;, &#39;Lithuania&#39;, &#39;Japan&#39;, &#39;Iceland&#39;,
       &#39;Channel Islands&#39;, &#39;Denmark&#39;, &#39;Cyprus&#39;, &#39;Sweden&#39;, &#39;Finland&#39;,
       &#39;Austria&#39;, &#39;Greece&#39;, &#39;Singapore&#39;, &#39;Lebanon&#39;,
       &#39;United Arab Emirates&#39;, &#39;Israel&#39;, &#39;Saudi Arabia&#39;, &#39;Czech Republic&#39;,
       &#39;Canada&#39;, &#39;Unspecified&#39;, &#39;Brazil&#39;, &#39;USA&#39;, &#39;European Community&#39;,
       &#39;Bahrain&#39;, &#39;Malta&#39;, &#39;RSA&#39;], dtype=object)</pre>
</div>

</div>

</div>
</div>

</div>
<div class="cell border-box-sizing code_cell rendered">
<div class="input">
<div class="prompt input_prompt">In&nbsp;[17]:</div>
<div class="inner_cell">
    <div class="input_area">
<div class=" highlight hl-ipython3"><pre><span></span><span class="c1">#Statistical summary ( only numeric data).</span>
<span class="n">datafields</span><span class="p">[[</span><span class="s1">&#39;Quantity&#39;</span><span class="p">,</span><span class="s1">&#39;UnitPrice&#39;</span><span class="p">]]</span><span class="o">.</span><span class="n">describe</span><span class="p">()</span> 
</pre></div>

    </div>
</div>
</div>

<div class="output_wrapper">
<div class="output">


<div class="output_area">

    <div class="prompt output_prompt">Out[17]:</div>



<div class="output_html rendered_html output_subarea output_execute_result">
<div>
<style scoped>
    .dataframe tbody tr th:only-of-type {
        vertical-align: middle;
    }

    .dataframe tbody tr th {
        vertical-align: top;
    }

    .dataframe thead th {
        text-align: right;
    }
</style>
<table border="1" class="dataframe">
  <thead>
    <tr style="text-align: right;">
      <th></th>
      <th>Quantity</th>
      <th>UnitPrice</th>
    </tr>
  </thead>
  <tbody>
    <tr>
      <th>count</th>
      <td>396312.000000</td>
      <td>396312.000000</td>
    </tr>
    <tr>
      <th>mean</th>
      <td>13.048018</td>
      <td>2.867329</td>
    </tr>
    <tr>
      <th>std</th>
      <td>180.746775</td>
      <td>4.264581</td>
    </tr>
    <tr>
      <th>min</th>
      <td>1.000000</td>
      <td>0.000000</td>
    </tr>
    <tr>
      <th>25%</th>
      <td>2.000000</td>
      <td>1.250000</td>
    </tr>
    <tr>
      <th>50%</th>
      <td>6.000000</td>
      <td>1.950000</td>
    </tr>
    <tr>
      <th>75%</th>
      <td>12.000000</td>
      <td>3.750000</td>
    </tr>
    <tr>
      <th>max</th>
      <td>80995.000000</td>
      <td>649.500000</td>
    </tr>
  </tbody>
</table>
</div>
</div>

</div>

</div>
</div>

</div>
<div class="cell border-box-sizing code_cell rendered">
<div class="input">
<div class="prompt input_prompt">In&nbsp;[19]:</div>
<div class="inner_cell">
    <div class="input_area">
<div class=" highlight hl-ipython3"><pre><span></span><span class="c1"># Plotting InvoiceNo distribution per Country</span>
<span class="n">plt</span><span class="o">.</span><span class="n">figure</span><span class="p">(</span><span class="n">figsize</span><span class="o">=</span><span class="p">(</span><span class="mi">14</span><span class="p">,</span><span class="mi">6</span><span class="p">))</span>
<span class="n">plt</span><span class="o">.</span><span class="n">title</span><span class="p">(</span><span class="s1">&#39;Distribuition of purchases in the website according to Countries&#39;</span><span class="p">);</span>
<span class="n">sns</span><span class="o">.</span><span class="n">countplot</span><span class="p">(</span><span class="n">y</span><span class="o">=</span><span class="s1">&#39;Country&#39;</span><span class="p">,</span> <span class="n">data</span><span class="o">=</span><span class="n">datafields</span><span class="p">);</span>
</pre></div>

    </div>
</div>
</div>

<div class="output_wrapper">
<div class="output">


<div class="output_area">

    <div class="prompt"></div>




<div class="output_png output_subarea ">
<img src="data:image/png;base64,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
"
>
</div>

</div>

</div>
</div>

</div>
<div class="cell border-box-sizing code_cell rendered">
<div class="input">
<div class="prompt input_prompt">In&nbsp;[21]:</div>
<div class="inner_cell">
    <div class="input_area">
<div class=" highlight hl-ipython3"><pre><span></span><span class="c1">#datafields[&#39;Country&#39;].value_counts()</span>
<span class="n">country_set</span> <span class="o">=</span> <span class="n">datafields</span><span class="p">[[</span><span class="s1">&#39;Country&#39;</span><span class="p">,</span> <span class="s1">&#39;InvoiceNo&#39;</span><span class="p">]]</span>
<span class="n">country_set</span> <span class="o">=</span> <span class="n">country_set</span><span class="o">.</span><span class="n">pivot_table</span><span class="p">(</span><span class="n">columns</span><span class="o">=</span><span class="s1">&#39;Country&#39;</span><span class="p">,</span> <span class="n">aggfunc</span><span class="o">=</span><span class="s1">&#39;count&#39;</span><span class="p">)</span>
<span class="n">country_set</span><span class="o">.</span><span class="n">sort_values</span><span class="p">(</span><span class="s1">&#39;InvoiceNo&#39;</span><span class="p">,</span> <span class="n">axis</span><span class="o">=</span><span class="mi">1</span><span class="p">,</span> <span class="n">ascending</span><span class="o">=</span><span class="kc">False</span><span class="p">)</span><span class="o">.</span><span class="n">T</span>
</pre></div>

    </div>
</div>
</div>

<div class="output_wrapper">
<div class="output">


<div class="output_area">

    <div class="prompt output_prompt">Out[21]:</div>



<div class="output_html rendered_html output_subarea output_execute_result">
<div>
<style scoped>
    .dataframe tbody tr th:only-of-type {
        vertical-align: middle;
    }

    .dataframe tbody tr th {
        vertical-align: top;
    }

    .dataframe thead th {
        text-align: right;
    }
</style>
<table border="1" class="dataframe">
  <thead>
    <tr style="text-align: right;">
      <th></th>
      <th>InvoiceNo</th>
    </tr>
    <tr>
      <th>Country</th>
      <th></th>
    </tr>
  </thead>
  <tbody>
    <tr>
      <th>United Kingdom</th>
      <td>353952</td>
    </tr>
    <tr>
      <th>Germany</th>
      <td>8659</td>
    </tr>
    <tr>
      <th>France</th>
      <td>8034</td>
    </tr>
    <tr>
      <th>EIRE</th>
      <td>7134</td>
    </tr>
    <tr>
      <th>Spain</th>
      <td>2423</td>
    </tr>
    <tr>
      <th>Netherlands</th>
      <td>2326</td>
    </tr>
    <tr>
      <th>Belgium</th>
      <td>1935</td>
    </tr>
    <tr>
      <th>Switzerland</th>
      <td>1811</td>
    </tr>
    <tr>
      <th>Portugal</th>
      <td>1425</td>
    </tr>
    <tr>
      <th>Australia</th>
      <td>1184</td>
    </tr>
    <tr>
      <th>Norway</th>
      <td>1049</td>
    </tr>
    <tr>
      <th>Channel Islands</th>
      <td>744</td>
    </tr>
    <tr>
      <th>Italy</th>
      <td>741</td>
    </tr>
    <tr>
      <th>Finland</th>
      <td>647</td>
    </tr>
    <tr>
      <th>Cyprus</th>
      <td>612</td>
    </tr>
    <tr>
      <th>Sweden</th>
      <td>428</td>
    </tr>
    <tr>
      <th>Austria</th>
      <td>384</td>
    </tr>
    <tr>
      <th>Denmark</th>
      <td>367</td>
    </tr>
    <tr>
      <th>Poland</th>
      <td>325</td>
    </tr>
    <tr>
      <th>Japan</th>
      <td>321</td>
    </tr>
    <tr>
      <th>Israel</th>
      <td>248</td>
    </tr>
    <tr>
      <th>Unspecified</th>
      <td>244</td>
    </tr>
    <tr>
      <th>Singapore</th>
      <td>215</td>
    </tr>
    <tr>
      <th>Iceland</th>
      <td>182</td>
    </tr>
    <tr>
      <th>USA</th>
      <td>179</td>
    </tr>
    <tr>
      <th>Canada</th>
      <td>149</td>
    </tr>
    <tr>
      <th>Greece</th>
      <td>142</td>
    </tr>
    <tr>
      <th>Malta</th>
      <td>109</td>
    </tr>
    <tr>
      <th>United Arab Emirates</th>
      <td>67</td>
    </tr>
    <tr>
      <th>European Community</th>
      <td>57</td>
    </tr>
    <tr>
      <th>RSA</th>
      <td>57</td>
    </tr>
    <tr>
      <th>Lebanon</th>
      <td>45</td>
    </tr>
    <tr>
      <th>Lithuania</th>
      <td>35</td>
    </tr>
    <tr>
      <th>Brazil</th>
      <td>32</td>
    </tr>
    <tr>
      <th>Czech Republic</th>
      <td>24</td>
    </tr>
    <tr>
      <th>Bahrain</th>
      <td>17</td>
    </tr>
    <tr>
      <th>Saudi Arabia</th>
      <td>9</td>
    </tr>
  </tbody>
</table>
</div>
</div>

</div>

</div>
</div>

</div>
<div class="cell border-box-sizing code_cell rendered">
<div class="input">
<div class="prompt input_prompt">In&nbsp;[23]:</div>
<div class="inner_cell">
    <div class="input_area">
<div class=" highlight hl-ipython3"><pre><span></span><span class="n">datafields_UK</span> <span class="o">=</span> <span class="n">country_set</span><span class="o">.</span><span class="n">T</span><span class="o">.</span><span class="n">drop</span><span class="p">(</span><span class="s1">&#39;United Kingdom&#39;</span><span class="p">)</span>
<span class="n">plt</span><span class="o">.</span><span class="n">figure</span><span class="p">(</span><span class="n">figsize</span><span class="o">=</span><span class="p">(</span><span class="mi">14</span><span class="p">,</span><span class="mi">6</span><span class="p">))</span>
<span class="n">plt</span><span class="o">.</span><span class="n">title</span><span class="p">(</span><span class="s1">&#39;Distribuition of purchases in the website according to Countries&#39;</span><span class="p">);</span>
<span class="c1"># Note that since we transformed the index in type category the .remove_unused_categories is used</span>
<span class="c1"># otherwise it woul include a columns for United Kingdom with 0 values at the very end of the plot</span>
<span class="n">sns</span><span class="o">.</span><span class="n">barplot</span><span class="p">(</span><span class="n">y</span><span class="o">=</span><span class="n">datafields_UK</span><span class="o">.</span><span class="n">index</span><span class="p">,</span> <span class="n">x</span><span class="o">=</span><span class="s1">&#39;InvoiceNo&#39;</span><span class="p">,</span> <span class="n">data</span><span class="o">=</span><span class="n">datafields_UK</span><span class="p">,</span> <span class="n">orient</span><span class="o">=</span><span class="s1">&#39;h&#39;</span><span class="p">);</span>
</pre></div>

    </div>
</div>
</div>

<div class="output_wrapper">
<div class="output">


<div class="output_area">

    <div class="prompt"></div>




<div class="output_png output_subarea ">
<img src="data:image/png;base64,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
"
>
</div>

</div>

</div>
</div>

</div>
<div class="cell border-box-sizing code_cell rendered">
<div class="input">
<div class="prompt input_prompt">In&nbsp;[24]:</div>
<div class="inner_cell">
    <div class="input_area">
<div class=" highlight hl-ipython3"><pre><span></span><span class="n">sns</span><span class="o">.</span><span class="n">set</span><span class="p">(</span><span class="n">style</span><span class="o">=</span><span class="s2">&quot;whitegrid&quot;</span><span class="p">,</span> <span class="n">color_codes</span><span class="o">=</span><span class="kc">True</span><span class="p">)</span>
<span class="c1"># setting the plot size for all plots</span>
<span class="n">sns</span><span class="o">.</span><span class="n">set</span><span class="p">(</span><span class="n">rc</span><span class="o">=</span><span class="p">{</span><span class="s1">&#39;figure.figsize&#39;</span><span class="p">:(</span><span class="mf">11.7</span><span class="p">,</span><span class="mf">8.27</span><span class="p">)})</span>
<span class="c1"># create a scatterplot</span>
<span class="n">sns</span><span class="o">.</span><span class="n">scatterplot</span><span class="p">(</span><span class="n">x</span><span class="o">=</span><span class="s1">&#39;InvoiceDate&#39;</span><span class="p">,</span> <span class="n">y</span><span class="o">=</span><span class="s1">&#39;Country&#39;</span><span class="p">,</span> <span class="n">data</span><span class="o">=</span><span class="n">datafields</span><span class="p">)</span>
<span class="n">plt</span><span class="o">.</span><span class="n">show</span><span class="p">()</span>
</pre></div>

    </div>
</div>
</div>

<div class="output_wrapper">
<div class="output">


<div class="output_area">

    <div class="prompt"></div>


<div class="output_subarea output_stream output_stderr output_text">
<pre>C:\Users\UKISHOR\AppData\Local\Continuum\anaconda3\lib\site-packages\pandas\plotting\_matplotlib\converter.py:103: FutureWarning: Using an implicitly registered datetime converter for a matplotlib plotting method. The converter was registered by pandas on import. Future versions of pandas will require you to explicitly register matplotlib converters.

To register the converters:
	&gt;&gt;&gt; from pandas.plotting import register_matplotlib_converters
	&gt;&gt;&gt; register_matplotlib_converters()
  warnings.warn(msg, FutureWarning)
</pre>
</div>
</div>

<div class="output_area">

    <div class="prompt"></div>




<div class="output_png output_subarea ">
<img src="data:image/png;base64,iVBORw0KGgoAAAANSUhEUgAAAx0AAAHxCAYAAAAIgNFDAAAABHNCSVQICAgIfAhkiAAAAAlwSFlzAAALEgAACxIB0t1+/AAAADh0RVh0U29mdHdhcmUAbWF0cGxvdGxpYiB2ZXJzaW9uMy4xLjIsIGh0dHA6Ly9tYXRwbG90bGliLm9yZy8li6FKAAAgAElEQVR4nOzde1yUdd7/8dfMgMCAyqTg0nrIrFDzkKZ4Iu0GW8VUPGVrhav3rf1cdXVbc8UkVtPEE5qmrpnduZomZiQe87YI00pxLS3Xw1pqK4WaiiYgCDPz+4OYIg8cZJgB3s/Ho8fDZq7rms/1+cxcMx+u6/p+DXa73Y6IiIiIiIiTGF0dgIiIiIiIVG1qOkRERERExKnUdIiIiIiIiFOp6RAREREREadS0yEiIiIiIk6lpkNERERERJxKTYeIiIiIiDiVh6sDkMohIyMLm01TupRFnTp+XLyY6eowqhXl3PVUA/egOrgH1cH1VAPnMxoNWCy+t3xeTYeUiM1mV9NxB5S7iqecu55q4B5UB/egOrieauBaurxKREREREScSk2HiIiIiIg4lZoOERERERFxKjUdIiIiIiLiVGo6RERERETEqdR0iIiIiIiIU6npEBERERERp1LTISIiIiIiTqWmQ0REREREnEpNh4iIiIiIOJWaDhERERERcSo1HSIiIiIi4lRqOkRERERExKnUdIiIiIiIiFN5uDoAKZm0tDR69uxJkyZNALDZbGRlZdGvXz/GjRvH+++/z/Lly8nPz8dutxMZGcmIESOKbGPAgAEEBgaybNkyV+yCiIiIVFNmsydZuTasNhsmoxFfLyPZ2XmuDksqkJqOSiQwMJCkpCTH/587d44ePXrQpUsXZs+eTWJiIhaLhaysLKKiomjcuDHh4eEAHDt2jBo1anDs2DHS09MJCgpy1W6IiIhINWI2e5KekUPcylTOZ1wj0OLD5GEhBFm81XhUI7q8qhL74YcfsNvtWK1W8vLyyMnJAcDX15dZs2Zx3333OZZNTEykS5cuhIeHs379eleFLCIiItVMVq7N0XAAnM+4RtzKVLJybS6OTCqSznRUIufPnycyMpLc3FwyMjJo2bIlixcvJiQkhPDwcLp3706zZs3o0KEDffr0oVGjRgDk5eWxefNmVq9ezeXLl3nuuecYM2YMHh4lL3+dOn7O2q1qISCgpqtDqHaUc9dTDdyD6uAeqnMd0i9kOhqOQuczrmG12QmqwLxU5xq4AzUdlUjh5VU2m41Zs2bxzTff0KVLFwCmTZvG6NGj2bNnD3v27GHw4MHMmzeP3/3ud6SkpBAQEMB9992H3W7HaDTy0Ucf8dhjj5X4tS9ezMRmsztr16q0gICa/PDDVVeHUa0o566nGrgH1cE9VPc6mEwmAi0+RRqPQIsPJqOhwvJS3WtQEYxGw23/SK3Lqyoho9HIX//6V86dO8cbb7xBSkoK27Zto169egwcOJAFCxYQExPDhg0bAHj33XdJT08nLCyM8PBwMjMzWbdunYv3QkRERKoDXy8jk4eFEGjxAXDc0+HrpZ+h1YnOdFRSHh4e/PWvf2X8+PFMnz6dBQsW0KpVK+rXr4/dbufo0aM0a9aMCxcu8Omnn7Jz507q1asHwJkzZ+jZsydnzpyhQYMGLt4TERERqcqys/MIsngTNzpUo1dVY2oxK7GuXbvSpk0b9u7dy9ixYxk1ahQ9evSgZ8+emEwmxowZQ1JSEt26dXM0HAANGjQgLCyMhIQEF0YvIiIi1UV2dh4GqxUPux2D1aqGoxoy2O12XagvxdI9HWWn60grnnLueqqBe1Ad3IPq4HqqgfPpng4REREREXEpNR0iIiIiIuJUajrcVFpaGsHBwcTGxhZ5/OjRowQHB5OYmHjLdcPCwkhLS+PMmTO88MILzg5VREREROS21HS4MX9/f3bv3o3VanU8tm3bNu66664Srf/9999z5swZZ4UnIiKA2eyJ3WQi32DAbjJhNnuWy3ZNJiN2k/Gn7RoxmfSVXR5KUy9n1VaqHr1Xiqchc92Yr68vTZs2Zf/+/XTs2BGATz75hM6dOwPw1ltvkZSUxLVr1/D09CQ+Pp57773Xsf6MGTNIS0tj2rRpTJkyhalTp3LixAkuXLhAcHAw8+fPx9vb2yX7JiJSFZjNnqRn5BC3MpXzGdcc8w8EWbzvaHQek8lIRnYeM3+x3ReGhWAxe2K12spxD6qX0tTLWbWVqkfvlZLRn03cXEREBDt27ADgyy+/JDg4GE9PTzIzM/nggw9YvXo1W7Zs4dFHH2XNmjVF1o2JiaFFixb87W9/44svvsDT05OEhAR27tzJ1atX2bVrlyt2SUSkysjKtTl+aACcz7hG3MpUsnLvrDHIB0fDUbjdmStTyb/TgKu50tTLWbWVqkfvlZLRmQ43FxYWxiuvvILNZmP79u1ERESwbds2/Pz8iI+PZ+vWrZw+fZrdu3fTrFmzW26nffv2+Pv7s2bNGk6ePMnp06fJzs4ucRy3GwJNihcQUNPVIVQ7yrnrVYcapF/IdPzQKHQ+4xpWm52gO9j/8xnZN90uBkOp81od6lBSpalXeddWdXA9Z9XAWceBqkZNh5srvMTqwIED7N27lwkTJrBt2zbS09N58skneeaZZ+jatSt169bl6NGjt9zOhx9+yKJFixg6dCgDBgwgIyOD0kzRonk6yk5jg1c85dz1qksNTCYTgRafIj84Ai0+mIyGO9t/k/Gm28VuL9V2q0sdSqo09SrP2qoOrufMGjjtOFDJaJ6OKiAiIoL4+HhatGiBh0dBn2g2m2nUqBHDhg2jZcuWfPDBB0VuOIeCD0F+fsHJ+M8++4yIiAgGDhxIrVq12Ldv3w3Li4hI6fh6GZk8LKSgIQDHtdy+Xnf29eoBvPCr7b4wLER/KbxDpamXs2orVY/eKyWj41cl8F//9V9MmTKF8ePHOx7z9PTEZrPRq1cv7HY77du358SJE0XWa9KkCVevXmXixImMGDGC559/nq1bt+Lp6Unbtm1JS0ur6F0REalSsrPzCLJ4Ezc6FKvNhsloxNfLeMc3j1qtNixmT+JGd8Fqs2MyGvD46XEpu9LUy1m1lapH75WSMdhLc42NVFu6vKrsdFq94innrqcauAfVwT2oDq6nGjifLq8SERERERGXUtMhIiIiIiJOpaajAu3bt482bdoQGRlJ3759iYiI4B//+Mdt14mKimLfvn1lfs0pU6bw1VdflXl9EREREZE7pRvJK1iLFi1YvXo1AJmZmTz++ON06dKF++67zymv9/LLLztluyIi5cVs9iQr11bmGzC9fDzJuf7z+t41jORe0w2cIiLuRE2HC+Xm5mIymahZsybbt2/nzTffJCcnh+vXrzNz5kzatm0LwIYNG5g1axY//vgjU6ZMISwsjOjoaC5fvsy3337LxIkTyc3Nven6UVFRjB07FoDXXnsNb29vvvnmG4KDg5k3bx41atRwZQpEpJozmz1Jz8hxzOZbONRkkMW7RI2Hl48n5y/fuH6gv7caDxERN6LLqyrY4cOHiYyMpE+fPoSFhRESEkLdunVZt24dy5YtY9OmTYwYMYLly5c71qlZsybvvfceMTExLFmyxPG4v78/27dv59FHH73t+oW++OILYmNj2b59O99//z179uypkH0WEbmVrFybo2GAgll841amkpVbsqFhc67ffP2c6xpaVkTEnehMRwX79eVVI0aMYMWKFSxZsoTk5GROnTpFamoqRuPP/WD37t0BuO+++8jIyHA83qpVKwCMRuNt1y90//3385vf/AYomMPjypUrJY77dkOgSfECAmq6OoRqRzl3vZLUIP1CZpFZfKGgcbDa7ARVwPrVgT4L7kF1cD3VwLXUdLiQn58fERERfPTRR7z33nv07duX9u3bExwczJo1axzLmUwmAAwGQ5H1vb29AcjKymLQoEG3XL+Ql5eX498Gg4HSTNGieTrKTmODVzzl3PVKWgOTyUSgxadI4xBo8cFkNFTI+lWdPgvuQXVwPdXA+TRPhxuzWq2kpqbi7e2NwWBg1KhRdOjQgZ07d2K1Wku8ndOnT9/R+iIiruLrZSy4B8PiA+C4J8PXq2RfT941br6+dw19vYmIuBOd6ahghfd0GAwG8vPzCQ4OZvr06cTExBAREYHBYCA0NJQDBw6UeJtNmzalWbNmZV5fRMRVsrPzCLJ4Ezc6tEyjV+VeyyPQv+j6Gr1KRMT9GOylucZGqi1dXlV2OqVb8ZRz11MN3IPq4B5UB9dTDZxPl1eJiIiIiIhLqekQERERERGnUtMhIiIiIiJO5ZQbydPS0ujZsydNmjQp8vjgwYN5+umnnfGSTnXy5EnmzJnDd999B8ADDzzAlClTuOuuu1wc2c0tXLiQFi1aEB4eTlRUlGNeEBGRO2U2e5KVayvTTd9VQXXf/5JQjkTkZpw2elVgYCBJSUnO2nyFOXfuHEOHDuWll14iLCwMu93Oa6+9xtixY1m7dq2rw7up8ePHO/6dmprqwkhEpCoxmz1Jz8hxzABeODxtkMW7WvyorO77XxLKkYjcikuGzA0ODub48eMAJCYmkpqayqxZswgLC6NVq1YcPXqUtWvXkpKSwptvvonBYODBBx/kxRdfxNfXl06dOvHYY4/xxRdf4Ovry7x586hfvz5ffvklcXFx5OTkYLFYmDZtGg0aNCA1NZUFCxaQk5PDjz/+yOTJk+nevTvR0dH4+fnxr3/9i3PnzjFmzBgGDhxYJNa3336bjh07EhYWBhRMqjdy5Ejq169Pfn4+eXl5xMTEcPz4cQwGA//zP/9Dv379SExMJCUlhcuXL3P+/Hl+//vf891337F37178/f1ZsWIFP/zwA2PGjOHee+/l66+/pnnz5rRp04b33nuPK1eusGTJEpo0aUJYWBirVq2ifv367Nu3j8WLF7N69WqioqJo2bIlBw4c4NKlS8TExNCtWzeio6MJCQnhyJEjADzxxBMMHjyYvXv3Eh8fD8Crr76Kl5cXzz77bAVWXkQqs6xcm+PHJBTM/B23MpW40aEYilm3Kqju+18SypGI3IrTmo7z588TGRlZ5LE5c+YQHBx82/W6du3KK6+8wvHjx1m2bBnr1693NBCLFy9m0qRJXLp0iTZt2vDSSy+xevVqZsyYwaJFi4iJiWHZsmXcfffd7N69mxdffJGVK1fy1ltvMWPGDJo0acJnn33GzJkz6d69OwBnz55l7dq1/Pvf/2bo0KE3NB1Hjx6lY8eORR4zmUz07t0bgPnz52OxWNiyZQuXLl3iiSeeoGnTpgB89dVXbN68mStXrhAWFsaKFSuYMmUKUVFR7N69m6ZNm3L8+HHi4uJo2rQpPXr0IDAwkISEBBYvXkxCQgIvvPDCbfOVl5dHQkICycnJLFy4kG7dujmei4mJYfXq1bzzzjtkZWWxYMECMjMz8fPzY8uWLaxateq22/6l2w2BJsULCKjp6hCqHeW8/KVfyCwy8zcU/Ki02uwE3STfVa0Gpd1/d1GRdaisOaoIVe3zUBmpBq7ldpdXtW7dGoD9+/fzX//1X1gsFgCefPJJJk+eDICXlxf9+vUDoH///syfP5/Tp09z5swZ/vjHPzq2lZmZCcDcuXP56KOPeP/99zl06BBZWVmOZbp06YLBYOCBBx7g8uXLN8RjMBioUaPGLePdu3cvM2fOBOCuu+4iPDyc1NRU/Pz8aNu2LX5+fvj5Ffxg79SpEwC//e1v+fHHHwGoW7cuzZs3B+A3v/mNY5m7776btLS0YvP1yCOPAHD//fffNP5Cvr6+dOvWjZ07d9KgQQMaNGhAvXr1it1+Ic3TUXYaG7ziKefOYTKZCLT4FPlRGWjxwWQ03JDvqliD0uy/u6joOlTGHFWEqvh5qGxUA+dz23k6CuckzM/PL/K4l5cXADab7YblC5c1Go0YDAbHciaTCZvNRv369UlKSiIpKYnExETHPRdPPfUUX375JS1atGDUqFE3fb3C7f1aixYtOHz4cJHHbDYbY8eO5cKFC/x6bkW73Y7VagXA09OzyHMeHjf2eL9uaEwm003jKC5ft4r/lwYOHMiWLVvYvHkzAwYMKHZ5EZFf8vUyMnlYCIEWHwDH9fq+XtVjIMTqvv8loRyJyK245ChgsVg4ceIEdrud5OTkmy4TEhJCcnKy46/369evp0OHDgBcu3bNsV5iYiJdu3bl3nvv5cqVK/zzn/8E4N133+X555/n8uXLnD59mvHjx9O1a1c+/PBDR1NQEk8++SS7du1i165dQMGP/6VLl3Lx4kXq1q1Lx44d2bBhAwCXLl3iww8/JCQkpGyJuQWLxcLXX38NwIcffliqdU0mk6NRadeuHWfPnmXfvn2Oy8tEREoqOzuPIIs3caNDWT45nLjRodXqBuHqvv8loRyJyK1U6D0d7du3JyYmhgkTJjBq1Cjq1q3Lww8/TEZGxg3rN23alP/3//4fUVFR5OXl8eCDDzJt2jTH8++//z4LFiwgMDCQ2bNnU6NGDRYuXMjLL79Mbm4ufn5+zJ49G39/fwYNGsTjjz+Oh4cHHTt2JCcnh+zs7BLtR0BAAK+//jpz5sxh3rx5WK1WmjdvzpIlSwAYM2YMU6dOpU+fPlitVkaNGsWDDz7ouFG+PIwbN47p06ezePFiQkNDS7VueHg4kZGRJCYm4uXlxWOPPcbly5dve8mYiMitZGfnYeCnLw+rlezskv8Rpyqo7vtfEsqRiNyMwf7r64MqgV+OfiUlY7fbycvLY/jw4bzwwgs8+OCDpVpf93SUna4jrXjKueupBu5BdXAPqoPrqQbO57b3dEjF+uGHH+jSpQutW7cudcMhIiIiInInXDJPx53SWY7SCwwMZP/+/a4OQ0RERESqIZ3pqCTS0tIcExT+UuG8J2vWrCEyMpK+ffsSGRnJxo0biyyXn59PaGgo06dPr5B4RUREREQKqemoAg4dOsQ777xDQkICmzZt4n//93955ZVXOHbsmGOZXbt20bJlS7Zv3861a9duszURqW7MZk/sJhP5BgN2kwmz2bP4lUREbqG8jik6Nv3sZrmobLmplJdXSVE//PADdruda9eu4e3tTZ06dVi0aJFjYkUoGFr4sccew263s3XrVgYNGuTCiEXEXZjNnqRn5BC3MpXzGdcc8ypomFMRKYvyOqbo2PSzX+di3Us9KmVudKajCujatSu//e1veeSRR3jmmWd49dVX8ff3d8w4funSJT799FPCw8OJiIggISHBxRGLiLvIyrU5vrgAzmdcI25lKlm5tmLWFBG5UXkdU3Rs+tmvc1FZc6MzHZWE0Xhjf2i32zEYDNSoUYOlS5fy7bffsmfPHnbv3s0bb7zBypUreeihh9i0aRMdO3akdu3ahIeH8+KLL3LkyBGaN29e4te/3RBoUryAgJquDqHaUc5LJv1CpuOLq9D5jGtYbXaC7jCHqoF7UB3cQ3WpQ3kdU5xxbKqsNfh1Lqw2m9OO286kpqOSqFWrFlevFh1f+uLFi9SuXZuNGzdSr149OnXqRKNGjXj66adZsGABSUlJPPTQQyQmJnL+/HnHjehGo5F169bx0ksvlfj1NU9H2Wls8IqnnJecyWQi0OJT5Ass0OKDyWi4oxyqBu5BdXAP1akO5XVMKe9jU2Wuwa9zYTIanXLcvlOap6OK8PPzo1GjRuzYscPxWEJCAp06dcJqtRIfH8+lS5cAuH79OidOnKB58+YcPnyYs2fPkpKSQnJyMsnJybz22mts3ryZzMxMV+2OiLgJXy8jk4eFEGjxAXBcG+zrpa8HESm98jqm6Nj0s1/norLmplLOSF5dnTp1iqlTp5KRkUFeXh7BwcHExsZy1113sWLFCt555x3HZViPP/44Y8aMYfr06dSoUYPo6Ogi2xowYABPPPEEQ4YMKdFr60xH2VXmv65UVsp56ZjNnmTl2rDabJiMRny9jHd8M6Jq4B5UB/dQ3epQXseU8jw2VfYa3CwX5X3cvlPFnelQ0yEloqaj7Cr7ga4yUs5dTzVwD6qDe1AdXE81cD5dXiUiIiIiIi6lpkNERERERJxKo1e5oX379jFq1CgaNmyI3W4nLy+P3//+9/zhD3+4o+2+/fbbAAwZMoTg4GCOHz9eHuGKiIiIiNyWmg431aJFC1avXg1AZmYmjz/+OF26dOG+++4r8zZLetO4iFRNzrhhXEREpCTUdFQCubm5mEwmatasSVhYGK1ateLo0aOsXbuWVatW8dlnn3HlyhUCAwNZsGAB//nPf5g2bZpj/X//+98sWLCAEydOAPCnP/3JVbsiIi5iNnuSnpHjmMW2cIjFIIu3Gg8REXE63dPhpg4fPkxkZCR9+vQhLCyMkJAQAgMDAejatSs7duwgMzOTkydPsm7dOnbs2EFQUBCbNm2ibdu2JCUlkZSURP/+/enWrRs9evRw8R6JiCtl5docDQcUzF4btzKVrFybiyMTEZHqQGc63NSvL68aMWIEy5cvB6B169YANGrUiEmTJvHOO+9w6tQpDh48SMOGDR3b+OSTT1i/fj0JCQkYDIY7iud2Q6BJ8QICaro6hGpHOS8q/UJmkdlroaDxsNrsBDkpV6qBe1Ad3IPq4HqqgWup6agE/Pz8iIiI4NNPPwXAy8sLKDgbMmHCBIYNG0aPHj0wGo0UTrty+vRpYmJiWLFiBTVr3vmHTPN0lJ3GBq94yvmNTCYTgRafIo1HoMUHk9HglFypBu5BdXAPqoPrqQbOp3k6qgCr1UpqairNmzcv8vj+/fsJCQlhyJAh3HPPPaSkpGC1WsnMzGTMmDFMmTKFJk2auChqEXEnvl5GJg8LIdDiA+C4p8PXS18DIiLifDrT4aYK7+kwGAzk5+cTHBzMyJEjSUpKcizTq1cvxo4dS58+fYCCS7LS0tJ46623+P777/n73//Oq6++CkD//v1dsh8i4h6ys/MIsngTNzpUo1eJiEiFM9gLr8cRuQ1dXlV2OqVb8ZRz11MN3IPq4B5UB9dTDZxPl1eJiIiIiIhLqekQERERERGnUtMhIiIiIiJOpabjNtLS0ggLC7vh8eDgYBdEA+fOnWPkyJEAfP/99/To0YPIyEhWr17N22+/XeLt7Nu3j6ioKGeFKSIuZjZ7YjeZyDcYsJtMmM2erg6pRCpr3OXJXXPgrLjcdX8LuXt8IpWJRq+qROrVq8frr78OQGpqKi1atCA+Pt7FUYmIOzGbPUnPyHHMPl44NG6QxdutR6qqrHGXJ3fNgbPictf9rSzxiVQ2OtNRRomJiTz33HP893//N4899hhTp04F4OzZszzzzDMMGDCAQYMGcfDgQQDCwsKYM2cO/fr1o1+/fhw5cgSAb7/9luHDh9O/f3+GDBniePy7775j6NCh9O7dm0GDBnHs2DHHmZejR4/yyiuvsHv3bmJjY3n11VcdQ+N+/PHHDBo0iH79+jF27FgyMjIA2LNnD48//jgDBgxg/fr1FZwtEakoWbk2x48kKJh1PG5lKlm5NhdHdnuVNe7y5K45cFZc7rq/hdw9PpHKRmc67sAXX3zBli1bMJlM9OzZkyFDhrBz504effRRRowYwccff8yBAwd46KGHADCbzWzcuJHk5GQmTZrE5s2bmTRpErGxsTRv3pyvv/6aMWPGsGPHDqZNm0aPHj14+umn2bVrF3//+9+ZOHEiAM2aNWPcuHGkpqby0ksvORqOS5cuER8fz6pVq6hduzbr1q1j3rx5/O1vfyM6Opp//OMfNGnShClTppR6X283BJoULyDgzmeFl9KprjlPv5BZZNZxKPixZLXZCargnJSmBu4Ut6s4Kwd3+llwVlzuXvPyjq+6HpPciWrgWmo6bsNovPFEkN1ux2AwANCmTRv8/Ap+jDdo0IArV67QqVMn/vSnP3H06FG6devGM88841h38ODBQMFZj+joaM6ePcvhw4eZPHmyY5ns7GwyMjLYv38/8+fPB6Bbt25069aNtLS028Z76NAh0tPTGTp0KAA2m43atWtz/PhxAgMDHbOT9+/fn4ULF5YqF5qno+w0NnjFq845N5lMBFp8ivxYCrT4YDIaKjQnpa2Bu8TtSs7IQXl8FpxVG3eveXnGV52PSe5CNXA+zdNxB2rVqsXVq0XfoBcvXqR27doAeHl5OR43GAzY7XYefvhhtm7dSmhoKNu2bWPUqFGOZTw8fu7xbDYbVquVGjVqkJSU5PjvnXfewd/fv8iydrudr7/+uth4rVYrbdu2dWxrw4YNLFq0yBFbIZPJVPpkiEil4OtlZPKwEAItPgCO69B9vdz7cF9Z4y5P7poDZ8XlrvtbyN3jE6lsdKbjNvz8/GjUqBE7duygR48eACQkJNCpU6dbrjNnzhzq1avHH/7wBzp06ED//v0dz23dupWoqCh27txJkyZN+O1vf8s999xDUlISkZGRfPLJJ8TGxvLBBx/Qrl07tm7dypNPPsmnn37K4sWLmTt37m3jbd26NTExMZw6dYrGjRuzdOlSzp07x/Tp07lw4QLHjh2jadOmbN26tXwSJCJuJzs7jyCLN3GjQ7HabJiMRny9jG5/42tljbs8uWsOnBWXu+5vIXePT6SyUdNRjLlz5zJ16lSWLFlCXl4ewcHBxMbGkpKSctPlo6KimDBhAomJiZhMJmbPnu147vPPP2fDhg34+Pgwa9asIttfsWIFnp6eLFiwAIPBQGxsLDExMaxduxYfHx9mzJhRbKwBAQHMnDmTP//5z9hsNurVq8fcuXPx9PRk/vz5TJw4EQ8PD5o3b14uuRER95SdnYeBnw7wVivZ2VYXR1QylTXu8uSuOXBWXO66v4XcPT6RysRg/+V1N+I0YWFhrFq1ivr167s6lDLRPR1lp+tIK55y7nqqgXtQHdyD6uB6qoHz6Z4OERERERFxKV1eVUGSk5NdHYKIiIiIiEvoTEcFyszMZNq0afTu3ZvIyEiioqL417/+5bTX27dvH1FRUU7bvoiIiIhISajpqCA2m42RI0dSu3ZtNm7cSFJSEmPGjGHkyJGOWcNFxP2YzZ7YTSbyDQbsJhNms6erQ6p0TCYjdpPxpxwaMZn01XMr7vB+c4cY3Jn3r/LjrfyIlIgur6og+/btIz09nXHjxjkmHezYsSNxcXHYbBw45msAACAASURBVDZiYmI4ceIEFy5cIDg4mPnz53PhwgXGjh3L/fffz9GjR6lTpw4LFy7E39+ft956i6SkJK5du4anpyfx8fHce++97Nmzh7i4OLy8vGjcuLHj9VNTU1mwYAE5OTn8+OOPTJ48me7du7sqHSKVgtnsSXpGDnErUzmfcc0xTn+QxVvDZpaQyWQkIzuPmb/I4QvDQrCYPbFaba4Oz624w/vNHWJwZ95mT87dJD/1LN7kKD8it6U/N1WQI0eO0LRp0xtmOe/WrRsnT57E09OThIQEdu7cydWrV9m1axcAx44dY/jw4WzZsoVatWqxefNmMjMz+eCDD1i9ejVbtmzh0UcfZc2aNVy/fp3o6GgWLVpEYmIi3t7ejtd56623mDFjBu+99x4zZswo9YzkItVRVq7N8eMC4HzGNeJWppKVqx/LJZUPjoYDCnI4c2Uq+a4Nyy25w/vNHWJwZ9dukZ9ryo9IsXSmo4IYjcYiM5j/Uvv27fH392fNmjWcPHmS06dPk52dDUCdOnUc82rcf//9XLlyBT8/P+Lj49m6dSunT59m9+7dNGvWjOPHjxMYGEiTJk0A6N+/v6O5mDt3Lh999BHvv/8+hw4dIisrq1Tx324INCleQEBNV4dQ7ZRHztMvZDp+XBQ6n3ENq81OkGparICAmpzPyL5pDjEY9Ln4FWe930qTZ73nb+9O8qP3u+upBq6lpqOCtGjRgrVr12K32zEYDI7H58+fT6tWrXj11VcZOnQoAwYMICMjg8LpU37ZqBgMBux2O+np6URFRfHMM8/QtWtX6taty9GjRx3PFzKZTI5/P/XUU3To0IEOHTrQqVMnnn/++VLFr3k6yk5jg1e88sq5yWQi0OJT5EdGoMUHk9GgmhbDUQOT8aY5xG5XDn/FGe+30n4W9J6/vbLmR98DrqcaOJ/m6XAT7dq1o06dOixevBirtWBG0927d5OYmMju3buJiIhg4MCB1KpVi3379jmWuZmvvvqKRo0aMWzYMFq2bMkHH3yA1WolODiYCxcucOzYMQC2bt0KwOXLlzl9+jTjx4+na9eufPjhh7fdvogU8PUyMnlYSMGPZHBcv+3rpUNnSXkAL/wqhy8MC9FfvG7CHd5v7hCDO/O5RX58lB+RYum4X0EMBgNLly4lLi6O3r174+HhgcViYfny5ZhMJp5//nm2bt2Kp6cnbdu2JS0t7Zbb6tKlC2+//Ta9evXCbrfTvn17Tpw4gaenJ/Pnz2fixIl4eHg4Lsvy9/dn0KBBPP7443h4eNCxY0dycnLIzs7GbDZXVApEKp3s7DyCLN7EjQ7FarNhMhrx9TLqhtpSsFptWMyexI3ugtVmx2Q04PHT41KUO7zf3CEGd5aTnUe9X+XHx8uom8hFSsBg/+X1OCK3oMuryk6ndCuecu56qoF7UB3cg+rgeqqB8+nyKhERERERcSk1HSIiIiIi4lRqOkRERERExKmqXNORmZnJtGnT6N27N5GRkURFRfGvf/2r3LaflpZGWFhYscuFhYXRq1cvIiMjiYyMJCwsjHHjxjnm3ygv0dHRJCYm3vB4YmIi0dHRAIwcOZJz586V6+uKuBuz2RO7yUS+wcD5jGzMZk9XhyQiUuX98thrN5l07JVbqlKjV9lsNkaOHEmHDh3YuHEjHh4e7N27l5EjR7J161YsFkuFxrN8+XLq168PwPXr13nqqafYuHEjTz31VIXG8frrr1fo64lUNLPZk/SMHMdMwYXDWAZZvDXqjoiIk+jYK6VRpc507Nu3j/T0dMaNG4eHR0E/1bFjR+Li4rDZbKxatcpx5qFHjx40b96cH374gW+//Zbhw4fTv39/hgwZwpEjRwD47rvvGDp0KL1792bQoEGO+S9ycnJ47rnn6N27N0899RQZGRnFxnb16lWuXr2Kv78/AB9//DGDBg2iX79+jB071rGNsLAw5syZQ79+/ejXr58jlqioKPbt2wfceLYlJSWFAQMG0KdPH7Zt23bDa4eFhZGWlkZubi4vvPACPXr0oHfv3jddVqQyysq1Ob70oGCG4LiVqWTlalhWERFn0bFXSqNKnek4cuQITZs2xWgs2kt169YNgKFDhzJ06FDsdjt/+tOfeOKJJwgICOD3v/89sbGxNG/enK+//poxY8awY8cOpk2bRo8ePXj66afZtWsXf//735k4cSKXLl1i+PDhtGrVinHjxrFt2zaefvrpG+J59tlnMZlMXLx4kd/85jc888wzREREcOnSJeLj41m1ahW1a9dm3bp1zJs3j5dffhkAs9nMxo0bSU5OZtKkSWzevPm2+33t2jXWr1/PxYsXGThwIO3bt7/pcqtXryY7O5vt27dz8eJFhg0bRvfu3alRo0axub3dEGhSvICAmq4OoUpLv5BZZIZgKPjys9rsBCn3LqP3vXtQHdxDVaxDZTv2VsUaVCZVqukwGo14eXkVu9zChQvx9PRkxIgRZGVlcfjwYSZPnux4Pjs7m4yMDPbv38/8+fOBgsalW7dupKWlERgYSKtWrQC47777bnmmo/Dyqh07djBr1ix69uyJwWDg0KFDpKenM3ToUKDgsrDatWs71hs8eDBQcIYiOjqaS5cu3XZ/+vfvj4eHB/Xq1eOhhx7i0KFDN11u//79DB48GKPRSEBAgGPG8pLQPB1lp7HBnc9kMhFo8Sny5Rdo8cFkNCj3LqL3vXtQHdxDVa1DZTr2VtUauJPi5umoUk1HixYtWLt2LXa7HYPB4Hh8/vz5dO7cmY4dO/L+++/z0UcfsW7dOqDgB3+NGjVISkpyLH/27Fn8/f0dl2gB2O12vvnmG7y9vYs8bjAYKG5+xR49evDJJ5/wwgsv8Prrr2O1Wmnbti3Lli0DIDc3l6ysLMfyv9y+zWbDZDI5YgDIz88vsv3C5wuX9/S8+U1cHh4eRfLy7bffEhQUVKIzHSLuzNfLyORhITdcV1wwk7LV1eGJiFRJOvZKaVSpezratWtHnTp1WLx4MVZrwZt99+7dJCYmct9993H06FFmz57N4sWL8fHxAaBmzZrcc889jqbjk08+cVwq1a5dO8fZgE8//ZQXX3yxzLGNHz+eAwcOkJKSQuvWrTl48CCnTp0CYOnSpcyZM8exbOFr7ty5kyZNmlC7dm0sFgtff/01AB988EGRbW/duhW73c53333H4cOHadmy5U1jaN++Pdu2bcNut3Px4kWeeeYZrl+/XuZ9EnEX2dl5BFm8iRsdyvLJ4cSNCdWNjCIiTnbDsXe0jr1ya1XqTIfBYGDp0qXExcXRu3dvPDw8sFgsLF++nLp16/LXv/6V/Px8xo8f72hKXnzxRebOncvUqVNZsWIFnp6eLFiwAIPBQGxsLDExMaxduxYfHx9mzJhR5tjq1KnDyJEjmTNnDps2bWLmzJn8+c9/xmazUa9ePebOnetY9vPPP2fDhg34+Pgwa9YsAEaMGEF0dDTvvvsu4eHhRbZtNpsZMGAA+fn5vPTSS9x11103jeGpp55ixowZ9O3b17Hvfn66V0OqhuzsPAwUHNQCLGadRhcRqQC/PPZiteoMh9ySwV7ctUFSocLCwli1apVjqF13oXs6yk7XkVY85dz1VAP3oDq4B9XB9VQD5yvuno4qdXmViIiIiIi4nyp1eVVVkJyc7OoQRERERETKlc50/OT9999nwIAB9O3blz59+rBixYpy23ZwcDAAb7/9Nm+//fZNl8nPzyc0NJTp06eX6TV+OXngL93uNUUqG7PZE7vJRL7BgN1kwmy++UhtIiIi4l50pgM4d+4cs2fPJjExEYvFQlZWFlFRUTRu3PiGm7bvxJAhQ2753K5du2jZsiXbt2/n+eefd4yu5czXFKlMzGZP0jNybhiaUSOliIiIuD+d6QAyMjLIy8sjJycHAF9fX2bNmsV9990HwPbt2xk8eDB9+/alZ8+efP7550DRswtpaWmEhYU5/j1kyBAiIyOJjY11vM6rr77Kq6++etMYEhMTeeyxx2jVqlWRSfuio6MZNWoUERERJCcn3zIWgPXr19OvXz/69evniOuXr/nWW2/xxBNP0Lt3b/r378/JkyfLJX8iFSEr1+ZoOKBg1tu4lalk5dpcHJmIiIgUR2c6gKZNmxIeHk737t1p1qwZHTp0oE+fPjRq1Aibzca6detYtmwZd911Fxs2bGD58uWOif1uZvr06QwYMIAnnniCjRs3kpCQcNvXv3TpEp9++ikzZ87EZDLx1ltvMWjQIMfz/v7+LFu2DJvNxvDhw28Zi9lsZuPGjRw7doxnn322yHwemZmZfPDBB6xevRpvb28WLlzImjVrSjz3yO1GI5DiBQTUdHUIlV76hcwis95CQeNhtdkJukl+lXPXUw3cg+rgHlQH11MNXEtNx0+mTZvG6NGj2bNnD3v27GHw4MHMmzeP3/3udyxZsoTk5GROnTpFamoqRuPtTxClpqYSHx8PQN++fYmJibnt8ps2baJjx47Url2b8PBwXnzxRY4cOULz5s0BaNWqFQBGo/G2sRQ2Kk2bNqVOnTpFzmT4+fkRHx/P1q1bOX36NLt376ZZs2Ylzo+GzC07DdNXPkwmE4EWnyKNR6DFB5PRcEN+lXPXUw3cg+rgHlQH11MNnE9D5pZASkoK27Zto169egwcOJAFCxYQExPDhg0byMrKYtCgQaSlpdG+fXuioqKKrFs4zUl+fv5NHzcYDMU2KYmJiXzxxReEhYXRt29fjEYj69atczzv7e0NUGwsJpPJ8W+bzYaHx889ZXp6Ok8++SRXr16la9eu9O/fH03RIpWJr5eRycNCCLQU3O9UeE+Hr5cOYyIiIu5O39YU/KiPj48nLS0NKGgYjh49SrNmzTh9+jQGg4FRo0bRoUMHdu7c6ZjN3GKx8PXXXwMUuZSpc+fObNq0CYD/+7//Izc395avffjwYc6ePUtKSgrJyckkJyfz2muvsXnzZjIzM4sse7tYADZv3gzAV199RVZWFo0aNXI899VXX9GoUSOGDRtGy5Yt+eCDD4qsK+LusrPzCLJ4Ezc6lOWTw4kbHaqbyEVERCoJXV4FdOzYkbFjxzJq1Cjy8gp+wDzyyCOMGTMGk8lEs2bNiIiIwGAwEBoayoEDBwAYMWIE0dHRvPvuu0VGuYqNjWXixIkkJCTQokULfH19b/naiYmJDBgwwHE2A6BDhw40btzY0UQUatq06S1jAcjOzqZfv34YjUbi4+Px9Px5ONEuXbrw9ttv06tXL+x2O+3bt+fEiRN3ljiRCpadnYeBnw5cVivZ2WqcRUREKgODXdfYSAnono6y03WkFU85dz3VwD2oDu5BdXA91cD5dE+HiIiIiIi4lJoOERERERFxKjUdbio4ONip2w8LC3PcOC8iIiIi4kxqOkTEZcxmT+wmE/kGA3aTCbPZs/iVRKTCVfXPalXfv/KkXElZafQqN3f27Fmef/55srOzMRqNxMTE8NBDDxEWFkarVq04evQoa9euZdWqVXz22WdcuXKFwMBAFixYQN26dfn4449ZtGgR+fn51K9fn+nTp2OxWFy9WyKYzZ6kZ+QQtzKV8xnXHPNuaBhcEfdS1T+rVX3/ypNyJXdCZzrc3IYNG3j00UdJTExk3LhxRYbI7dq1Kzt27CAzM5OTJ0+ybt06duzYQVBQEJs2beLSpUvEx8fzxhtvsHHjRkJDQ5k3b54L90bkZ1m5NscXF8D5jGvErUwlK9fm4shE5Jeq+me1qu9feVKu5E7oTIeb69SpE3/60584evQo3bp145lnnnE817p1awAaNWrEpEmTeOeddzh16hQHDx6kYcOGHDp0iPT0dIYOHQoUzFJeu3btMsVxuyHQpHgBATVdHYLbSb+Q6fjiKnQ+4xpWm52gcsiXcu56qoF7uNM6OPuz6moVtX9V4fNQ2d8LVaEGlZmaDjf38MMPs3XrVlJSUti2bRvvvfceb775JgBeXl5AwazmEyZMYNiwYfTo0QOj0YjdbsdqtdK2bVuWLVsGQG5uLllZWWWKQ/N0lJ3GBr85k8lEoMWnyBdYoMUHk9Fwx/lSzl1PNXAP5VEHZ35W3UFF7F9V+TxU5vdCVamBO9M8HZXcnDlz2LRpE/379yc2NpYjR47csMz+/fsJCQlhyJAh3HPPPaSkpGC1WmndujUHDx7k1KlTACxdupQ5c+ZU9C6I3JSvl5HJw0IItPgAOK4N9vXSYUnEnVT1z2pV37/ypFzJndCZDjcXFRXFhAkTSExMxGQyMXv27BuW6dWrF2PHjqVPnz4AtGjRgrS0NAICApg5cyZ//vOfsdls1KtXj7lz51b0LojcVHZ2HkEWb+JGh2K12TAZjfh6GXUzooibqeqf1aq+f+VJuZI7YbDb7bpmRoqly6vKTqd0K55y7nqqgXtQHdyD6uB6qoHz6fIqERERERFxKTUdIiIiIiLiVGo6RERERETEqZzadKSlpREWFnbD48HBwbdd76uvvmLKlCkArF+/ni1btpTqdcPCwkhLS7vpc8nJyQQHB3P48OFSbRNuvT+/FhUVxWOPPUZkZKTjv//5n/8p8et8+OGHLFy4sFSxTZ48me+++65U64i4gtnsid1kIt9gwG4yYTZ7ujokERGnKDzepV/I1PFOqj23HL2qZcuWtGzZEoDPP/+ckJCQctt2YmIiPXv2JCEhgRYtWpTbdn9txowZdOjQoUzrhoeHEx4eXqp19u3bx5gxY8r0eiIVxWz2JD0jxzGjbeFwi0EWb41+IiJVio53IkW5tOlITExk9+7dXLlyhTNnztClSxemTp3Kvn37WLx4MX/84x9JTk5m7969BAQE0KxZM2JjYzl79iwGg4EJEybQuXNnLl++zMSJEzl79ixNmjQhNzf3pq936dIl9u7dy8aNG+nXrx+TJk3Cz6/gLvuOHTvSokULfvjhBzZs2MC0adM4ceIEFy5cIDg4mPnz5wMFE+yNHz+eU6dO0bBhQ15++eVSzfIdHR2Nj48PR44c4ccff+Qvf/kLSUlJHDt2jO7duxMdHU1iYiKpqanMmjWLsLAwWrVqxdGjR1m7di2rVq3is88+48qVKwQGBrJgwQISExM5f/48zz77LGvWrOHMmTPExcWRk5ODxWJh2rRpNGjQgDfffJP33nsPo9FIq1ateOmll+68iCKlkJVrc3wBQ8FMtnErU4kbHYrBxbGJiJQnHe9EinL5mY4vvviCLVu2YDKZ6NmzJ0OGDHE817lzZ8LCwggJCeGRRx7hueeeY+DAgYSHh3P+/HmeeuopNm7cyKJFi2jevDmvv/46+/fvZ/v27Td9rU2bNtGlSxfq169PixYt2LRpE0899RQAGRkZjBw5kg4dOrB//348PT1JSEjAZrPxhz/8gV27dvHggw9y8eJFoqKiaNeuHbNnz2bJkiW88MILN7xWTEwMZrPZ8f89e/bkj3/8IwDnz58nISGB9957j8mTJ7Njxw68vLzo2rXrTc9WdO3alVdeeYVvv/2WkydPsm7dOoxGI3/961/ZtGkTzz77LOvWrWP58uX4+voSExPDsmXLuPvuu9m9ezcvvvgib7zxBq+99hq7d+/GZDIxZcoUzp07R7169UpUp9sNgSbFCwio6eoQ3EL6hcwiM9lCwRex1WYnqJxzpJy7nmrgHlQH16jI452UjD4LruXUpsNovPGWEbvdjsHwc4/fpk0bx9mGBg0acOXKlVtu79NPP+XkyZMsWrQIgPz8fM6cOUNqairx8fEAtG/fngYNGtx0/ffee4+xY8cCBRPqvfXWW46mA6B169aObfj7+7NmzRpOnjzJ6dOnyc7OBqBx48a0a9cOgMjISKKjo2/6Wre7vKpr164A3H333dx///3UqVMHAH9//5vuf2FcjRo1YtKkSbzzzjucOnWKgwcP0rBhwyLLnj59mjNnzjgaHIDMzExMJhNt2rRh0KBBhIeHM3z48BI3HKB5Ou6Exgb/mclkItDiU+SLONDig8loKNccKeeupxq4B9XBdSrqeCclo8+C8xU3T4dTm45atWpx9WrRAl+8eLHI5UheXl6OfxsMBm43V6HNZuMf//gH/v7+QMEZgzp16tywnslkumHdf/3rX/z73//m5ZdfJi4uDqvVyvnz5zl48CAPPfQQAN7e3kDBjdyLFi1i6NChDBgwgIyMDMf2PTx+Tpndbi/y/yXl6fnzjWQlWb8wR4cPH2bChAkMGzaMHj16YDQab8iXzWajfv36JCUlAWC1Wrlw4QIAS5cu5eDBg3z88ceMGDGCefPmlev9MiLF8fUyMnlYyA3XOBfMaGt1dXgiIuVGxzuRopw6epWfnx+NGjVix44djscSEhLo1KlTibdhMpmwWgs+nB07dmTt2rUAfP311/Tp04dr167RqVMnx4/sL7/8kv/85z83bCcxMZHBgweTkpJCcnIyu3btIjIyknXr1t2w7GeffUZERAQDBw6kVq1a7Nu3zxHDN998w5EjRwB499136dy5c4n35U7t37+fkJAQhgwZwj333ENKSoojrsI83XvvvVy5coV//vOfjhiff/55Ll26RK9evXjggQcYP348Xbp04fjx4xUWuwhAdnYeQRZv4kaHsnxyOHGjQ3VTpYhUSUWPd911vJNqz+n3dMydO5epU6eyZMkS8vLyCA4OJjY2tsTrd+7cmfnz51OzZk1iYmKIjY2lT58+AMyZMwc/Pz/GjRtHdHQ0jz/+OPfee+8Nl1ddv36dLVu2sGrVqiKPDxs2jCeffJLJkycXefyJJ57g+eefZ+vWrXh6etK2bVvHELwNGzZkyZIl/Oc//+GBBx7gueeeu2ncv76nA2D16tUl3u+b6dWrF2PHjnXsf4sWLRxxPfroozz77LOsWLGChQsX8vLLL5Obm4ufnx+zZ8/mrrvu4sknn2TQoEH4+PjQuHFjBg4ceEfxiJRFdnYeBn46+Fit+oufiFRZhce7oJ8u7dHxTqozg/121zOJ/ET3dJSdriOteMq566kG7kF1cA+qg+upBs5X3D0dmpFcREREREScSk2HiIiIiIg4lZoOJ9m3bx9RUVElWjYtLY2wsDAnRyRyI7PZE7vJRL7BgN1kwmz2LH4lERERkVJy+eSAIuIaZrMn6Rk5NwznqNFVREREpLyp6ahgy5cvZ/v27VitVkJDQ5k4cSIAubm5jB8/nlOnTtGwYUNefvllateuzfbt23nzzTfJycnh+vXrzJw5k7Zt2xIVFUXLli05cOAAly5dIiYmhm7dunHhwgWmTJnC999/j4eHB8899xxdu3bl1Vdf5dy5c3z77bd89913PPHEE0UmEJTqJyvX5mg4oGCm3LiVqcSNDsVQzLoiIiIipaGmowJ9/PHHHD58mA0bNmAwGJg4cSKbNm3i4Ycf5uLFi0RFRdGuXTtmz57NkiVLiI6OZt26dSxbtoy77rqLDRs2sHz5cpYtWwZAXl4eCQkJJCcns3DhQrp168b06dPp2LEjw4cP58yZMwwZMoSNGzcCcPz4cdasWcPVq1fp3r07Tz/9NLVq1SpR7LcbjUCKFxBQ09Uh3CD9QmaRmXKhoPGw2uwEuWG8peWOOa9uVAP3oDq4B9XB9VQD11LTUYE+++wzvvzySwYMGABATk4Od999Nw8//DCNGzemXbt2AERGRhIdHY3RaGTJkiUkJydz6tQpUlNTMRp/vg3nkUceAeD+++/n8uXLAOzdu5cZM2YA0KBBA1q3bs2hQ4cA6NChAzVq1KBOnTr4+/tz9erVEjcdGjK37Nx1mD6TyUSgxadI4xFo8cFkNLhlvKXhrjmvTlQD96A6uAfVwfVUA+crbshcNR0VyGq18oc//IHhw4cD8OOPP2IymcjIyMDD4+dS2O12PDw8yMrKYtCgQfTt25f27dsTHBzMmjVrHMt5eXkBYDAYiqz7S3a73TFreeHyhetoipbqzdfLyORhITfc0+HrZdQEViIiIlKuNHpVBerYsSNJSUlkZWWRn5/PmDFj2LFjBwDffPMNR44cAeDdd9+lc+fOnD59GoPBwKhRo+jQoQM7d+50NBC3e40NGzYAcObMGT7//HMeeugh5+6YVErZ2XkEWbyJGx3K8snhxI0O1U3kIiIi4hQ60+FE//znP2nTpo3j//v06cPvfvc7Bg8ejNVq5ZFHHqF///589913NGzYkCVLlvCf//yHBx54gOeeew5vb2+aNWtGREQEBoOB0NBQDhw4cNvXnDJlCrGxsSQmJgIwY8YMAgMDnbqfUnllZ+dh4KcDgdWqMxwiIiLiFAa7rrGREtA9HWWn60grnnLueqqBe1Ad3IPq4HqqgfMVd0+HLq8SERERERGnUtMhIiIiIiJOpabjDrz//vsMGDCAvn370qdPH1asWAHAyJEjOXfunIujExERERFxD7qRvIzOnTvH7NmzSUxMxGKxkJWVRVRUFI0bN+b11193dXgit2Q2e5KVa8Nqs2EyGn8aIlcjVlUGqp24I70vpTT0fqm+1HSUUUZGBnl5eeTk5ADg6+vLrFmz8PLyIiwsjFWrVpGamsru3bu5cuUKZ86coUuXLkydOhWA+Ph4duzYgcViISAggLCwMAYMGMCCBQv47LPPuHLlCoGBgSxYsIC6devSqVMnHnvsMb744gt8fX2ZN28e9evX5+DBg7z88svk5uZisVh46aWXaNSoEVFRUdSuXZsTJ07wyiuv8MMPP7Bo0SLy8/OpX78+06dPx2KxuDCD4gpmsyfpGTk3zM2hoXLdn2on7kjvSykNvV+qN11eVUZNmzYlPDyc7t27M2jQIObOnYvNZqNRo0ZFlvviiy9YtGgRmzZt4qOPPuL48eMkJydz4MABtmzZwvLlyx3zc3z77becPHmSdevWsWPHDoKCgti0aRMAly5dok2bNmzevJnHH3+cGTNmcP36df7yl7/w4osvsmnTJn7/+9/zl7/8xfHawcHB7Nixg3r16hEfH88bb7zBxo0bCQ0NZd68eRWXLHEbKHqAAQAAIABJREFUWbk2x8Ee4HzGNeJWppKVa3NxZFIc1U7ckd6XUhp6v1RvOtNxB6ZNm8bo0aPZs2cPe/bsYfDgwTf8mG/Tpg1+fgXDhzVo0IArV67w6aefEhERQY0aNahRowbdu3cHoFGjRkyaNIl33nmHU6dOcfDgQRo2bAgUzCber18/APr378/8+fM5ffo0tWrVolWrVgBEREQQGxvL1asFQ8IVPn7o0CHS09MZOnQoADabjdq1a5dqX283BJoULyCgpqtDACD9QqbjYF/ofMY1rDY7QW4SY3lxl5yXl8pYu6pWg8rKmXWojO9LV9HnwfXvF9XAtdR0lFFKSgrZ2dn06tWLgQMHMnDgQNavX++YDbyQl5eX498GgwG73Y7RaMRmu7GrP3z4MBMmTGDYsGH06NEDo9FI4TQqRqMRg8EAFDQNJpPpptuw2+2OWcu9vb0BsFqttG3blmXLlgGQm5tLVlZWqfZX83SUnTuNDW4ymQi0+BQ56AdafDAZDW4TY3lwp5yXl8pWu6pYg8rI2XWobO9LV9HnoYAr3y+qgfNpng4n8fb2Jj4+nrS0NKDgx/7Ro0dp1qxZset27tyZ//u//+P69etkZmaSkpKCwWBg//79hISEMGTIEO655x5SUlIcDcS1a9dITk4GIDExka5du3Lvvfdy+fJlvvzySwC2bdvG3Xffjb+/f5HXa926NQcPHuTUqVMALF26lDlz5pRbLqTy8PX6/+ydeXhTVfrHv7k3ewEboS2goAwii+iISwuyqMBYYdhaUASnCiozCkV0hB8tgrJJUZbK4i4KA44iUijLIAiCokgLDg4yCC4s02ppqZRCm6ZLkt8fJZekvUlukruG9/M8Pth7z/J9l3PS05t7DoPMMYmIt1kAgPs+bYyJpgK1Q7Ej1AjlJREKlC9XNvSkI0y6d++O9PR0PPnkk6itrX/5qXfv3pgwYQI2b94csO4999yDQ4cOISUlBVdddRXi4+NhMpkwcOBApKenY/DgwQCArl27cosaoH6L3uzsbMTHx+Pll1+G0WhEdnY25syZg6qqKlx11VXIzs5u1F9cXBzmzZuHZ555Bi6XCwkJCViwYIGI3iC0gt1ei1Y2M7LG96KdQzQGxY5QI5SXRChQvlzZ6Nye7+8QsnHo0CGcOnUKKSkpqK2txciRIzFv3jx06tTJb52OHTvi+PHjMqr0hb5eFT70SFd+yOfKQzFQBxQHdUBxUB6KgfQE+3oVPelQgHbt2mH58uV4//334Xa7MWzYsIALDoIgCIIgCILQMrToUIDY2FisWLEipDpKPuUgCIIgCIIgiEigN3cIgiAIgiAIgpAUetKhAHV1dXjnnXewadMm6HQ6OJ1OpKSk4G9/+xu3LS5BiI3VakBlteuKe3kv2u2OdvsI+aGcIgjtoKXxSosOBZg1axZKS0uxdu1aNGvWDBUVFZgwYQKaNm2Khx9+WGl5RBRitRpQVObgToL1bFPYymZW7eQkBtFud7TbR8gP5RRBaAetjVfavUpmzpw5g+TkZHz55Zc+p4L/8ssv+Pnnn7F7926cP38ep0+fxpQpU9CiRQtkZWXB4XDAZrNh1qxZaNOmDU6fPo2ZM2fi/PnzMJvNmDFjBrp06YJff/0VmZmZOHfuHMxmM+bOnYtOnTph48aNWLVqFVwuF2666Sa8+OKLPgcXBoN2rwofNeyY4WZZZL7+VaMDmbLG94Lu0lkw0YTH59Fut5rtU0PeE6HHQc05pWVoPChPNMZAbeOVdq9SGYcPH0b79u19FhwA0L59e7Rv3x67d+9GbGws3nzzTdTU1GDEiBF488030bp1a+zduxczZszAypUrMXXqVLzwwgvo0qULfv75Z0yYMAHbt2/HrFmzkJycjIcffhhffPEF3njjDaSnp+Pjjz/GRx99BJPJhEWLFmHFihUYP368YN2BkogITlxcU0X7Lyqt8JmUAKCkrApOlxutFNYmFXFxTaPebrXbp3TeE/WEEge155SWofGgPNEWA62NV1p0KID3exuffvop3njjDbhcLhiNRnTo0AG33HILAODUqVMoKCjAU089xZWvqKhAZWUljhw5gszMTO663W5HWVkZDhw4gMWLFwMA7r77btx9991Ys2YNTp8+jQcffBAAUFtbiy5duoSkmZ50hI8a/rrCsizibZZGfw1hGZ3i2qTA4/Not1vN9qkh74nQ46DmnNIyNB6UJxpjoLbxSk86VEbXrl3xyy+/oKKiAk2aNMH999+P+++/H4WFhXjkkUcAAGazGQDgcrlw7bXXIjc3FwDgdDpRWlrKLVA814H6r23FxsZCr78cUrfbjV9++QVOpxMDBgzA9OnTAQCVlZVw0mPyK4oYE4PMMYmNvvdZ/8JZ9OZCtNsd7fYR8kM5RRDaQWvjlRYdMtO6dWsMGTIEU6dORVZWFpo1a4a6ujrs2bMHDOO7g/Ef/vAHlJeX4+DBg7jjjjuwfv16bN68GatXr8b111+P3NxcDB06FF9//TVeeOEF7Ny5E3fccQe2bt2KkSNHYt++fVi+fDlefPFFvPfee3jqqadw9dVXY+bMmWjbti0mTpyokBcIubHba9HKZkbW+F6a2OFCLKLd7mi3j5AfyimC0A5aG6/0IrkCuFwuvP/++9i8eTOcTicqKyuRlJSEv/71r3jrrbeQmJiI1NRUAMChQ4fw0ksvobq6Gk2aNMHLL7+Mtm3b4pdffuFeJDcYDJg5cyZuueUWFBUVYfr06SgtLYXFYsHcuXNxww03YN26ddyL5J07d8a8efPoRXKZiMZHumqHfK48FAN1QHFQBxQH5aEYSE+wr1fRooMQBC06wocmOvkhnysPxUAdUBzUAcVBeSgG0hNs0UEnkhMEQRAEQRAEISm06CAIgiAIgiAIQlJo0aECfvzxR3Ts2BHbt28Pq35BQQGmTZvGe+/DDz/Ehx9+GIm8qMVqNcDNsqjT6eBmWVitBqUlqQ6r1QCLt5/0LCwa8pPRrPeJsdEs394Z0ZpfkdplblDfLKFfojUGciGH/8TqQ4x2KF+URQv+92hUq1ZLA11q+7ym3atUwPr163H//fdj7dq1SE5ODrn+b7/9hoKCAt57o0aNilReVGK1GlBU5mi0zVwrm1m1uz7IjdVqQB2Aszx+amkzo0rlfjKa9ThbXt1Ie9xVJtQ46iTtO1rzK1K7zFYDinnqJ9jMcIjsl2iNgVzI4T+x+hCjHcoXZdGC/z0aW9nMqtRqsRpwRuWf1/SkQ2Fqa2uxefNmPPPMM/jvf/+L//3vfwCAvn37orCwEACQl5eHtLQ0AMD777+PIUOGYNiwYXjhhRcAAHPnzsWRI0cwa9Ys5OXlYcSIEUhNTcXUqVOxbNkyLFu2DACwZs0aPPDAAxg0aBBSUlJw4sQJBSxWB5XVLm5gAvUneGatzEdltUthZeqhstqFaj9+smvAT9W1bl7t1bXSb4gQrfkVqV1VfupXSeCXaI2BXMjhP7H6EKMdyhdl0YL/PRrVqtWugc9retKhMF988QVat26Ndu3aoX///li7di2mTJnCW9bpdOKtt97C3r17wbIsnn/+eRQXF2P69OnceRx5eXk4deoUdu/ejaZNm3ILjoqKCuzcuROrV6+G2WzGkiVL8MEHH2DGjBmCdAbajUCLFJVW+JzgCdQPUKfLjVZxTUXvL06CNqWmqLQCAGT1k5g4XS7FtMudX3IRql0N815Ov0RrDMIhnPlHDv+J1YcY7chhrxY/B+RCrvEaSQw8GpX8bAmEFuY8WnQozPr16zFo0CAAwMCBAzF58mRMmjSJtyzLsujWrRtGjBiBfv36YezYsUhISMCpU6d8yrVr1w5Nm/omWJMmTbBo0SJs3boVp06dwt69e9G5c2fBOqNty1yWZRFvs/gM0HibBSyjE31LPa1u08eyLADI5icxiYtrCpZhFNMuZ37JSSh28eW9nH6J1hiESrjzjxz+E6sPMdqR2l6tfg7IhRz5FmkMPBqV/GwRok9JXbRlror5/fffsXfvXrz33nvo27cvpk+fjgsXLuCzzz4DAHiOUKmru/z989dffx0zZ86E2+3GE088gfz8/Ebtms3mRteKioowcuRIXLx4EX369EFKSgqu5CNaYkwMMsckIt5mAQDuu48xJhoSHmJMDEx+/GTVgJ9MBh2vdpNBJ3nf0Zpfkdpl8VPfIoFfojUGciGH/8TqQ4x2KF+URQv+92hUq1arBj6v6XBABXnvvfewb98+vPvuu9y1ZcuWIT8/H3a7Henp6bj33nsxe/Zs/PTTT1iyZAkefvhhfPLJJ4iJiUFmZia6dOmCzp07Y9GiRfjwww+Rl5eH5cuXY/Xq1Vx7ANCxY0esXbsWK1asgMPhwLhx49CyZUssWLBAkNZoe9IB1L8UVlntgtPlAsswiDExkrwEpuW/cFmtBrhR/11Rp8sNltXBamRU81KaPzw+N5r1qK51czE2GXSSv0TuQa78khuhdvnLe7PVgCqv+hYTI/pL5KFqjWYimX/k8J9YfYjRjpT2avlzQC6kzjcxYuDRGGNiLml1g2V0qplbLFbDpc/reh9aTfJ+XtOTDhWzYcMGjB492ufaww8/jMOHDyM1NRUvvfQShg8fzn1V6uqrr8bIkSO5F8VramowfPhwtG/fHhcvXvT7LggA9OzZEy6XCwMHDkRKSgratWvHvah+pWK310LndELvdkPndKpiwlAbdnstqjg/uaCrc6p+weFNjaPOJ8ZyLTiA6M2vSO1yNKgv1YIDiN4YyIUc/hOrDzHaoXxRFi3436PR7v25qCKtVQ18qLbPa3rSQQgiGp90yAX9hUt+yOfKQzFQBxQHdUBxUB6KgfTQkw6CIAiCIAiCIBSFFh0EQRAEQRAEQUgKbZmrAIWFhbj//vvRvn17n+tdunRB//790a9fP791O3bsiOPHj0esISMjA4mJiUhNTY24LYIgCIIgCIIIBC06FCI+Ph65ublKy7giuRJ2tDFZDHDUXLbRbGRQXVVvo5y7B4lNsNh57heVVoBlWVljG2leCakfKK5C2hKqUcldv4jGiDlnhduW0LEn9bwaSj9SawqlfYejDm6WjUhLJOOST6v3z0YWqK1xCmqLZRnUAdzOTXoATqf/U68b7/gkbjwCxcH7XkmZHTFWQ0hzYSh9AgjaplDfma0GMJfaMxh0qK1zw2pkfHam0uLvLrToUBGepw+JiYlIT09Hhw4d8MMPP6B58+ZYsmQJYmNjubLFxcWYNm0aLl68iJKSEqSkpGDSpEnIycnB3r17UV5ejoKCAvTs2ZM712P+/PnYs2cP4uPj4XQ6kZiYqKC1ymC1GlBU5kDWynyUlFVx+1i3spk1N3j9YbIYUHK+sY3xsWbodEAxj/0JNrPqFx7BYqdkbCPtW0j9QHH1XngEakuIRqNZj7Pl1Y3KxV1looWHAoiZ1+G2pZaxF0o/UmsKVUthaUVEWiIZlw21ptz9B/S5rU2jtlo0NQZdeLAsgzJ7LeZ51Z02JhE2q4H3l2dP30Lnn1AJFAcAEc2FofSZ/WwflARpU6jvPAuOojIHjp4oRZc/tACjc+NCpU7zv7vQOx0KUVJSgqFDh3L/eZ/VAQDHjh3D2LFjsWXLFjRr1gybN2/2ub9lyxYMGjQIH3/8MTZv3oxVq1bh3LlzAIBDhw5h6dKl2LRpE3bv3o3jx49j+/btOHr0KLZs2YIlS5bgf//7n2y2qonKahc3aAGgpKwKWSvzUVnt/680WsNRw2+jo8aFKj/2V2nA/mCxUzK2kfYtpH6guAptS4jG6lo3b7nqWtq9TgnEzOtw21LL2AulH6k1ya0lknHZsP/+idfztiXkQUcdwP3S7Kk7b2U+/C17PH1LFY9A7UY6F4bSp0NAm0J9V+WlPfGmVshamY8mFlNU/O5CTzoUgu/rVRkZGdz/N2/eHF26dAEAdOjQAeXl5T5lH3/8cezfvx8rVqzATz/9hNraWlRV1Sdjt27d0KRJ/ZZlbdq0QXl5OfLz83HffffBYDDg6quvRp8+fULSG2gLNC1RVFrBDVoPJWVVcLrcaBXXVLJ+4yRsuyGBbATcitgvBsFip1RshWgTo77QPvyXc0VYP3Q/ypn30YoY8YgLMYdC1SDX2AulH6k1ya0lkjYa1mUZ8LflDt5WSZmdty50Ot7x7ulb6PwTKuF93kWmha9PIW0K9V1RaQV3z+12S+o/uaFFh0oxmUzc/+t0OjQ8TmX+/PkoKCjAoEGD0L9/f+zbt48rw1e3YRt6fWihj5ZzOliWRbzN4jN4420WsIxOsv275d4bPJCNgE52+8UiWOyUiK1QbWLUF9qH/3JMhPVD8yPtiS8OkcbDOw7htqWWsRdKP1JrkltLJG00rOt0gb8tnQA9LP88Arebt66nb6HzT6iE93kXmRa+PgW1KdB3LMty93Q6naT+Exs6pyNK+frrr/H4449jwIABOHnyJIqLi+Fy+X/M1qNHD2zbtg01NTUoLy/H3r17ZVSrHmJMTP334G0WAOC+F+l5CSwaMBv5bTQb618a57tn0YD9wWKnZGwj7VtI/UBxFdqWEI0mg463nMmgC9UthAiImdfhtqWWsRdKP1JrkltLJOOyYf8780/xtmVkg+vQA5jWoO60MYl+/4Lt6VuqeARqN9K5MJQ+zQLaFOo7i5f2/P8WIXNMIiqqqqPidxc6kVwBCgsL8cgjj+Dzzz/3ue79Irn3/WXLlgEAJk6cyG2Zu2XLFrz66qswm81o2bIlysrK8Nxzz+HMmTPIz8/H/PnzAQBpaWlIT09HUlISsrOzsW3bNrRo0QJWqxUDBw4UvGVutDzpAOTfvUqJv/he6btXeXYGod2rlNu9ip50iEckudUwDrR7lTK7VzVtasEFew3tXiXB/Cx09yqWZRBjDG0uDKVPQKrdqxjU1rm8dq+S//NNKMGedAhadEycOBGjRo3CXXfdJao4QjtE06JDbuiXL/khnysPxUAdUBzUAcVBeSgG0iPK16v+9Kc/4fXXX0dycjJWrFiB8+fPiyaQIAiCIAiCIIjoRtCiY8iQIVizZg1ef/11/P777xgxYgSmTJmCw4cPS62PIAiCIAiCIAiNI/gNFJfLhdOnT+PUqVNwOp1o3rw5Zs6ciaVLl0qpjyAIgiAIgiAIjSNo0ZGdnY27774b7777LgYOHIgdO3YgIyMDa9aswQcffCC1xqjg008/RWpqKoYMGYLBgwc3OgwwEgoLC9G3b1/R2otGWJaBm2VQp9PBzTJgWQZWqwFulr10jYXVapBUg9z9CSWQLrVqlgK+HAEi94GlQX2Lgj4UM55S5YYnDkLa9xczsTBZfDWYLP5tlHKsiN222sd1IH0GI+tzz3BpyyVzgzpmATaF64dw6jkcdRH7XM64yTlvSWFXKG0GK8t33/Mfd10fXHc4ORoIqec/KRB0WENJSQneeecddOrUyee61WrFokWLJBEWTRQXF+Pll19GTk4ObDYbKisrkZaWhnbt2qFfv35Ky4t6WJZBmb2WOwk03mbB0mf7oKjMwZ3w6dl+rpXNLNmOK3L2J4YuAKrULAV8OTJtTCJa2swR+cBiNeAMT/2WNjOqZPahmDkoVT574pAgwO/+YmazGgLupCMUk8WAkvONNcTHmhvtGCbl+Ba7bbXORUL01da5UHqxhvceX50Em9nvznzh+iGcelarAYWlFRH5XM64yTlvSWGXvzavZRv/yhusf777S5/tAyeAkhB0m60GFIeYo4GQev6TCkHLoqNHjzZacHjo1auXqIKikbKyMtTW1sLhcAAAYmJiMH/+fPzyyy9YsGABAOCrr77Cbbfdhrq6+u3vBgwYgNLSUhw+fBijRo1CSkoKHnvsMRQUFACoj0lKSgpSUlLw2muvcX2VlpZi/PjxSE1NxfDhw7Fv3z4A9dvuTp8+HWlpaejbty/eeOMNOV2gKHUANzCB+lM8K6td3OD3XMtamY/KamkGq9z9iaFLrZqlgC9H5l2yNRIf2P3UtyvgQzHjKVVueOLgz2/e7fuLWWgb+/rHUcOvwVHT2EYpx4rYbat9XAfSV+OE33t816sC2BSuH8KpJ4bP5YybnPOWFHb5a/NCVU3I/fPdr6x2wRGi7qowcjQQUs9/UiHoSYfFYsGZM2fQsmVLqfVEJZ06dUK/fv3Qv39/dO7cGUlJSRg8eDD69euHKVOmAAD2798Ps9mMo0ePwmazoWnTpmjWrBkee+wxvPnmm2jdujX27t2LGTNmYOXKlZg6dSoyMjLQs2dPvPbaa8jLywMAvPTSSxg+fDj69euHkpISjB49Ghs3bgQAHD9+HB988AEuXryI/v374+GHH0azZs0E2RBoCzS1U1Jm9znFEwCcLlejayVlVXC63GgV11R0DXL3J5Si0gq/ugC3KjULJS4EjXw5Um9rZHEL5F+5fSimFqFthRKD+jbsgv3uL2bQ6ULul49Q/CVlnMVo29sfaspJPgLPSRBtnIbrh3DqieFzOeOm9b78tukMfezy3XdeOog5FN1i2yn1/CcVghYdVVVV6NevH1q2bAmr1cpd37x5s2TCoo1Zs2Zh/Pjx+Oqrr/DVV1/hwQcfxMKFC1FRUYHy8nIcPHgQo0ePRn5+PiwWC+6++26cOnUKBQUFeOqpp7h2KioqcO7cOZSUlKBnz54AgNTUVKxfvx4AsG/fPpw4cYJ7wb+uro57OpKUlASj0YjmzZsjNjYWFy9eFLzo0PQ5HSyDeJvFZ4CyTONr8TYLWEYn+j7ecXFNZe0vFFiW9asL0KlSsxBC3o+dJ0fqbY0sboH8K7cPxdQipK2w9sS/FAdBfvcTM7jdovg2FH9JGedI224YBzXlJB+B5ySINk7D9UM49cTwuZxx03pffttkQx+7fPdZhuHKCdUtup0Sz3/hIso5Hc8//zzef/99ZGVlYcaMGdx/hDD27NmDf/3rX0hISMDw4cORnZ2N6dOn45NPPkHv3r3x2WefQafToW/fvjhw4AD27t2Le++9Fy6XC9deey1yc3ORm5uLnJwc/POf/4ROp4P3mY4sy3L/73K5sGrVKq7Oxx9/jBtvvBEAYDKZuHIN24hm9ACmjUmsH5CoH5gxJqb++9le1zLHJHKnioqN3P2JoUutmqWAL0emXbI1Eh9Y/dS3KuBDMeMpVW544uDPb97t+4uZoL+kCcBs5NdgNja2UcqxInbbah/XgfQZWfi9x3fdEsCmcP0QTj0xfC5n3OSct6Swy1+bzSzGkPvnux9jYmAOUbcljBwNhNTzn1QIOpF82rRpmDdvns+1p59+mrbLFcj+/fvx/PPPY9WqVbj22mvhdrsxe/ZsNGvWDLfffjvmzJmD5ORkPPfcc/jTn/4ElmWxfft21NTUoH///li8eDHuuOMOfPzxx9i8eTNWr16NYcOG4ZlnnsE999yD9957D2vWrMHnn3+OiRMnonPnzhg/fjx+/vlnPPzww9i1axfef/99APWnywNA37598Y9//APXXnutIBs0/aQD9S9d1QFwutxgGR30AEwmFpXVLjhdLrBM/S/ZUrxI6flLo9VqkKW/UAmkS62agxHOX9n5csTpdEXsA4vVALtXfauJkf0lcg9ixjNYW+Ge/uuJQww3PuvjwafVX8zEwmQxwFFz2UazkWn0ErkHKcdKJG3zxUHt4zqQPoORRY0T3D0jC9TWOGG2GlDlVcdiYoK+oBuuH8Kp17SpBRfsNRH5XM64yTlvSWEXX5sxMWbeOSlY/3z3PXBzFKtDjDGw7nByNBBSz3/hEOxJR8BF0Ysvvoji4mJ8++23OHfuHHfd+ys7RHC6d++O9PR0PPnkk6itrU+w3r17Y8KECXC73Th79iwSExOh0+nQuXNn2Gw2AIDRaMSSJUvw0ksvobq6Gk2aNMHLL78MAFiwYAEyMzPx6quv4tZbb+X6mj59Ol544QUMHjwYAPDKK6+gSRPtvo8hFk6nCzpcSninG04Adrv3NSfsdqekGuz2Wln7E0ogXWrVLAV8OQJE7oOqBvWrFPShmPGUKjc8cfAdn+Bt31/MxKK6ytfG6ir/PUg5VsRuW+3jOpC+2hqnz73aS7ccDeo4BNgUrh/CqWc263HxYlVEPpczbnLOW1LYxddmTIw5rP4D3eeu1wH2usC6w8nRQEg9/0lBwCcd33//PX766ScsW7YMTz/9NHedZVnceuutaNu2rSwiCeXR+pMOJQn3L75E+JDPlYdioA4oDuqA4qA8FAPpiehJx80334ybb74Zd911F+1cRRAEQRAEQRBEWAh656SoqAhTpkxBeXm5z8vHtHsVQRAEQRAEQRDBELToeOGFF5CamoouXbpAp9NJremKoaKiAosWLcKBAwfAsiyaNWuGjIwM3HTTTUpLIwiCIAiCIAjRELTo0Ov1GDt2rNRarihcLhfGjRuHpKQkbNy4EXq9Hvv378e4ceOwdetW7mVyQhzUvluLP7SgOxKN4ewaIpX9WvA1oQyUG4SWkHpXo4btxwjcCVLoONLyeNOydjkQtOjo0KEDjh8/jo4dO0qt54ohLy8PRUVFePrpp8FcOmime/fuyMrKwpQpU3DffffhwQcfBACkpaVh8uTJWLhwITp16oSDBw+iuroa06ZNQ69evZCRkYHz58/j9OnTmDJlCubOnctth5uXl4fly5dj9erVeP/997FhwwYwDINbbrkFs2fPVtIFsmG1GlBU5kDWynyUlFVx+2O3splVPRloQXckGoPVldN+LfiaUAbKDUJLsCyDMnst5nnl67QxibBZDaIsPBq2/9HsZEHjQ+g40vJ407J2uRB0KklBQQGGDx+O++67D4MHD+b+I8Ln6NGj6NSpE7fg8HD33XfjiSeeQG5uLgDg119/xblz5/DHP/4RQP1XsjZs2IBFixYhIyMDNTU1AIDY2Fhs27YNffv25e3P6XTirbfewvr165GTk4Pa2loUFxdLaKF6qKx2cZMAAJSUVSFrZT7SrgmsAAAgAElEQVQqq5XdzzoYWtAdicZgdeW0Xwu+JpSBcoPQEnUAtyAA6vN13sp81EnUvtDxIXY5NaJl7XIh6EnHs88+K7WOKw6GYXxOCPcmKSkJM2bMQGFhIXJzczF06FDunufpR+fOnREXF4fjx48DAG655ZaA/bEsi27dumHEiBHo168fxo4di4SEBMF6A22BpnaKSiu4ScBDSVkVnC43WsU1lUVDXBj9qEF3MCLRGKxupPaH4nMt+FqLhJP3aiMaciMa4hANyBGHkjI7b75CpxOl/4btO10uQeND6DiSerxJGYNomCukRtCi48Ybb5RaxxVH165d8c9//hNut9vn5fzFixfjrrvuwrBhw7B161Zs27YNK1as4O6zLMv9v8vlgl5fH0Kz2ffQG88uY3V1l/++8frrr+O7777Dl19+iSeeeAILFy5EYmKiIL1aPqeDZVnE2yw+k0G8zQKW0cmyZ3f4JzMrq1sIkWgMVjeStkP1uRZ8rTWiZU98redGtMRB68gWB5bhzVe43eL036B9luHvr+H4EDqOpBxvUsdA63OFGAQ7p0PQ16u6d++OHj16cP/26NEDQ4YMEU3klcgdd9yB5s2bY/ny5XA668+R3Lt3L3JycnDDDTcgNTUVH330EVq1auXzROJf//oXgPqDGy9cuMC7ILTZbPj5558BALt27QIAnDt3DgMHDsSNN96ISZMmoWfPntxTkmgnxsQgc0xi/cQLcN+zjDEJSn/F0ILuSDQGqyun/VrwNaEMlBuEltADmNYgX6eNSRT2F+Yw2hc6PsQup0a0rF0uAp5IzkdNTQ22bNmCkydP4rnnnpNK1xXBuXPnkJWVhSNHjkCv18NmsyEjIwNdunQBAIwePRp/+ctfMHDgQAD1L5Q3a9YMv/32GwDgxRdfxK233oqMjAwkJiYiNTUVAPDFF19gzpw5uOqqq9CrVy/8+9//xurVq7Fy5UqsXbsWFosF7dq1w5w5c2C1WgVp1fKTDkDZHSUi+euKFnbCUOPuVeH4XAu+1hLR9Bd2LedGNMVBy8gZB9q9ih85YqDluUIMgj3pCHnR4SE1NRU5OTlhCyP843a7UVJSgrS0NGzZsgVGoxFA/aIjPT0dSUlJsmvS+qJDSehDX37I58pDMVAHFAd1QHFQHoqB9ARbdAh64nb+/Hnu/91uN44cOYILFy5Ero7gZfv27Zg5cyZmzpzJLTgIgiAIgiAIQqsIWnR0794dOp2Oezm5efPmeP755yUVdiVz//334/777290ffXq1QqoIQiCIAiCIIjIELToOHbsmNQ6oobCwkLcf//9aN++PQDA4XDgtttuw3PPPYcWLVooqq1v377coYEEQRAEQRAEIReCXql3uVx45513kJaWhlGjRmH58uU+W7ESvsTHxyM3Nxe5ubn49NNP0aJFCzz99NNKy4pqrFYD3CyLOp0ObpaF1WpQWhIhAK3GTau6tYBWfSuWbr52tOoTPuSwJZr8FSnBfCFGvpkblDd7lY80FiaLb32TRb2xFDvvwomd2hH0pGPRokU4duwYHn30UbhcLqxduxavvPIKpk2bJrU+zaPT6TBx4kT07NkTx44dw5dffolt27bB6XSiV69emDJlCn799Vekp6ejQ4cO+OGHH9C8eXMsWbIEsbGx6NmzJ/r164fDhw+jRYsWGD58OFavXo0zZ85g/vz5SExMRH5+PrKzs+FwOHDhwgVkZmaif//+yMjIwPnz53H69GlMmTKF03Ty5En87W9/wyuvvIJbb71VQe+Ig9VqQFGZgzsJ1LNNXSub+YraNUJraDVuWtWtBbTqW7F087Wz9Nk+mvQJH3LEV6s5JAXBfCFGvpmtBhTzlE+wmcEAEcXCZDGg5Hzj+vGxZlRXqSuWYuddOLHTQp4LetKxd+9evPnmm+jfvz/uu+8+vPHGG/jyyy+l1hY1GI1GXHfddTh27BiOHDmCTz75BBs3bkRxcTE2bdoEoP4rbGPHjsWWLVvQrFkzbN68GQBQWlqKPn36YOPGjaiursbOnTvxz3/+ExMnTsSqVasAAGvWrMHcuXOxYcMGzJ07F0uWLOH6jo2NxbZt29C3b18AwJkzZ5Ceno558+ZFxYIDACqrXdzAA+pPAM1amY/KavG2CCTER6tx06puLaBV34qlm68drfqEDzlsiSZ/RUowX4iRb1V+yldVuyKOhaOGv76jRn2xFDvvwomdFvJc0JMOt9sNg+HyYxuj0ejzMxEcnU6Hf/zjHzh37hx3nobD4UDr1q1x++23o3nz5tz5HB06dEB5eTlXt0+fPgCAa665BrfffjsAoHXr1twOYgsWLMDu3bvx6aef4j//+Q8qKyu5urfccouPjkmTJuHmm2/GHXfcEZL+QFugKU1RaYXPCaBA/QB0utxoFddUIVW+xKlEh5qQOm5S+VwL+aYWQo2BVn0rlm6+dpwuV8Rtq2X+kSO+as4hueMQzBdi5FugPgB3RLGQIpZa+VwIJ3ZqyfNACFp0dOrUCfPmzcNf/vIX6HQ6rF69mvckbIKfmpoanDx5EklJSRg8eDDGjh0LALhw4QJYlkVZWRlMJhNX3nunMAA+2+ayLNuo/dGjRyMpKQlJSUno0aMHJk+ezN0zm80+ZZ9//nm89tpr2LNnD+655x7BNqj5nA6WZRFvs/gMwHibBSyjU8We3LQ3OD9Sxk1Kn6s939RCODHQqm/F0s3XDsswEbWtpvlHjviqNYeUiEMwX4iRb4H6AHQRxULsWGrpcyGc2Kkhz4Od0yHo61UvvvgiLly4gIceeggPPPAAysrKMGPGDNFERjMulwvLli3DH//4RwwfPhy5ubmorKxEXV0dJkyYgO3bt0fU/vnz53Hq1ClMmjQJffr0wa5du+B0Ov2Wv+WWWzBz5kzMnj0bdrs9or7VQoyJqf+ep80CANx3G2NMgtKbUAitxk2rurWAVn0rlm6+drTqEz7ksCWa/BUpwXwhRr5Z/JS3mJiIY2E28tc3G9UXS7HzLpzYaSHPAz7pqKmpwYwZM9C/f3/Mnz8fAPDXv/4VLMuiSRP1ft1GaUpKSjB06FAA9YuOzp07Y/Hixbjqqqtw7NgxPPjgg3A6nejduzdSUlLw66+/ht1XbGwsRowYgT//+c/Q6/Xo3r07HA5HwAXFnXfeiaSkJLz66qtRsRmA3V6LVjYzssb3gtPlAsvUT3ZqfpmK0G7ctKpbC2jVt2Lp5msHgCZ9wocc8dVqDklBMF+IkW8Oey0SGpS3mBg4LpWPJBbVVbWIj/WtbzYyqnuJHBA/78KJnRbyXOf2/h5PAxYuXIiTJ09i9uzZaN68OQCguLgYs2bNQocOHfDss8/KJpRQFjV/vUrtqOnrDVcK5HPloRioA4qDOqA4KA/FQHoi+nrVnj17sGjRIm7BAQAJCQl45ZVXsHPnTvFUEgRBEARBEAQRtQRcdBgMhkYvIgNAkyZNfF5uJgiCIAiCIAiC8EfARQfDMKioqGh0vaKigk4kJwiCIAiCIAhCEAEXHYMGDcL06dN9Xkq22+2YPn067rvvPsnFhUJFRQVmzZqFQYMGYejQoUhLS8N///tfAEBeXh7S0tIU0ZWRkYGcnJxG1/v27YvCwkK/9dLS0pCXlxdx/zk5OcjIyIi4HbVjtRrgZlnU6XRwsyysVjpHRghK+U3qfh2OOsHte7REaw5Fq13eaNVGreqWC6X9Y7Jc7t9qNcCt10asQvFbuD6OJDZKx1UqPXLbZW7Qn1nFOekh4O5Vjz76KF588UX07NkTHTp0gMvlwi+//ILBgwdjwoQJcmkMisvlwrhx45CUlISNGzdCr9dj//79GDduHLZu3aq0PEJirFYDisoc3Omcnq3jWtnMqt/JQUmU8pvU/VqtBhSWVghq36Ollc0clTl0JYwNrdqoVd1yobR/TBYDSs7X97/02T6aiVUofgvXx5HERum4SqVHbrvMVgOKefpLsJm5ncPUSNCvV82ZMwdbtmzBE088gSeffBLbt2/H7NmzwTDq2Qs4Ly8PRUVFePrpp6HX16+junfvjqysLLhc9UfCnzt3DuPGjUNycjKefPJJ1NTUAACys7Px4IMPIjk5GWlpaSgtLQUA9OrVC3PmzMGwYcMwfPhwFBQUAKh/QvHqq69y29QeOXIEAHD69GmMHTsWKSkpGDVqFI4ePSpIe0VFBf76178iNTUVqamp2LVrl8/9uro6TJ8+HSNHjkS/fv0wfvx4OBwOFBYWYtiwYZgyZQoGDRqERx99FOfPnwcAbNy4EcnJyRg+fDj27NnDtfXyyy9jyJAhGDZsGJYvXx6mt9VHZbWLG3hA/amcWSvzUVntUliZulHKb1L3G0r7nrLRmkPRapc3WrVRq7rlQmn/OGou96+0llAIZ/4L1a5I/KE2X4qlR267qvz0V6XCnPRG0Ink11xzDa655hqptYTN0aNH0alTp0YLobvvvhsA8PPPP+O3337Dm2++iWuuuQYPPvgg9u3bh3bt2uHEiRP46KOPwDAM/u///g+bNm3CY489hrNnz6JHjx6YMWMG5s+fjw8++ID7mlJsbCw++eQTrF69Gm+99RaWLVuGqVOn4oUXXkCXLl3w888/Cz7477PPPsM111yDt99+Gz/88AM2bdqEfv36cfcPHToEg8GAtWvXwuVy4dFHH8UXX3yBm266CceOHcO8efPQpUsXTJw4EZs3b8Z9992HhQsXYuPGjYiNjcXf/vY3WK1W/Prrr/jyyy+xdetWVFVVITMzE9XV1T4noQci0BZoSlNUWuFzKidQPwCdLjdaxTVVSJUvcSrR4Y1SfpO631Da95R1ulyqz6FwUHpsyJH3StsYLnLqVuP8Ewyl4+rdv1jzg9rGQ7g+jiQ2Sse1YQzE0iO3XUr7MVwELTrUDsMwQX957tSpE9q0aQMAaN++PcrKynDPPfdg6tSpWLduHU6ePInvvvsObdu25er07t0bANChQwccPHiQ9/qOHTtQWVmJI0eOIDMzkytjt9tRVlYWVHu3bt2wePFiFBcX45577mn0tbU777wTsbGx+OCDD3DixAmcOnWKe8emefPm6NKlC6elvLwchw4dQrdu3dCiRQsAwODBg7F//34kJCTAZDLhoYcewr333ovJkycLXnAA6j6ng2VZxNssPgMw3mYBy+hUsSe3WvcGV8pvUvcbSvuesizDqDqHwkXJsSFX3qt9/PtDLt1qnX+CoXRcvfsXY35Q43gI18eRxEZtc5JYeuS2S+nx4Y+IzunQCl27dsXRo0fR8JzDxYsXY//+/QDAfe0KAHQ6HdxuN44cOYLHH38cLpcLycnJ6N+/v08bnl/KPeX5rgP175QYjUbk5uZy/61btw6xsbFBtV9//fXYtm0bBg8ejIMHD2LEiBHcV8IAYNeuXZg8eTLMZjNSU1Nx5513clq8Fw0ejQ21euzW6/VYt24dJk2ahPPnz+Ohhx7CyZMng+rTAjEmBpljEhFvswAA993GGFNUpLdkKOU3qfsNpX1P2WjNoWi1yxut2qhV3XKhtH/Mxsv9K60lFMKZ/0K1KxJ/qM2XYumR2y6Ln/4sKsxJb6LiSccdd9yB5s2bY/ny5Rg/fjxYlsXevXuRk5ODRx55BL/88gtvvQMHDiAxMRGjRo1CWVkZ9uzZE9auXE2bNsX111+P3NxcDB06FF9//TVeeOEFQQcorlmzBgUFBcjMzESfPn1w7733+mxT/M0332DAgAHceyV5eXno0aOH3/Zuv/12zJkzB8XFxYiLi8O//vUvNGvWDEePHsWcOXOwevVq9OjRA0ePHsXJkyfRrl27kO1VG3Z7LVrZzMga3wtOlwsswyDGxKjuBT+1oZTfpO7Xbq/FtS2aCGrfo6Wy2uWlyQ2W0UVFDl0JY0OrNmpVt1wo7Z/qqlrEx9b3f6Gqrl7LhF5wOtUdq1D8Fq6PI4mN0nGVSo/cdjnstUho0J/FxKj6JXIgShYdOp0Or7/+OrKysjBo0CDo9XrYbDa8/fbbaNGihd9Fx8CBA5Geno7BgwcDqH9iEmgb20AsWLAAM2fOxLvvvguDwYDs7GzuSUgghg0bhr///e8YPHgwWJbFlClT0KxZM+7+Aw88gMmTJ2Pr1q0wGAy47bbbAmps0aIFpk+fjjFjxsBiseCGG24AAHTp0gW33norBg0aBIvFgttuuw19+vQJy1Y1YrfXQodLCe10wm53KqxIGyjlN6n7NZv1uHixSlD7Hi12u9NLE6Imh66EsaFVG7WqWy6U9k911eX+ldYSCqFoDdeuSPyhNl+KpUduuxwN+nOoOCc96NwNv5NEEDyo+Z0OtaPV71RrGfK58lAM1AHFQR1QHJSHYiA9V8Q7HQRBEARBEARBqBdadBAEQRAEQRAEISm06FCAjh07hlUvIyMDOTk5Efefl5eHtLS0iNshCIIgCIIgCCHQooPQLFarAW6WRZ1OBzfLwmo1KC1JM5DvtA/FUF1QPKSB/EpEgnf+lJTZozZ/tDJOomL3Kq3idruxcOFC7Ny5EyzLYuTIkXj00Udx+vRpzJw5E+fPn4fZbMaMGTO4QwA9ZGdn45tvvkF5eTni4+ORnZ2NFi1aoFevXkhOTsa3334LlmXx6quvok2bNvjqq6+QlZUFk8kUFdvkWq0GFJU5kLUyHyVlVdwe1a1sZlVuY6gmyHfah2KoLige0kB+JSLhSskfLdlJTzoU5NNPP8W///1vbN68GevWrUNOTg7Onj2LqVOnYsqUKdiwYQPmzJmDZ5991qfe6dOnceLECXz00UfYvn07WrVqhU2bNgEAzp49ix49emDjxo2488478cEHH6CmpgYZGRlYunQpcnJyYDablTBXVCqrXdwAA4CSsipkrcxHZbUrSE2CfKd9KIbqguIhDeRXIhKulPzRkp30pENBDhw4gAEDBsBoNHInmldWVuLIkSPIzMzkytntdpSVlXE/X3fddZg6dSrWrVuHkydP4rvvvkPbtm25+7179wYAdOjQAQcPHsTx48cRHx+P9u3bAwBSUlKwZMmSkLQG2gJNCYpKK7gB5qGkrApOlxut4poqpMo/cSrSpDXfhYuafC42WolhNMfAG7XHQ6txULtfQ0WrcdAq0ZY//tCSnbToUBC9Xu9zgGBhYSGuuuoqbgHi4cyZM4iNjeV+PnLkCJ577jmMGTMGycnJYBgG3setmEwmAPWHJrrdbu5fDyzLhqxVbed0sCyLeJvFZ6DF2yxgGZ3q9uFW297gWvJduKjN52KjhRhGewy8UXM8tBwHNfs1VLQcB60STfkTCDXZSed0qJg777wTO3bsQG1tLaqqqvDEE0+gtLQU119/Pbfo+Prrr/Hwww/71Dtw4AASExMxatQoXH/99dizZw+cTv8nUXbs2BGlpaU4duwYAGDr1q3SGSUTMSYGmWMSEW+zAAD3HcYYE6V0MMh32odiqC4oHtJAfiUi4UrJHy3ZSU86FORPf/oTjhw5gtTUVLhcLjzyyCNo164dFixYgJkzZ+Ldd9+FwWBAdna2zxORgQMHIj09HYMHDwYAdO3aFYWFhX77MRgMWLx4MaZMmQK9Xt/opXQtYrfXopXNjKzxveB0ucAyDGJMjOpemlIj5DvtQzFUFxQPaSC/EpHQKH9YBjHG6MsfLY0Tndv7ezcE4Qe1fb1KS9BjdfkhnysPxUAdUBzUAcVBeSgG0kNfryIIgiAIgiAIQlFo0UEQBEEQBEEQhKTQokOF5OTkICMjQ2kZBEEQBEEQBCEKtOggNIXVaoCbZVGn08HNsrBaDQAAlmXgZplL1xmwLOO3LBEZwfyqBr+7XG4uH4wWXz1Gs14VGsNBCt1q94Xa9UmJpYHtFg3bbjCyPrYYjOwVHdtIMDWY00yWK9dvasohMbXw/U4TDdDuVSomPz8f2dnZcDgcuHDhAjIzM9G/f39kZGTAZDLh+++/R2VlJZ566ikMGzYMxcXFmDZtGi5evIiSkhKkpKRg0qRJyMnJwd69e1FeXo6CggL07NkTM2fOVNq8kLFaDSgqc3Anb3q2hWtlM+NMmQPzvK4vfbaP37Jq3NFBKwSKgd1eG/S+HLAsg9NnLmDue3n4U2Jb3NGlpY8ereaGFL5VQ7y0rE9KLFYDzvDY3tJmRpXGbDcYWZRerImKcag0JosBJecb+y0+1ozqqivLb2qaH8TUwrIMyuy1Pr/TTBuTCJvVAKdTfaeMh0J0LJ2ilDVr1mDu3LnYsGED5s6d63OKeEFBAdauXYtVq1bhlVdewdmzZ7FlyxYMGjQIH3/8MTZv3oxVq1bh3LlzAIBDhw5h6dKl2LRpE3bv3o3jx48rZVbYVFa7uAEN1J+4mbUyH5XVLm5weq4HKkuETzC/qsHvdQDmvpeHkrIq3HN7m0Z61KAxHKTQrXZfqF2flNj92G7XoO01TkTNOFQaRw2/3xw1V57f1JRDYmqpAxr9TjNvZT7qxBSsEPSkQ8UsWLAAu3fvxqeffor//Oc/qKys5O6lpqbCYDCgZcuWuO222/Dtt9/i8ccfx/79+7FixQr89NNP3KGDANCtWzc0aVK/jVmbNm1QXl4ekpZAW6DJRVFphc+Jm0D9YHS6XI2u812rL+tGq7imkmttSJwCfUqB/xjU+zXYfTkoKbNzGtxut+pzQyhS+FbqeEWa92rIJ6UQ03al55+i0sqoGYeRIEYcruQx0ZBwfCHVWBAzLt6fYd5tQadTfCxHCi06VMLBgwfRpk0bJCQkwO12g2VZjB49GklJSUhKSkKPHj0wefJkrjzLstz/u1wu6PV6zJ8/HwUFBRg0aBD69++Pffv2wXMMi8lk4srrdDqEejyLGs7pYFkW8TaLz2CMt1nAMkyj63zX6svqZN+nO5r2Bvcfg3q/Brsvj8jLsdfpdKrOjVCQwrdSxkuMvFdFPimEWLarYf7hs0Wr4zBcxIrDlTwmGhKqL6QcC6LGheUfG3C7VR9jOqdDI6xfvx47d+4EABw/fhxt2rTBqVOnMGnSJPTp0we7du2C0+nkym/btg1utxu//vorDh8+jNtvvx1ff/01Hn/8cQwYMAAnT55EcXExXK7oeeQaY2Lqv7tqswAA953JGBODaQ2uBypLhE8wv6rB73oA0x9LQrzNgj3fFjTSowaN4SCFbrX7Qu36pMTqx3arBm03soiacag0ZiO/38zGK89vasohMbXogUa/00wbkxgVTwnoRHKVcPLkSfzf//0fKioq0LJlS7z66qt4/fXXsWvXLuj1enTv3h3btm3D7t27MXv2bJw7dw6lpaWoqanB3//+d/Tt2xdbtmzBq6++CrPZjJYtW6KsrAzPPfcczpw5g/z8fMyfPx8AkJaWhvT0dCQlJQnWp4YnHUD9y1qV1S44XS6wDIMYEwO7vRYsy6AOgNPlBsvooAdgMrG8ZeVGDX9pFBN/MRB6Xw6aN2+C0vN2OF1uWM16VNdc1mMy6KBndIprDAcpfCtVvMTKezXkk1JYrAbYvWy3mpiQXyJXy/xjMLKocYKzxcgCBj1zxcRWzDiYLAY4vOY0s5G54l4i9xDK/CD1WBBzruL7nUYLL5EHe9JBiw4NkpGRgcTERKSmpsrWp1oWHVpELR/6VxLkc+WhGKgDioM6oDgoD8VAeujrVQRBEARBEARBKEo0fEXsisPzNSmCIAiCIAiC0AL0pIMgCIIgCIIgCEmhRYfI5OXlIS0tzefa999/j+effx4A8PHHH2PLli0A6t/NyMnJkUxLcXExxo0bJ1n7SmC1GuBmWdTpdHCz7KWfmUs/M2BZSmmCIAiCIAi1QV+vkoGbb74ZN998MwDg3//+NxITE2XpNyEhAe+8844sfcmB1WpAUZmDO/Uz6aYEPHRfJ+5nz7ZyNqtBE7s8EARBEARBXCnQn4VlwPP0Y9++ffj888+xdOlS7N27FwCwZ88ejBgxAvfeey/Wrl0LAFi2bBmWLVvG1e/bty8KCwtRUVGBp59+GiNHjsS9996LadOmwe12Iy8vD4899hjGjx+P5ORkPP3006ipqUFhYSH69u0LAPjxxx+RlpaG4cOH495778WHH34ovyMipLLaxS0wAKDfndf5/FxSVoV5K/NRp6RIgiAIgiAIohH0pENG7rrrLvTt2xeJiYno3bs3tm7dipqaGqxbtw4//fQTHnnkEYwcOdJv/T179qBz585YunQpampq8Oc//xn//e9/AQCHDh3Ctm3bEB8fjwcffBBfffUVbrzxRq7uunXrMH78ePTo0QMFBQUYMmQIRo0aJVh7oC3Q5KKotMLnhM6mVoPPz0D9wgM6HeLimsotLyBq03MlQD5XHoqBOqA4qAOKg/JQDJSFFh0K069fP+h0OnTo0AFlZWUByw4aNAiHDx/GypUrceLECZw/fx52ux0A0KFDB7Rs2RIA0L59e5SXl/vUzcjIwN69e/HWW2/hxx9/5OoJRQ3ndLAsi3ibhVtoXLTX+vwM1J/cCbdbVXtx097g8kM+Vx6KgTqgOKgDioPyUAykh87pUDksywIAdDodd02n08H7zMba2voTLVevXo1XXnkFV199Nf7yl7+gffv2XDmTyeS3PgA888wz+Oyzz9C+fXs888wzktkjJTEmBpljEusXFgB2HTjt87PnnQ5aSRMEQRAEQagL+v1MZliWhdPpDFjGZrMhLy8PAHD48GGcPXsWAPD1119j5MiRGDx4ML7//nscO3YMLpcLDBN87fj1119j27ZtSEhIwAcffAAAcDqd3KJHC9jttWhlMyNrfC84XS6wDIMYE4Os8T3hdLnBMjroAXqJnCAIgiAIQmXQokMCDh48iG7dunE/JyQkIC4uDkD9ex2LFy9G06b+v1c4cOBAbN++HQMHDsRNN92ELl26AAAeffRRzJw5E2+//TaaNGmCbt26obCwEG3btg2qaeLEiRg9ejRMJhM6deqEa665BoWFhbjuuusitFZe7PZa6HApcZ1O2O1Or5/dCLycIwiCIAiCIJRA5ydPNzgAACAASURBVG74PRyC4EEN73RoFfoeqfyQz5WHYqAOKA7qgOKgPBQD6aF3OgiCIAiCIAiCUBRadBAEQRAEQRAEISm06JCBvLw8dOvWDUOHDsWQIUMwYMAArFq1KmCdtLQ07mVyPoqLizFu3DixpRIEQRAEQRCE6NCiQya6du2K3NxcbNq0CevWrcN7772Hn3/+Oez2EhIS8M4774ioUJ1YrQa4WRZ1Oh3cLAur1SB5257rUvYdqcZI6oRrl7lBPbOfeibL5XJWqwFufeC+AukJFiPv6wbj5ZgVlVbArRcnhkLbsFoNPmU9tkuVR3zt8vXv736ga5HqCFTWp7zef7yD5Y6QfsPJLQ/eeexmWZgsjXPPo9FoMcDUwC5P+Uh8F85c1LCsw1Hnt4zQdlmWgZtlLpVjwLLi/OpgtRpgtPj6zWjWNyrTUKNY+cZXXuhYD7VcZaUj6FwYavtC6ocyD4lpP1+OBdIS7jj1N2fw9VVSZg/4GRJqvvDZHGwOExpXvvknlM9DNfz+wgftXqUA1dXVYFkWTZs2xeHDh5GVlQWHwwGbzYZZs2ahTZs2PuUXLVqE7du3w2azIS4ujjvV/JFHHsHnn3+OjIwMJCYmIjU1FQDQsWNHHD9+HMuWLcNvv/2GU6dO4dy5c3jqqafwzTff4D//+Q86deqE7Oxsn/NB1IbVakBRmQNZK/NRUlaFeJsFmWMS0cpmht1eK1nbRWUO7l8p+hZDoz8NweqE61Oz1YBinnoJNjMcXvVMFgNKzteXW/xMn6B9BdIDIGCMvK/PfeouNDPrfa5/NDs54hgK9ZdnQveUXfpsH0nziE+Xp0/v/v3dD3QtFH3B4tewrLePAsV74aTeEedxuLllt9f65LG/3PP47reSi7jphuYou1DTqHx8rBnVVZGN1VByKBS/CG2XZRmU2Wsxz6vctDGJsFkNEW1PbrUaUFnrxIWK2kYa4q4yocZR18ieUMZ0sHwLx3fhllsSwjiL9HPPu34o85CY9nvKxPOMl4ZaAsU0WPz4bBVqN99cGEq+8Pndu352g5iHkrt880+guVrseV1K6EmHTBw5cgRDhw7F4MGDuUWDzWbD9OnTsWjRImzYsAFjx47FjBkzfOp9/vnn+Pbbb7Flyxa8/fbbOHr0aEj9/vjjj1i9ejXmzJmDzMxMjBs3Dlu2bMHRo0dx/PhxMU0UncpqFzdoAKCkrApZK/NRWR35ORyB2vb+V4q+xdAYbp1w7aryU6+qQT1HzeVy1TXB+wqkJ1iMvK/X1bkbXRcjhkLbaKhX6jzia5evf3/3A10LRV8o9YPF1Pteba074jwON7cA3zxueL+hjztd3xzOOvCWd9REPlZD9bFQvwhttw7gFhyecvNW5qPx85PQqKx2weXk91t1rZvXHjHzja+80LEeajm7BDr8Ee48JKb9njIOAVoiGaf+5jwhdvPNhZH4vmF9Rwh2NoRv/gnVFqV/f/EHPemQia5du2L16tUAgIqKCjzxxBN45513UFBQgKeeeoorV1FR4VNv3759GDBgAIxGI4xGI/r37x9Svz179oRer0fr1q0RFxeHG264AUD917PKy8sFtxNoCzSpKCqt4AaNh5KyKjhdbrSK83/OSWRtu3z+FavvuDDqhGN/sDrh+lRoPe9yQnwYqF3AHTBG3jC6xv2JEcNQ7Pbc8+5b7DwKpMu7L75+hV4LRV/g+PnmfUMfNS7vFpw7QuISXm4Fa7+xj50uV0C7Ih2rocQoFL8IbbekzM5bDjpdWPOat1auLT8aGtoTqi+Ctd+wfKhznNByYscwEHz9RjoXh2o/X4750xJIWyjjVEhfl+vzz4We+8F8wIe/zwAhdgrJgVBtkep3p0ihRYcCNGnSBAMGDMDOnTtx7bXXIjc3F0D9CeGlpaU+ZRmGgcsVeHWq0+ngOW6lttb30ZnBcPl7fHp9+OFW4pwOlmURb7P4DJ54mwUso4t4r23/bTM+/4rRd7h7g4djf7A64fpUaD3vckJ8GKhdQBcwRt7XXW7A0OC6GDEMxW7PPW/bxcyjYLq8++LrV+i1UPQFjh8C+qhxeZ3g3BESl/ByK1j7jX3MMkxAuyIdq6HEKBS/CG6X5S8HtzviHHa53SHFIVRfeO6L5btwy4kdw0Dw9RvpXByq/Xw55k9LIG2hjFMhfV2uzz8Xeu6H43t/nwHh5q7wuVr8eT0S6JwOFeJ0OpGfn49bb70V5eXlOHjwIABg/fr1mDx5sk/Zu+66Czt27EBNTQ0qKiqwZ8+eRu9hxMbGci+l79y5Ux4jZCDGxNR/L9pmAQDue4kxpsjTNlDb3v9K0bcYGsOtE65dFj/1LA3qmY2Xy5mMwfsKpCdYjLyv6/W6RtfFiKHQNhrqlTqP+Nrl69/f/UDXQtEXSv1gMfW+ZzDoIs7jcHML8M3jhvcb+vjYqd/B6sFb3myMfKyG6mOhfhHarh7AtAblpo1JjPgvljEmBgzL7zeTQcdrj5j5xlde6FgPtZxVAh3+CHceEtN+TxmzAC2RjFN/c54Qu/nmwkh837C+OQQ7G8I3/4Rqi9K/v/iDTiSXgby8PDz55JNo27YtdDod6urq0LFjR8yZMwfHjx/HSy+9hOrqajRp0gQvv/wy2rZti7S0NKSnpyMpKQnZ2dnYuXMnrrrqKjAMg9GjR+OWW27hXiT/3//+h2eeeQa1tbXo3r07tm3bhq+++grLli0DAEycOBGFhYVceQA+7QtBqRPJrVYDKqtdcLpcYJn6QS3Wi1D+2vZcjzExl+67wTK6sPuO5BTUcOwPVidcn5qtBlR51bOYGJ+XyD2YLAY4aurLNbPoUVnjgtPpv69AeoLFyPt6bZ0LBr1XzFgdYoxMxPkj1F+eFwk9/TezsKiscXlpiCyPhOi63D+/773vB7oWij5//uHL+4Y+8sSIL97BckdIXMLJLQ/eecwyDMxGBtVVtbwaTQYGOh3g8LLLbGD8vkQu1IZw5qKGbTazGnHxYhVvGaHtsiyDOoArpwcieoncW0edG6iuuew3k16HGq8dt/h8JDRfg+UbX3mhYz3UckLmwlDb9wdfv0LmITHt58uxQHNiuOPUn4957faKv7/5ExCeL3x+8a7vsdc75kLjyjf/sDr+uTrYZ4HYvzsFItiTDlp0qJxDhw7h1KlTSElJQW1tLUaOHIl58+ahU6dOsupQatERDUSy6CDCg3yuPBQDdUBxUAcUB+WhGEhPsEUHvdOhctq1a4fly5fj/fffh9vtxrBhw2RfcBAEQRAEQRBEJNCiQ+XExsZixYoVSssgCIIgCIIgiLBR/q0SImQ6duwIALh48SImTJgguDxBEARBEARBKAEtOjRMeXk5fvjhB6VlSIrVaoCbZVGn08HNstyLWtHWp9iagpWPBhuVbFeMNiNtQ0y71JgPShGKL7zLMkY9GIOnHgOWpY9Xf1ga+NgSQr6xLKP4/KaF8aJGjWLEzVNGaFve5X4vr5J0jFqtBl9detbnmr/7YvSrtlj7g75epWHmzp2LkpISTJgwAa+99hqys7PxzTffoLy8HPHx8cjOzkaLFi0AAC6XC/3798eKFSvQrl072O12DBgwADt27IDJZFLYEn6sVgOKyhzcyZqebd9a2cyS7cKgRJ9iawpWPhpsVLJdMdqMtA0x7VJjPihFKL7wLmtrasYjf+6MJR8d4upNG5MIm9Ugyi5P0YTFasAZHh+3tJlRFSTfWJaBycQqOr9pYbyoUaMYn0ueMq1sZkFteZeTeox6ftFvqGvps304LXz31fB5JCf0pxgNM336dMTHx+O1117D6dOnceLECXz00UfYvn07WrVqhU2bNnFlGYbBsGHDuGs7duzAPffco9oFB1C/3ZtnIAH1J2pmrcxHZbV0H+JK9Cm2pmDlo8FGJdsVo81I2xDTLjXmg1KE4gvvssP7duB+mfHUm7cyH3WNahF2Pz62C8i3Oig/v2lhvKhRoxhx85QR2pacY7Sy2sWry1uLWj+P5ISedEQJ1113HaZOnYp169bh5MmT+O6779C2bVufMqmpqRg7diwmTZqEDRs24O9//7vg9gNtgSYVRaUVPidqAvUDyulyo1VcU031GRdB3VA1BSuvhF+DIYWmOIlsFaPNSNsQ0y4p8yGSvFeCUHzhXbap1cBbDzqdKnygBg0eIsm3kjI7nE6XovNbJO3LFQctzvFCNHvKOF3CcsC7nNRjtKi04nKbXng0OF0u3vtq+DySE1p0RAlHjhzBc889hzFjxiA5ORkMw6DhESzXXnstWrdujR07duD333/HH//4R8HtK3FOB8uyiLdZfAZUvM0CltFJtte2FH1Gujd4qJqClVfCr8EQW5PH51LYKkabkbYhpl1S5YMW98QPxRfeZS/aa3nrwe1W3Adqi0NE+cYyYBlG0fkt3PbljIMW53ghmj1lhOaAdzmpxyjLslyb3n14NLAMw3tfDZ9HYhLsnA76epWG0ev1qKurfzh44MABJCYmYtSoUbj++uuxZ88eOJ3ORnWGDx+OuXPnYsiQIXLLDZkYE4PMMYn1EwPAfVfR++TQaOhTbE3BykeDjUq2K0abkbYhpl1qzAelCMUX3mXXf/4TJj3UzafetDGJ9Fc9Hqx+fGwVkG96KD+/aWG8qFGjGHHzlBHalpxjNMbE8Ory1qLWzyM5oRPJNUjHjh1x/Phx1NbWIi0tDQaDAQsXLkR6ejocDgcAoHPnznC5XFi4cCFXHgAcDgeSkpKwY8cOJCQkCO5TqRPJrVYDKqtdcLpcYJn6QSv1y1Fi9ynGX7hC1RSsvBJ+DYaYmrx9LoWtYrQZaRti2iWFj9T2F3ahhOIL77JGAwu43aipc4FldNADqniJXI1xsFgNsHv52Gpigr5E7sHzMnm9391gGZ3s81s47csdBy3O8UI0e8rEmBhBOeBdzmhgJB2jnpfJOV2sDjFGhrvmWQg0vK+GzyOxCPakgxYdVxButxtffvklPvzwQ7z55psh1VVq0RENqPFDP9ohnysPxUAdUBzUAcVBeSgG0hNs0UFPf68g5s2bh927d+Odd95RWgpBEARBEARxBaHOL30RkvD8889j586daNeundJSCIIgCIIgiCsIWnQQBEEQBEEQBCEptOiQmMLCQnTt2hVDhw7FsGHD8Oc//xljx47FmTNnBLeRmZmJX3/9VVRdy5Ytw7Jly0RtUwosVgPcLIs6nQ5uloXFavC5ZrUa4Naz9f+yl//1lPe82MVHKGXlIBI9odZVm+3+CDeeJWV2QTZJ6YdgbfPdD0dPOP1oAS3ojoZ5RwjRZp8SGh2OOkX9wmezGHpCmX8afl4H0uL9s8HIiuGCoHr93RM6VxuMLK9uKed63vb06hx3AL3TIQvx8fHIzc3lfp4/fz5eeeUVLF68WFD9vLw8TJgwQSp5qsViNeBMmYM7bTPeZsHiZ/vg7KVrS5/tg6IyB5rHmlBU5kCczYyiBuUzxySilc3MuwOG0LJyEImeUOuqzXZ/hKIzHJuk9EOwtvnue/JZTBu0EuuGaEG3R2OMlUVRWY0m5x0hSD0O5UYJjVarAYWlFYr5paHNH81OFsUHocw/nvmtVYPP6YZaUu7+A/rc1qZRmy2aGlFb0/gYgFBwOOr86gXg956QuXruU3ehsqou7PqhzvVrLvktmHa1jDsP9KRDAZKSkvDTTz/hu+++wwMPPIAhQ4bg0UcfxenTpwEAaWlpSE9PR3JyMt5++22UlJTg/9n78vgoyvv/987svUlgwQSCWJFIOeoXRb8GUAQ5lNsoQVA0CEVtqyCCYoEK5TR4Ise3WoUaoVW0ciNHKagFD6K/YqkX0qIt0ZAYDZDsZu/5/bGZyezs3Du7s8Hn/Xrllc08n/P9+TzP7GR3nrn33ntRX1+PIUOGoKqqCkD8YqSsrAwA8OWXX2LcuHEoKSnB0qVLccMNN3DHy8rKUFpaisGDB+PVV181J2kd8Adj3CQC4k/ZDPKO+Zpfh0MMyisqE8ZY+fKKSviCyVvi+TTIZgKpxKNVN9tyl4KWOPXklE4elGyLjacjh9ZSayFaQ9xsjDToVrvuqEG652GmYUaMZvMi9G9UPFrWH/a1UizDiruI2kzxegMAcK4pJBmvXC5q1upIhElJX+taH+TxaXZ/aQH5pCPDCIfD2LdvHy677DLMnj0bzz77LHr37o09e/Zg9uzZ2Lx5M4D4szjWrl0LANi0aRNeeOEFeL1eSbtz587FzJkzMWjQIFRUVHAPBvzzn/+M++67D/3798epU6dw00034fbbb9cct9wWaOlCdV1jwlM2ASAai3HH2NfC33zEjzMozM9VtC0lawTyFWymEo9W3Uznrhda4tSTUzp5ULKt1NtG5WB2rZX6Xgpmx60GbIzZvO6w0FsHIP3zMNMwI0azeRH617PWqLErtMMflzpPC/+mKYjbZNK7LgOMxFgyV2LHKItE3Cr1ta71fD5ZfS32zAK56MgAamtrUVJSAgAIhULo3bs3SktL8fnnn6N3794AgJEjR2LhwoVoaIjvIc0eV4MzZ87gm2++waBBgwDEnzq+YcMGAPGLkUOHDuH3v/89vvzyS/j9fl05mPGcDpqmUeB1CRYkijvGvhb+5svHj1uS9uYWsy0lmyrU7A2eSjxadTOZeyrQEqeenNLJg5Jtpd42Kgcza53KnvitoUfZGLN13WGR6rMJ0j0PMw0zYjSbF6F/PWuNGrtCO/xxqfO08O9oDOI2LQasy1bpeAGLxFgyV2LHYoxE3Cr1ta71fD5Z/WyYd0rP6SBfr8oA2Hs6tm/fjj179uDxxx9Hbm7y1SfDMNwnFE6nU9Ie+zzHSCQCIN6MUs94fPDBB7F//34UFRXhwQcfTDWVjMLtoDBvSjEKvC4A8Unk4B3zNL+22S2YN6U4YYyVnzelmHsKKB8eDbKZQCrxaNXNttyloCVOPTmlkwcl22Lj6cihtdRaiNYQNxtjFNFWu+6oQbrnYaZhRoxm8yL0b1Q8WtYf9rVSLH+t/FrUphH3kue57JLxyuWiZq22Wi0p6Wtd6x08Ps3uLy0gTyRPM6qqqjB58mQcPHgw4XgoFMKNN96I1atXo3fv3ti9ezeef/557Nixg7uno2/fvgCAG264AevWrcPFF1+M0tJSTJ8+HYMHD8aSJUtw4sQJbNy4EaWlpXjggQcwaNAgvPLKK1i3bh0OHjyIK6+8Env27EGHDh3wpz/9CUuWLMFnn32G3/3udwCAGTNmqMrDrCeSu9w2+IMxRGMx0BQFd/MkYo/luazwhWLw2Cn4gjF4HPHf0RgDmrLA46Bkb8zy8WzLyaYCtf9pTCUerbqZyj1VaIkzQZam4LEr55ROHpRsi40D0ByPHj+ZqHWq/2FvDT3KxpiN6w4LI57CrHseZnndMhljbq4L5/wh03gRy9kIDrSsP8LzNX++yMVmp5HyTeRAfC74fAHJeKVyUbtWhyMxhKJIijudaz27/rTYY0DTFlXnv3SAPJE8S2G327Fy5UosXboUTU1NaNOmDVauXCkqe/311+Pee+/FunXr8MADD2Dp0qVYu3YtBgwYwMk88cQTmD9/Pp599ll0796d+6RkxowZmDRpEhwOB3r06IELL7yQuxG9NaDJH4YFzY0ajaLJH1942GP+5nF/JBr/7Y/y5ON/S8EvsC0nmwmkEo9W3WzLXQpa4uTL5nvdqt5opZMHJdtS41rj0esn29Ea4ubWn1a87qiB3nmYrfmZEaPTaUVDQ5NpvIjlbAQHWtYf4fmaP1/kYgsbSJVcvFJjWtZqsbjTudaz60+CvUic42wE+aTjPMHatWsxYcIEFBQU4C9/+Qt27txp6HM4zPqk43yAEf9pJNAGwrn5IDXIDpA6ZAdIHcwHqUH6QT7p+JGgU6dO+PnPfw6r1Yq8vDwsX77c7JAICAgICAgICAgIAJCLjvMG48aNw7hx48wOg4CAgICAgICAgCAJ2Xdr+48EVVVVuOyyy1BSUoKbb74Zo0ePxtSpU3H69GlJnbKyMhw5ciRl31u2bMHcuXNTtkNAQEBAQEBAQECgBuSiw0SwW+lu27YNb775Jrp3744nnnjC7LCyCm63DQxNI2KxgKFpuN02s0PKKpjBj5TP871W2ZBfNsSQCsyOX69/mqbA0FSzHgWaTv3UaTYXWsCP1e22gbFmPu7WxJfafmlNOZ0PCAQipvfxjx3k61VZhL59++KZZ57Bxx9/jOXLlyMYDMLr9WLJkiW4+OKLOblIJIJFixbhxIkTqKurQ/fu3fHMM8+grq4O06dPR7du3fD555+jffv2WLVqFdq2bYtt27bhueeeQ05ODi688EK43W4TM1UHt9uG6voAyisqUVvfxO09Xeh1Zt0WjGbADH7kfJ7PtcqGXsyGGFKB2fHr9U/TFOr9YTzG05s/pRhetw3RaCyjsZgBfqzPzhpoStytiS+pfmnbNnEjltaU0/kAt9uGqrpGlFdUYrVJfUxAPunIGoTDYezbtw+XXXYZZs+ejQULFmDHjh247bbbMHv27ATZo0ePwmaz4bXXXsP+/fvR0NCAd955BwDwxRdfYOrUqdi1axfy8vKwc+dO1NTU4KmnnsKf/vQnvPbaa/D5fGakqBm+YIxbFACgtr4J5RWV8AX1nejPN5jBj5zP87lW2ZBfNsSQCsyOX6//CMC9gWT1HquoRMSEWMwAP9Ymk+JuTXxJ9ctZXzBBrjXldD6Azzfh3jyQTzpMRG1tLUpKSgDEHxbYu3dvlJaW4vPPP0fv3r0BACNHjsTChQvR0NCyzdvVV1+Ntm3b4k9/+hNOnjyJr7/+Gn6/HwDQvn179OrVCwDQrVs3nD17FkePHkWfPn1wwQUXAADGjh2LDz74QFOsclugpQvVdY3cosCitr4J0RiDwvzkJ7pnM/LTEK8Z/Ej7jGVdrYzkPBt6MRti0Ap+DcyOX6//2nq/qB4sFt09lmkuUpkL/FjNmudm944WSPVLOBJDQRbNhx8bsqGPCchFh6lg7+ng44svvkiSYxgG0WjLg14OHDiA1atXY/LkyRg3bhzq6+vBPm7F4XBwchaLBQzDcL9ZWK3ay27GczpomkaB15WwOBR4XaApS6vaaztde4ObwY+0TyqramU059nQi9kQgxYIa2B2/Lr90+K9DYbRHXcmuUh1LvBjNWuem907miDRLzYrlVXz4ceGbOjjHwOUntNBvl6VZejatSvOnDmDY8eOAQB2796NTp06oW3btpzM+++/j5EjR6K0tBR5eXk4cuRIwkWJEFdddRU+/vhj1NTUIBaLYffu3WnPwwh4HBTmTSmOn+AB7nuXHgdpW8AcfuR8ns+1yob8siGGVGB2/Hr9WwHMF+jNn1Kc0n/szOZCC/ixukyKuzXxJdUvbTyOBLnWlNP5AD7fhHvzQJ5IbhKqqqowefJkHDx4MGns6NGjeOyxx9DU1IQ2bdpgyZIlKCoqQllZGaZPn462bdvi4YcfBgDYbDZceOGF6Nq1K2699dYEm+wTyWfMmIG9e/di1apVcLlcuPTSS0FRFFasWKE6XrOeSO522+ALxhCNxUBTFDwOqtXd6JXOp6CawY+Uz2yqVTo4z4b8siEGtRCrgdnx6/VP0xQiAKIxBjRlgRXQfRN5qrFohRFzgR9rnssKXyiGaDSzNTS7d7RArF/atfNk3Xz4sSE314Vz/pCpfXy+Q+mTDnLRQaAKZl10nA9I50UHgTgI5+aD1CA7QOqQHSB1MB+kBukH+XoVAQEBAQEBAQEBAYGpIBcdBAQEBAQEBAQEBARpBdm9Kguxd+9evPDCC4hEImAYBiUlJbj77rs121m1ahUuu+wyDB06NA1REhAQEBAQEBAQEKgD+aQjy1BTU4PHH38c69evx44dO7Bp0ybs3r0bBw4c0Gxr5syZrf6Cw+m2gaFpRCwWMDQNp9smKucWyLmb5aSOK41lCmIxsD/ccatybGp0pHzJccAfd7ttYKzKfGmxmQnejfSn1pYYb2K6ano7nXEaoa9GVk8fpQs0TYGhqWb/FGg68TSodp4o1VPNnE1F3+FKlHe41PuT60mp2NTC7rQm6Nqdif/bTAdveqG0btrstOpYlXqktt6vai00Ijep+Sb1OlXfRtWQPS5XF7WcqfGhVi+VtVBow6Ew9/Rwquc9g1kgn3RkGerr6xEOhxEIBAAAHo8HK1asgMPhwJAhQzBixAi89957AIDHHnsMvXr1QmVlJVauXIlAIIBz585h3rx5GDZsGObOnYvi4mIUFxdj+vTp6NatGz7//HO0b98eq1atStiGNxvhdNtQUx/gnhzKbmvXwetEgLfLhNttQ7WIXKHXKXkcgORYpnawEIt79ayBmmNjFxc5HSlfanWUZOVyUoojnbwb6U+tLTHehL24+J6+yMtxKva2GTlr0ZeTFZNZqbKP0gWaplDvD3NPjGa3M/W6bYhGY6rnifDYpiXDNc/ZVPQdLhtqzyTLF7R1Itgk7++pmdeJ9qSadVOpRnanFd+dDSbp5rdxIBSIJOW9avZAnPNbdPOW6nwGpNfNcCSGuoaQqhqJ2dGyvurpAbm8xNZt/utnU+zfVGqidL72trHL1kVt3GLHO9NWTb2vhRepevJtThzWDV07e+GwW3DOxxhynlRz/s8mkE86sgw9evTA0KFDMWzYMIwfPx5PPvkkYrEYLr74YgCA2+3Gtm3b8MADD+DXv/41AOCPf/wjli1bhq1bt2LZsmVYtWpVkt0vvvgCU6dOxa5du5CXl4edO3dmNC89aArGuEkExJ8YWl5RiaZg4laVPgk5ueNyY5mCWAx6YlOjI+VLrY7amPTEkU7ejfSnhwP2tVC3c0Geqt7Wg1Rz1qKvRpYvEzB53kUA7oKD9f9YRSUiMvmoOaZnzqaiHwiJywdCyv7CYUZxfdRbo2CYEdUNhhnRPHNcjpR4S3U+y9kLRaG6Rqmur0bmJrVu818Lz62p+E6194V9Fw2rP6dr7eFzTSFNvZ/KXYjgZgAAIABJREFUWii29l/x0w4or6iEw2oz7DyZLe9n1IJ80pGFWLx4Me677z4cPnwYhw8fxoQJE/DUU08BACZMmAAAGDJkCObOnYsffvgBTz75JN566y3s3bsX//jHP+Dz+ZJstm/fHr169QIAdOvWDWfPntUUk9wWaOlCdV0jN4lY1NY3IRpjUJifq0IuJqkPMKpsG4V8EZticUdjMS4WtbFV1zUq6kj5UqujJCuXk1Ic6eI932B/evqR5U3In1o+9SDVnLXoy8kCyTVIZ95qUFvvF/UPi0WyX8RiTrWeQj+p6ivJ8+1L9WSLDf010jr/0523Uqysvpg94ZjW84mW9VWNvJa8xOab1OtUfWutidL5Wv4cqDZuieNRbb2vhRepemqbe9rPk2rO/9kEctGRZXj77bfh9/sxatQolJaWorS0FK+//jreeOMNAIDV2lKyWCwGmqYxadIk9O3bF3379kX//v25Bwfy4XC0PA3VYrFA6+NZzHhOB03TKPC6EiZTgdcFmrIk7LUtLUdJ6gMWVbaNgNTe4GJx0xTFxaI2NpqmFXWkfKnVUZKVy0kpjnTwznJupD89/cjyJuRPLZ96kGrOWvTlZAHo7qO0gRb3D4bRNE9SrafQT6r6cvL5+bkJ9qV6ssWG/hppnf/pzFsJSuumcEzr+UTL+qqHC7m8xOab1OtUfWutidL5Wv4cqDZuieO0tt7XwotUPbXNPe3nSTXn/0yCPKejlcHpdOLpp59GVVUVAIBhGHz++efo2bMnAODNN98EAOzfvx9FRUVgGAZff/01Zs6ciYEDB+LAgQOIRqOmxW8kXA4q/j1lrwsAuO8puhyJbeuRkJM7LjeWKYjFoCc2NTpSvtTqqI1JTxzp5N1If3o4YF8Ldatqz6nqbT1INWct+mpk+TJOk+edFcB8gf/5U4q5/76pnSfCY3rmbCr6Tru4vNOu7M9msyiuj3pr5Gi2LdR12CyieTY2BVPiLdX5LGfPTkN1jVJdX43MTWrd5r8WnltT8Z1q7wv7jrapP6dr7eE8l11T76eyFoqt/R9/WYN5U4oRjIQNO09my/sZtSBPJM9CbN26FevXr0c4HL8B6LrrrsMjjzyCESNG4PLLL8fJkyfhcrlQXl6OSy65BOXl5Thw4ACsViv69euHPXv24K233sKSJUu4G8knT56MgwcPAgDWrFkDAJgxY4bqmMx6IrnTbUNTMIZoLAaaouByUKI32rrdNvh4ch4Hxd2QJXZcTsdoyD0FVSwGFvHjDGjaAo9dPjb2ZjI5HSlfchzwdfJcVvhCMUSj8nwp8ZoJ3vmcG+lPrS0x3jx2qqU+lAUeB5VgS6q30xmnEfpSslI1UNtH6QJNU4gAXB2sAKLRlu8+q50nYse0cC7mR4u+w2VDINQi77RTojeRs3VQ25NK66YS7E4rgmGG03XYLAgFItx4qnkbPZ8B6XXTZqcRikJVrIp9Q1Oq1mQjcpOab1KvU/WttSZK5+tE7hLropYzMTmPxwmfL8D5UNv7qayFQl8eF42AzNzTw6ma83+moPRJB7noaEUYMmQINmzYgM6dO2fct1kXHecD5C46CNIDwrn5IDXIDpA6ZAdIHcwHqUH6Qb5eRUBAQEBAQEBAQEBgKsiN5K0I7NejCAgICAgICAgICFoTyCcdBAQEBAQEBAQEBARpBbnoUMDevXsxbtw43HTTTRg7dizWrVunSu+ee+5BTU0NTp06hfnz5xsSy5AhQ7hdrVLBmjVruJvJsx1Otw0MTSNisYChaTibb5hKB9wCX+40+koH9MavVc9MnljfVqc1IQa705oQV229X3VcdhFb6Yxdird08sraZqwUGJpGjKLA0BRoOvEUQNPx4+mKRcpuNs09PbHwddxuGxhrZrhT00/VdY2KcWSSf7fblujPKj8X9PCZqbXQLGiJU8ucZmW0yCrFoKbeeqAlVrW2jFibjbLVWnpRK8jXq2RQU1ODxx9/HFu2bIHX64XP50NZWRkuueQSDB06VFb3xRdfBAAcOXIEp06dykS45x2cbhtq6gPckzbZbeA6eJ2G7fLDwu22oVrEV6HXacoOEFqhN36tembyxPr+7GQdenW9ICGG1bMG6orL7rTiu7PBJL38No6EHXeMil0qvnTyytre9JcvMPa6Iqx+7SjnY/6UYnjdtvgONjSFen8YHb3OtMQil2O2zD09deDr6O1DrXFtWjLcsH7K5Jxm3zipjV0Pn5laC82Clji1zGnWrpr5qDYGNfVOhQMj1g4j12ajbLWWXtQD8kmHDOrr6xEOhxEIBAAAHo8HK1aswL///W88+eSTAIDDhw/jyiuvRCQSf4MycuRI1NXVcZ9KLFu2DJ988gkWL16MDRs2oKSkBCUlJRg+fDh69eqF7777Dv/5z38wdepU3HLLLbj99tvx2WefAQDmzp2LX/7ylxg5cmTC/RyNjY144IEHMHHiRAwePBjz588HwzA4cuQIfv7zn+O+++7D8OHD8cADDyAUCgEA1q1bhxtvvBETJ07EsWPHMkmjbjQFY9ykA+JP2CyvqERTMKagqR0+CV++NPhKB/TGr1XPTJ5Y38U/K0yKQW9cwTAjqhcMG7tTm1J86eSVtT306ou5Cw7Wx2MVlWAvrSIAHmv2mY5Y5Oxmy9zTEwtfJ1PcGdlPmeTfF4xpij3VemjJJ5v6UA5a4tQyp1kZLbJKMaipdyocGGE7k3NJC2+toRf1gHzSIYMePXpg6NChGDZsGHr27Im+ffti7NixGDp0KObMmQMA+OCDD+B0OvHZZ5/B6/UiNzcXF1xwAWfj0Ucfxdq1a/Hb3/4WADB58mQwDIMZM2bg1ltvRX5+Pm677TYsXLgQvXr1wr/+9S/cf//92LdvHwCgbdu2eP755wEAy5YtAxB/annPnj2xevVqhEIhjB49Gp9++ikA4OjRo9izZw8KCgowYcIEHD58GPn5+di8eTO2bt0Ki8WCiRMnonfv3pq4kNsCLV2ormtMeMImEJ980RiDwvzcVuUr3+B4hdAbv1a9TNZEyjfDMEkxRGOxjOSfauxSftIZB2s7120T9QGLBfn5uait9zf71MelGPh9L52jcf5ShZ468HXSlYswLiU/WvLI9DrL2lcTux4+M7UW6oER5wEtcWqZ06xdLbJKMaiptx5oiVUIYQ2MXJuNsmXmeTbdIBcdCli8eDHuu+8+HD58GIcPH8aECRPw1FNPobGxEWfPnsVHH32ESZMmobKyEi6XC4MGDVK0uWrVKthsNtx9993w+Xz45JNPMG/ePG7c7/ejvr4eAEQvDsaMGYNjx46hoqICJ0+exJkzZ+D3+wEA3bp1Q8eOHQEARUVFOHv2LL766isMGjQIHo8HADBixAjEYtqumM14TgdN0yjwuhImX4HXBZqyGL7Xdjp9ZWJvcL3xa9XLZE2kfFsslqQYaIrKSP6pxi7lJ51xsLYb/GFRH2CYuA+aavapj0shhH0vnaMx/oyAnjrwddKVizAuJT9a8sj0OsvaVxO7Hj4ztRZqhVHnAU1xapjTrF0tskoxqKl3Khxo7Q+xGhi5Nhtly8zzbKogz+lIAW+//TZ2796NDh06oLS0FCtXrsSjjz6KN954A9dddx32798Pi8WCIUOG4MMPP8ShQ4cwePBgWZt79+7FW2+9hcceewwAEIvFYLfbsX37du7nz3/+M9q2bQsAcDqdSTY2btyIJ554Au3atcOdd96JoqIisM94dDgcnJzFYgHDMNxvFlZr67jWdDkozJtSHH9jBHDfa3Q5jG9bj4QvTxp8pQN649eqZyZPrO/KT6uTYtAbl8NmEdVz2CxpiV0qvnTyyto+8OF/8MDEPgk+5k8p5v7zZAUwv9lnOmKRs5stc09PLHydTHFnZD9lkn+Pg9IUe6r10JJPNvWhHLTEqWVOszJaZJViUFPvVDgwwnYm55IW3lpDL+oBeSK5DD744AP85je/wcsvv4zOnTuDYRgsWbIEeXl5uOqqq7B06VIMHz4cDz30EG644QbQNM19LYp9evjp06fx9NNP49VXX8Xnn3+O++67Dxs2bMBFF13E+Rk3bhzuuusulJSU4N1338XChQvx17/+FfPmzUNxcTHGjRuXYHPZsmUYPXo0xo4di3/+858oKyvDc889B4qisHbtWmzcuBFA/J6Q4uJi9OzZEzNnzsTmzZtht9txxx13YNCgQZgxY4ZqLsx6IrnTbUNTMIZoLAaaouByUIbfRM7C7bbBx/PlcVCG3LSVqaeg6o1fq166eFID1rfNZkE4zCAaY0BTFjhsFlgpS0tcNAWPXV1cdqcVwTDD5eOwWQy9iVwYuxRv6eSVtQ0LAzDsPyPib0qi0ZZPPWmaQgSAx0E3xxLnV08sYn0vlaOZPSWEnlj4OnkuK3yhWPzmfANzEYtLXT8p1zCT/LM3F3Ox0ZakuZoqn5laC7XAyPOAlji1zGnWbktvKcsqxaCm3qlwoCZWFlI1MHJtNspWNq2JWqD0SUfr+Je3SejXrx+mT5+OX/7ylwiH48W+7rrrcP/994NhGHz33XcoLi6GxWJBz5494fV6k2wUFRWhoaEBc+bMwffff49IJIKZM2ciGo0CABYsWIAnn3wSixYtwrp162Cz2bBy5UpYLNL/ab3rrruwaNEivPDCC8jJyUGfPn1QVVWFn/zkJ6LyPXv2xF133YXx48cjLy8PnTp1MoCdzCDgD8OC5kaNRhHwR9Pmyy/w5U+jr3RAb/xa9czkifUdiYIXAxCKAiG0HMv3ulWf4EOBSEI+oTSlo8RbOnllbbNgXws9RKMxWAD4/bEEfo2KRSrHbJp7emLh66QrFzG7avqpsPmNllwcmeSffePE+YsA/oj0XEi1HulcC82Clji1zGnWbmJvycsqxaCm3nqgJVa1toxYm42y1Vp6USvIJx0EqmDWJx3nAzL1SQdBCwjn5oPUIDtA6pAdIHUwH6QG6Qe5p4OAgICAgICAgICAwFSQiw4CAgICAgICAgICgrSC3NORxaiqqsKIESNQVFSUcHzChAnYu3cvpk+fjr59+2LIkCFwOp2w2eI3bDU0NOCyyy7DihUr4Ha7k8YBoFevXigvL89oPgQEBAQEBAQEBD9OkIuOLEdBQQG2b9+edHzv3r0Jf7/wwgvo3LkzACAUCmHSpEnYtm0bJk2alDSe7eDvtOOx00k7OACQPKa0owvfPl+Wv0OK1OtM7Oqid9cLNbu9iMl47Gp3wFGvoyZPACnFIuXX5bbBH4yhuq4RNE3D7aBgQXK/aNktRKpf+Dmwu2Wp1ZfafYi1qUVWbLcuNVylukOQw2VDINTiw2mnEGyS51ULb3p6RzNvKcxpfixa6sGPWSwXfg2U7Kvhgp0LbJ7sHGHzdzsoNKW4s5NUXaT6iY0hqedVrLtCX0pcqJV12wVrhYre1DLPfL4AGJpGNBZDrssKvyA+fv5a54FYvwntKnEh7DG1a4JSPaR6V2ye8n/L8aJlPefbqq5rBG2lJXfP0jJPxWqnZk7ydWJAy+6cKua0cB1TK5tNu16Ri47zEA0NDWhoaOCe9dGa4HbbUF0fwKa/fIFZE69AdX0A5RWVqK1vQoHXhdWzBkoeK/Q6k8bmTSlGodeZsBgLZfk2+a9XivgS2jM6bylfcuMAROMXyglllPji+2R12rd1pMQJe4JibTzzYNyux02juj6kK3/Wr8ttw2kV/SIWr5x9sX7h51Bb34T1C4ep1q+tb8KmJcOT5J+dNRA1KmQ3LRme5F+qH5TmgVLPSNXU4bKh9kyyTkFbZ8KFh9CPMDYxHqR8C3tH2MdqONaTq1IfK3EuFbPYPGD1bxnUFROHdpO1L7ZuSXEhtg7wj3f0OmUvPJTWH7EcpThm5yk/L6n1WMmXEhdqZSkLA4/dlSD7ikJvqlmTxM43D952BXwBu2T+WueBHEd5uTZVXGg5jwjXTS12pdYzYe9K8aJUE2G/ql0PhT2uxItYjHKy7O8ogNrm812IseD7M0HJdV3uPC1cS7W8BzIb5J6OLEdtbS1KSkoSfo4fP54kd++992Ls2LG45pprcM899+DOO+/EyJEjE8b5NjZv3pzJNFTDF4yhvKISQ6++mHvNPpWztr5J9pjYGHtcaJ8vK/U6oMKe0XlL+ZIbl4pfKCeU0eKTfR0OMSlxIow3GIq/pkHrzp+FX2W/iMWrxJuQC6E8ohbV+lL+mlTKivmX6gepnNX2jBQCIXGdQEiaV7HYtPiW6nUtHOvJVQz8WLTUQ0onKOBzWHEXRftauBBbB/jH/Qr5K+WnpZ/8Inmp1dfKhVrZHJcjSbZJIQ+955sO7XJk81fqSzX9xo6z65ISF1prqBSLXA2k/hbT0VoTMd71nAOUeBGLUc36xL6noEEnnUuV9IX8qpXVs76lE+STjiyH1NerhGC/PrVv3z6sWLECI0aMSHjWR6pfr5LbAs1IVNc1ora+CbluG6KxWMubumbIHRMbix9nUJifm2CfL6vmtZQ9tchXkGfjkvIlNw4wKmJOzkspP75PLRwr5cnq6I1Fyq+YjNp4pe0nxxeNxRJykPcjnp+WPhb7W+ifnxe/H9RwpaemauohtK2Nt2TfSr2jhWMtuUrl36Krvh78WMVyYUFT0rJiuShxwY9VT/5K649cLkIf/DVYLC45faEvJS5SkTVyTVLymco8kONILRdK/SgVj1QsWngV610pXrSu50pzU+ocoMSLWIxysmI6YrzI6Qv5VSurZ31LJ8hFx3mG4cOH491338X8+fPx4osvGmY3U8/poGkaBV4XGvxhFHjdKPC6BCdjSvKY2Fj8uIXbm5u1z5dV81rKnhqo2RucjUvKl9w4YFERc3JeSvnxfWrhWClPVkdvLFJ+xWTUxittPzk+mqIScpD3I56flj4W+1von58Xvx/UcKWnpmrqkZ+fmwJvyb6VekcLx6nOaX4sWurBj1Usl5Y3EYDNKi4rlosSF/xY9eSvtP7I5SL0wV+DxeKS0xf6UuIiFVkj1yQln6nMAzmO1HKh1I9S8UjFooVXsd6V4kXreq40N6XOAUq8iMUoJyumI8aLnL6QX7Wyeta3VKD0nA560aJFizISCYFmnDt3Dlu3bsVdd92VNLZ161YUFxejc+fOePnll3HLLbcgLy8PANC7d288/vjj6N69O7p06ZI0rgdNTSFk4jGSHpcVV/TogJ2H/o2Blxfiih4dcPR4LXyBCAq8LpQM6CJ5rF2OLWls3pRitMuxIRyOJdjny/Jt8l+PGdAFVyrYU5WTxwG/P6QqbylfcuN2q0U0fqGcUEaJL75PVifHY8VVPTrq5sTjsibEO/raOMdWG9D3Z5105c/6dbus6KOiX8TilbMv1i/8HHyBCEoGd0Vxr0JV+r5ABJNu6Jbkb+yALuijQnbSDd2S/Ev1g9I8UOoZqZo6nVbRudHGY0M0EuP6HrGoLG9iPEj5FvaOsI/VcKwnV6U+VuJcKmaxecDqO2wW9Ol2gax9sXVLiguxdYB/3JtjQ0Qmf6X1R+0aFA7HuHnKz0tqPVbypcSFWtlwJAJvjj1B9rYbuiWtJ1rXJLHzzf8UtcPg//2JZP5a54EcRw4nheJehYpcaDmPCNdNLXal1jNh70rxolQTYb+qXQ+FPa7Ei1iMcrLsb9pq4c53DjudcC4Vruty52nhWqrlPVC6YbFY4HbbpcfJE8mzF1Jb5l599dU4fvx4wpa5GzZsSPj61HPPPYedO3dix44duPHGG5O2zHW5XNi0aZPqWDL5RHLx3asY0JRFw+5VLfLKu1cxyHPRadu9Su1TUM3dvUqcLz06avIEkMS9lliUdq9ibaRn96p4zPwcaNqiYfeqlvy09LGULN9/Nu1exfa99O5V8rzp6R1tvKVr9yr5eojvipO4BsnvXtVin5+L9E5eifMp/btXieeifvcqeX2hLyUu1Mom7l6lrje1zDN+PXJdtMzuVcrrqhQH6nevSuZC2GNKNVSKRcquFK98jqT6QmpOq929SowrMR0181R59yrx9Ymv07J7lVhvyp8bWWg9j6YbSp90kIsOAlXI5EXH+Qa1Fx0ExoFwbj5IDbIDpA7ZAVIH80FqkH4oXXSQ3asICAgICAgICAgICNIKctFBQEBAQEBAQEBAQJBWkIuODKKqqgrdu3fHu+++m3B8yJAhqKqqMikqAgICAgICAgICgvSCXHRkGDabDQsWLEBjY6PZoWQt3G4bGJpGxGIBQ9PcjWqpyhLoQzo5Ntq2wxW3V13XCIam4XClpx+U4iZ9SaAXbO+cDz1kVg58v263DYzVPB7ZWNg1SY1/NbzJybjdtsRxq3F+9SDdfaBlzojJGBmfke9flMZdgnGXoAeycf0gz+nIMAoKCnDNNdfg8ccfx9KlSxPGnn/+eezYsQM0TePaa6/FnDlzUF1djbvvvhterxdWqxX/+te/sH//fuTk5OC2227DkCFDcO+992LXrl34f//v/+Ghhx7C/PnzUVNTg9raWvTv3x/Lly/HI488gquvvhoTJkwAAJSVleHhhx/G5ZdfbgYNknC7baiuD3BP1WS3fCv0OkV3BVErS6AP6eTYaNsOlw21Z5LtFbR1JuyqlCqU4iZ9SaAXbO8Uep2tvofMmgd8v6tnDTSVRz0cqNGRk2GRDr+Z4kCPfTVzJhCIJMkY2SNGvn9RGne5bTgtMt7R64QF2uufKZBPOkzA3Llzcfjw4YSvWf3tb3/DwYMHsXnzZmzduhX/+c9/uC1tv/rqKzz55JPYuHEj+vXrhw8//BA+nw/ffvstPvzwQwDAoUOHcP311+Ptt99Gz5498dprr2Hfvn348MMP8emnn6K0tJR7svk333yDH374IesuOID49m/sRAHiT9Msr6iMb6GbgiyBPqSTY6NtB0Li9gIhY/tBKW7SlwR6wfbO+dBDZuXA92s2j3r8q9GRk2F/0uE3Uxzosa/Gz7mmUJKMkfEZ+f5FadwvMe7XWf9MgXzSYQJycnKwdOlSLFiwADt27AAAfPDBBxg9ejRcLhcAoLS0FNu2bcOgQYPQvn177hkcgwYNwvvvvw+KojB27Fjs3r0b4XAYH330EZYsWQKHw4Fjx46hoqICJ0+exJkzZ+D3+9G3b18sWLAAVVVV2L59O0pKSjTFLLcFmpGormtMeJomEJ8w0RiDwvxc3bJmIz/L4lGLdHJstO1M9YOSn9bUl+lGa+17s8D2TjQWM7SHzKiDWfOA79doHlOJRa1/NTpyMgDD/W20Xz1Idx9omTNisRjZI0a+f0llHGCy9hxELjpMwoABA7ivWQFALJZ8BRqJRAAATmfLR6YDBw7ESy+9BJqm0b9/f5w8eRJvvPEGfvrTn8LhcGDjxo3Yt28fJkyYgGuuuQZffvklGIaBxWLBzTffjDfffBN79uzB+vXrNcWbqed00DSNAq8rYcIUeF2gKUvS/tpaZM1Ea94bPJ0cG207U/2g5Ke19GW60Zr73iywvUNTlGE9ZFYdzJoHfL9G8phqLGr9q9GRkwEs3N9G+9WDdPeBljlDW5NjMbJHjHz/kso4YDGt78lzOrIY7Nesamtr0a9fP7z55psIBAKIRCLYvHkz+vXrl6TTrl07OJ1OvPXWW7jqqqvQr18//O53v8PgwYMBAO+++y4mTpyIm266CcFgEF988QV3QTNu3Dhs2rQJhYWF6NChQ0ZzVQuPg4p/D98b/8SH/S4i/wmcemQJ9CGdHBtt22kXt+e0G9sPSnGTviTQC7Z3zoceMisHvl+zedTjX42OnAz7kw6/meJAj301fvJc9iQZI+Mz8v2L0rhbYtyts/6ZAnkieQZRVVWFyZMn4+DBg9yxw4cPY9q0aThw4AB27NiBN998E5FIBAMGDMC8efNw+vTpJJ3/+7//wzvvvIPXX38dx48fx0033YS//e1v6NChA95//30sWrQIdrsdOTk5cDqdGDVqFG699VYAwKRJk3DnnXdi1KhRmmLP5BPJ3W4bfMEYorEYaCo+geRuflMraxZa+39808mx0bYdLhsCoRiiMQY0ZYHTThl6EzkLpbhbQ1+mG629780C2zseB9XcQ/Fe1ttDZtbBrHnA95vnssIXiiEaNWcutsSivo5qeJOTYXcq4vzSFnjsxvjVg3T3gdo5k5+fC58vkBQLAMPiM/L9i9K4y22DnzfudlBo4vWAGXNP6ZMOctHxIwHDMKitrUVZWRl27doFu92uST+TFx3nG8ibr8yDcG4+SA2yA6QO2QFSB/NBapB+kK9XEQAA9u3bh5KSEsyePVvzBQcBAQEBAQEBAQFBKiA3kv9IMGLECIwYMcLsMAgICAgICAgICH6EIJ90EBAQEBAQEBAQEBCkFfSiRYsWmR3E+YRIJILf//73WLhwIV555RVs2LABPp8PV111FSwWi9nh6UZTUwiZuvvH7bYhFLPA47LCZqMRilkQBWCx0vA4W455XFZYbTTCza9DjAUep7VFnqbjx3l/220UYlEmwU8UQI7bJuuLby8c1vaAHY/HAb8/JJsr377NRifkGGIscDmtsCtwwdA0okx8nLLSsFlbcpXilbUfZRLz48tGLRSigKSsWE5y9sU4DcUscLqsiPCOu1yJOee4bZwt/muxuM/5gqL1F8tPrl+EOSr1plisSnkLay/Fm6ysxJievKRsCmvN6rhdVoRFfPFrwI9VaU4LORCb0/wayvEtxicrK1Uvl9uGSPM4q29z0IhCWp+fN587OVmptUWsN6XWp1AMzfoUrJQFDMNw+jZHfD2QmwtyPSSMRY5LIS9aeBfLi+01sbVEuC573DaEeXYdTisiTEsuTqcV0Yh47zqcVjjs4muMXO+q7U0+rxQTk+VNal2Ty1VL7yedzxTmnlxd1KyFWnkTrj9qz1FOlxUOlecbiokpxsqOuXlcS+kocSzs+VTXQpu95RwvnDtivlJ976IHFosFbrf0V/jJ16sMxuLFi1FXV4fXXnsNeXl5aGxsxP3334/c3Fz7f8V+AAAgAElEQVTccccdZoeX9XC7baiuDyAvN777RnV9gHuy5qYlw7ljHb1ORAB8Vx9AodeJat5vVv6WQV0x8MqLuL/ZbeMuyLXDZqU42dWzBib5KvC6sHrWwKRj86YUo9DrNGxHDzGfMQA1zRxU1wcQDkfwk4Icyfg8bhrnAjE0+sNY8fKHSbmGQ1HOV6HXyeUq5IufH1uD7xtDONMQRFFhriou2F1TpOwLOf3TkuGorg/gXGMAeTlOSdlnHhyYUC+5uPn9IienRd7vD4tyyMpuWHyjbHzCY0JfT0y/Fs6CHNQ217O6PiQbF2tPDcdq88qX4EWs1qwOZWFwzm9RFavDboHb4cBpmVyEvaPUo3J8s7YKRGSl9CcO64aunb0JsXx2sg69ul4gqV9b34T1C4dxOZ7zMyivqMRTM69TXSO53nyWtyaw8n1/1gG33dgjQX/+lGJ0bNbjx6ynh/ixeNvYRef0wrv7oro+ksSLmKyYr4V39wVglfTNQtib/Ln34G1XwBewc3a/rW1Ap4LcJHsFbZ3cLnZs735b24CruudL9hH/fMP3q2aeyPWYmtdifSLMVU6HAXBaMI/kznHCuonJql0Ltc5ptjfFYlXi+FxjAN0vaqtqnpXff61irOzYPSU/wwVeDzrI5CeWF1/2iRkDZPPSyptwHeLrC3NQs4abBfL1KgNx+vRp7NixAytWrEBeXh6A+NPHFy5ciAsuuAB1dXW47777MG7cOJSWluK9994DAKxZswbTpk3DqFGj8Morr6CsrAzl5eUYP348xo4di3feeQfTpk3D9ddfj4qKCgBATU0Npk2bhgkTJuD666/HqlWrAABbtmzBrFmz8POf/xw33HAD2A+y5syZg9dff52LtaysDP/4xz8yR45K+IIxlFdUAlEL95p9wI0vGOOO+YMxBJtf+wS/WflhxV0S/q6tb0J5RSVCUSTI8u3yZcWOsX6MzFXos4nHQXlFJdq3ccvGR4NGJMJwFxzCXPm++LnK5cf6r/3Bj1WbjqrmQsm+8Fig+e/OBXmyssFQYr3k4ub3i5ycFnkpDlnZcIiRjU/JV/s2bo4LGrRiXFo4VpuXcD7J1ZqVyXE5VMfqsMa3d5TLRZiXmlpL+WSPB0RkpfSv+GmHpFiKf1Yoqw+Am6sOq407Hg4zqmsk15tNvDWBlR969cVJ+o/x9Pgx6+kh/vFoGKKyLrtNlBc5joX6cr75toIi9mvrm9ChXU6C3R5d2ovaC4SSe7dHl/ayfSTMRcs8kesxNa/F+kSYq5yOXxCD0jlOKlc9a6HWOS02rrY3OxfkqV8LmeT3FFK92fVCL8orKtEkk59c3LX1TYhGIZuXVt6E65Dc/FKzhpsF8kmHgTh27BiKiorQpk2bhONFRUUoKirCrFmzUFpaiqFDh6K2thaTJk3Ctm3bAAChUAi7d+8GAOzZswcMw+CNN97A2rVrsWzZMuzYsQM//PADbr75ZkyZMgW7du3CmDFjcMstt6ChoQGDBg1CWVkZAODo0aPYtWsXaJrGiBEjcPvtt6O0tBRr1qzBhAkT8M033+CHH37A5Zdfrjo3uS3QjER1XWN8wjY/0JA7qQMJx4Sv+b9Z0FSiPifPMADDcGNivtjjovoxBoX5uZryyheRZ3MV+hTLSy6+aCwGyiKda2F+riiv0vm12HXarQqyiVxU1zXK2hcek6qdUFbqtVjcUr7E8lMnL82hUqxKefP/1pKHWt605qW21kIdtbEKeZMaV45FmW85WaXe4uszgrVCLm8lX8o1Ebcj5C3XbZPV58csx5HadUCJd7WySnm16DIAGNlYxOxq7V0xW3x++P7laiTFm9L6pWXdULIrFbeeuSdXF6W1UM6umrmj9RwlJ6um35TmrpSOEsdKeWnlTbgOKflSmgdmgVx0GAz+fRt79+7Fc889h1gsBrvdjqqqKpw8eRKrV68GEL//49SpUwCA3r17J9gZODD+8VmnTp1w+eWXw+Vy4cILL8S5c+cAANOmTcMHH3yA9evX48SJEwiHw2hqijdZnz59kJMTv0i46KKLcPbsWfTt2xcLFixAVVUVtm/fjpKSEk15Zeo5HTRNo8DrAk3FP4Qr8Lq4ycM/JnzN/90yERP1OXmLBbBYuDExX6w/UX3Kommvb6m9wdlchT7F8pKLj6YoRKJRyVy/+65BlFfp/FrsBkIRBdlELmialrUvPCZVO6Gs1GuxuIW25fJTJy/NoZiulrylelspLrW8ac1Lba2FOmpjFfImNa4cizLfcrJKvcXXtwjWCrm8lXxJ1UgubzHeGvxhWX1+zHp6SGr90cKbGt7F+oHtNcAiG4uYXa29K2ZL7/lGqYZaXov1iZJdud7XOvfk6qK0FsrZVTN3tJ6j5GTV9JvS3JXSUeJYKS+tvAnXISVfSvMgXVB6Tge5kdxAuFwurF27FnfeeSfsdjsuvfRS3H777Rg4cCBeffVVBINBbNmyBVOnTsXtt9+OUaNG4aKLLsKHH34Iq9WKvn37AgC2bt2K/v37o3Pnzvj8889RXV2NYcOGAQDWrl2LGTNmYMWKFTh06BCuuuoqjBo1Cnv27EFpaSm++eYb1NTUcPJbt25FcXExOnfujIaGBvz73//Gm2++iUceeYS7MFGDTN1I7nFZcUWPDnA4KXjsNK7o0QFHj9fCF4hg0g3dYLdacEWPDvDm2EBZLbiyRwe0y7HhCt5vVt5hs+DOkb24vwu88e815jppOO0UJ1syoAtnly9bMqBL0rF5U4rRLsem6YYsqRvJ2VyFPq1WC/o0c1DcqxCN/iDy2zgk47Pa4hO9+GcdRXONRRnOV7scG5erkC9+fmwNHDYrrvhpPjq0dariwuOyytoXcjrxhm64skcHfFfvw7DiiyVlR1/bBVfy6iUXN79f5OS0yIfDMVEOWdnxwy7FVT06SsYnPCb0NeDyQrRr48CVzfXs+7NOsnGx9tRwrDavvBxbwnySqzWrE45EMOCKzqpihSWGPJcNfWRyEfaOUo/K8c3aatOcF19WSv+CNg7cNPDShFg+/rIW4wZ3k9T3BSIoGdwVxb0KAUsM/f/nQhw9XouR11yMq3p2VFUjud4cO6ALbM1rAisfCkfwq9LLE/Tn8/T5MevpIX4sbjcNt41Kkr328kJc0/vCJF7E5r+Yr2svL0Rbt7Rvu9XC2eL3Jn/u/U9ROwz+359wdr/65gxGXds1yV4bj427mZzt3a++OYOLO+RI9hH/fMP3q2aeyPWYmtdifSLMVU6H7Rd+LHLnOGHdxGTVroVa5zTbm2KxKnH8Xb0Phe1cqtbCYcUXweOgZWNlx7p2ysXw/pegbY4NDon8xPLiczG830/wv706SuallTfhOsTXF+agZg1PF5RuJCdPJDcYCxcuxPfff4/y8nLk5eUhEolg06ZNqKioQM+ePdGzZ0/cd999+Ne//oU77rgDBw4cwEsvvQQAmDFjBoD4/RbTp09H3759sWXLFlRWVmLFihUAgO7du+P48eMYO3YsFi9ejCuvvBJvv/02fvGLX2D//v346KOPEuT5tqqrqzFp0iRceumlePHFFzXllcknkrvd8e/6ehzxq3lfMIZojAFNW+CxtxzzOCgwAPzNr32hGDx2qkWessSPB2OIxmKgKQp2Ggg33+jA+onGYshzWWV9sfoeB6X5Riy5p6DyY2Dts/Dx8nLZKVAKXIRiQDgcH7fSFtiollyleGXtR6MtfLE3CrLjgQiDSJRBjoSsWE5y9sU49QVjcDooBHi1czn4OcdrFLeV+JpflxY+xesvlp8aebW9KRYrv65ieQtrL8WbrKwgBzW+pPKSsimsNavjdlDwi3KYHI+aOS3kQGxOJ9Zamm8xPvNcdJJd9lg0Gn9DFWgeZ/VtNgrhiLQ+P29+/nKyYjWS6s08Fy3Rb1HOphVANBrj9G02C8JhRra35XpIGIscl/w5KaynEu9iefE3LBDrB75OrouGn2fXYacQDLXk4rRT3E3kwt512ClYLRDtAzGOtPamWC8I1y+ldY3fJ7kua0KucjEr8aY09+TqIlwzjJjTwvVHrIfEOHY6KNAysnz+lM7z/HrluGg0KfCmxLGw51NdC21WijvHC+eOmC+lNTwdUPqkg1x0GIxYLIaXXnoJO3fuRDQahc/nQ9++fXHvvffC7XZj4cKF+PbbbwEADz/8MAYNGoQ1a9YA0HbRsWvXLjz77LNwOp3o2LEj6uvr8dBDD+H06dOSFx0AMGnSJNx5550YNWqUprwyedFxvkHuooMgPSCcmw9Sg+wAqUN2gNTBfJAapB/kooMAAOI3IdXWoqysDLt27YLdLv3xlxjIRYd+kIUu8yCcmw9Sg+wAqUN2gNTBfJAapB9KFx1ky9wfCfbt24eSkhLMnj1b8wUHAQEBAQEBAQEBQSogu1f9SDBixAiMGDHC7DAICAgICAgICAh+hCCfdIigqqoK3bt3x7vvvptwfMiQIaiqqpLUY5+TAcTvvUgFqeqzmDt3LrZs2WKILQICAgICAgICAgI9IBcdErDZbFiwYAEaGxtV61RWVqYxoh8PaJoCQ1OIWCxgaAo0nZk2dbttYGia+x33T3M7qJgNpbjYccouyMGqPQc9XKSDN7fblnIuanyo4VVLXmI6Una0cJ2NvWl0TFr4cLiSZeR0aJpSXW++nNttA2NVrif/b4crtTln9tzTC7NjEdbNqPXDZqcT8rIJ11kDe9+lsFYo+dOy/uiF3WkVt50Cx2Jzzsh1MRCIGLKWC8HvDcpuBay8HOTqoMAVyzGrb3dKfzmJtctYKTA0jRhFZfT9k1qQr1dJoKCgANdccw0ef/xxLF26NGHshRdewJ49exCNRjFgwADMmTMHy5cvBwDceuut+POf/wwgvn3uxx9/DABYs2YNLr74Yhw7dgzl5eUIBALwer1YvHgxLrroIpSVlaFNmzY4ceIEnn32Wc5XTU0N5s+fj4aGBtTW1uKWW27BzJkzsWXLFhw6dAhnz57FqVOncO2112LRokVgGAYrVqzA22+/jYKCAkSjURQXF6OxsRGzZ89GXV0dAOD+++/H0KFDM0GlJtA0hXp/GI9VVKK2vonbf97rtiEaTd/+0m63DdX1ARR6naiuD6Cc53/elGIUep0Z2W5OKT6puNjxv/39FCYO7ZZSDqwtbxu7ajtK8enNGUBa66GWVy3+xXRWzxooaae6PoCOKvouHRynCrmYUrGnZh46XDbUnmmR2bD4RlkdmqbgcNCq6s33v1KkdsJ6zrnjSnQqyE2yW9DWmbRdq5q8taxD2dQXZsfC97961kBEAdQaEI/NTqOuIaR6TuvJlY2dsjA457dIrhVK/rSuP3pitTut+O5skJvnRtgW1k7tPFDbc263DVV1jSmv5UIdfm94c52YPLonVm06irl3/S98gQinu2nJcE1csRwLZfPbOBAKRETj3PSXLzD2uiKsfu1oRt8/aUF2XQJlGebOnYvDhw8nfM3q0KFD+OSTT/DGG29g27ZtqKmpwY4dO/Doo48CAHfBAQDXXHMNduzYgWuvvRabNm1CKBTCo48+iqeffhpbt27F1KlTsWDBAk6+e/fu2LdvH3r27Mkd27VrF8aMGYPXX38dO3fuxMsvv4wffvgBAHD06FGsXr0aO3bswFtvvYXjx49j3759+Oyzz7Br1y6sWrUK//3vfwEA+/fvx4UXXogtW7Zg+fLl+Oijj9LKnV5EAO6CAwBq65vwWEUlIvJqKcMXjKG8opL7zffPHjcTSnGx48OKu6ScA6sfDUO1nXTw5gvG0l4Ptbxq8S+mI2envKISfhV+srE3jY5JyzwMhBJlwiFGVieiIl4x/wEV9ezRpb2o3UBI25zTsw5lU1+YHQvfvy8YE62dnnhC0eS1MF29n+NyyK4VSv60rj96EAwznL5RtoW1U5tzKrzoWcuFOvzeKB3SDas2xd/wt/E4E3S1csVyLJQNhpN3EWXtDr36Yu6Cg9XJxPsnLSCfdMggJycHS5cuxYIFC7Bjxw4AwPvvv49jx45h3LhxAIBAIIBOnTqJ6rNPBb/00kvx0Ucf4euvv8apU6fwq1/9ipPhf32rd+/eSTamTZuGDz74AOvXr8eJEycQDofR1BRvqD59+nBPFb/oootw9uxZVFZW4sYbb4TNZkO7du0wcOBATvaZZ55BTU0Nrr/+etx///2auJDbAs1I1Nb7uQnTcqwJsFiQn5+bNr/VdY2orW9CNBYT9R+NMShMwX+qsbPxScXFjtMUUs5BDxdK8elBdV0jZ0ePXTWcq+VVi38xHWkuY6q5TgfHqUIuJkB732vpPaFvJZ3aej+iUXkZMf9idoXHjJ5zRs+9dK6dWmPJlP9oLMb5TzWe6jqfhjktbVuuDsq9r86ftvVHX134sbK2UrUtrJ3R66JRa3my/5beyHXbJNcNrVxpiZeV5fvn66T7/ZMWkIsOBQwYMID7mhUARKNR3HXXXZg6dSoA4Ny5c6BpWlTXao3Ta7FYwDAMYrEYOnfujO3bt3O22K87AYDTmfyVhBUrVuDUqVMYM2YMhg0bhvfeew/so1UcDgcnx/pgfwtj6NKlC/bs2YNDhw7hrbfewh/+8Afs3r0bFKXuw66MPaeDplDgdSVMnAKvC2CYtO6vTdM0Crwu0JS4f5qy6PZvxN7gbHxScbHj0Rhgs6aWgx4ulOLTmzNrR6tdtZyr5VWLfzEdaS4p1Vyng+NUIRcTAM1xaek9oW9FHZpSlBHzL6YjPJbquiH0a+Tcy+SzCczuUb5/uvncZkQ82ua0uG2lOij3vjp/RsSqBH6srC0jOU7HumjUWi7nv8Efllw3tHKlJV5Wlu+fr5Pu9098kOd0GAD2a1a1tbXo168ftm/fDp/Ph0gkgvvvvx/79u0DEC98JCL9QVbXrl1x9uxZ7qtNmzdvxsMPPyzr+91338W0adMwcuRIfPXVV6ipqUEsJv1xYP/+/bFnzx6EQiGcPXsWhw4dAgD88Y9/xJo1azBy5Ej89re/xQ8//KDpJvlMwQpg/pTi+EQBuO8kpvvq2OOgMG9KMfeb7589biaU4mLH/1r5dco5sPq0DartpIM3j4NKez3U8qrFv5iOnJ15U4rhVuEnG3vT6Ji0zEOnPVHGZrfI6lhVxCvm36minl98/b2oXadd25zTsw5lU1+YHQvfv8dBidZOTzx2OnktTFfvNzYFZdcKJX9a1x89cNgsnL5RtoW1U5tzKrzoWcuFOvze2HzwBGbe1gcFXhfO+gIJulq5YjkWyjpsFsk4D3z4HzwwsU/G3z9pAXkiuQiqqqowefJkHDx4kDt2+PBhTJs2DQcOHMCOHTvw5ptvIhqN4rrrrsP8+fNhsVgwY8YMnDx5Elu2bEHv3r1x/PhxAMCWLVtQWVmJFStW4OjRo1i+fDmCwSBycnLw+OOP4yc/+QnKysowffp09O3bF0D8/o7jx49j165dePbZZ+F0OtGxY0fU19fjoYcewunTpzmbABL0V65ciT179uCCCy6A2+3GqFGjcOONN2L27Nmorq4GTdO44447cOutt6rmJJNPJKdpChEA0RgDmrLACmTkJii32wZfMAaPg4IvGOP8exxUSjdBGvWfRja+aCwGmqKS4mLHaRpwWnk50BZ47Npy0MOFUnx6cwagORctnKvlVUteYjoteSTa0cJ1OjhOFVIx6e17LXw4XDYEQom+5fhhbyaXsyvmP89FwxeKIRqVryf/b6edUnUTuZRfo+Zepp/CbHaP8v3nueJvt1JZC1nY7DRCUXB52en4p8pqc1VTBzZ2t4OCX6T2arnVsv7ohd1pRTDMCGynxrGwdr5QDB67cetibq4L5/yhlNdyoQ6/N+w2GrEYg0i0OQfJOihzxXLM6jtslqSbyIVxwsIADPvNF2Ts/RMLpU86yEUHgSpk8qLjfEOmT/oEhPNsAKlBdoDUITtA6mA+SA3SD/L1KgICAgICAgICAgICU0EuOggICAgICAgICAgI0gpy0UFAQEBAQEBAQEBAkFaQi44048svv+Qe+qcHp06dwvz58zXpbNmyBXPnzgUA3HPPPaipqdHl2yy43TYwNI2IxQKGprmbiVOVNVI3Vcj5pmlKdNzutCYcszutCXJutw2MlYbdlajrcMnnlSoPevSN5F7Olho/6e6D1m7fLCjlJTbucCUfyzZuMt0PAYkbT7XaTLBrVVcPqXHKbgVlY2Up0HT63oqo5TtddWHtVtc16lqf1NrXakNMT8+5NxvnmBRiMQbO5ngpO50Qt80u/ugDObTW9x9mIpt20jovsXnzZowYMQKvvfYahg8frln/22+/xalTp3T7f/HFF3XrmgG324bq+gD3JE52m7hCr1N0xwq1sqn4MRpyvoPBKBwOOmm8fPq1ONcYTji2etZATu6ZB+Ovv61tQKeC3CTbBW2dojvppMqDHn0juZey1Zm2qvKT7j5o7fbNglJeYuNPPDAA9edC3LFNS4ZnHTetsR/YN0Na6yE17s11YvLontyTm9ltPb1um+G77KjlI111kbMLyHNqZH5q9PjnE7Xn3kKvM+vmmBRomsI5fxB1ZwL4299P4bo+nbHi5Q8T4r4g145wKKrKXmt9/2E2yCcdaUQ4HMbOnTvx4IMP4tNPP8V///tfAMCQIUNQVVUFADhy5AjKysoAAC+99BJuuukm3HzzzVi4cCEAYNmyZfjkk0+wePFiHDlyBOPHj8e4cePw61//GjU1NZg2bRomTJiA66+/HqtWrUqKgfXV2NiIBx54ABMnTsTgwYMxf/58ZOPGZb5gjJuIQPxpmuUVlfGt4FKQNVI3Vcj5jkiMx6JIOsaXC4bir3t0aS9qOxASzytVHvToG8m9lK1zTSFVftLdB63dvllQyktsPBpJnCPZyE1r7AdfMKarHlLjpUO6cRccrOxjFZVI/fMY8djV8JGuusjZNcKnXhtienrOvdk4x6QQARBqPk8OK+7CXXAALXGrvN4A0Hrff5gN8klHGvHOO++gU6dOuOSSSzBs2DC89tprmDNnjqhsNBrF73//exw6dAg0TeM3v/kNampq8Oijj2Lt2rX47W9/iyNHjuDrr7/GW2+9hdzcXKxfvx5jxozBLbfcgoaGBgwaNIi7gBHi7bffRs+ePbF69WqEQiGMHj0an376KS677DJVuchtgWYkqusaE56mCTS/oYgxKMzP1S2bih8jkM+zKeebpi2IRmNJ4wzDJB2Lxlrk2Nf8Y0LbYnmlyoMefSO5l7QVZQAkcyb0k+4+aO32U0W+zhiU8hIbF/a+1rmQCbTGfqiua+TsSNnVUq9ct01UFhaL7n6Ri10NH+mqi5xdNetTKvblbKiZP3K2WP1snGNSqK33c+dWmpLoZyb93Keq29pBLjrSiM2bN2PMmDEAgFGjRuHhhx/GzJkzRWVpmkafPn0wfvx4DB06FFOnTkWHDh3w9ddfJ8hdcsklyM2NN+W0adPwwQcfYP369Thx4gTC4TCamppErANjxozBsWPHUFFRgZMnT+LMmTPw+/2qc8nUczpomkaB15UwIQu8LtCUJWl/bS2yqfhJFcK9weV8g2FAU1TSuMViSTrGl2Nfi+nK5ZUqD3r0jeRe0hZtAZhkzoR+0t0Hrd1+KkhlT3ylvMTGhb2vdS5kAq2xH2ia5uxoqYfUeIM/LCoLhjG8Lmr5SFddZNd6KK9PRuWnRk/LfGH1s3GOSYKmuHijMYl+tqSf+1R1sx3kOR0m4fvvv8ehQ4fwhz/8AUOGDMGjjz6Kc+fOYf/+/QDAfbUpEmn5UPl3v/sdFi1aBIZhcPfdd6OysjLJrtPp5F6vWLECGzduRKdOnfCrX/0KXq9X8itTGzduxBNPPIF27drhzjvvRFFRUVZ+vcrjoOL3IHhdAMB915F9kqdeWSN1U4Wcb6vEOEUj6RhfzmGPv/7i6+9FbTvt4nmlyoMefSO5l7KV57Kr8pPuPmjt9s2CUl5i47Q1cY5kIzetsR88DkpXPaTGNx88gZm39UmQnT+lOC3/AVXLR7rqImfXCJ96bYjp6Tn3ZuMck4IVgL35PPnXyq8x966rk+LWci95a33/YTbIE8nThD/84Q947733sG7dOu7YmjVrUFlZCb/fj+nTp2Pw4MFYsmQJTpw4gVWrVuGOO+7AG2+8AY/Hg3nz5qFXr17o2bMnnn76abz66qs4cuQI1q5di40bNwIAxo4di8WLF+PKK6/E22+/jV/84hfYv38/PvroI1RWVmLFihUYMmQINmzYgGXLlmH06NEYO3Ys/vnPf6KsrAzPPfcc+vfvryqfTD6R3O22wReMIRqLgabii7PcTclqZY3U1QKx//jK+aZpCg4H3TzOgKYs8DgoRGIMgmGG03HYLLBSFs5OnssKXygGh41CMNSi67RTojeRG8WDHn0juRez5fE48d13Dar8pLsPWrt9vUj16b9KeYmNRxkgEEo8lm3cZLof8tx2NDSIfwKuxSaAljWJtsBjV66H1LjdRgMMg1AkBpqywAoYfhO52ri0yun337KW8zeySNWnXhtiegA0n3tb5lhyftmG9u1z4GsKoikYa/4qM8PFbaeh+iZyFq3h/UemofRJB/l6VZqwdetWzJo1K+HYHXfcgXXr1uGRRx7B8uXLsXbtWgwYMAAA0K5dO0ycOBHjx4+Hy+XCJZdcgtLSUgSDQTQ0NGDOnDkYP358gr1f/OIXeOSRR+B0OtGxY0dcdtll3A3qQtx1111YtGgRXnjhBeTk5KBPnz6SsmbD7w/DgubmjEbh90svBFpkjdRNFXK+o9EY/P4YbxzcOF8nFAVCvGOszVAkmqAbbJLPK1Ue9Ogbyb2YLY/HqdpPuvugtds3C0p5SY0Lj2UbN5nuB6fTioYUv7HBvhni7EYAf0RdPcTGY6H4J/xxWQbprIpavtNVF9ZuYfNFON+uET712lA7f5T0E+cYsmKOSYGiLAg0xx2LIiHusI6wW+v7DzNBPukgUIVMfoFJBTQAACAASURBVNJxviHV//gSaAfh3HyQGmQHSB2yA6QO5oPUIP0g93QQEBAQEBAQEBAQEJgKctFBQEBAQEBAQEBAQJBWkHs6TERVVRVGjBiBoqKihOPPP/88CgsLTYrKfPBvsGJvjo5Gk28MzXPF25e7mS0Ug8cufeMoaxcWBmAsojeZ+oIx2GwWhMMMHHb2huz4uNIN2VryE8Ydjbbk6rFTsuN8Llg5PldiHLDgjtMUdyOo3A2FSTcXNuuJccy/sVDKl7DGQl9q8uOP+/1hOFw2BEKJtqrrGkFb6QQupWIR1kaKT6W8hHWV443fu/zxBC5EejPVmz6V9OX8y938qvYGYqkeFuNNbE4L57wWWbm5JdbHSvlIrUU0DURjSJrTYn3Fr0Guywq/TL/JzX+3g4JfopbVdY2gaZqLV+2c5ucoVWOn24am5vEogADPptOWuF4q9aDU/GZ9sDlqWV+UeJOrh9ycVXO+Ecbh8wXAWGnZvhDrTbYvotH4DfgMw8Bl07YWieUnx4sUx1JzT4usWt6UasyH1JwU5u3zBRJlZea/1HyRO09LcSw2p1PlTWotZNcfJY7NArnoMBkFBQXYvn272WFkDdxuG6rrAyivqMTqWQO517X1Tdi0ZHjCGABU1wdQ6HWiuj6ADs2/WXl2G7pCr5OT3fSXLzD2uiIUtHeiuj6UZPuzk3Xo1fUCfFvbgE4FuUm2Cto6U7rwYBdTftzlFZVY+sv+3DGxcSEXBV5XwjH2daEIB6tnDQQD4LQEN1J2+bGI1UDMjpgOX4Zd1OVylctPi99NS4YrxqLUe2rzYqGGt7l3/S/yXFbJfNu3dShyLseHXF5y+nI9JJxH7Niq2QNxzm+RlOX7Lr//WlGfYrx529hF54iYLCuTL5gv7DjLp1K/Sc0Hqd4V8/W3v5/CdX06Y8XLH+KZB5P5lJpbD952BXwBOyfrbWNPGBer16pZA3G6PgDKwiTVQCj/SnMPqZnTm3iy1fUBeNx0wlopNvcC0RjqzyXLsOulUg8qzW82Ry3ri5jdWwZ1xcSh3RTroeZ8o7ZXhHGIzTMx+/y+KK+ohDfXicmje6KoMFfTWiSWn5CXF34zBAAlu9axOgW8cYfdAo/DISmrNKeleNOzbvPtrhTxr2X+K/EmZktKtoPIuBLHUval+kW4/nRs51LNX6ZBvl6VhZg7dy5++ctfYuTIkTh48CD27NmDCRMm4KabbsKIESPw97//HQBQVlaGJ554AhMnTsQNN9yAd955BwDwzTffYPLkyRgzZgzGjx+PL774AgCwbds23HLLLSgpKcH8+fMRDAZNy1EKvmCMmyj812Jj7N/s7yaBfG19EzfOygy9+mKsfu0oaNCitot/Vojy/9/enYc1deV9AP+GsBTEjVbQFpVRUdS6UEetFktL3WlEQUvrgku11vUZp6JQfRV96vIo1Ja6MIujrY6jVUFFamceijpWZtQpTsWORccqVkUQB3fW5L5/0MQk3JuF5IYEv59/JMm5Z/mdJTkGzt1+GiFBz4rmVVFl27GOYvUuKSuHu5uyTl1NxcL4ObFr9NM9NhEbqXz16yLWB2L5iF2jn0Y/D6m2mmqfNeVaUhdzY8/Sdhm3xVTcmjd5xmR7q6sEszGvb7tMXW+qL6Ta5evtZVFfl5SVA4JCtEyxuKmrITpHTI2dSon1QRtPc+PN3PPGY1esrMH9grD28zMoKStHZZX0PDaOZYCfr0FadbXptbCkrFw3p8X6wDh9uUS5YuPDuI3Ga6XY3FPXwOR6aev81rbRmvVFLN/B/YIs6g+xfMTWhPrUw9wYEhsXJWXliIkIxqe7z1q9Fom1z/h6JcTnllh/Vei97uXuYfF7iNiclopbfdY3/WsqJNYJS+e/ubhZE2OxuWcuxubGm1Re2vXH1GehhsZvOhpYSUkJoqKidI9VKhUAoEWLFkhLS4NGo8HUqVORlpYGPz8/7Nu3D7///e+RlpYGAKiursaePXuQk5ODTz/9FOHh4VixYgWGDRuGCRMm4Pjx49iyZQvmzp2LL7/8Ert374aXlxdSUlKwdetWzJ4926J6mjqNwJ6KSh/qJopao9H9bPxYramdPCVl5brnjdM/eV0AIKCkrBxNfTxE02ofC4JgNq82rZpa3a5Wv1xTVPqwTr31yxdrl1gsxOIhVW/9POu2Rzpfseuk4yJ9zZM0tbHT9rFUW021z5pyLamLPrGxZ2m7AMGgTqbiJpWXVB+ai4017bIkT0vmkSX1EGu3qbFpbk7bktaS8WbJvNcfu2JlKd1Qp73m5rlYWqnXLe0vqTFkyZwWq4u95rxUHS0poz5lGeerdJNeN03Fxdr3G1P1sHS8Gl+n/95lKgbGa5El40lqbumTmkfWpLU0bqbaJ7W+WfJ+KhZjw/wtm4fm1hfjtPaOm1Re2vXH3p9f7ImbjgYm9utVCQkJ6NmzJwDAzc0NmzZtQk5ODq5cuYLTp0/Dze3JF1SDBg0CAAQHB+Pu3bsAgDNnzuDjjz8GAISHhyM8PBw7d+5EYWEh3nrrLQC1m5Vu3bpZXE9HHZmrVCrh39L7lwnkpvsZgMFj5S8x8G/prXveOP2T1xUAFPBv6Y0Hj6tF02ofKxQKs3lZe+Se/jF9SqWyTr312yrWLrFYiMVDqt76edZtj3S+YtdJx0X6GuPYaftYqq2m2mdNuZbURZ/Y2LO0XbUnvsOiuEnlJdWH5mJjTbtMXW/NPDI/HhQW9aHxGND/WWwO1DetJePNknmvP3bFylJrUKe95ua5JePN2v6SGkOWzGmxuthrztsyv+tTlnG+ag3g4W6+P8TqZ2q8WVMPS8er8XX6712mYmC8FlkynqTmlrn3BWvTWho3c32sT2pOmqprfcebuXZJpbV33KTy0q4/9vz8Yi1zR+Yqk5KSkmStAUm6f/8+MjIyMHnyZIPns7Oz0b59e3Tt2hWPHj3C2LFj0aZNG/Tp0wchISHIz89HdHQ0MjIyMHDgQAQGBuLBgwe6vLZu3YopU6bA09MTgiDg8uXLKCwshL+/P7Zs2YJ33nkHo0ePxquvvgovLy+L6lpeXgVH3NGlibc7eocE4GxBCaLCgnQ/P6qowfghwQavebor0DskAH6+HugdEoAWvh4I1Uvv37L29xj9fD10aTNPXEbcyG7w8VGif/fn6+T974sliH49GFdu3MXIVzrUyat5Ew+oa6z7irJJEy88flyla59xvc8WlOC1Pi/g5RefN6ir/uvGsfBv6W3wnPZn/Wv003m4KyRjI5Wvfl3E+kAsH7Fr9NNUV2t0fSzVVlPts6bc8UOCzdbF3NiztF2e7gqDtpiKW99u/ni2qadke32buKNPSGuTMTcVD1PtMnW9qTFkPI+0r73RNxBhvQPF03q6Axq1Lv3gfm3Rr3ubOmWKxc3HR4lfd21dZ440fUZ67DTz9cBLIuuDNp7mxpvUfJAau2Jr0dF/XcOE4V1xtqAEka8E4SWJeWwcyx4d/fD6r9vp0vr4KOHj4WZy/I8KC0JoSACqa2rq9IFx+reHBCPUwjmtfayti7sHDNZKsbmnUQj4ddfWddJo10tzY9Dc/Na20Zr1RSxfLw8FQoOfM9sflrzfWDpWjOshNs/E8tcfF2cLSnDl5n3MjO6BgBbPWLUWibXPOC5vvhqEpl5155ZYfzX39YDXL69DoUFzb8veQ8TmtFTc6rNu6+f7ZtiTuSe2vpib/+biJpaXVFrt5xKpupiLm9h4k1o3tetPy6aeku/3xvGzN4VCAR8fT+nXeXPAhnP9+nXExcUhJyfH4PmEhAT069cP0dHR+OGHH7Bw4UJkZWVBEAQsWrQIRUVF2LVrFyZNmoS5c+eif//+BnnNmjULr732GmJjY3Hy5Els3LgRy5cvx8yZM5Geng4/Pz8sWrQI7dq1w7x58yyqqyNvDmif06sEKN0UFp5e9STto0qx06tqX6/v6VXGNyQSP71KQDNvpYkTdp68bvnpVU/apaV7Xqmox+lVT64zTi99epVhWcZ9LH56lWG9TY0FqdOr9Ms1VxdzY0/8NKG6eUmfXlU3boanV9Wtq9TYFOsj434w1y5T15sq39rTq7Tj3n6nV9XOgfqmNTW39Nto/elVhmUplQqoNUKdOa2ftu5JNwKaeitNnF5lev4/Ob1KbO4YjiFL57R+G6XGg/jpVbV5Oub0KtPri6kxZ64/TM1ZS95vTNVDbK0WG69q9ZNxIX16lfm1SKx9psaTubXUlrSWxs1cH+uTmpNic14sxmLzX2q+mHqfloqx+dOrrI+b1FqoXX/MxVgu5r7p4KajAVmy6VCr1YiPj8cPP/wAhUKBsLAwZGdn49ixY5KbjqKiIixduhSlpaXw9vbGRx99hE6dOmHv3r34/PPPodFo0LVrV6xevdribzp4R/L6411QHY8xb3jsA+fAfnAO7IeGxz6QHzcdZBfcdNQfFzrHY8wbHvvAObAfnAP7oeGxD+RnbtPBI3OJiIiIiEhW3HQQEREREZGsGs2m4/r164iIiKjzfJcuXUxel5+fjyVLlgAAvvzySxw+fNiqciMiInD9+nWD59LT05GQkKB7XFxcjGHDhuGLL75AcXExZsyYYVUZUiZNmoRTp07ZJS8iIiIiIrk89ffp6NGjB3r06AEAyMvLQ79+/eya/+3btzFlyhTExcVhwoQJAIA//OEPdi2jsRE/BUkDpdLNitMd6p42Yk3auidRPCm/vidAmD6xyfBEE3N1MXWykrVxs2eMpU8Ikm6fHGkfPaqA4K60KW72jLGtcXNkjI3ranyCk9jpLmInHxWVPoRSqZQ1bvYem+biYu8YO2K8FZU+RDOJk9VcaU67wlpoyZrkinFrLGvho0cVhuuXjXFz5Ni0ZS00d7qhIzWabzrMSU9Px4IFCzBt2jQMGTIE2tuTnDp1CpMmTUJubi5ycnKQmpqKEydOoLS0FLNnz0Z0dDRiYmKQm5sLALh79y5mzJgBlUqF3/zmN6isrJQs886dO5g6dSqmTp2q23DofyOTkJCAjz76CO+88w4iIiKwf/9+AMCDBw8wa9YsREZG4v3338fo0aNx/fp1VFVVIT4+HiNGjMD06dNRVlamKystLQ0jR46ESqXC2rVroVarcf36dURFRWHBggVQqVRYvHgxdu/ejdjYWAwfPhyXL1+WI9Q28fHxQFFZhW4SFZVVIHHzt3hvzTe6CWn8ehMvt9p/Pd106bUTsj5pta8bl5+46VsUlVXojvOztV3ashI31dbBuFypuuinFcvTmrjZM8ZS9TfVPrnS2ho3e8bY1rg5MsbGdX1vzTdI3Pxk3OuPY4M8tXEQeSxX3Ow9Ns3FxVnGprPFzVXmtNxroSPHkCPj9rSvhVKxcOTYtGVOG6/hDe2p2XQAwNmzZ5GamopDhw7h6NGjKCgo0L02cOBAREREYP78+Rg0aBBWrVqFmJgYpKenY8uWLVi2bBkePnyI1NRUdOvWDZmZmZgwYQJKS0tFy/rf//6HKVOmoLq6GqNHj5as061bt7Br1y5s2bIF69atAwBs2rQJv/rVr5CVlYU5c+bg4sWLAIAdO3YAAI4cOYKlS5fi2rVrAIDjx48jJycH+/fvR0ZGBgoLC7F7924AQEFBAWbMmIGDBw8iLy8PN27cwJ49e/Dmm29iz549tgfVzh5VarBm++na/5X45WftXTX1nzP+Wf/fkrJym9JKlV9SVq57zR7tMq6DqbpKpRW7xpq42TPG9WmfXGltjZs9Y2xr3BwZY+N0xuPeXFpL49LQc1osFubi4ixj09ni5ipzWu610JFjyJFxc+TYdMa10BnGpi1z2tbPLvbWaH69ys2t7v5JEAQoFArd49DQUPj61h7l1bZtW9y7d08yv9zcXPz0009ITU0FANTU1ODnn3/G6dOnkZKSAgDo27cv2rZtK3r9iRMnsHr1anz11VdISUlBYmKiaLpXXnkFCoUCnTt3xt27dwEAJ0+eRHJyMoDaX//q3LkzAOD06dOIjY0FAAQFBSE0NBQA8M9//hORkZHw9vYGAMTExODAgQMIDw/Hc889h27dugEAWrdujQEDBgAAnn/++Tp/i2KKqSPQ7Kmo9CFKysqh1tRODu2kAWDwnPHP+v/amlaq/CdpBLRp1dSqdonla1wHU3XVr4txG6Taaknc7Bnj+rRPrrS2xs2eMbY1bo6MsXE6Le24BwSTacUeyxU3e8bYkrjYO8b6sXDkeLN33FxlTpuLha0xduQYcmTcnva1UCoW9oyxrXEzlVar9nnrP7vYW6PZdDRr1gwPHhiev3znzh00b95c91j/RngKhQKmblGi0Wjw+eefo0WLFgCAkpISPPvss3WuUyqVotePHDkSY8aMQVhYGEaNGoWBAwciPDy8TjptnfQ3R0qlUrRuxmW7u7vr6mqspqYGAODpaXg7eqn6muOo+3QolUr4t/SG8pdNpH9Lb93k0X/O+Gf9f0vKym1KK1X+kzQKq876btWqqWi+xnUwVVf9uhi3QaqtlsTNnjGuT/vkSmtr3OwZY1vj5sgYG6fT0o57QGEyrdhjueJm77FpLi7OMjadLW6uMqfNxc3WGDtyDDkybk/7WigVC0eOTVvmtFbt89Z9dqkPc/fpUCZp/7jBxXl6euJvf/sbmjdvjk6dOgEAtm3bBh8fHwwfPhwXLlzAjRs3MHjwYABARkaG7o/GT58+jejoaBw9ehQBAQHo3r078vPzcevWLfTt2xf//e9/MXbsWIwfPx43b97ExYsXERYWhnPnzmHr1q2Ii4tDs2bNdHW5cOECbt26hcGDB6NJkyZo27Yt/u///g9RUVGoqalBRkYGJk+ejOzsbLzwwgvo2rUrAGDjxo2YN28eCgsLcenSJbzyyisoKCjAli1bEBcXh+rqahw/fhxDhw7FzZs3kZKSgjfffBMBAQHYtWsXVCoVACAlJQUvv/wyOnTooCtLv82BgYF14mFOeXkVHHEbySbe7ugdEgA/Xw94uivQOyQAZwtK8KiiBuOHBOue03/dz9fD4N+zBSWICguqd1qp8v1beiNxSj/4+XqgutryrymbNPECNGrJumjrYKqu+nXRTyt2jTVxs2eM69M+udLaGjd7xtjWuDkyxsbpjMe9ubTjhwRbFJeGntNisTAXF2cZm84WN1eZ03KvhY4cQ1wLHbcWSsXCVea0LZ9d6kOhUMDHx1P69cZ0R/IrV64gKSkJZWVlqK6uRpcuXbBs2TL4+fkhPT0dp0+fxtq1awHUHjc7d+5cALUf9nfs2IGsrCx8/PHHiI+PR2hoKJYtW4abN28CABYuXIjw8HA8fPgQCQkJuHLlCjp06ICCggL86U9/QmBgoK4exmUBwOLFi1FaWoqkpCRMnjwZOTk5SEhIQL9+/RAdHQ2g9njfgoICPHz4EImJibh69SratWuH8+fPIz09Hc2aNcOKFStw5swZvPDCC3j06BF++9vfon///ti8eTOysrJQU1ODsLAwJCYm4tatW4iLi0NOTo5Bm/v37y9aR1MceUdy8dOrBCiVCitOdxDQzFtZ77R1T6J4Ur61J0Bo74Jq+vSq2jpYdiqGYVqxPK2Jmz1jLH2aiHT75Epra9zsGWNb4+bIGBvXVemmQBMvS06vepLW+LFccbP32DR/epVzjE1ni5urzGm510JHjiFHxu1pXwulYuHIsWnLnDZew+Vk7puORrXpaCwOHjyIwMBA9OnTBzdv3sTEiRORnZ0t+ncrjuLITUdjo910kOMw5g2PfeAc2A/Ogf3Q8NgH8jO36Wg0f9PRmHTo0AHLly+HRqOBm5sbVq5c2aAbDiIiIiIiW3DT4YR69OiB9PT0hq4GEREREZFd8L/PiYiIiIhIVtx0EBERERGRrLjpICIiIiIiWXHTQUREREREsuKmg4iIiIiIZMVNBxERERERyYqbDiIiIiIikhU3HUREREREJCtuOoiIiIiISFbcdBARERERkay46SAiIiIiIllx00FERERERLJyb+gKkGtwc1M0dBVcGuPneIx5w2MfOAf2g3NgPzQ89oG8zMVXIQiC4KC6EBERERHRU4i/XkVERERERLLipoOIiIiIiGTFTQcREREREcmKmw4iIiIiIpIVNx1ERERERCQrbjqIiIiIiEhW3HQQEREREZGsuOkgIiIiIiJZcdNBRERERESy4qaDSMTGjRsRGRmJyMhIrFu3DgCQm5sLlUqFoUOHYsOGDXWuWbRoEdLT0+s8/8knn+Czzz6TLOvChQuIjo7GsGHDsGTJEtTU1Fh1fWPhDDH/17/+hejoaKhUKrz//vu4d++enVrnOpyhHzIyMhAWFoaoqChERUWJltmYNXQf3LlzRxf7qKgoREREIDQ01H4NdBEN3Q8AcO7cOcTExEClUmHmzJm4ffu2nVrnGhzZB/a6nkwQiMjAyZMnhdjYWKGyslKoqqoS4uLihMzMTCE8PFy4du2aUF1dLUybNk04duyYIAiCcOvWLWHmzJlCz549hf379+vyuX//vpCYmCj07NlTSE1NlSwvMjJSOHv2rCAIgpCYmCj8+c9/tur6xsBZYj548GDh0qVLgiAIwvr164WUlBS5muyUnKUfVq5cKWRmZsrYUuflLH2gpVarhYkTJwqHDh2SobXOyxn6QaPRCOHh4cI//vEPQRAEISsrS5g5c6aMrXYuju4DW68n8/hNB5GRVq1aISEhAZ6envDw8EDHjh1x9epVtG/fHm3btoW7uztUKhW+/vprAEBmZibeeOMNjBgxwiCfb775BkFBQZg6dapkWTdu3EBFRQV69+4NAIiOjtbla8n1jYWzxPyrr75Cp06dUF1djeLiYjRr1kymFjsnZ+mH/Px8ZGRkQKVSYeHChU/VN07O0gda+/fvh7e3N1QqlZ1b6tycoR/KyspQUVGBl19+GQDw+uuv49tvv0VVVZVMrXYujuwDe1xP5nHTQWQkODhYt/hfvXoVR44cgUKhQKtWrXRp/P39UVxcDACYPn06xo0bVyef0aNH47333oNSqZQsq6SkxCDfVq1a6fK15PrGwlli7uHhgYKCAoSHh+PUqVOIjIy0S/tchbP0Q6tWrTB79mwcOnQIbdq0wcqVK+3SPlfgLH0AAGq1Gmlpafjggw9sbpercYZ+aNmyJXx8fPDtt98CALKyslBdXY2ysjK7tNHZObIP7HE9mcdNB5GES5cuYdq0aVi0aBHatm0LhUKhe00QBIPH9aXRaGTJ11U5Q8y7dOmC3NxczJ49GwsWLLC5PFfU0P2wadMm9OnTBwqFAtOnT8eJEydsLs/VNHQfAMCJEycQFBSELl262FyWq2rIflAoFEhNTcXvfvc7jB49Gg8ePECLFi3g4eFhc5muxBF9QI7BTQeRiO+++w5TpkzBBx98gDFjxqB169YGf8B3+/Zt+Pv7W51vcXGx7o8zZ8yYUSff0tLSeuXbGDR0zCsrK5Gdna17ftSoUSgoKLCtUS6oofvhwYMH2L59u+55QRCeuv9hbOg+0MrOzsbIkSNta4wLc4Z+cHd3x44dO3DgwAGMGjUKGo0GLVq0sL1xLsJRfUCO4d7QFSByNkVFRZgzZw42bNiAAQMGAAB69eqFK1euoLCwEIGBgTh8+DBiYmKszjsgIAAHDx40eM7Lywvfffcd+vTpg4MHD+LVV1+1SztciTPE3N3dHStWrEDr1q3x4osv4siRI3jppZfs0j5X4Qz94OPjgz/+8Y8IDQ1Fr169sHPnTgwZMsQu7XMFztAHWv/+97+f2g9kztIPH374IZKSktCzZ09s27YNw4cPh5vb0/H/xY7uA5IfNx1ERrZu3YrKykqsXbtW99zbb7+NtWvXYt68eaisrER4eDiGDx9ul/KSk5OxdOlSPHz4EN27d0dcXJxd8nUlzhBzpVKJDRs2YNmyZVCr1QgICMCqVavsUp6rcJZ++OSTT5CUlISKigoEBQXpjsp8GjhDH2j9/PPPaN26tV3KcTXO0g9JSUlYvnw5ysvL0aVLl6dqTXJ0H5D8FIIgCA1dCSIiIiIiaryeju/oiIiIiIiowXDTQUREREREsuKmg4iIiIiIZMVNBxERERERyYqbDiIiIiIikhU3HURE5LIiIiKQn59v1zyXLFmC3Nzcel176tQp9OzZU3fjMZVKhbi4OIvzW7p0Kc6fP1+vsomInBnv00FERKTH1nshtGvXzuDGYz/++CPeffddbN68Gb169TJ5bW5uLmJjY20qn4jIGfGbDiIicnk9evTAZ599hrfffhsRERHYtWsXgNqbif31r3/VpVu/fj3Wr18PANi0aRNGjhwJlUqF+fPn4/bt2wCASZMm4euvvwYAHD16VPeNRWxsLH788UcAQF5eHsaPH48xY8YgJiYGR48elaxbSEgIJk2ahO3btwOovdP3hAkTMG7cOLz22mv48MMPAQAbNmxASUkJFi5ciO+//x4PHjxAQkICoqOjoVKpsHr1atTU1Ng3cEREDsJNBxERubyqqiq0bNkSu3fvRmpqKtasWYPKykqMGzcO6enpAAC1Wo1Dhw5h3Lhx2L9/P06cOIF9+/YhMzMTwcHBSEhIMMiztLQU8fHxWLNmDTIzM/Huu+8iOTkZ9+7dQ2JiItatW4eMjAxs3rwZSUlJuHnzpmT9QkJCcPHiRQDAF198gfnz52Pv3r3IyspCTk4Ozp8/jwULFsDf3x/Jycno1asXVq9eje7duyM9PR0HDhxAWVkZtm3bJl8QiYhkxF+vIiKiRuGNN94AAHTv3h1VVVV4/PgxRo4ciXXr1uH27dv4z3/+g6CgIAQFBWHDhg2Ijo6Gj48PACAuLg5paWmoqqrS5ZeXl4fg4GB069YNADB06FAMHToUx48fx+3btzFnzhxdWoVCgYKCAl1+xhQKBZ555hkAwNq1a/H3v/8daWlp+Omnn1BZWYnHjx/XuebYsWPIz8/Hvn37AAAVFRV2iBIRUcPgpoOIiBoFLy8vALUf8AFAEAR4AUYqRwAAAidJREFUe3tj2LBhOHz4MM6ePYtx48YBADQajS6d9rHxry4plUqDNIIgoKCgAGq1Gh07dsTevXt1rxUXF8PPzw95eXmidcvPz0fnzp0BABMnTkSXLl0waNAgjBgxAt9//z0EQahzjUajwaeffoqOHTsCAO7fv29QHyIiV8JfryIiokbtrbfeQkZGBvLy8jBs2DAAwKBBg7B//37dNww7duxA37594enpqbuuV69euHz5Mi5dugQA+OabbxAfH4/evXujsLAQZ86cAQBcuHABw4YNQ3FxsWj5586dw1/+8hdMnjwZ9+/fR35+PhYuXIihQ4fi1q1buHbtGjQaDYDajY528xMWFobt27dDEARUVVVh1qxZ2LlzpzxBIiKSGb/pICKiRu3FF1+EUqnE8OHDdd+GjB07FkVFRRg3bhw0Gg3at2+P5ORkg+uee+45JCcnY/HixVCr1fD19cWGDRvg5+eH1NRUrFu3DpWVlRAEAevWrUNgYCBu3LiBa9euISoqCgDg5uYGX19fJCcnIyQkBADw3nvvYcyYMfDx8UFAQABeeuklFBYWYsCAARgyZAji4+ORlJSEJUuWYNWqVVCpVKiursbAgQMxffp0xwaPiMhOFILYd7pERERERER2wl+vIiIiIiIiWXHTQUREREREsuKmg4iIiIiIZMVNBxERERERyYqbDiIiIiIikhU3HUREREREJCtuOoiIiIiISFbcdBARERERkaz+HzP9hdVdylKSAAAAAElFTkSuQmCC
"
>
</div>

</div>

</div>
</div>

</div>
<div class="cell border-box-sizing code_cell rendered">
<div class="input">
<div class="prompt input_prompt">In&nbsp;[25]:</div>
<div class="inner_cell">
    <div class="input_area">
<div class=" highlight hl-ipython3"><pre><span></span><span class="n">sns</span><span class="o">.</span><span class="n">boxplot</span><span class="p">(</span><span class="n">x</span><span class="o">=</span><span class="s1">&#39;Country&#39;</span><span class="p">,</span> <span class="n">y</span><span class="o">=</span><span class="s1">&#39;Quantity&#39;</span><span class="p">,</span> <span class="n">data</span><span class="o">=</span><span class="n">datafields</span><span class="p">)</span>
<span class="n">plt</span><span class="o">.</span><span class="n">show</span><span class="p">()</span>
</pre></div>

    </div>
</div>
</div>

<div class="output_wrapper">
<div class="output">


<div class="output_area">

    <div class="prompt"></div>




<div class="output_png output_subarea ">
<img src="data:image/png;base64,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
"
>
</div>

</div>

</div>
</div>

</div>
<div class="cell border-box-sizing code_cell rendered">
<div class="input">
<div class="prompt input_prompt">In&nbsp;[26]:</div>
<div class="inner_cell">
    <div class="input_area">
<div class=" highlight hl-ipython3"><pre><span></span><span class="c1">#Pearson Correlation</span>
<span class="n">coefficient</span><span class="p">,</span> <span class="n">pvalue</span> <span class="o">=</span> <span class="n">sc</span><span class="o">.</span><span class="n">stats</span><span class="o">.</span><span class="n">pearsonr</span><span class="p">(</span><span class="n">datafields</span><span class="p">[</span><span class="s2">&quot;Quantity&quot;</span><span class="p">],</span> <span class="n">datafields</span><span class="p">[</span><span class="s2">&quot;UnitPrice&quot;</span><span class="p">])</span>
</pre></div>

    </div>
</div>
</div>

</div>
<div class="cell border-box-sizing code_cell rendered">
<div class="input">
<div class="prompt input_prompt">In&nbsp;[27]:</div>
<div class="inner_cell">
    <div class="input_area">
<div class=" highlight hl-ipython3"><pre><span></span><span class="nb">print</span><span class="p">(</span><span class="s1">&#39;coefficient = &#39;</span><span class="p">,</span> <span class="n">coefficient</span><span class="p">)</span>
<span class="nb">print</span><span class="p">(</span><span class="s1">&#39;pvalue = &#39;</span><span class="p">,</span> <span class="n">pvalue</span><span class="p">)</span>
</pre></div>

    </div>
</div>
</div>

<div class="output_wrapper">
<div class="output">


<div class="output_area">

    <div class="prompt"></div>


<div class="output_subarea output_stream output_stdout output_text">
<pre>coefficient =  -0.01986101517345227
pvalue =  7.066534539994596e-36
</pre>
</div>
</div>

</div>
</div>

</div>
<div class="cell border-box-sizing text_cell rendered"><div class="prompt input_prompt">
</div><div class="inner_cell">
<div class="text_cell_render border-box-sizing rendered_html">
<h1 id="Splitting-and-model-implementation">Splitting and model implementation<a class="anchor-link" href="#Splitting-and-model-implementation">&#182;</a></h1>
</div>
</div>
</div>
<div class="cell border-box-sizing code_cell rendered">
<div class="input">
<div class="prompt input_prompt">In&nbsp;[28]:</div>
<div class="inner_cell">
    <div class="input_area">
<div class=" highlight hl-ipython3"><pre><span></span><span class="c1">#Splitting the data according to the region of transaction or you can do it with complete data set</span>
<span class="c1"># Transactions done in France </span>

<span class="n">basket_items</span> <span class="o">=</span> <span class="p">(</span><span class="n">datafields</span><span class="p">[</span><span class="n">datafields</span><span class="p">[</span><span class="s1">&#39;Country&#39;</span><span class="p">]</span> <span class="o">==</span><span class="s2">&quot;France&quot;</span><span class="p">]</span> 
          <span class="o">.</span><span class="n">groupby</span><span class="p">([</span><span class="s1">&#39;InvoiceNo&#39;</span><span class="p">,</span> <span class="s1">&#39;Description&#39;</span><span class="p">])[</span><span class="s1">&#39;Quantity&#39;</span><span class="p">]</span> 
          <span class="o">.</span><span class="n">sum</span><span class="p">()</span><span class="o">.</span><span class="n">unstack</span><span class="p">()</span><span class="o">.</span><span class="n">reset_index</span><span class="p">()</span><span class="o">.</span><span class="n">fillna</span><span class="p">(</span><span class="mi">0</span><span class="p">)</span> 
          <span class="o">.</span><span class="n">set_index</span><span class="p">(</span><span class="s1">&#39;InvoiceNo&#39;</span><span class="p">))</span> 
<span class="n">basket_items</span><span class="o">.</span><span class="n">head</span><span class="p">()</span>
</pre></div>

    </div>
</div>
</div>

<div class="output_wrapper">
<div class="output">


<div class="output_area">

    <div class="prompt output_prompt">Out[28]:</div>



<div class="output_html rendered_html output_subarea output_execute_result">
<div>
<style scoped>
    .dataframe tbody tr th:only-of-type {
        vertical-align: middle;
    }

    .dataframe tbody tr th {
        vertical-align: top;
    }

    .dataframe thead th {
        text-align: right;
    }
</style>
<table border="1" class="dataframe">
  <thead>
    <tr style="text-align: right;">
      <th>Description</th>
      <th>10 COLOUR SPACEBOY PEN</th>
      <th>12 COLOURED PARTY BALLOONS</th>
      <th>12 EGG HOUSE PAINTED WOOD</th>
      <th>12 MESSAGE CARDS WITH ENVELOPES</th>
      <th>12 PENCIL SMALL TUBE WOODLAND</th>
      <th>12 PENCILS SMALL TUBE RED RETROSPOT</th>
      <th>12 PENCILS SMALL TUBE SKULL</th>
      <th>12 PENCILS TALL TUBE POSY</th>
      <th>12 PENCILS TALL TUBE RED RETROSPOT</th>
      <th>12 PENCILS TALL TUBE WOODLAND</th>
      <th>...</th>
      <th>WRAP SUKI AND FRIENDS</th>
      <th>WRAP VINTAGE PETALS  DESIGN</th>
      <th>YELLOW COAT RACK PARIS FASHION</th>
      <th>YELLOW GIANT GARDEN THERMOMETER</th>
      <th>ZINC  STAR T-LIGHT HOLDER</th>
      <th>ZINC FOLKART SLEIGH BELLS</th>
      <th>ZINC HERB GARDEN CONTAINER</th>
      <th>ZINC METAL HEART DECORATION</th>
      <th>ZINC T-LIGHT HOLDER STAR LARGE</th>
      <th>ZINC T-LIGHT HOLDER STARS SMALL</th>
    </tr>
    <tr>
      <th>InvoiceNo</th>
      <th></th>
      <th></th>
      <th></th>
      <th></th>
      <th></th>
      <th></th>
      <th></th>
      <th></th>
      <th></th>
      <th></th>
      <th></th>
      <th></th>
      <th></th>
      <th></th>
      <th></th>
      <th></th>
      <th></th>
      <th></th>
      <th></th>
      <th></th>
      <th></th>
    </tr>
  </thead>
  <tbody>
    <tr>
      <th>536370</th>
      <td>0.0</td>
      <td>0.0</td>
      <td>0.0</td>
      <td>0.0</td>
      <td>0.0</td>
      <td>0.0</td>
      <td>0.0</td>
      <td>0.0</td>
      <td>0.0</td>
      <td>0.0</td>
      <td>...</td>
      <td>0.0</td>
      <td>0.0</td>
      <td>0.0</td>
      <td>0.0</td>
      <td>0.0</td>
      <td>0.0</td>
      <td>0.0</td>
      <td>0.0</td>
      <td>0.0</td>
      <td>0.0</td>
    </tr>
    <tr>
      <th>536852</th>
      <td>0.0</td>
      <td>0.0</td>
      <td>0.0</td>
      <td>0.0</td>
      <td>0.0</td>
      <td>0.0</td>
      <td>0.0</td>
      <td>0.0</td>
      <td>0.0</td>
      <td>0.0</td>
      <td>...</td>
      <td>0.0</td>
      <td>0.0</td>
      <td>0.0</td>
      <td>0.0</td>
      <td>0.0</td>
      <td>0.0</td>
      <td>0.0</td>
      <td>0.0</td>
      <td>0.0</td>
      <td>0.0</td>
    </tr>
    <tr>
      <th>536974</th>
      <td>0.0</td>
      <td>0.0</td>
      <td>0.0</td>
      <td>0.0</td>
      <td>0.0</td>
      <td>0.0</td>
      <td>0.0</td>
      <td>0.0</td>
      <td>0.0</td>
      <td>0.0</td>
      <td>...</td>
      <td>0.0</td>
      <td>0.0</td>
      <td>0.0</td>
      <td>0.0</td>
      <td>0.0</td>
      <td>0.0</td>
      <td>0.0</td>
      <td>0.0</td>
      <td>0.0</td>
      <td>0.0</td>
    </tr>
    <tr>
      <th>537065</th>
      <td>0.0</td>
      <td>0.0</td>
      <td>0.0</td>
      <td>0.0</td>
      <td>0.0</td>
      <td>0.0</td>
      <td>0.0</td>
      <td>0.0</td>
      <td>0.0</td>
      <td>0.0</td>
      <td>...</td>
      <td>0.0</td>
      <td>0.0</td>
      <td>0.0</td>
      <td>0.0</td>
      <td>0.0</td>
      <td>0.0</td>
      <td>0.0</td>
      <td>0.0</td>
      <td>0.0</td>
      <td>0.0</td>
    </tr>
    <tr>
      <th>537463</th>
      <td>0.0</td>
      <td>0.0</td>
      <td>0.0</td>
      <td>0.0</td>
      <td>0.0</td>
      <td>0.0</td>
      <td>0.0</td>
      <td>0.0</td>
      <td>0.0</td>
      <td>0.0</td>
      <td>...</td>
      <td>0.0</td>
      <td>0.0</td>
      <td>0.0</td>
      <td>0.0</td>
      <td>0.0</td>
      <td>0.0</td>
      <td>0.0</td>
      <td>0.0</td>
      <td>0.0</td>
      <td>0.0</td>
    </tr>
  </tbody>
</table>
<p>5 rows × 1540 columns</p>
</div>
</div>

</div>

</div>
</div>

</div>
<div class="cell border-box-sizing code_cell rendered">
<div class="input">
<div class="prompt input_prompt">In&nbsp;[29]:</div>
<div class="inner_cell">
    <div class="input_area">
<div class=" highlight hl-ipython3"><pre><span></span><span class="c1"># Hot encoding the Data</span>

<span class="c1"># Defining the hot encoding function to make the data suitable  </span>
<span class="c1"># for the concerned libraries </span>
<span class="k">def</span> <span class="nf">hot_encode</span><span class="p">(</span><span class="n">x</span><span class="p">):</span> 
    <span class="k">if</span><span class="p">(</span><span class="n">x</span> <span class="o">&lt;=</span> <span class="mi">0</span><span class="p">):</span> 
        <span class="k">return</span> <span class="mi">0</span>
    <span class="k">if</span><span class="p">(</span><span class="n">x</span> <span class="o">&gt;=</span> <span class="mi">1</span><span class="p">):</span> 
        <span class="k">return</span> <span class="mi">1</span>

<span class="c1"># Encoding the datasets </span>
<span class="c1"># basket_items = basket_items.applymap(hot_encode)  </span>
<span class="n">basket_encoded</span> <span class="o">=</span> <span class="n">basket_items</span><span class="o">.</span><span class="n">applymap</span><span class="p">(</span><span class="n">hot_encode</span><span class="p">)</span> 
<span class="n">basket_items</span> <span class="o">=</span> <span class="n">basket_encoded</span> 

<span class="n">basket_items</span><span class="o">.</span><span class="n">head</span><span class="p">()</span>
</pre></div>

    </div>
</div>
</div>

<div class="output_wrapper">
<div class="output">


<div class="output_area">

    <div class="prompt output_prompt">Out[29]:</div>



<div class="output_html rendered_html output_subarea output_execute_result">
<div>
<style scoped>
    .dataframe tbody tr th:only-of-type {
        vertical-align: middle;
    }

    .dataframe tbody tr th {
        vertical-align: top;
    }

    .dataframe thead th {
        text-align: right;
    }
</style>
<table border="1" class="dataframe">
  <thead>
    <tr style="text-align: right;">
      <th>Description</th>
      <th>10 COLOUR SPACEBOY PEN</th>
      <th>12 COLOURED PARTY BALLOONS</th>
      <th>12 EGG HOUSE PAINTED WOOD</th>
      <th>12 MESSAGE CARDS WITH ENVELOPES</th>
      <th>12 PENCIL SMALL TUBE WOODLAND</th>
      <th>12 PENCILS SMALL TUBE RED RETROSPOT</th>
      <th>12 PENCILS SMALL TUBE SKULL</th>
      <th>12 PENCILS TALL TUBE POSY</th>
      <th>12 PENCILS TALL TUBE RED RETROSPOT</th>
      <th>12 PENCILS TALL TUBE WOODLAND</th>
      <th>...</th>
      <th>WRAP SUKI AND FRIENDS</th>
      <th>WRAP VINTAGE PETALS  DESIGN</th>
      <th>YELLOW COAT RACK PARIS FASHION</th>
      <th>YELLOW GIANT GARDEN THERMOMETER</th>
      <th>ZINC  STAR T-LIGHT HOLDER</th>
      <th>ZINC FOLKART SLEIGH BELLS</th>
      <th>ZINC HERB GARDEN CONTAINER</th>
      <th>ZINC METAL HEART DECORATION</th>
      <th>ZINC T-LIGHT HOLDER STAR LARGE</th>
      <th>ZINC T-LIGHT HOLDER STARS SMALL</th>
    </tr>
    <tr>
      <th>InvoiceNo</th>
      <th></th>
      <th></th>
      <th></th>
      <th></th>
      <th></th>
      <th></th>
      <th></th>
      <th></th>
      <th></th>
      <th></th>
      <th></th>
      <th></th>
      <th></th>
      <th></th>
      <th></th>
      <th></th>
      <th></th>
      <th></th>
      <th></th>
      <th></th>
      <th></th>
    </tr>
  </thead>
  <tbody>
    <tr>
      <th>536370</th>
      <td>0</td>
      <td>0</td>
      <td>0</td>
      <td>0</td>
      <td>0</td>
      <td>0</td>
      <td>0</td>
      <td>0</td>
      <td>0</td>
      <td>0</td>
      <td>...</td>
      <td>0</td>
      <td>0</td>
      <td>0</td>
      <td>0</td>
      <td>0</td>
      <td>0</td>
      <td>0</td>
      <td>0</td>
      <td>0</td>
      <td>0</td>
    </tr>
    <tr>
      <th>536852</th>
      <td>0</td>
      <td>0</td>
      <td>0</td>
      <td>0</td>
      <td>0</td>
      <td>0</td>
      <td>0</td>
      <td>0</td>
      <td>0</td>
      <td>0</td>
      <td>...</td>
      <td>0</td>
      <td>0</td>
      <td>0</td>
      <td>0</td>
      <td>0</td>
      <td>0</td>
      <td>0</td>
      <td>0</td>
      <td>0</td>
      <td>0</td>
    </tr>
    <tr>
      <th>536974</th>
      <td>0</td>
      <td>0</td>
      <td>0</td>
      <td>0</td>
      <td>0</td>
      <td>0</td>
      <td>0</td>
      <td>0</td>
      <td>0</td>
      <td>0</td>
      <td>...</td>
      <td>0</td>
      <td>0</td>
      <td>0</td>
      <td>0</td>
      <td>0</td>
      <td>0</td>
      <td>0</td>
      <td>0</td>
      <td>0</td>
      <td>0</td>
    </tr>
    <tr>
      <th>537065</th>
      <td>0</td>
      <td>0</td>
      <td>0</td>
      <td>0</td>
      <td>0</td>
      <td>0</td>
      <td>0</td>
      <td>0</td>
      <td>0</td>
      <td>0</td>
      <td>...</td>
      <td>0</td>
      <td>0</td>
      <td>0</td>
      <td>0</td>
      <td>0</td>
      <td>0</td>
      <td>0</td>
      <td>0</td>
      <td>0</td>
      <td>0</td>
    </tr>
    <tr>
      <th>537463</th>
      <td>0</td>
      <td>0</td>
      <td>0</td>
      <td>0</td>
      <td>0</td>
      <td>0</td>
      <td>0</td>
      <td>0</td>
      <td>0</td>
      <td>0</td>
      <td>...</td>
      <td>0</td>
      <td>0</td>
      <td>0</td>
      <td>0</td>
      <td>0</td>
      <td>0</td>
      <td>0</td>
      <td>0</td>
      <td>0</td>
      <td>0</td>
    </tr>
  </tbody>
</table>
<p>5 rows × 1540 columns</p>
</div>
</div>

</div>

</div>
</div>

</div>
<div class="cell border-box-sizing code_cell rendered">
<div class="input">
<div class="prompt input_prompt">In&nbsp;[30]:</div>
<div class="inner_cell">
    <div class="input_area">
<div class=" highlight hl-ipython3"><pre><span></span><span class="c1"># Buliding the models and analyzing the results</span>

<span class="c1"># Building the model for France Country</span>
<span class="n">frequent_items</span> <span class="o">=</span> <span class="n">apriori</span><span class="p">(</span><span class="n">basket_items</span><span class="p">,</span> <span class="n">min_support</span> <span class="o">=</span> <span class="mf">0.02</span><span class="p">,</span> <span class="n">use_colnames</span> <span class="o">=</span> <span class="kc">True</span><span class="p">)</span> 
<span class="n">frequent_items</span><span class="p">[</span><span class="s1">&#39;length&#39;</span><span class="p">]</span> <span class="o">=</span> <span class="n">frequent_items</span><span class="p">[</span><span class="s1">&#39;itemsets&#39;</span><span class="p">]</span><span class="o">.</span><span class="n">apply</span><span class="p">(</span><span class="k">lambda</span> <span class="n">x</span><span class="p">:</span> <span class="nb">len</span><span class="p">(</span><span class="n">x</span><span class="p">))</span>

<span class="n">frequent_items</span><span class="o">.</span><span class="n">sort_values</span><span class="p">(</span><span class="s1">&#39;support&#39;</span><span class="p">,</span> <span class="n">ascending</span> <span class="o">=</span> <span class="kc">False</span><span class="p">)</span>
<span class="n">frequent_items</span><span class="o">.</span><span class="n">head</span><span class="p">(</span><span class="mi">10</span><span class="p">)</span>
</pre></div>

    </div>
</div>
</div>

<div class="output_wrapper">
<div class="output">


<div class="output_area">

    <div class="prompt output_prompt">Out[30]:</div>



<div class="output_html rendered_html output_subarea output_execute_result">
<div>
<style scoped>
    .dataframe tbody tr th:only-of-type {
        vertical-align: middle;
    }

    .dataframe tbody tr th {
        vertical-align: top;
    }

    .dataframe thead th {
        text-align: right;
    }
</style>
<table border="1" class="dataframe">
  <thead>
    <tr style="text-align: right;">
      <th></th>
      <th>support</th>
      <th>itemsets</th>
      <th>length</th>
    </tr>
  </thead>
  <tbody>
    <tr>
      <th>0</th>
      <td>0.031662</td>
      <td>(10 COLOUR SPACEBOY PEN)</td>
      <td>1</td>
    </tr>
    <tr>
      <th>1</th>
      <td>0.023747</td>
      <td>(12 PENCILS TALL TUBE RED RETROSPOT)</td>
      <td>1</td>
    </tr>
    <tr>
      <th>2</th>
      <td>0.036939</td>
      <td>(3 PIECE SPACEBOY COOKIE CUTTER SET)</td>
      <td>1</td>
    </tr>
    <tr>
      <th>3</th>
      <td>0.047493</td>
      <td>(36 PENCILS TUBE RED RETROSPOT)</td>
      <td>1</td>
    </tr>
    <tr>
      <th>4</th>
      <td>0.023747</td>
      <td>(36 PENCILS TUBE WOODLAND)</td>
      <td>1</td>
    </tr>
    <tr>
      <th>5</th>
      <td>0.073879</td>
      <td>(4 TRADITIONAL SPINNING TOPS)</td>
      <td>1</td>
    </tr>
    <tr>
      <th>6</th>
      <td>0.026385</td>
      <td>(6 GIFT TAGS VINTAGE CHRISTMAS)</td>
      <td>1</td>
    </tr>
    <tr>
      <th>7</th>
      <td>0.023747</td>
      <td>(60 CAKE CASES DOLLY GIRL DESIGN)</td>
      <td>1</td>
    </tr>
    <tr>
      <th>8</th>
      <td>0.021108</td>
      <td>(60 TEATIME FAIRY CAKE CASES)</td>
      <td>1</td>
    </tr>
    <tr>
      <th>9</th>
      <td>0.029024</td>
      <td>(ALARM CLOCK BAKELIKE CHOCOLATE)</td>
      <td>1</td>
    </tr>
  </tbody>
</table>
</div>
</div>

</div>

</div>
</div>

</div>
<div class="cell border-box-sizing code_cell rendered">
<div class="input">
<div class="prompt input_prompt">In&nbsp;[31]:</div>
<div class="inner_cell">
    <div class="input_area">
<div class=" highlight hl-ipython3"><pre><span></span><span class="c1"># Collecting the inferred rules in a dataframe </span>
<span class="c1"># Association rules from the data set</span>
<span class="c1"># A -&gt; B </span>
<span class="n">frequent_items_rules</span> <span class="o">=</span> <span class="n">association_rules</span><span class="p">(</span><span class="n">frequent_items</span><span class="p">,</span> <span class="n">metric</span> <span class="o">=</span><span class="s2">&quot;lift&quot;</span><span class="p">,</span> <span class="n">min_threshold</span> <span class="o">=</span> <span class="mi">1</span><span class="p">)</span> 
<span class="n">frequent_items_rules</span> <span class="o">=</span> <span class="n">frequent_items_rules</span><span class="o">.</span><span class="n">sort_values</span><span class="p">([</span><span class="s1">&#39;confidence&#39;</span><span class="p">,</span> <span class="s1">&#39;lift&#39;</span><span class="p">],</span> <span class="n">ascending</span> <span class="o">=</span><span class="p">[</span><span class="kc">False</span><span class="p">,</span> <span class="kc">False</span><span class="p">])</span> 
<span class="n">frequent_items_rules</span><span class="o">.</span><span class="n">head</span><span class="p">()</span>
</pre></div>

    </div>
</div>
</div>

<div class="output_wrapper">
<div class="output">


<div class="output_area">

    <div class="prompt output_prompt">Out[31]:</div>



<div class="output_html rendered_html output_subarea output_execute_result">
<div>
<style scoped>
    .dataframe tbody tr th:only-of-type {
        vertical-align: middle;
    }

    .dataframe tbody tr th {
        vertical-align: top;
    }

    .dataframe thead th {
        text-align: right;
    }
</style>
<table border="1" class="dataframe">
  <thead>
    <tr style="text-align: right;">
      <th></th>
      <th>antecedents</th>
      <th>consequents</th>
      <th>antecedent support</th>
      <th>consequent support</th>
      <th>support</th>
      <th>confidence</th>
      <th>lift</th>
      <th>leverage</th>
      <th>conviction</th>
    </tr>
  </thead>
  <tbody>
    <tr>
      <th>4257</th>
      <td>(SET/6 RED SPOTTY PAPER PLATES, ALARM CLOCK BA...</td>
      <td>(SET/6 RED SPOTTY PAPER CUPS, ALARM CLOCK BAKE...</td>
      <td>0.021108</td>
      <td>0.026385</td>
      <td>0.021108</td>
      <td>1.0</td>
      <td>37.900000</td>
      <td>0.020551</td>
      <td>inf</td>
    </tr>
    <tr>
      <th>4659</th>
      <td>(DOLLY GIRL CHILDRENS BOWL, SPACEBOY CHILDRENS...</td>
      <td>(SPACEBOY CHILDRENS BOWL, DOLLY GIRL CHILDRENS...</td>
      <td>0.029024</td>
      <td>0.034301</td>
      <td>0.029024</td>
      <td>1.0</td>
      <td>29.153846</td>
      <td>0.028028</td>
      <td>inf</td>
    </tr>
    <tr>
      <th>5750</th>
      <td>(PLASTERS IN TIN WOODLAND ANIMALS, ALARM CLOCK...</td>
      <td>(PLASTERS IN TIN SPACEBOY, ALARM CLOCK BAKELIK...</td>
      <td>0.021108</td>
      <td>0.036939</td>
      <td>0.021108</td>
      <td>1.0</td>
      <td>27.071429</td>
      <td>0.020328</td>
      <td>inf</td>
    </tr>
    <tr>
      <th>4560</th>
      <td>(SPACEBOY LUNCH BOX, BLUE HARMONICA IN BOX)</td>
      <td>(LUNCH BAG RED RETROSPOT, RED  HARMONICA IN BOX)</td>
      <td>0.021108</td>
      <td>0.039578</td>
      <td>0.021108</td>
      <td>1.0</td>
      <td>25.266667</td>
      <td>0.020273</td>
      <td>inf</td>
    </tr>
    <tr>
      <th>418</th>
      <td>(DOLLY GIRL BABY GIFT SET)</td>
      <td>(SPACEBOY BABY GIFT SET)</td>
      <td>0.023747</td>
      <td>0.042216</td>
      <td>0.023747</td>
      <td>1.0</td>
      <td>23.687500</td>
      <td>0.022744</td>
      <td>inf</td>
    </tr>
  </tbody>
</table>
</div>
</div>

</div>

</div>
</div>

</div>
<div class="cell border-box-sizing code_cell rendered">
<div class="input">
<div class="prompt input_prompt">In&nbsp;[32]:</div>
<div class="inner_cell">
    <div class="input_area">
<div class=" highlight hl-ipython3"><pre><span></span><span class="n">frequent_items_rules</span><span class="p">[</span> <span class="p">(</span><span class="n">frequent_items_rules</span><span class="p">[</span><span class="s1">&#39;lift&#39;</span><span class="p">]</span> <span class="o">&gt;=</span> <span class="mi">8</span><span class="p">)</span> <span class="o">&amp;</span>
       <span class="p">(</span><span class="n">frequent_items_rules</span><span class="p">[</span><span class="s1">&#39;confidence&#39;</span><span class="p">]</span> <span class="o">&gt;=</span> <span class="mf">0.5</span><span class="p">)</span> <span class="p">]</span>
</pre></div>

    </div>
</div>
</div>

<div class="output_wrapper">
<div class="output">


<div class="output_area">

    <div class="prompt output_prompt">Out[32]:</div>



<div class="output_html rendered_html output_subarea output_execute_result">
<div>
<style scoped>
    .dataframe tbody tr th:only-of-type {
        vertical-align: middle;
    }

    .dataframe tbody tr th {
        vertical-align: top;
    }

    .dataframe thead th {
        text-align: right;
    }
</style>
<table border="1" class="dataframe">
  <thead>
    <tr style="text-align: right;">
      <th></th>
      <th>antecedents</th>
      <th>consequents</th>
      <th>antecedent support</th>
      <th>consequent support</th>
      <th>support</th>
      <th>confidence</th>
      <th>lift</th>
      <th>leverage</th>
      <th>conviction</th>
    </tr>
  </thead>
  <tbody>
    <tr>
      <th>4257</th>
      <td>(SET/6 RED SPOTTY PAPER PLATES, ALARM CLOCK BA...</td>
      <td>(SET/6 RED SPOTTY PAPER CUPS, ALARM CLOCK BAKE...</td>
      <td>0.021108</td>
      <td>0.026385</td>
      <td>0.021108</td>
      <td>1.0</td>
      <td>37.900000</td>
      <td>0.020551</td>
      <td>inf</td>
    </tr>
    <tr>
      <th>4659</th>
      <td>(DOLLY GIRL CHILDRENS BOWL, SPACEBOY CHILDRENS...</td>
      <td>(SPACEBOY CHILDRENS BOWL, DOLLY GIRL CHILDRENS...</td>
      <td>0.029024</td>
      <td>0.034301</td>
      <td>0.029024</td>
      <td>1.0</td>
      <td>29.153846</td>
      <td>0.028028</td>
      <td>inf</td>
    </tr>
    <tr>
      <th>5750</th>
      <td>(PLASTERS IN TIN WOODLAND ANIMALS, ALARM CLOCK...</td>
      <td>(PLASTERS IN TIN SPACEBOY, ALARM CLOCK BAKELIK...</td>
      <td>0.021108</td>
      <td>0.036939</td>
      <td>0.021108</td>
      <td>1.0</td>
      <td>27.071429</td>
      <td>0.020328</td>
      <td>inf</td>
    </tr>
    <tr>
      <th>4560</th>
      <td>(SPACEBOY LUNCH BOX, BLUE HARMONICA IN BOX)</td>
      <td>(LUNCH BAG RED RETROSPOT, RED  HARMONICA IN BOX)</td>
      <td>0.021108</td>
      <td>0.039578</td>
      <td>0.021108</td>
      <td>1.0</td>
      <td>25.266667</td>
      <td>0.020273</td>
      <td>inf</td>
    </tr>
    <tr>
      <th>418</th>
      <td>(DOLLY GIRL BABY GIFT SET)</td>
      <td>(SPACEBOY BABY GIFT SET)</td>
      <td>0.023747</td>
      <td>0.042216</td>
      <td>0.023747</td>
      <td>1.0</td>
      <td>23.687500</td>
      <td>0.022744</td>
      <td>inf</td>
    </tr>
    <tr>
      <th>...</th>
      <td>...</td>
      <td>...</td>
      <td>...</td>
      <td>...</td>
      <td>...</td>
      <td>...</td>
      <td>...</td>
      <td>...</td>
      <td>...</td>
    </tr>
    <tr>
      <th>2067</th>
      <td>(BLUE HARMONICA IN BOX)</td>
      <td>(LUNCH BAG RED RETROSPOT, RED  HARMONICA IN BOX)</td>
      <td>0.052770</td>
      <td>0.039578</td>
      <td>0.026385</td>
      <td>0.5</td>
      <td>12.633333</td>
      <td>0.024297</td>
      <td>1.920844</td>
    </tr>
    <tr>
      <th>4925</th>
      <td>(PLASTERS IN TIN SPACEBOY, SPACEBOY LUNCH BOX)</td>
      <td>(LUNCH BAG SPACEBOY DESIGN, PLASTERS IN TIN WO...</td>
      <td>0.042216</td>
      <td>0.044855</td>
      <td>0.021108</td>
      <td>0.5</td>
      <td>11.147059</td>
      <td>0.019215</td>
      <td>1.910290</td>
    </tr>
    <tr>
      <th>4788</th>
      <td>(LUNCH BAG SPACEBOY DESIGN, LUNCH BAG DOLLY GI...</td>
      <td>(SPACEBOY LUNCH BOX, LUNCH BAG WOODLAND)</td>
      <td>0.052770</td>
      <td>0.047493</td>
      <td>0.026385</td>
      <td>0.5</td>
      <td>10.527778</td>
      <td>0.023879</td>
      <td>1.905013</td>
    </tr>
    <tr>
      <th>4828</th>
      <td>(PLASTERS IN TIN SPACEBOY, LUNCH BAG RED RETRO...</td>
      <td>(LUNCH BAG SPACEBOY DESIGN, PLASTERS IN TIN CI...</td>
      <td>0.042216</td>
      <td>0.050132</td>
      <td>0.021108</td>
      <td>0.5</td>
      <td>9.973684</td>
      <td>0.018992</td>
      <td>1.899736</td>
    </tr>
    <tr>
      <th>4929</th>
      <td>(SPACEBOY LUNCH BOX, PLASTERS IN TIN WOODLAND ...</td>
      <td>(PLASTERS IN TIN SPACEBOY, LUNCH BAG SPACEBOY ...</td>
      <td>0.042216</td>
      <td>0.055409</td>
      <td>0.021108</td>
      <td>0.5</td>
      <td>9.023810</td>
      <td>0.018769</td>
      <td>1.889182</td>
    </tr>
  </tbody>
</table>
<p>1207 rows × 9 columns</p>
</div>
</div>

</div>

</div>
</div>

</div>
<div class="cell border-box-sizing code_cell rendered">
<div class="input">
<div class="prompt input_prompt">In&nbsp;[33]:</div>
<div class="inner_cell">
    <div class="input_area">
<div class=" highlight hl-ipython3"><pre><span></span><span class="n">plt</span><span class="o">.</span><span class="n">figure</span><span class="p">(</span><span class="n">figsize</span><span class="o">=</span><span class="p">(</span><span class="mi">14</span><span class="p">,</span> <span class="mi">8</span><span class="p">))</span>
<span class="n">plt</span><span class="o">.</span><span class="n">scatter</span><span class="p">(</span><span class="n">frequent_items_rules</span><span class="p">[</span><span class="s1">&#39;support&#39;</span><span class="p">],</span> <span class="n">frequent_items_rules</span><span class="p">[</span><span class="s1">&#39;confidence&#39;</span><span class="p">],</span> <span class="n">c</span><span class="o">=</span><span class="n">frequent_items_rules</span><span class="p">[</span><span class="s1">&#39;lift&#39;</span><span class="p">],</span> <span class="n">alpha</span><span class="o">=</span><span class="mf">0.9</span><span class="p">,</span> <span class="n">cmap</span><span class="o">=</span><span class="s1">&#39;YlOrRd&#39;</span><span class="p">);</span>
<span class="n">plt</span><span class="o">.</span><span class="n">title</span><span class="p">(</span><span class="s1">&#39;Rules distribution color mapped by lift&#39;</span><span class="p">);</span>
<span class="n">plt</span><span class="o">.</span><span class="n">xlabel</span><span class="p">(</span><span class="s1">&#39;Support&#39;</span><span class="p">)</span>
<span class="n">plt</span><span class="o">.</span><span class="n">ylabel</span><span class="p">(</span><span class="s1">&#39;Confidence&#39;</span><span class="p">)</span>
<span class="n">plt</span><span class="o">.</span><span class="n">colorbar</span><span class="p">();</span>
</pre></div>

    </div>
</div>
</div>

<div class="output_wrapper">
<div class="output">


<div class="output_area">

    <div class="prompt"></div>




<div class="output_png output_subarea ">
<img src="data:image/png;base64,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
"
>
</div>

</div>

</div>
</div>

</div>
<div class="cell border-box-sizing code_cell rendered">
<div class="input">
<div class="prompt input_prompt">In&nbsp;[&nbsp;]:</div>
<div class="inner_cell">
    <div class="input_area">
<div class=" highlight hl-ipython3"><pre><span></span> 
</pre></div>

    </div>
</div>
</div>

</div>
    </div>
  </div>
</body>

 


</html>
